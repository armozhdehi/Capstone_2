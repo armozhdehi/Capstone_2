{
 "cells": [
  {
   "cell_type": "markdown",
   "id": "db13db34",
   "metadata": {},
   "source": [
    "# 5 Modeling<a id='5_Modeling'></a>"
   ]
  },
  {
   "cell_type": "markdown",
   "id": "f2aee32f",
   "metadata": {},
   "source": [
    "## 5.1 Contents<a id='5.1_Contents'></a>\n",
    "* [5 Modeling](#5_Modeling)\n",
    "  * [5.1 Contents](#5.1_Contents)\n",
    "  * [5.2 Introduction](#5.2_Introduction)\n",
    "  * [5.3 Imports](#5.3_Imports)\n",
    "  * [5.4 Load Model](#5.4_Load_Model)\n",
    "  * [5.5 Load Data](#5.5_Load_Data)\n",
    "  * [5.6 Train Test Split (excluding Big Mountain)](#5.6_TrainTest)\n",
    "  * [5.7 Model Selection and Evaluation Model](#5.7_Model)\n",
    "    * [5.7.1 KNN](#5.7.1_KNN)\n",
    "      * [5.7.1.1 KNN Confusion Matrix](#5.7.1.1_KNN_CM)\n",
    "      * [5.7.1.2 KNN - ROC Curve](#5.7.1.2_KNN_ROC)\n",
    "      * [5.7.1.3 KNN - Precision-Recall curve](#5.7.1.3_KNN_PR)\n",
    "      * [5.7.1.4 KNN - Evaluate](#5.7.1.4_KNN_Evaluate)\n",
    "    * [5.7.2 Logistic Regression](#5.7.2_LR)\n",
    "      * [5.7.2.1 Logistic Regression Confusion Matrix](#5.7.2.1_LR_CM)\n",
    "      * [5.7.2.2 Logistic Regression - ROC Curve](#5.7.2.2_LR_ROC)\n",
    "      * [5.7.2.3 Logistic Regression - Precision-Recall curve](#5.7.2.3_LR_PR)\n",
    "      * [5.7.2.4 Logistic Regression - Evaluate](#5.7.2.4_LR_Evaluate)\n",
    "    * [5.7.3 Random Forest](#5.7.3_RF)\n",
    "      * [5.7.3.1 Random Forest Confusion Matrix](#5.7.3.1_RF_CM)\n",
    "      * [5.7.3.2 Random Forest - ROC Curve](#5.7.3.2_RF_ROC)\n",
    "      * [5.7.3.3 Random Forest - Precision-Recall curve](#5.7.3.3_RF_PR)\n",
    "      * [5.7.3.4 Random Forest - Evaluate](#5.7.3.4_RF_Evaluate)\n",
    "    * [5.7.4 Neural Network](#5.7.4_NN)\n",
    "      * [5.7.4.1 Neural Network - Confusion Matrix](#5.7.4.1_NN_CM)\n",
    "      * [5.7.4.2 Neural Network - ROC Curve](#5.7.4.2_NN_ROC)\n",
    "      * [5.7.4.3 Neural Network - Precision-Recall curve](#5.7.4.3_NN_PR)\n",
    "      * [5.7.4.4 Neural Network - Evaluate](#5.7.4.4_NN_Evaluate)\n",
    "    * [5.7.5 Improved Neural Network](#5.7.5_INN)\n",
    "      * [5.7.5.1 INN Confusion Matrix](#5.7.5.1_INN_CM)\n",
    "      * [5.7.5.2 INN - ROC Curve](#5.7.5.2_INN_ROC)\n",
    "      * [5.7.5.3 INN - Precision-Recall curve](#5.7.5.3_INN_PR)\n",
    "      * [5.7.5.4 INN - Evaluate](#5.7.5.4_INN_Evaluate)\n",
    "  * [5.8 Summary](#5.8_Summary)\n",
    "  * [5.9 Further work](#5.9_Further_work)\n"
   ]
  },
  {
   "cell_type": "markdown",
   "id": "d43d5516",
   "metadata": {},
   "source": [
    "## 5.2 Introduction<a id='5.2_Introduction'></a>"
   ]
  },
  {
   "cell_type": "markdown",
   "id": "349dd54f",
   "metadata": {},
   "source": [
    "In this notebook, we explore the modeling phase of the data analysis project. The goal is to build and evaluate various machine learning models to predict outcomes based on our dataset. The models include K-Nearest Neighbors (KNN), Logistic Regression, Random Forest, and Neural Networks. We will also focus on improving the performance of our Neural Network model."
   ]
  },
  {
   "cell_type": "markdown",
   "id": "b88165ac",
   "metadata": {},
   "source": [
    "## 5.3 Package Installation<a id='5.3_Imports'></a>"
   ]
  },
  {
   "cell_type": "code",
   "execution_count": 129,
   "id": "6566aa87",
   "metadata": {},
   "outputs": [
    {
     "name": "stdout",
     "output_type": "stream",
     "text": [
      "Requirement already satisfied: pandas in d:\\nahid-capston\\capstone_2\\.venv\\lib\\site-packages (2.2.2)\n",
      "Requirement already satisfied: numpy in d:\\nahid-capston\\capstone_2\\.venv\\lib\\site-packages (2.0.0)\n",
      "Requirement already satisfied: matplotlib in d:\\nahid-capston\\capstone_2\\.venv\\lib\\site-packages (3.9.1)\n",
      "Requirement already satisfied: seaborn in d:\\nahid-capston\\capstone_2\\.venv\\lib\\site-packages (0.13.2)\n",
      "Requirement already satisfied: scikit-learn in d:\\nahid-capston\\capstone_2\\.venv\\lib\\site-packages (1.5.1)\n",
      "Requirement already satisfied: plotly in d:\\nahid-capston\\capstone_2\\.venv\\lib\\site-packages (5.22.0)\n",
      "Collecting lime\n",
      "  Downloading lime-0.2.0.1.tar.gz (275 kB)\n",
      "     ---------------------------------------- 0.0/275.7 kB ? eta -:--:--\n",
      "     ----- ------------------------------- 41.0/275.7 kB 991.0 kB/s eta 0:00:01\n",
      "     -------------- ----------------------- 102.4/275.7 kB 1.2 MB/s eta 0:00:01\n",
      "     ------------------------- ------------ 184.3/275.7 kB 1.2 MB/s eta 0:00:01\n",
      "     ----------------------------------- -- 256.0/275.7 kB 1.4 MB/s eta 0:00:01\n",
      "     -------------------------------------- 275.7/275.7 kB 1.4 MB/s eta 0:00:00\n",
      "  Installing build dependencies: started\n",
      "  Installing build dependencies: finished with status 'done'\n",
      "  Getting requirements to build wheel: started\n",
      "  Getting requirements to build wheel: finished with status 'done'\n",
      "  Preparing metadata (pyproject.toml): started\n",
      "  Preparing metadata (pyproject.toml): finished with status 'done'\n",
      "Collecting shap\n",
      "  Downloading shap-0.46.0-cp312-cp312-win_amd64.whl.metadata (25 kB)\n",
      "Requirement already satisfied: python-dateutil>=2.8.2 in d:\\nahid-capston\\capstone_2\\.venv\\lib\\site-packages (from pandas) (2.9.0.post0)\n",
      "Requirement already satisfied: pytz>=2020.1 in d:\\nahid-capston\\capstone_2\\.venv\\lib\\site-packages (from pandas) (2024.1)\n",
      "Requirement already satisfied: tzdata>=2022.7 in d:\\nahid-capston\\capstone_2\\.venv\\lib\\site-packages (from pandas) (2024.1)\n",
      "Requirement already satisfied: contourpy>=1.0.1 in d:\\nahid-capston\\capstone_2\\.venv\\lib\\site-packages (from matplotlib) (1.2.1)\n",
      "Requirement already satisfied: cycler>=0.10 in d:\\nahid-capston\\capstone_2\\.venv\\lib\\site-packages (from matplotlib) (0.12.1)\n",
      "Requirement already satisfied: fonttools>=4.22.0 in d:\\nahid-capston\\capstone_2\\.venv\\lib\\site-packages (from matplotlib) (4.53.1)\n",
      "Requirement already satisfied: kiwisolver>=1.3.1 in d:\\nahid-capston\\capstone_2\\.venv\\lib\\site-packages (from matplotlib) (1.4.5)\n",
      "Requirement already satisfied: packaging>=20.0 in d:\\nahid-capston\\capstone_2\\.venv\\lib\\site-packages (from matplotlib) (24.1)\n",
      "Requirement already satisfied: pillow>=8 in d:\\nahid-capston\\capstone_2\\.venv\\lib\\site-packages (from matplotlib) (10.4.0)\n",
      "Requirement already satisfied: pyparsing>=2.3.1 in d:\\nahid-capston\\capstone_2\\.venv\\lib\\site-packages (from matplotlib) (3.1.2)\n",
      "Requirement already satisfied: scipy>=1.6.0 in d:\\nahid-capston\\capstone_2\\.venv\\lib\\site-packages (from scikit-learn) (1.14.0)\n",
      "Requirement already satisfied: joblib>=1.2.0 in d:\\nahid-capston\\capstone_2\\.venv\\lib\\site-packages (from scikit-learn) (1.4.2)\n",
      "Requirement already satisfied: threadpoolctl>=3.1.0 in d:\\nahid-capston\\capstone_2\\.venv\\lib\\site-packages (from scikit-learn) (3.5.0)\n",
      "Requirement already satisfied: tenacity>=6.2.0 in d:\\nahid-capston\\capstone_2\\.venv\\lib\\site-packages (from plotly) (8.5.0)\n",
      "Collecting tqdm (from lime)\n",
      "  Using cached tqdm-4.66.4-py3-none-any.whl.metadata (57 kB)\n",
      "Collecting scikit-image>=0.12 (from lime)\n",
      "  Downloading scikit_image-0.24.0-cp312-cp312-win_amd64.whl.metadata (14 kB)\n",
      "Collecting slicer==0.0.8 (from shap)\n",
      "  Downloading slicer-0.0.8-py3-none-any.whl.metadata (4.0 kB)\n",
      "Collecting numba (from shap)\n",
      "  Downloading numba-0.60.0-cp312-cp312-win_amd64.whl.metadata (2.8 kB)\n",
      "Collecting cloudpickle (from shap)\n",
      "  Using cached cloudpickle-3.0.0-py3-none-any.whl.metadata (7.0 kB)\n",
      "Requirement already satisfied: six>=1.5 in d:\\nahid-capston\\capstone_2\\.venv\\lib\\site-packages (from python-dateutil>=2.8.2->pandas) (1.16.0)\n",
      "Collecting networkx>=2.8 (from scikit-image>=0.12->lime)\n",
      "  Downloading networkx-3.3-py3-none-any.whl.metadata (5.1 kB)\n",
      "Collecting imageio>=2.33 (from scikit-image>=0.12->lime)\n",
      "  Downloading imageio-2.34.2-py3-none-any.whl.metadata (4.9 kB)\n",
      "Collecting tifffile>=2022.8.12 (from scikit-image>=0.12->lime)\n",
      "  Downloading tifffile-2024.7.2-py3-none-any.whl.metadata (30 kB)\n",
      "Collecting lazy-loader>=0.4 (from scikit-image>=0.12->lime)\n",
      "  Downloading lazy_loader-0.4-py3-none-any.whl.metadata (7.6 kB)\n",
      "Requirement already satisfied: colorama in d:\\nahid-capston\\capstone_2\\.venv\\lib\\site-packages (from tqdm->lime) (0.4.6)\n",
      "Collecting llvmlite<0.44,>=0.43.0dev0 (from numba->shap)\n",
      "  Downloading llvmlite-0.43.0-cp312-cp312-win_amd64.whl.metadata (4.9 kB)\n",
      "Downloading shap-0.46.0-cp312-cp312-win_amd64.whl (456 kB)\n",
      "   ---------------------------------------- 0.0/456.2 kB ? eta -:--:--\n",
      "   --- ----------------------------------- 41.0/456.2 kB 991.0 kB/s eta 0:00:01\n",
      "   -------- ------------------------------- 92.2/456.2 kB 1.1 MB/s eta 0:00:01\n",
      "   ------------- -------------------------- 153.6/456.2 kB 1.1 MB/s eta 0:00:01\n",
      "   ------------------- -------------------- 225.3/456.2 kB 1.3 MB/s eta 0:00:01\n",
      "   ------------------------ --------------- 276.5/456.2 kB 1.2 MB/s eta 0:00:01\n",
      "   ----------------------------- ---------- 337.9/456.2 kB 1.2 MB/s eta 0:00:01\n",
      "   ----------------------------------- ---- 399.4/456.2 kB 1.2 MB/s eta 0:00:01\n",
      "   ---------------------------------------- 456.2/456.2 kB 1.3 MB/s eta 0:00:00\n",
      "Downloading slicer-0.0.8-py3-none-any.whl (15 kB)\n",
      "Downloading scikit_image-0.24.0-cp312-cp312-win_amd64.whl (12.9 MB)\n",
      "   ---------------------------------------- 0.0/12.9 MB ? eta -:--:--\n",
      "   ---------------------------------------- 0.1/12.9 MB 1.3 MB/s eta 0:00:10\n",
      "   ---------------------------------------- 0.2/12.9 MB 1.5 MB/s eta 0:00:09\n",
      "    --------------------------------------- 0.2/12.9 MB 1.7 MB/s eta 0:00:08\n",
      "    --------------------------------------- 0.3/12.9 MB 1.7 MB/s eta 0:00:08\n",
      "   - -------------------------------------- 0.4/12.9 MB 1.6 MB/s eta 0:00:08\n",
      "   - -------------------------------------- 0.5/12.9 MB 1.7 MB/s eta 0:00:08\n",
      "   - -------------------------------------- 0.6/12.9 MB 1.7 MB/s eta 0:00:08\n",
      "   - -------------------------------------- 0.6/12.9 MB 1.7 MB/s eta 0:00:08\n",
      "   -- ------------------------------------- 0.7/12.9 MB 1.7 MB/s eta 0:00:08\n",
      "   -- ------------------------------------- 0.8/12.9 MB 1.8 MB/s eta 0:00:07\n",
      "   -- ------------------------------------- 0.9/12.9 MB 1.8 MB/s eta 0:00:07\n",
      "   --- ------------------------------------ 1.0/12.9 MB 1.8 MB/s eta 0:00:07\n",
      "   --- ------------------------------------ 1.1/12.9 MB 1.8 MB/s eta 0:00:07\n",
      "   --- ------------------------------------ 1.2/12.9 MB 1.8 MB/s eta 0:00:07\n",
      "   ---- ----------------------------------- 1.3/12.9 MB 1.9 MB/s eta 0:00:07\n",
      "   ---- ----------------------------------- 1.4/12.9 MB 1.9 MB/s eta 0:00:07\n",
      "   ---- ----------------------------------- 1.5/12.9 MB 1.9 MB/s eta 0:00:07\n",
      "   ---- ----------------------------------- 1.6/12.9 MB 2.0 MB/s eta 0:00:06\n",
      "   ----- ---------------------------------- 1.7/12.9 MB 2.0 MB/s eta 0:00:06\n",
      "   ----- ---------------------------------- 1.8/12.9 MB 2.0 MB/s eta 0:00:06\n",
      "   ----- ---------------------------------- 1.9/12.9 MB 2.0 MB/s eta 0:00:06\n",
      "   ------ --------------------------------- 2.0/12.9 MB 2.0 MB/s eta 0:00:06\n",
      "   ------ --------------------------------- 2.1/12.9 MB 2.0 MB/s eta 0:00:06\n",
      "   ------ --------------------------------- 2.3/12.9 MB 2.1 MB/s eta 0:00:06\n",
      "   ------- -------------------------------- 2.4/12.9 MB 2.1 MB/s eta 0:00:06\n",
      "   ------- -------------------------------- 2.5/12.9 MB 2.1 MB/s eta 0:00:05\n",
      "   -------- ------------------------------- 2.7/12.9 MB 2.1 MB/s eta 0:00:05\n",
      "   -------- ------------------------------- 2.8/12.9 MB 2.2 MB/s eta 0:00:05\n",
      "   -------- ------------------------------- 2.9/12.9 MB 2.2 MB/s eta 0:00:05\n",
      "   --------- ------------------------------ 3.0/12.9 MB 2.2 MB/s eta 0:00:05\n",
      "   --------- ------------------------------ 3.2/12.9 MB 2.2 MB/s eta 0:00:05\n",
      "   ---------- ----------------------------- 3.3/12.9 MB 2.3 MB/s eta 0:00:05\n",
      "   ---------- ----------------------------- 3.5/12.9 MB 2.3 MB/s eta 0:00:05\n",
      "   ----------- ---------------------------- 3.6/12.9 MB 2.3 MB/s eta 0:00:05\n",
      "   ----------- ---------------------------- 3.7/12.9 MB 2.3 MB/s eta 0:00:05\n",
      "   ----------- ---------------------------- 3.8/12.9 MB 2.3 MB/s eta 0:00:04\n",
      "   ------------ --------------------------- 4.0/12.9 MB 2.3 MB/s eta 0:00:04\n",
      "   ------------ --------------------------- 4.1/12.9 MB 2.4 MB/s eta 0:00:04\n",
      "   ------------- -------------------------- 4.3/12.9 MB 2.4 MB/s eta 0:00:04\n",
      "   ------------- -------------------------- 4.5/12.9 MB 2.4 MB/s eta 0:00:04\n",
      "   -------------- ------------------------- 4.6/12.9 MB 2.5 MB/s eta 0:00:04\n",
      "   -------------- ------------------------- 4.8/12.9 MB 2.5 MB/s eta 0:00:04\n",
      "   --------------- ------------------------ 4.9/12.9 MB 2.5 MB/s eta 0:00:04\n",
      "   --------------- ------------------------ 5.1/12.9 MB 2.5 MB/s eta 0:00:04\n",
      "   ---------------- ----------------------- 5.3/12.9 MB 2.5 MB/s eta 0:00:04\n",
      "   ---------------- ----------------------- 5.4/12.9 MB 2.6 MB/s eta 0:00:03\n",
      "   ----------------- ---------------------- 5.6/12.9 MB 2.6 MB/s eta 0:00:03\n",
      "   ----------------- ---------------------- 5.8/12.9 MB 2.6 MB/s eta 0:00:03\n",
      "   ------------------ --------------------- 5.9/12.9 MB 2.6 MB/s eta 0:00:03\n",
      "   ------------------ --------------------- 6.1/12.9 MB 2.7 MB/s eta 0:00:03\n",
      "   ------------------- -------------------- 6.3/12.9 MB 2.7 MB/s eta 0:00:03\n",
      "   ------------------- -------------------- 6.5/12.9 MB 2.7 MB/s eta 0:00:03\n",
      "   -------------------- ------------------- 6.6/12.9 MB 2.7 MB/s eta 0:00:03\n",
      "   --------------------- ------------------ 6.9/12.9 MB 2.8 MB/s eta 0:00:03\n",
      "   --------------------- ------------------ 7.0/12.9 MB 2.8 MB/s eta 0:00:03\n",
      "   ---------------------- ----------------- 7.2/12.9 MB 2.8 MB/s eta 0:00:03\n",
      "   ---------------------- ----------------- 7.4/12.9 MB 2.8 MB/s eta 0:00:02\n",
      "   ----------------------- ---------------- 7.6/12.9 MB 2.9 MB/s eta 0:00:02\n",
      "   ------------------------ --------------- 7.8/12.9 MB 2.9 MB/s eta 0:00:02\n",
      "   ------------------------ --------------- 8.0/12.9 MB 2.9 MB/s eta 0:00:02\n",
      "   ------------------------- -------------- 8.2/12.9 MB 2.9 MB/s eta 0:00:02\n",
      "   -------------------------- ------------- 8.4/12.9 MB 3.0 MB/s eta 0:00:02\n",
      "   -------------------------- ------------- 8.6/12.9 MB 3.0 MB/s eta 0:00:02\n",
      "   --------------------------- ------------ 8.8/12.9 MB 3.0 MB/s eta 0:00:02\n",
      "   --------------------------- ------------ 9.0/12.9 MB 3.0 MB/s eta 0:00:02\n",
      "   ---------------------------- ----------- 9.3/12.9 MB 3.1 MB/s eta 0:00:02\n",
      "   ----------------------------- ---------- 9.5/12.9 MB 3.1 MB/s eta 0:00:02\n",
      "   ----------------------------- ---------- 9.7/12.9 MB 3.1 MB/s eta 0:00:02\n",
      "   ------------------------------ --------- 9.9/12.9 MB 3.1 MB/s eta 0:00:01\n",
      "   ------------------------------- -------- 10.1/12.9 MB 3.1 MB/s eta 0:00:01\n",
      "   -------------------------------- ------- 10.4/12.9 MB 3.2 MB/s eta 0:00:01\n",
      "   -------------------------------- ------- 10.6/12.9 MB 3.3 MB/s eta 0:00:01\n",
      "   --------------------------------- ------ 10.9/12.9 MB 3.4 MB/s eta 0:00:01\n",
      "   ---------------------------------- ----- 11.1/12.9 MB 3.5 MB/s eta 0:00:01\n",
      "   ---------------------------------- ----- 11.2/12.9 MB 3.5 MB/s eta 0:00:01\n",
      "   ----------------------------------- ---- 11.5/12.9 MB 3.6 MB/s eta 0:00:01\n",
      "   ------------------------------------ --- 11.8/12.9 MB 3.7 MB/s eta 0:00:01\n",
      "   ------------------------------------- -- 12.0/12.9 MB 3.8 MB/s eta 0:00:01\n",
      "   ------------------------------------- -- 12.2/12.9 MB 3.9 MB/s eta 0:00:01\n",
      "   -------------------------------------- - 12.5/12.9 MB 4.0 MB/s eta 0:00:01\n",
      "   ---------------------------------------  12.7/12.9 MB 4.0 MB/s eta 0:00:01\n",
      "   ---------------------------------------  12.9/12.9 MB 4.1 MB/s eta 0:00:01\n",
      "   ---------------------------------------- 12.9/12.9 MB 4.0 MB/s eta 0:00:00\n",
      "Using cached tqdm-4.66.4-py3-none-any.whl (78 kB)\n",
      "Using cached cloudpickle-3.0.0-py3-none-any.whl (20 kB)\n",
      "Downloading numba-0.60.0-cp312-cp312-win_amd64.whl (2.7 MB)\n",
      "   ---------------------------------------- 0.0/2.7 MB ? eta -:--:--\n",
      "   -- ------------------------------------- 0.2/2.7 MB 4.6 MB/s eta 0:00:01\n",
      "   ------ --------------------------------- 0.5/2.7 MB 5.6 MB/s eta 0:00:01\n",
      "   --------- ------------------------------ 0.7/2.7 MB 5.2 MB/s eta 0:00:01\n",
      "   ------------- -------------------------- 0.9/2.7 MB 5.4 MB/s eta 0:00:01\n",
      "   ----------------- ---------------------- 1.2/2.7 MB 5.5 MB/s eta 0:00:01\n",
      "   --------------------- ------------------ 1.5/2.7 MB 5.4 MB/s eta 0:00:01\n",
      "   ------------------------- -------------- 1.7/2.7 MB 5.4 MB/s eta 0:00:01\n",
      "   ----------------------------- ---------- 2.0/2.7 MB 5.6 MB/s eta 0:00:01\n",
      "   ---------------------------------- ----- 2.3/2.7 MB 5.6 MB/s eta 0:00:01\n",
      "   -------------------------------------- - 2.6/2.7 MB 5.8 MB/s eta 0:00:01\n",
      "   ---------------------------------------- 2.7/2.7 MB 5.8 MB/s eta 0:00:00\n",
      "Downloading imageio-2.34.2-py3-none-any.whl (313 kB)\n",
      "   ---------------------------------------- 0.0/313.5 kB ? eta -:--:--\n",
      "   --------------------------------- ------ 266.2/313.5 kB 5.4 MB/s eta 0:00:01\n",
      "   ---------------------------------------- 313.5/313.5 kB 6.5 MB/s eta 0:00:00\n",
      "Downloading lazy_loader-0.4-py3-none-any.whl (12 kB)\n",
      "Downloading llvmlite-0.43.0-cp312-cp312-win_amd64.whl (28.1 MB)\n",
      "   ---------------------------------------- 0.0/28.1 MB ? eta -:--:--\n",
      "   ---------------------------------------- 0.3/28.1 MB 5.2 MB/s eta 0:00:06\n",
      "    --------------------------------------- 0.6/28.1 MB 5.8 MB/s eta 0:00:05\n",
      "   - -------------------------------------- 0.9/28.1 MB 6.0 MB/s eta 0:00:05\n",
      "   - -------------------------------------- 1.1/28.1 MB 5.8 MB/s eta 0:00:05\n",
      "   - -------------------------------------- 1.4/28.1 MB 5.8 MB/s eta 0:00:05\n",
      "   -- ------------------------------------- 1.7/28.1 MB 6.2 MB/s eta 0:00:05\n",
      "   -- ------------------------------------- 2.0/28.1 MB 6.3 MB/s eta 0:00:05\n",
      "   --- ------------------------------------ 2.3/28.1 MB 6.3 MB/s eta 0:00:05\n",
      "   --- ------------------------------------ 2.5/28.1 MB 6.1 MB/s eta 0:00:05\n",
      "   --- ------------------------------------ 2.8/28.1 MB 6.2 MB/s eta 0:00:05\n",
      "   ---- ----------------------------------- 3.0/28.1 MB 6.1 MB/s eta 0:00:05\n",
      "   ---- ----------------------------------- 3.3/28.1 MB 6.1 MB/s eta 0:00:05\n",
      "   ----- ---------------------------------- 3.7/28.1 MB 6.2 MB/s eta 0:00:04\n",
      "   ----- ---------------------------------- 4.0/28.1 MB 6.2 MB/s eta 0:00:04\n",
      "   ------ --------------------------------- 4.3/28.1 MB 6.2 MB/s eta 0:00:04\n",
      "   ------ --------------------------------- 4.5/28.1 MB 6.2 MB/s eta 0:00:04\n",
      "   ------ --------------------------------- 4.9/28.1 MB 6.2 MB/s eta 0:00:04\n",
      "   ------- -------------------------------- 5.2/28.1 MB 6.3 MB/s eta 0:00:04\n",
      "   ------- -------------------------------- 5.5/28.1 MB 6.3 MB/s eta 0:00:04\n",
      "   -------- ------------------------------- 5.8/28.1 MB 6.3 MB/s eta 0:00:04\n",
      "   -------- ------------------------------- 6.1/28.1 MB 6.3 MB/s eta 0:00:04\n",
      "   --------- ------------------------------ 6.5/28.1 MB 6.5 MB/s eta 0:00:04\n",
      "   --------- ------------------------------ 6.8/28.1 MB 6.5 MB/s eta 0:00:04\n",
      "   ---------- ----------------------------- 7.1/28.1 MB 6.5 MB/s eta 0:00:04\n",
      "   ---------- ----------------------------- 7.3/28.1 MB 6.4 MB/s eta 0:00:04\n",
      "   ---------- ----------------------------- 7.7/28.1 MB 6.5 MB/s eta 0:00:04\n",
      "   ----------- ---------------------------- 8.0/28.1 MB 6.5 MB/s eta 0:00:04\n",
      "   ----------- ---------------------------- 8.3/28.1 MB 6.5 MB/s eta 0:00:04\n",
      "   ------------ --------------------------- 8.6/28.1 MB 6.5 MB/s eta 0:00:04\n",
      "   ------------- -------------------------- 9.6/28.1 MB 6.6 MB/s eta 0:00:03\n",
      "   -------------- ------------------------- 9.9/28.1 MB 6.6 MB/s eta 0:00:03\n",
      "   -------------- ------------------------- 10.2/28.1 MB 6.6 MB/s eta 0:00:03\n",
      "   -------------- ------------------------- 10.5/28.1 MB 6.6 MB/s eta 0:00:03\n",
      "   --------------- ------------------------ 10.9/28.1 MB 6.6 MB/s eta 0:00:03\n",
      "   --------------- ------------------------ 11.2/28.1 MB 6.8 MB/s eta 0:00:03\n",
      "   ---------------- ----------------------- 11.6/28.1 MB 6.7 MB/s eta 0:00:03\n",
      "   ---------------- ----------------------- 11.9/28.1 MB 6.8 MB/s eta 0:00:03\n",
      "   ----------------- ---------------------- 12.3/28.1 MB 6.8 MB/s eta 0:00:03\n",
      "   ----------------- ---------------------- 12.6/28.1 MB 6.9 MB/s eta 0:00:03\n",
      "   ------------------ --------------------- 12.9/28.1 MB 7.0 MB/s eta 0:00:03\n",
      "   ------------------ --------------------- 13.3/28.1 MB 7.1 MB/s eta 0:00:03\n",
      "   ------------------- -------------------- 13.7/28.1 MB 7.2 MB/s eta 0:00:02\n",
      "   -------------------- ------------------- 14.1/28.1 MB 7.2 MB/s eta 0:00:02\n",
      "   -------------------- ------------------- 14.5/28.1 MB 7.3 MB/s eta 0:00:02\n",
      "   --------------------- ------------------ 14.9/28.1 MB 7.4 MB/s eta 0:00:02\n",
      "   --------------------- ------------------ 15.2/28.1 MB 7.4 MB/s eta 0:00:02\n",
      "   ---------------------- ----------------- 15.6/28.1 MB 7.4 MB/s eta 0:00:02\n",
      "   ---------------------- ----------------- 15.9/28.1 MB 7.5 MB/s eta 0:00:02\n",
      "   ----------------------- ---------------- 16.3/28.1 MB 7.4 MB/s eta 0:00:02\n",
      "   ----------------------- ---------------- 16.6/28.1 MB 7.4 MB/s eta 0:00:02\n",
      "   ------------------------ --------------- 17.0/28.1 MB 7.5 MB/s eta 0:00:02\n",
      "   ------------------------ --------------- 17.4/28.1 MB 7.6 MB/s eta 0:00:02\n",
      "   ------------------------- -------------- 17.8/28.1 MB 7.8 MB/s eta 0:00:02\n",
      "   ------------------------- -------------- 18.1/28.1 MB 7.6 MB/s eta 0:00:02\n",
      "   -------------------------- ------------- 18.5/28.1 MB 7.8 MB/s eta 0:00:02\n",
      "   --------------------------- ------------ 19.0/28.1 MB 7.8 MB/s eta 0:00:02\n",
      "   --------------------------- ------------ 19.5/28.1 MB 8.0 MB/s eta 0:00:02\n",
      "   ---------------------------- ----------- 19.8/28.1 MB 8.0 MB/s eta 0:00:02\n",
      "   ---------------------------- ----------- 20.2/28.1 MB 8.1 MB/s eta 0:00:01\n",
      "   ----------------------------- ---------- 20.5/28.1 MB 8.1 MB/s eta 0:00:01\n",
      "   ----------------------------- ---------- 20.9/28.1 MB 8.1 MB/s eta 0:00:01\n",
      "   ------------------------------ --------- 21.4/28.1 MB 8.2 MB/s eta 0:00:01\n",
      "   ------------------------------ --------- 21.7/28.1 MB 8.2 MB/s eta 0:00:01\n",
      "   ------------------------------- -------- 22.1/28.1 MB 8.3 MB/s eta 0:00:01\n",
      "   -------------------------------- ------- 22.6/28.1 MB 8.3 MB/s eta 0:00:01\n",
      "   -------------------------------- ------- 23.0/28.1 MB 8.4 MB/s eta 0:00:01\n",
      "   --------------------------------- ------ 23.5/28.1 MB 8.5 MB/s eta 0:00:01\n",
      "   --------------------------------- ------ 23.7/28.1 MB 8.5 MB/s eta 0:00:01\n",
      "   ---------------------------------- ----- 24.2/28.1 MB 8.4 MB/s eta 0:00:01\n",
      "   ---------------------------------- ----- 24.6/28.1 MB 8.4 MB/s eta 0:00:01\n",
      "   ----------------------------------- ---- 25.1/28.1 MB 8.5 MB/s eta 0:00:01\n",
      "   ------------------------------------ --- 25.5/28.1 MB 8.5 MB/s eta 0:00:01\n",
      "   ------------------------------------ --- 25.9/28.1 MB 8.7 MB/s eta 0:00:01\n",
      "   ------------------------------------- -- 26.4/28.1 MB 9.0 MB/s eta 0:00:01\n",
      "   -------------------------------------- - 26.8/28.1 MB 8.8 MB/s eta 0:00:01\n",
      "   -------------------------------------- - 27.3/28.1 MB 9.0 MB/s eta 0:00:01\n",
      "   ---------------------------------------  27.8/28.1 MB 9.0 MB/s eta 0:00:01\n",
      "   ---------------------------------------  28.1/28.1 MB 9.1 MB/s eta 0:00:01\n",
      "   ---------------------------------------  28.1/28.1 MB 9.1 MB/s eta 0:00:01\n",
      "   ---------------------------------------- 28.1/28.1 MB 8.5 MB/s eta 0:00:00\n",
      "Downloading networkx-3.3-py3-none-any.whl (1.7 MB)\n",
      "   ---------------------------------------- 0.0/1.7 MB ? eta -:--:--\n",
      "   -------- ------------------------------- 0.4/1.7 MB 11.6 MB/s eta 0:00:01\n",
      "   ------------------- -------------------- 0.8/1.7 MB 10.6 MB/s eta 0:00:01\n",
      "   ------------------------------ --------- 1.3/1.7 MB 10.3 MB/s eta 0:00:01\n",
      "   ---------------------------------------- 1.7/1.7 MB 9.8 MB/s eta 0:00:00\n",
      "Downloading tifffile-2024.7.2-py3-none-any.whl (225 kB)\n",
      "   ---------------------------------------- 0.0/225.9 kB ? eta -:--:--\n",
      "   --------------------------------------- 225.9/225.9 kB 13.5 MB/s eta 0:00:00\n",
      "Building wheels for collected packages: lime\n",
      "  Building wheel for lime (pyproject.toml): started\n",
      "  Building wheel for lime (pyproject.toml): finished with status 'done'\n",
      "  Created wheel for lime: filename=lime-0.2.0.1-py3-none-any.whl size=283840 sha256=561d8bb302b8b2e163fd86e83ae76d8a2312f940ab53ea9469f13e3d713f13a7\n",
      "  Stored in directory: c:\\users\\amojd\\appdata\\local\\pip\\cache\\wheels\\e7\\5d\\0e\\4b4fff9a47468fed5633211fb3b76d1db43fe806a17fb7486a\n",
      "Successfully built lime\n",
      "Installing collected packages: tqdm, tifffile, slicer, networkx, llvmlite, lazy-loader, imageio, cloudpickle, scikit-image, numba, shap, lime\n",
      "Successfully installed cloudpickle-3.0.0 imageio-2.34.2 lazy-loader-0.4 lime-0.2.0.1 llvmlite-0.43.0 networkx-3.3 numba-0.60.0 scikit-image-0.24.0 shap-0.46.0 slicer-0.0.8 tifffile-2024.7.2 tqdm-4.66.4\n"
     ]
    }
   ],
   "source": [
    "!pip install pandas numpy matplotlib seaborn scikit-learn plotly lime shap"
   ]
  },
  {
   "cell_type": "markdown",
   "id": "1c3f4afa",
   "metadata": {},
   "source": [
    "## 5.3 Imports<a id='5.3_Imports'></a>"
   ]
  },
  {
   "cell_type": "code",
   "execution_count": 133,
   "id": "6648cce4",
   "metadata": {},
   "outputs": [],
   "source": [
    "import pandas as pd\n",
    "import numpy as np\n",
    "import os\n",
    "import pickle\n",
    "import matplotlib.pyplot as plt\n",
    "import seaborn as sns\n",
    "from sklearn.model_selection import train_test_split, GridSearchCV, cross_validate\n",
    "from sklearn import __version__ as sklearn_version\n",
    "from sklearn.preprocessing import StandardScaler\n",
    "from sklearn.ensemble import RandomForestClassifier\n",
    "from sklearn.metrics import accuracy_score, confusion_matrix, classification_report, roc_curve, roc_auc_score, auc\n",
    "from sklearn.metrics import precision_recall_curve, auc, f1_score, ConfusionMatrixDisplay, precision_score, recall_score\n",
    "from sklearn.linear_model import LogisticRegression\n",
    "from sklearn.neighbors import KNeighborsClassifier\n",
    "from sklearn.ensemble import RandomForestClassifier\n",
    "from sklearn.neural_network import MLPClassifier\n",
    "import plotly.figure_factory as ff\n",
    "import plotly.graph_objs as go\n",
    "from collections import Counter\n",
    "import lime\n",
    "import lime.lime_tabular\n",
    "import shap\n",
    "import plotly.graph_objs as go\n",
    "import plotly.figure_factory as ff\n",
    "import plotly.express as px\n",
    "#from tensorflow.keras.models import Sequential\n",
    "#from tensorflow.keras.layers import Dense\n",
    "\n",
    "import warnings\n",
    "warnings.filterwarnings(\"ignore\", category=FutureWarning)"
   ]
  },
  {
   "cell_type": "markdown",
   "id": "310d0694",
   "metadata": {},
   "source": [
    "## 5.4 Load Model<a id='5.4_Load_Model'></a>"
   ]
  },
  {
   "cell_type": "code",
   "execution_count": 110,
   "id": "a42080f3",
   "metadata": {},
   "outputs": [
    {
     "name": "stdout",
     "output_type": "stream",
     "text": [
      "Expected model not found\n"
     ]
    }
   ],
   "source": [
    "# This isn't exactly production-grade, but a quick check for development\n",
    "# These checks can save some head-scratching in development when moving from\n",
    "# one python environment to another, for example\n",
    "expected_model_version = '1.0'\n",
    "model_path = 'churn_model.pkl' # Path to the model file\n",
    "if os.path.exists(model_path): # Load the model\n",
    "    with open(model_path, 'rb') as f: \n",
    "        model = pickle.load(f)\n",
    "    if model.version != expected_model_version: # Check model version\n",
    "        print(\"Expected model version doesn't match version loaded\")\n",
    "    if model.sklearn_version != sklearn_version: # Check scikit-learn version\n",
    "        print(\"Warning: model created under different sklearn version\")\n",
    "else:\n",
    "    print(\"Expected model not found\") # If the model file isn't found"
   ]
  },
  {
   "cell_type": "markdown",
   "id": "293a872f",
   "metadata": {},
   "source": [
    "## 5.5 Load Data<a id='5.5_Load_Data'></a>"
   ]
  },
  {
   "cell_type": "code",
   "execution_count": 111,
   "id": "5fc10dd0",
   "metadata": {},
   "outputs": [],
   "source": [
    "churn_data = pd.read_csv('churn_data_step4_pre_processing.csv') # Load the data"
   ]
  },
  {
   "cell_type": "markdown",
   "id": "79aff2e9",
   "metadata": {},
   "source": [
    "## 5.6 Train Test Split <a id='5.6_TrainTest'></a>"
   ]
  },
  {
   "cell_type": "markdown",
   "id": "9aaf3cb2",
   "metadata": {},
   "source": [
    "### Removing the null values"
   ]
  },
  {
   "cell_type": "code",
   "execution_count": 112,
   "id": "4beb174b",
   "metadata": {},
   "outputs": [
    {
     "data": {
      "text/plain": [
       "0       0.0\n",
       "1       0.0\n",
       "2       1.0\n",
       "3       0.0\n",
       "4       1.0\n",
       "       ... \n",
       "6494    0.0\n",
       "6495    1.0\n",
       "6496    1.0\n",
       "6497    0.0\n",
       "6498    1.0\n",
       "Name: Churn, Length: 6499, dtype: float64"
      ]
     },
     "execution_count": 112,
     "metadata": {},
     "output_type": "execute_result"
    }
   ],
   "source": [
    "import warnings\n",
    "warnings.filterwarnings(\"ignore\", category=FutureWarning)\n",
    "\n",
    "\n",
    "# pd.options.mode.copy_on_write = True\n",
    "\n",
    "# Identify rows where 'Churn' is NaN\n",
    "pred = churn_data['Churn'].isnull()\n",
    "\n",
    "# Drop rows with NaN values in the dataset///\n",
    "df = churn_data.dropna()\n",
    "\n",
    "# Convert 'Churn' to int \n",
    "df.loc[:, 'Churn'] = df['Churn'].astype(int)\n",
    "\n",
    "# Separate features (X) and target variable (y)\n",
    "X = df.drop('Churn', axis=1)\n",
    "y = df['Churn']\n",
    "\n",
    "# Display the target variable\n",
    "y"
   ]
  },
  {
   "cell_type": "markdown",
   "id": "285a49f6",
   "metadata": {},
   "source": [
    "The code identifies rows with NaN values in the 'Churn' column and removes them, creating a clean dataset 'df'. It converts the 'Churn' column to integers for consistency. The features (X) and target variable (y) are then separated, with 'X' containing all columns except 'Churn' and 'y' containing the 'Churn' column. The target variable 'y' is displayed for further analysis or modeling.\n"
   ]
  },
  {
   "cell_type": "markdown",
   "id": "91021122",
   "metadata": {},
   "source": [
    "### Train-test split"
   ]
  },
  {
   "cell_type": "code",
   "execution_count": 113,
   "id": "b07de462",
   "metadata": {},
   "outputs": [],
   "source": [
    "import random\n",
    "\n",
    "# Set the seed for reproducibility\n",
    "random.seed(42)\n",
    "\n",
    "# Allocating 70% of the data to the training set and 30% to the testing set\n",
    "from sklearn.model_selection import train_test_split\n",
    "X_train, X_test, y_train, y_test = train_test_split(X, y, test_size=0.3, random_state=42)"
   ]
  },
  {
   "cell_type": "code",
   "execution_count": 114,
   "id": "9ac0c4e2",
   "metadata": {},
   "outputs": [
    {
     "data": {
      "text/plain": [
       "((4549, 28), (1950, 28), (4549,), (1950,))"
      ]
     },
     "execution_count": 114,
     "metadata": {},
     "output_type": "execute_result"
    }
   ],
   "source": [
    "X_train.shape, X_test.shape, y_train.shape, y_test.shape"
   ]
  },
  {
   "cell_type": "markdown",
   "id": "dc134d93",
   "metadata": {},
   "source": [
    "## 5.7 Model Selection and Evaluation Model <a id='5.7_Model'></a>"
   ]
  },
  {
   "cell_type": "markdown",
   "id": "2841fc31",
   "metadata": {},
   "source": [
    "In this analysis, we will evaluate multiple machine learning models to predict customer churn. Specifically, we will use Logistic Regression, K-Nearest Neighbors (KNN), Neural Network (MLP), and Random Forest algorithms. Each model will be trained and tested using our prepared dataset. We will assess their performance based on key metrics such as accuracy, precision, recall, F1 score, and ROC AUC. By generating confusion matrices for each model, we can visualize and compare their predictive capabilities. Finally, we will analyze and compare the results to determine which model performs best in predicting customer churn."
   ]
  },
  {
   "cell_type": "code",
   "execution_count": 115,
   "id": "aa91072f",
   "metadata": {},
   "outputs": [],
   "source": [
    "# def confusion_matrix_plot(X_train, y_train, X_test, y_test, y_pred, classifier, classifier_name):\n",
    "#     cm = confusion_matrix(y_pred,y_test)\n",
    "#     disp = ConfusionMatrixDisplay(confusion_matrix=cm, display_labels=[\"No Churn\", \"Churn\"])\n",
    "#     disp.plot()\n",
    "#     plt.title(f\"Confusion Matrix - {classifier_name}\")\n",
    "#     plt.show()\n",
    "    \n",
    "#     print(f\"Accuracy Score Test = {accuracy_score(y_pred,y_test)}\")\n",
    "#     print(f\"Accuracy Score Train = {classifier.score(X_train,y_train)}\")\n",
    "#     return print(\"\\n\")"
   ]
  },
  {
   "cell_type": "code",
   "execution_count": 116,
   "id": "29df9846",
   "metadata": {},
   "outputs": [],
   "source": [
    "def confusion_matrix_plot(X_train, y_train, X_test, y_test, y_pred, classifier, classifier_name):\n",
    "    cm = confusion_matrix(y_test, y_pred)\n",
    "    \n",
    "    # Create the confusion matrix plot using Plotly\n",
    "    z = cm\n",
    "    x = ['No Churn', 'Churn']\n",
    "    y = ['No Churn', 'Churn']\n",
    "\n",
    "    z_text = [[str(y) for y in x] for x in z]\n",
    "\n",
    "    fig = ff.create_annotated_heatmap(\n",
    "        z, x=x, y=y, annotation_text=z_text, colorscale='Viridis', font_colors=['white']\n",
    "    )\n",
    "    \n",
    "    # Add title\n",
    "    fig.update_layout(\n",
    "        title={\n",
    "            'text': f\"Confusion Matrix - {classifier_name}\",\n",
    "            'y': 0.9,\n",
    "            'x': 0.5,\n",
    "            'xanchor': 'center',\n",
    "            'yanchor': 'top'\n",
    "        },\n",
    "        title_font=dict(size=20, family='Arial', color='white'),\n",
    "        margin=dict(t=100, l=100, r=100, b=100),\n",
    "        width=600,\n",
    "        height=500,\n",
    "        paper_bgcolor='rgba(0,0,0,0)',\n",
    "        plot_bgcolor='rgba(0,0,0,0)'\n",
    "    )\n",
    "\n",
    "    # Update x and y axis\n",
    "    \n",
    "    fig.update_xaxes(title_font=dict(color='white'), tickfont=dict(color='white'))\n",
    "    fig.update_yaxes(title_font=dict(color='white'), tickfont=dict(color='white'))\n",
    "\n",
    "    # Update color bar labels\n",
    "    fig['data'][0]['colorbar']['tickfont']['color'] = 'white'\n",
    "    fig['data'][0]['colorbar']['titlefont']['color'] = 'white'\n",
    "\n",
    "    # Add color bar\n",
    "    fig['data'][0]['showscale'] = True\n",
    "\n",
    "    fig.show()\n",
    "    \n",
    "    # Print accuracy scores\n",
    "    print(f\"Accuracy Score Test = {accuracy_score(y_test, y_pred)}\")\n",
    "    print(f\"Accuracy Score Train = {classifier.score(X_train, y_train)}\")\n",
    "    return print(\"\\n\")"
   ]
  },
  {
   "cell_type": "code",
   "execution_count": 117,
   "id": "4119864e",
   "metadata": {},
   "outputs": [],
   "source": [
    "'''\n",
    "def roc_curve_auc_score(X_test, y_test, y_pred_probabilities,classifier_name):\n",
    "    y_pred_prob = y_pred_probabilities[:,1]\n",
    "    fpr,tpr,thresholds = roc_curve(y_test, y_pred_prob)\n",
    "    \n",
    "    plt.plot([0,1],[0,1],\"k--\")\n",
    "    plt.plot(fpr,tpr,label=f\"{classifier_name}\")\n",
    "    plt.title(f\"{classifier_name} - ROC Curve\")\n",
    "    plt.xlabel(\"False Positive Rate\")\n",
    "    plt.ylabel(\"True Positive Rate\")\n",
    "    plt.show()\n",
    "    return print(f\"AUC Score (ROC):{roc_auc_score(y_test,y_pred_prob)}\")\n",
    "'''\n",
    "\n",
    "\n",
    "# def roc_curve_auc_score(X_test, y_test, y_pred_probabilities, classifier_name):\n",
    "#     fpr, tpr, thresholds = roc_curve(y_test, y_pred_probabilities)\n",
    "#     plt.figure()\n",
    "#     plt.plot(fpr, tpr, label=f'{classifier_name} (AUC = {roc_auc_score(y_test, y_pred_probabilities):.2f})')\n",
    "#     plt.plot([0, 1], [0, 1], \"k--\")\n",
    "#     plt.xlim([0.0, 1.0])\n",
    "#     plt.ylim([0.0, 1.05])\n",
    "#     plt.xlabel('False Positive Rate')\n",
    "#     plt.ylabel('True Positive Rate')\n",
    "#     plt.title(f'ROC Curve for {classifier_name}')\n",
    "#     plt.legend(loc=\"lower right\")\n",
    "#     plt.show()\n",
    "\n",
    "def roc_curve_auc_score(X_test, y_test, y_pred_probabilities, classifier_name):\n",
    "    fpr, tpr, thresholds = roc_curve(y_test, y_pred_probabilities)\n",
    "    auc_score = roc_auc_score(y_test, y_pred_probabilities)\n",
    "    \n",
    "    # Create the ROC curve plot using Plotly\n",
    "    trace1 = go.Scatter(x=fpr, y=tpr, mode='lines', name=f'{classifier_name} (AUC = {auc_score:.2f})', line=dict(color='blue', width=2))\n",
    "    trace2 = go.Scatter(x=[0, 1], y=[0, 1], mode='lines', name='Random', line=dict(color='black', width=2, dash='dash'))\n",
    "    \n",
    "    layout = go.Layout(\n",
    "        title={\n",
    "            'text': f'ROC Curve for {classifier_name}',\n",
    "            'y': 0.9,\n",
    "            'x': 0.5,\n",
    "            'xanchor': 'center',\n",
    "            'yanchor': 'top'\n",
    "        },\n",
    "        title_font=dict(size=20, family='Arial', color='white'),\n",
    "        xaxis=dict(title='False Positive Rate', titlefont=dict(color='white'), tickfont=dict(color='white')),\n",
    "        yaxis=dict(title='True Positive Rate', titlefont=dict(color='white'), tickfont=dict(color='white')),\n",
    "        width=600,\n",
    "        height=650,\n",
    "        paper_bgcolor='rgba(0,0,0,0)',\n",
    "        plot_bgcolor='rgba(0,0,0,0)',\n",
    "        legend=dict(x=0.5, y=0.1, bgcolor='rgba(0,0,0,0)', font=dict(color='white'), xanchor='center')\n",
    "    )\n",
    "    \n",
    "    fig = go.Figure(data=[trace1, trace2], layout=layout)\n",
    "    fig.show()"
   ]
  },
  {
   "cell_type": "code",
   "execution_count": 118,
   "id": "65562c10",
   "metadata": {},
   "outputs": [],
   "source": [
    "'''\n",
    "def precision_recall_curve_and_scores(X_test, y_test, y_pred, y_pred_probabilities, classifier_name):\n",
    "    y_pred_prob = y_pred_probabilities[:,1]\n",
    "    precision, recall, thresholds = precision_recall_curve(y_test, y_pred_prob)\n",
    "    plt.plot(recall,precision, label=f\"{classifier_name}\")\n",
    "    plt.title(f\"{classifier_name}-ROC Curve\")\n",
    "    plt.xlabel(\"Recall\")\n",
    "    plt.ylabel(\"Precision\")\n",
    "    plt.show()\n",
    "    f1_score_result, auc_score = f1_score(y_test,y_pred), auc(recall,precision)\n",
    "    return print(f\"f1 Score : {f1_score_result} \\n AUC Score (PR) : {auc_score}\")\n",
    "'''\n",
    "def precision_recall_curve_and_scores(X_test, y_test, y_pred, y_pred_probabilities, classifier_name):\n",
    "    precision, recall, thresholds = precision_recall_curve(y_test, y_pred_probabilities)\n",
    "    \n",
    "    # Create the Precision-Recall curve plot using Plotly\n",
    "    trace = go.Scatter(\n",
    "        x=recall, y=precision, mode='lines', \n",
    "        name=f\"{classifier_name}\", \n",
    "        line=dict(color='blue', width=2)\n",
    "    )\n",
    "    \n",
    "    layout = go.Layout(\n",
    "        title={\n",
    "            'text': f'Precision-Recall Curve for {classifier_name}',\n",
    "            'y': 0.9,\n",
    "            'x': 0.5,\n",
    "            'xanchor': 'center',\n",
    "            'yanchor': 'top'\n",
    "        },\n",
    "        title_font=dict(size=20, family='Arial', color='white'),\n",
    "        xaxis=dict(title='Recall', titlefont=dict(color='white'), tickfont=dict(color='white')),\n",
    "        yaxis=dict(title='Precision', titlefont=dict(color='white'), tickfont=dict(color='white')),\n",
    "        width=600,\n",
    "        height=600,\n",
    "        paper_bgcolor='rgba(0,0,0,0)',\n",
    "        plot_bgcolor='rgba(0,0,0,0)',\n",
    "        legend=dict(\n",
    "            x=0.5, y=0.1,\n",
    "            bgcolor='rgba(0,0,0,0.5)',\n",
    "            bordercolor='white',\n",
    "            borderwidth=1,\n",
    "            font=dict(color='white'),\n",
    "            xanchor='center'\n",
    "        )\n",
    "    )\n",
    "    \n",
    "    fig = go.Figure(data=[trace], layout=layout)\n",
    "    fig.show()"
   ]
  },
  {
   "cell_type": "code",
   "execution_count": 119,
   "id": "9d6de23e",
   "metadata": {},
   "outputs": [],
   "source": [
    "# For logistic Regression\n",
    "def feature_weights(X_df, classifier, classifier_name):\n",
    "    weights = pd.Series(classifier.coef_[0], index = X_df.columns.values).sort_values(ascending=False)\n",
    "    \n",
    "    top_10_weights = weights[:10]\n",
    "    plt.figure(figsize=(7,6))\n",
    "    plt.title(f\"{classifier_name} - Top 10 Features\")\n",
    "    top_10_weights.plot(kind=\"bar\")\n",
    "    \n",
    "    bottom_10_weights = weights[len(weights)-10:]\n",
    "    plt.figure(figsize=(7,6))\n",
    "    plt.title(f\"{classifier_name} - Bottom 10 Features\")\n",
    "    bottom_10_weights.plot(kind=\"bar\")\n",
    "    print(\"\")"
   ]
  },
  {
   "cell_type": "markdown",
   "id": "8c94e6a5",
   "metadata": {},
   "source": [
    "### 5.7.1 KNN <a id='5.7.1_KNN'></a>"
   ]
  },
  {
   "cell_type": "markdown",
   "id": "89f8b7e0",
   "metadata": {},
   "source": [
    "Define and train KNN model with GridSearchCV to find the best hyperparameters."
   ]
  },
  {
   "cell_type": "code",
   "execution_count": 120,
   "id": "af6fc1db",
   "metadata": {},
   "outputs": [
    {
     "name": "stdout",
     "output_type": "stream",
     "text": [
      "Best Parameters: {'n_neighbors': 9, 'weights': 'uniform'}\n"
     ]
    }
   ],
   "source": [
    "# Define the KNN model\n",
    "knn = KNeighborsClassifier()\n",
    "\n",
    "# Define the parameter grid for GridSearchCV\n",
    "param_grid = {\n",
    "    'n_neighbors': [3, 5, 7, 9],\n",
    "    'weights': ['uniform', 'distance']\n",
    "}\n",
    "\n",
    "# Initialize GridSearchCV\n",
    "grid_search = GridSearchCV(knn, param_grid, cv=5, scoring='accuracy')\n",
    "\n",
    "# Fit the model\n",
    "grid_search.fit(X_train, y_train)\n",
    "\n",
    "# Best parameters\n",
    "best_params = grid_search.best_params_\n",
    "print(f\"Best Parameters: {best_params}\")\n",
    "\n",
    "# Predict using the best model\n",
    "y_pred_knn = grid_search.best_estimator_.predict(X_test)\n",
    "y_pred_knn_proba = grid_search.best_estimator_.predict_proba(X_test)[:, 1]"
   ]
  },
  {
   "cell_type": "markdown",
   "id": "8eaeb8b3",
   "metadata": {},
   "source": [
    "We define the KNN model and use GridSearchCV to find the best hyperparameters for the model by evaluating different combinations of n_neighbors and weights. The best parameters found are n_neighbors: 9 and weights: uniform. We then use the best model to make predictions on the test set."
   ]
  },
  {
   "cell_type": "markdown",
   "id": "061ae4d0",
   "metadata": {},
   "source": [
    "### 5.7.1.1 KNN Confusion Matrix <a id='5.7.1.1_KNN_CM'></a>"
   ]
  },
  {
   "cell_type": "code",
   "execution_count": 121,
   "id": "e5ac437d",
   "metadata": {},
   "outputs": [
    {
     "data": {
      "application/vnd.plotly.v1+json": {
       "config": {
        "plotlyServerURL": "https://plot.ly"
       },
       "data": [
        {
         "colorbar": {
          "tickfont": {
           "color": "white"
          },
          "title": {
           "font": {
            "color": "white"
           }
          }
         },
         "colorscale": [
          [
           0,
           "#440154"
          ],
          [
           0.1111111111111111,
           "#482878"
          ],
          [
           0.2222222222222222,
           "#3e4989"
          ],
          [
           0.3333333333333333,
           "#31688e"
          ],
          [
           0.4444444444444444,
           "#26828e"
          ],
          [
           0.5555555555555556,
           "#1f9e89"
          ],
          [
           0.6666666666666666,
           "#35b779"
          ],
          [
           0.7777777777777778,
           "#6ece58"
          ],
          [
           0.8888888888888888,
           "#b5de2b"
          ],
          [
           1,
           "#fde725"
          ]
         ],
         "reversescale": false,
         "showscale": true,
         "type": "heatmap",
         "x": [
          "No Churn",
          "Churn"
         ],
         "y": [
          "No Churn",
          "Churn"
         ],
         "z": [
          [
           1363,
           78
          ],
          [
           484,
           25
          ]
         ]
        }
       ],
       "layout": {
        "annotations": [
         {
          "font": {
           "color": "white"
          },
          "showarrow": false,
          "text": "1363",
          "x": "No Churn",
          "xref": "x",
          "y": "No Churn",
          "yref": "y"
         },
         {
          "font": {
           "color": "white"
          },
          "showarrow": false,
          "text": "78",
          "x": "Churn",
          "xref": "x",
          "y": "No Churn",
          "yref": "y"
         },
         {
          "font": {
           "color": "white"
          },
          "showarrow": false,
          "text": "484",
          "x": "No Churn",
          "xref": "x",
          "y": "Churn",
          "yref": "y"
         },
         {
          "font": {
           "color": "white"
          },
          "showarrow": false,
          "text": "25",
          "x": "Churn",
          "xref": "x",
          "y": "Churn",
          "yref": "y"
         }
        ],
        "height": 500,
        "margin": {
         "b": 100,
         "l": 100,
         "r": 100,
         "t": 100
        },
        "paper_bgcolor": "rgba(0,0,0,0)",
        "plot_bgcolor": "rgba(0,0,0,0)",
        "template": {
         "data": {
          "bar": [
           {
            "error_x": {
             "color": "#2a3f5f"
            },
            "error_y": {
             "color": "#2a3f5f"
            },
            "marker": {
             "line": {
              "color": "#E5ECF6",
              "width": 0.5
             },
             "pattern": {
              "fillmode": "overlay",
              "size": 10,
              "solidity": 0.2
             }
            },
            "type": "bar"
           }
          ],
          "barpolar": [
           {
            "marker": {
             "line": {
              "color": "#E5ECF6",
              "width": 0.5
             },
             "pattern": {
              "fillmode": "overlay",
              "size": 10,
              "solidity": 0.2
             }
            },
            "type": "barpolar"
           }
          ],
          "carpet": [
           {
            "aaxis": {
             "endlinecolor": "#2a3f5f",
             "gridcolor": "white",
             "linecolor": "white",
             "minorgridcolor": "white",
             "startlinecolor": "#2a3f5f"
            },
            "baxis": {
             "endlinecolor": "#2a3f5f",
             "gridcolor": "white",
             "linecolor": "white",
             "minorgridcolor": "white",
             "startlinecolor": "#2a3f5f"
            },
            "type": "carpet"
           }
          ],
          "choropleth": [
           {
            "colorbar": {
             "outlinewidth": 0,
             "ticks": ""
            },
            "type": "choropleth"
           }
          ],
          "contour": [
           {
            "colorbar": {
             "outlinewidth": 0,
             "ticks": ""
            },
            "colorscale": [
             [
              0,
              "#0d0887"
             ],
             [
              0.1111111111111111,
              "#46039f"
             ],
             [
              0.2222222222222222,
              "#7201a8"
             ],
             [
              0.3333333333333333,
              "#9c179e"
             ],
             [
              0.4444444444444444,
              "#bd3786"
             ],
             [
              0.5555555555555556,
              "#d8576b"
             ],
             [
              0.6666666666666666,
              "#ed7953"
             ],
             [
              0.7777777777777778,
              "#fb9f3a"
             ],
             [
              0.8888888888888888,
              "#fdca26"
             ],
             [
              1,
              "#f0f921"
             ]
            ],
            "type": "contour"
           }
          ],
          "contourcarpet": [
           {
            "colorbar": {
             "outlinewidth": 0,
             "ticks": ""
            },
            "type": "contourcarpet"
           }
          ],
          "heatmap": [
           {
            "colorbar": {
             "outlinewidth": 0,
             "ticks": ""
            },
            "colorscale": [
             [
              0,
              "#0d0887"
             ],
             [
              0.1111111111111111,
              "#46039f"
             ],
             [
              0.2222222222222222,
              "#7201a8"
             ],
             [
              0.3333333333333333,
              "#9c179e"
             ],
             [
              0.4444444444444444,
              "#bd3786"
             ],
             [
              0.5555555555555556,
              "#d8576b"
             ],
             [
              0.6666666666666666,
              "#ed7953"
             ],
             [
              0.7777777777777778,
              "#fb9f3a"
             ],
             [
              0.8888888888888888,
              "#fdca26"
             ],
             [
              1,
              "#f0f921"
             ]
            ],
            "type": "heatmap"
           }
          ],
          "heatmapgl": [
           {
            "colorbar": {
             "outlinewidth": 0,
             "ticks": ""
            },
            "colorscale": [
             [
              0,
              "#0d0887"
             ],
             [
              0.1111111111111111,
              "#46039f"
             ],
             [
              0.2222222222222222,
              "#7201a8"
             ],
             [
              0.3333333333333333,
              "#9c179e"
             ],
             [
              0.4444444444444444,
              "#bd3786"
             ],
             [
              0.5555555555555556,
              "#d8576b"
             ],
             [
              0.6666666666666666,
              "#ed7953"
             ],
             [
              0.7777777777777778,
              "#fb9f3a"
             ],
             [
              0.8888888888888888,
              "#fdca26"
             ],
             [
              1,
              "#f0f921"
             ]
            ],
            "type": "heatmapgl"
           }
          ],
          "histogram": [
           {
            "marker": {
             "pattern": {
              "fillmode": "overlay",
              "size": 10,
              "solidity": 0.2
             }
            },
            "type": "histogram"
           }
          ],
          "histogram2d": [
           {
            "colorbar": {
             "outlinewidth": 0,
             "ticks": ""
            },
            "colorscale": [
             [
              0,
              "#0d0887"
             ],
             [
              0.1111111111111111,
              "#46039f"
             ],
             [
              0.2222222222222222,
              "#7201a8"
             ],
             [
              0.3333333333333333,
              "#9c179e"
             ],
             [
              0.4444444444444444,
              "#bd3786"
             ],
             [
              0.5555555555555556,
              "#d8576b"
             ],
             [
              0.6666666666666666,
              "#ed7953"
             ],
             [
              0.7777777777777778,
              "#fb9f3a"
             ],
             [
              0.8888888888888888,
              "#fdca26"
             ],
             [
              1,
              "#f0f921"
             ]
            ],
            "type": "histogram2d"
           }
          ],
          "histogram2dcontour": [
           {
            "colorbar": {
             "outlinewidth": 0,
             "ticks": ""
            },
            "colorscale": [
             [
              0,
              "#0d0887"
             ],
             [
              0.1111111111111111,
              "#46039f"
             ],
             [
              0.2222222222222222,
              "#7201a8"
             ],
             [
              0.3333333333333333,
              "#9c179e"
             ],
             [
              0.4444444444444444,
              "#bd3786"
             ],
             [
              0.5555555555555556,
              "#d8576b"
             ],
             [
              0.6666666666666666,
              "#ed7953"
             ],
             [
              0.7777777777777778,
              "#fb9f3a"
             ],
             [
              0.8888888888888888,
              "#fdca26"
             ],
             [
              1,
              "#f0f921"
             ]
            ],
            "type": "histogram2dcontour"
           }
          ],
          "mesh3d": [
           {
            "colorbar": {
             "outlinewidth": 0,
             "ticks": ""
            },
            "type": "mesh3d"
           }
          ],
          "parcoords": [
           {
            "line": {
             "colorbar": {
              "outlinewidth": 0,
              "ticks": ""
             }
            },
            "type": "parcoords"
           }
          ],
          "pie": [
           {
            "automargin": true,
            "type": "pie"
           }
          ],
          "scatter": [
           {
            "fillpattern": {
             "fillmode": "overlay",
             "size": 10,
             "solidity": 0.2
            },
            "type": "scatter"
           }
          ],
          "scatter3d": [
           {
            "line": {
             "colorbar": {
              "outlinewidth": 0,
              "ticks": ""
             }
            },
            "marker": {
             "colorbar": {
              "outlinewidth": 0,
              "ticks": ""
             }
            },
            "type": "scatter3d"
           }
          ],
          "scattercarpet": [
           {
            "marker": {
             "colorbar": {
              "outlinewidth": 0,
              "ticks": ""
             }
            },
            "type": "scattercarpet"
           }
          ],
          "scattergeo": [
           {
            "marker": {
             "colorbar": {
              "outlinewidth": 0,
              "ticks": ""
             }
            },
            "type": "scattergeo"
           }
          ],
          "scattergl": [
           {
            "marker": {
             "colorbar": {
              "outlinewidth": 0,
              "ticks": ""
             }
            },
            "type": "scattergl"
           }
          ],
          "scattermapbox": [
           {
            "marker": {
             "colorbar": {
              "outlinewidth": 0,
              "ticks": ""
             }
            },
            "type": "scattermapbox"
           }
          ],
          "scatterpolar": [
           {
            "marker": {
             "colorbar": {
              "outlinewidth": 0,
              "ticks": ""
             }
            },
            "type": "scatterpolar"
           }
          ],
          "scatterpolargl": [
           {
            "marker": {
             "colorbar": {
              "outlinewidth": 0,
              "ticks": ""
             }
            },
            "type": "scatterpolargl"
           }
          ],
          "scatterternary": [
           {
            "marker": {
             "colorbar": {
              "outlinewidth": 0,
              "ticks": ""
             }
            },
            "type": "scatterternary"
           }
          ],
          "surface": [
           {
            "colorbar": {
             "outlinewidth": 0,
             "ticks": ""
            },
            "colorscale": [
             [
              0,
              "#0d0887"
             ],
             [
              0.1111111111111111,
              "#46039f"
             ],
             [
              0.2222222222222222,
              "#7201a8"
             ],
             [
              0.3333333333333333,
              "#9c179e"
             ],
             [
              0.4444444444444444,
              "#bd3786"
             ],
             [
              0.5555555555555556,
              "#d8576b"
             ],
             [
              0.6666666666666666,
              "#ed7953"
             ],
             [
              0.7777777777777778,
              "#fb9f3a"
             ],
             [
              0.8888888888888888,
              "#fdca26"
             ],
             [
              1,
              "#f0f921"
             ]
            ],
            "type": "surface"
           }
          ],
          "table": [
           {
            "cells": {
             "fill": {
              "color": "#EBF0F8"
             },
             "line": {
              "color": "white"
             }
            },
            "header": {
             "fill": {
              "color": "#C8D4E3"
             },
             "line": {
              "color": "white"
             }
            },
            "type": "table"
           }
          ]
         },
         "layout": {
          "annotationdefaults": {
           "arrowcolor": "#2a3f5f",
           "arrowhead": 0,
           "arrowwidth": 1
          },
          "autotypenumbers": "strict",
          "coloraxis": {
           "colorbar": {
            "outlinewidth": 0,
            "ticks": ""
           }
          },
          "colorscale": {
           "diverging": [
            [
             0,
             "#8e0152"
            ],
            [
             0.1,
             "#c51b7d"
            ],
            [
             0.2,
             "#de77ae"
            ],
            [
             0.3,
             "#f1b6da"
            ],
            [
             0.4,
             "#fde0ef"
            ],
            [
             0.5,
             "#f7f7f7"
            ],
            [
             0.6,
             "#e6f5d0"
            ],
            [
             0.7,
             "#b8e186"
            ],
            [
             0.8,
             "#7fbc41"
            ],
            [
             0.9,
             "#4d9221"
            ],
            [
             1,
             "#276419"
            ]
           ],
           "sequential": [
            [
             0,
             "#0d0887"
            ],
            [
             0.1111111111111111,
             "#46039f"
            ],
            [
             0.2222222222222222,
             "#7201a8"
            ],
            [
             0.3333333333333333,
             "#9c179e"
            ],
            [
             0.4444444444444444,
             "#bd3786"
            ],
            [
             0.5555555555555556,
             "#d8576b"
            ],
            [
             0.6666666666666666,
             "#ed7953"
            ],
            [
             0.7777777777777778,
             "#fb9f3a"
            ],
            [
             0.8888888888888888,
             "#fdca26"
            ],
            [
             1,
             "#f0f921"
            ]
           ],
           "sequentialminus": [
            [
             0,
             "#0d0887"
            ],
            [
             0.1111111111111111,
             "#46039f"
            ],
            [
             0.2222222222222222,
             "#7201a8"
            ],
            [
             0.3333333333333333,
             "#9c179e"
            ],
            [
             0.4444444444444444,
             "#bd3786"
            ],
            [
             0.5555555555555556,
             "#d8576b"
            ],
            [
             0.6666666666666666,
             "#ed7953"
            ],
            [
             0.7777777777777778,
             "#fb9f3a"
            ],
            [
             0.8888888888888888,
             "#fdca26"
            ],
            [
             1,
             "#f0f921"
            ]
           ]
          },
          "colorway": [
           "#636efa",
           "#EF553B",
           "#00cc96",
           "#ab63fa",
           "#FFA15A",
           "#19d3f3",
           "#FF6692",
           "#B6E880",
           "#FF97FF",
           "#FECB52"
          ],
          "font": {
           "color": "#2a3f5f"
          },
          "geo": {
           "bgcolor": "white",
           "lakecolor": "white",
           "landcolor": "#E5ECF6",
           "showlakes": true,
           "showland": true,
           "subunitcolor": "white"
          },
          "hoverlabel": {
           "align": "left"
          },
          "hovermode": "closest",
          "mapbox": {
           "style": "light"
          },
          "paper_bgcolor": "white",
          "plot_bgcolor": "#E5ECF6",
          "polar": {
           "angularaxis": {
            "gridcolor": "white",
            "linecolor": "white",
            "ticks": ""
           },
           "bgcolor": "#E5ECF6",
           "radialaxis": {
            "gridcolor": "white",
            "linecolor": "white",
            "ticks": ""
           }
          },
          "scene": {
           "xaxis": {
            "backgroundcolor": "#E5ECF6",
            "gridcolor": "white",
            "gridwidth": 2,
            "linecolor": "white",
            "showbackground": true,
            "ticks": "",
            "zerolinecolor": "white"
           },
           "yaxis": {
            "backgroundcolor": "#E5ECF6",
            "gridcolor": "white",
            "gridwidth": 2,
            "linecolor": "white",
            "showbackground": true,
            "ticks": "",
            "zerolinecolor": "white"
           },
           "zaxis": {
            "backgroundcolor": "#E5ECF6",
            "gridcolor": "white",
            "gridwidth": 2,
            "linecolor": "white",
            "showbackground": true,
            "ticks": "",
            "zerolinecolor": "white"
           }
          },
          "shapedefaults": {
           "line": {
            "color": "#2a3f5f"
           }
          },
          "ternary": {
           "aaxis": {
            "gridcolor": "white",
            "linecolor": "white",
            "ticks": ""
           },
           "baxis": {
            "gridcolor": "white",
            "linecolor": "white",
            "ticks": ""
           },
           "bgcolor": "#E5ECF6",
           "caxis": {
            "gridcolor": "white",
            "linecolor": "white",
            "ticks": ""
           }
          },
          "title": {
           "x": 0.05
          },
          "xaxis": {
           "automargin": true,
           "gridcolor": "white",
           "linecolor": "white",
           "ticks": "",
           "title": {
            "standoff": 15
           },
           "zerolinecolor": "white",
           "zerolinewidth": 2
          },
          "yaxis": {
           "automargin": true,
           "gridcolor": "white",
           "linecolor": "white",
           "ticks": "",
           "title": {
            "standoff": 15
           },
           "zerolinecolor": "white",
           "zerolinewidth": 2
          }
         }
        },
        "title": {
         "font": {
          "color": "white",
          "family": "Arial",
          "size": 20
         },
         "text": "Confusion Matrix - K-Nearest Neighbors",
         "x": 0.5,
         "xanchor": "center",
         "y": 0.9,
         "yanchor": "top"
        },
        "width": 600,
        "xaxis": {
         "dtick": 1,
         "gridcolor": "rgb(0, 0, 0)",
         "side": "top",
         "tickfont": {
          "color": "white"
         },
         "ticks": "",
         "title": {
          "font": {
           "color": "white"
          }
         }
        },
        "yaxis": {
         "dtick": 1,
         "tickfont": {
          "color": "white"
         },
         "ticks": "",
         "ticksuffix": "  ",
         "title": {
          "font": {
           "color": "white"
          }
         }
        }
       }
      }
     },
     "metadata": {},
     "output_type": "display_data"
    },
    {
     "name": "stdout",
     "output_type": "stream",
     "text": [
      "Accuracy Score Test = 0.7117948717948718\n",
      "Accuracy Score Train = 0.741701472851176\n",
      "\n",
      "\n"
     ]
    }
   ],
   "source": [
    "confusion_matrix_plot(X_train,y_train,X_test, y_test, y_pred_knn, grid_search, \"K-Nearest Neighbors\")"
   ]
  },
  {
   "cell_type": "markdown",
   "id": "2e98da30",
   "metadata": {},
   "source": [
    "We use the confusion_matrix_plot function to visualize the performance of the K-Nearest Neighbors model, displaying both the confusion matrix and the accuracy scores for the training and test datasets. The accuracy score on the test set is 0.7118, while the accuracy score on the training set is 0.7417."
   ]
  },
  {
   "cell_type": "markdown",
   "id": "63b6169e",
   "metadata": {},
   "source": [
    "### 5.7.1.2 KNN - ROC Curve <a id='5.7.1.2_KNN_ROC'></a>"
   ]
  },
  {
   "cell_type": "code",
   "execution_count": 122,
   "id": "b4f56cde",
   "metadata": {},
   "outputs": [
    {
     "data": {
      "application/vnd.plotly.v1+json": {
       "config": {
        "plotlyServerURL": "https://plot.ly"
       },
       "data": [
        {
         "line": {
          "color": "blue",
          "width": 2
         },
         "mode": "lines",
         "name": "K-Nearest Neighbors (AUC = 0.51)",
         "type": "scatter",
         "x": [
          0,
          0,
          0.010409437890353921,
          0.05412907702984039,
          0.1852879944482998,
          0.4580152671755725,
          0.7578070784177654,
          0.9493407356002775,
          1
         ],
         "y": [
          0,
          0.0019646365422396855,
          0.015717092337917484,
          0.04911591355599214,
          0.21021611001964635,
          0.47347740667976423,
          0.7426326129666012,
          0.9508840864440079,
          1
         ]
        },
        {
         "line": {
          "color": "black",
          "dash": "dash",
          "width": 2
         },
         "mode": "lines",
         "name": "Random",
         "type": "scatter",
         "x": [
          0,
          1
         ],
         "y": [
          0,
          1
         ]
        }
       ],
       "layout": {
        "height": 650,
        "legend": {
         "bgcolor": "rgba(0,0,0,0)",
         "font": {
          "color": "white"
         },
         "x": 0.5,
         "xanchor": "center",
         "y": 0.1
        },
        "paper_bgcolor": "rgba(0,0,0,0)",
        "plot_bgcolor": "rgba(0,0,0,0)",
        "template": {
         "data": {
          "bar": [
           {
            "error_x": {
             "color": "#2a3f5f"
            },
            "error_y": {
             "color": "#2a3f5f"
            },
            "marker": {
             "line": {
              "color": "#E5ECF6",
              "width": 0.5
             },
             "pattern": {
              "fillmode": "overlay",
              "size": 10,
              "solidity": 0.2
             }
            },
            "type": "bar"
           }
          ],
          "barpolar": [
           {
            "marker": {
             "line": {
              "color": "#E5ECF6",
              "width": 0.5
             },
             "pattern": {
              "fillmode": "overlay",
              "size": 10,
              "solidity": 0.2
             }
            },
            "type": "barpolar"
           }
          ],
          "carpet": [
           {
            "aaxis": {
             "endlinecolor": "#2a3f5f",
             "gridcolor": "white",
             "linecolor": "white",
             "minorgridcolor": "white",
             "startlinecolor": "#2a3f5f"
            },
            "baxis": {
             "endlinecolor": "#2a3f5f",
             "gridcolor": "white",
             "linecolor": "white",
             "minorgridcolor": "white",
             "startlinecolor": "#2a3f5f"
            },
            "type": "carpet"
           }
          ],
          "choropleth": [
           {
            "colorbar": {
             "outlinewidth": 0,
             "ticks": ""
            },
            "type": "choropleth"
           }
          ],
          "contour": [
           {
            "colorbar": {
             "outlinewidth": 0,
             "ticks": ""
            },
            "colorscale": [
             [
              0,
              "#0d0887"
             ],
             [
              0.1111111111111111,
              "#46039f"
             ],
             [
              0.2222222222222222,
              "#7201a8"
             ],
             [
              0.3333333333333333,
              "#9c179e"
             ],
             [
              0.4444444444444444,
              "#bd3786"
             ],
             [
              0.5555555555555556,
              "#d8576b"
             ],
             [
              0.6666666666666666,
              "#ed7953"
             ],
             [
              0.7777777777777778,
              "#fb9f3a"
             ],
             [
              0.8888888888888888,
              "#fdca26"
             ],
             [
              1,
              "#f0f921"
             ]
            ],
            "type": "contour"
           }
          ],
          "contourcarpet": [
           {
            "colorbar": {
             "outlinewidth": 0,
             "ticks": ""
            },
            "type": "contourcarpet"
           }
          ],
          "heatmap": [
           {
            "colorbar": {
             "outlinewidth": 0,
             "ticks": ""
            },
            "colorscale": [
             [
              0,
              "#0d0887"
             ],
             [
              0.1111111111111111,
              "#46039f"
             ],
             [
              0.2222222222222222,
              "#7201a8"
             ],
             [
              0.3333333333333333,
              "#9c179e"
             ],
             [
              0.4444444444444444,
              "#bd3786"
             ],
             [
              0.5555555555555556,
              "#d8576b"
             ],
             [
              0.6666666666666666,
              "#ed7953"
             ],
             [
              0.7777777777777778,
              "#fb9f3a"
             ],
             [
              0.8888888888888888,
              "#fdca26"
             ],
             [
              1,
              "#f0f921"
             ]
            ],
            "type": "heatmap"
           }
          ],
          "heatmapgl": [
           {
            "colorbar": {
             "outlinewidth": 0,
             "ticks": ""
            },
            "colorscale": [
             [
              0,
              "#0d0887"
             ],
             [
              0.1111111111111111,
              "#46039f"
             ],
             [
              0.2222222222222222,
              "#7201a8"
             ],
             [
              0.3333333333333333,
              "#9c179e"
             ],
             [
              0.4444444444444444,
              "#bd3786"
             ],
             [
              0.5555555555555556,
              "#d8576b"
             ],
             [
              0.6666666666666666,
              "#ed7953"
             ],
             [
              0.7777777777777778,
              "#fb9f3a"
             ],
             [
              0.8888888888888888,
              "#fdca26"
             ],
             [
              1,
              "#f0f921"
             ]
            ],
            "type": "heatmapgl"
           }
          ],
          "histogram": [
           {
            "marker": {
             "pattern": {
              "fillmode": "overlay",
              "size": 10,
              "solidity": 0.2
             }
            },
            "type": "histogram"
           }
          ],
          "histogram2d": [
           {
            "colorbar": {
             "outlinewidth": 0,
             "ticks": ""
            },
            "colorscale": [
             [
              0,
              "#0d0887"
             ],
             [
              0.1111111111111111,
              "#46039f"
             ],
             [
              0.2222222222222222,
              "#7201a8"
             ],
             [
              0.3333333333333333,
              "#9c179e"
             ],
             [
              0.4444444444444444,
              "#bd3786"
             ],
             [
              0.5555555555555556,
              "#d8576b"
             ],
             [
              0.6666666666666666,
              "#ed7953"
             ],
             [
              0.7777777777777778,
              "#fb9f3a"
             ],
             [
              0.8888888888888888,
              "#fdca26"
             ],
             [
              1,
              "#f0f921"
             ]
            ],
            "type": "histogram2d"
           }
          ],
          "histogram2dcontour": [
           {
            "colorbar": {
             "outlinewidth": 0,
             "ticks": ""
            },
            "colorscale": [
             [
              0,
              "#0d0887"
             ],
             [
              0.1111111111111111,
              "#46039f"
             ],
             [
              0.2222222222222222,
              "#7201a8"
             ],
             [
              0.3333333333333333,
              "#9c179e"
             ],
             [
              0.4444444444444444,
              "#bd3786"
             ],
             [
              0.5555555555555556,
              "#d8576b"
             ],
             [
              0.6666666666666666,
              "#ed7953"
             ],
             [
              0.7777777777777778,
              "#fb9f3a"
             ],
             [
              0.8888888888888888,
              "#fdca26"
             ],
             [
              1,
              "#f0f921"
             ]
            ],
            "type": "histogram2dcontour"
           }
          ],
          "mesh3d": [
           {
            "colorbar": {
             "outlinewidth": 0,
             "ticks": ""
            },
            "type": "mesh3d"
           }
          ],
          "parcoords": [
           {
            "line": {
             "colorbar": {
              "outlinewidth": 0,
              "ticks": ""
             }
            },
            "type": "parcoords"
           }
          ],
          "pie": [
           {
            "automargin": true,
            "type": "pie"
           }
          ],
          "scatter": [
           {
            "fillpattern": {
             "fillmode": "overlay",
             "size": 10,
             "solidity": 0.2
            },
            "type": "scatter"
           }
          ],
          "scatter3d": [
           {
            "line": {
             "colorbar": {
              "outlinewidth": 0,
              "ticks": ""
             }
            },
            "marker": {
             "colorbar": {
              "outlinewidth": 0,
              "ticks": ""
             }
            },
            "type": "scatter3d"
           }
          ],
          "scattercarpet": [
           {
            "marker": {
             "colorbar": {
              "outlinewidth": 0,
              "ticks": ""
             }
            },
            "type": "scattercarpet"
           }
          ],
          "scattergeo": [
           {
            "marker": {
             "colorbar": {
              "outlinewidth": 0,
              "ticks": ""
             }
            },
            "type": "scattergeo"
           }
          ],
          "scattergl": [
           {
            "marker": {
             "colorbar": {
              "outlinewidth": 0,
              "ticks": ""
             }
            },
            "type": "scattergl"
           }
          ],
          "scattermapbox": [
           {
            "marker": {
             "colorbar": {
              "outlinewidth": 0,
              "ticks": ""
             }
            },
            "type": "scattermapbox"
           }
          ],
          "scatterpolar": [
           {
            "marker": {
             "colorbar": {
              "outlinewidth": 0,
              "ticks": ""
             }
            },
            "type": "scatterpolar"
           }
          ],
          "scatterpolargl": [
           {
            "marker": {
             "colorbar": {
              "outlinewidth": 0,
              "ticks": ""
             }
            },
            "type": "scatterpolargl"
           }
          ],
          "scatterternary": [
           {
            "marker": {
             "colorbar": {
              "outlinewidth": 0,
              "ticks": ""
             }
            },
            "type": "scatterternary"
           }
          ],
          "surface": [
           {
            "colorbar": {
             "outlinewidth": 0,
             "ticks": ""
            },
            "colorscale": [
             [
              0,
              "#0d0887"
             ],
             [
              0.1111111111111111,
              "#46039f"
             ],
             [
              0.2222222222222222,
              "#7201a8"
             ],
             [
              0.3333333333333333,
              "#9c179e"
             ],
             [
              0.4444444444444444,
              "#bd3786"
             ],
             [
              0.5555555555555556,
              "#d8576b"
             ],
             [
              0.6666666666666666,
              "#ed7953"
             ],
             [
              0.7777777777777778,
              "#fb9f3a"
             ],
             [
              0.8888888888888888,
              "#fdca26"
             ],
             [
              1,
              "#f0f921"
             ]
            ],
            "type": "surface"
           }
          ],
          "table": [
           {
            "cells": {
             "fill": {
              "color": "#EBF0F8"
             },
             "line": {
              "color": "white"
             }
            },
            "header": {
             "fill": {
              "color": "#C8D4E3"
             },
             "line": {
              "color": "white"
             }
            },
            "type": "table"
           }
          ]
         },
         "layout": {
          "annotationdefaults": {
           "arrowcolor": "#2a3f5f",
           "arrowhead": 0,
           "arrowwidth": 1
          },
          "autotypenumbers": "strict",
          "coloraxis": {
           "colorbar": {
            "outlinewidth": 0,
            "ticks": ""
           }
          },
          "colorscale": {
           "diverging": [
            [
             0,
             "#8e0152"
            ],
            [
             0.1,
             "#c51b7d"
            ],
            [
             0.2,
             "#de77ae"
            ],
            [
             0.3,
             "#f1b6da"
            ],
            [
             0.4,
             "#fde0ef"
            ],
            [
             0.5,
             "#f7f7f7"
            ],
            [
             0.6,
             "#e6f5d0"
            ],
            [
             0.7,
             "#b8e186"
            ],
            [
             0.8,
             "#7fbc41"
            ],
            [
             0.9,
             "#4d9221"
            ],
            [
             1,
             "#276419"
            ]
           ],
           "sequential": [
            [
             0,
             "#0d0887"
            ],
            [
             0.1111111111111111,
             "#46039f"
            ],
            [
             0.2222222222222222,
             "#7201a8"
            ],
            [
             0.3333333333333333,
             "#9c179e"
            ],
            [
             0.4444444444444444,
             "#bd3786"
            ],
            [
             0.5555555555555556,
             "#d8576b"
            ],
            [
             0.6666666666666666,
             "#ed7953"
            ],
            [
             0.7777777777777778,
             "#fb9f3a"
            ],
            [
             0.8888888888888888,
             "#fdca26"
            ],
            [
             1,
             "#f0f921"
            ]
           ],
           "sequentialminus": [
            [
             0,
             "#0d0887"
            ],
            [
             0.1111111111111111,
             "#46039f"
            ],
            [
             0.2222222222222222,
             "#7201a8"
            ],
            [
             0.3333333333333333,
             "#9c179e"
            ],
            [
             0.4444444444444444,
             "#bd3786"
            ],
            [
             0.5555555555555556,
             "#d8576b"
            ],
            [
             0.6666666666666666,
             "#ed7953"
            ],
            [
             0.7777777777777778,
             "#fb9f3a"
            ],
            [
             0.8888888888888888,
             "#fdca26"
            ],
            [
             1,
             "#f0f921"
            ]
           ]
          },
          "colorway": [
           "#636efa",
           "#EF553B",
           "#00cc96",
           "#ab63fa",
           "#FFA15A",
           "#19d3f3",
           "#FF6692",
           "#B6E880",
           "#FF97FF",
           "#FECB52"
          ],
          "font": {
           "color": "#2a3f5f"
          },
          "geo": {
           "bgcolor": "white",
           "lakecolor": "white",
           "landcolor": "#E5ECF6",
           "showlakes": true,
           "showland": true,
           "subunitcolor": "white"
          },
          "hoverlabel": {
           "align": "left"
          },
          "hovermode": "closest",
          "mapbox": {
           "style": "light"
          },
          "paper_bgcolor": "white",
          "plot_bgcolor": "#E5ECF6",
          "polar": {
           "angularaxis": {
            "gridcolor": "white",
            "linecolor": "white",
            "ticks": ""
           },
           "bgcolor": "#E5ECF6",
           "radialaxis": {
            "gridcolor": "white",
            "linecolor": "white",
            "ticks": ""
           }
          },
          "scene": {
           "xaxis": {
            "backgroundcolor": "#E5ECF6",
            "gridcolor": "white",
            "gridwidth": 2,
            "linecolor": "white",
            "showbackground": true,
            "ticks": "",
            "zerolinecolor": "white"
           },
           "yaxis": {
            "backgroundcolor": "#E5ECF6",
            "gridcolor": "white",
            "gridwidth": 2,
            "linecolor": "white",
            "showbackground": true,
            "ticks": "",
            "zerolinecolor": "white"
           },
           "zaxis": {
            "backgroundcolor": "#E5ECF6",
            "gridcolor": "white",
            "gridwidth": 2,
            "linecolor": "white",
            "showbackground": true,
            "ticks": "",
            "zerolinecolor": "white"
           }
          },
          "shapedefaults": {
           "line": {
            "color": "#2a3f5f"
           }
          },
          "ternary": {
           "aaxis": {
            "gridcolor": "white",
            "linecolor": "white",
            "ticks": ""
           },
           "baxis": {
            "gridcolor": "white",
            "linecolor": "white",
            "ticks": ""
           },
           "bgcolor": "#E5ECF6",
           "caxis": {
            "gridcolor": "white",
            "linecolor": "white",
            "ticks": ""
           }
          },
          "title": {
           "x": 0.05
          },
          "xaxis": {
           "automargin": true,
           "gridcolor": "white",
           "linecolor": "white",
           "ticks": "",
           "title": {
            "standoff": 15
           },
           "zerolinecolor": "white",
           "zerolinewidth": 2
          },
          "yaxis": {
           "automargin": true,
           "gridcolor": "white",
           "linecolor": "white",
           "ticks": "",
           "title": {
            "standoff": 15
           },
           "zerolinecolor": "white",
           "zerolinewidth": 2
          }
         }
        },
        "title": {
         "font": {
          "color": "white",
          "family": "Arial",
          "size": 20
         },
         "text": "ROC Curve for K-Nearest Neighbors",
         "x": 0.5,
         "xanchor": "center",
         "y": 0.9,
         "yanchor": "top"
        },
        "width": 600,
        "xaxis": {
         "tickfont": {
          "color": "white"
         },
         "title": {
          "font": {
           "color": "white"
          },
          "text": "False Positive Rate"
         }
        },
        "yaxis": {
         "tickfont": {
          "color": "white"
         },
         "title": {
          "font": {
           "color": "white"
          },
          "text": "True Positive Rate"
         }
        }
       }
      }
     },
     "metadata": {},
     "output_type": "display_data"
    }
   ],
   "source": [
    "roc_curve_auc_score(X_test,y_test,y_pred_knn_proba, \"K-Nearest Neighbors\")"
   ]
  },
  {
   "cell_type": "markdown",
   "id": "ba073b4c",
   "metadata": {},
   "source": [
    "The ROC curve for the K-Nearest Neighbors model shows an AUC score of 0.51, indicating that the model performs only slightly better than random guessing. The curve's shape suggests the model struggles to differentiate between customers who will churn and those who won't. To improve performance, consider further hyperparameter tuning, enhanced feature engineering, or exploring alternative algorithms like Logistic Regression, Random Forest, or Neural Networks."
   ]
  },
  {
   "cell_type": "markdown",
   "id": "451c0b82",
   "metadata": {},
   "source": [
    "### 5.7.1.3 KNN - Precision-Recall curve <a id='5.7.1.3_KNN_PR'></a>"
   ]
  },
  {
   "cell_type": "code",
   "execution_count": 123,
   "id": "c41fd5e7",
   "metadata": {},
   "outputs": [
    {
     "data": {
      "application/vnd.plotly.v1+json": {
       "config": {
        "plotlyServerURL": "https://plot.ly"
       },
       "data": [
        {
         "line": {
          "color": "blue",
          "width": 2
         },
         "mode": "lines",
         "name": "K-Nearest Neighbors",
         "type": "scatter",
         "x": [
          1,
          0.9508840864440079,
          0.7426326129666012,
          0.47347740667976423,
          0.21021611001964635,
          0.04911591355599214,
          0.015717092337917484,
          0.0019646365422396855,
          0
         ],
         "y": [
          0.261025641025641,
          0.2613390928725702,
          0.2571428571428571,
          0.26748057713651496,
          0.28609625668449196,
          0.24271844660194175,
          0.34782608695652173,
          1,
          1
         ]
        }
       ],
       "layout": {
        "height": 600,
        "legend": {
         "bgcolor": "rgba(0,0,0,0.5)",
         "bordercolor": "white",
         "borderwidth": 1,
         "font": {
          "color": "white"
         },
         "x": 0.5,
         "xanchor": "center",
         "y": 0.1
        },
        "paper_bgcolor": "rgba(0,0,0,0)",
        "plot_bgcolor": "rgba(0,0,0,0)",
        "template": {
         "data": {
          "bar": [
           {
            "error_x": {
             "color": "#2a3f5f"
            },
            "error_y": {
             "color": "#2a3f5f"
            },
            "marker": {
             "line": {
              "color": "#E5ECF6",
              "width": 0.5
             },
             "pattern": {
              "fillmode": "overlay",
              "size": 10,
              "solidity": 0.2
             }
            },
            "type": "bar"
           }
          ],
          "barpolar": [
           {
            "marker": {
             "line": {
              "color": "#E5ECF6",
              "width": 0.5
             },
             "pattern": {
              "fillmode": "overlay",
              "size": 10,
              "solidity": 0.2
             }
            },
            "type": "barpolar"
           }
          ],
          "carpet": [
           {
            "aaxis": {
             "endlinecolor": "#2a3f5f",
             "gridcolor": "white",
             "linecolor": "white",
             "minorgridcolor": "white",
             "startlinecolor": "#2a3f5f"
            },
            "baxis": {
             "endlinecolor": "#2a3f5f",
             "gridcolor": "white",
             "linecolor": "white",
             "minorgridcolor": "white",
             "startlinecolor": "#2a3f5f"
            },
            "type": "carpet"
           }
          ],
          "choropleth": [
           {
            "colorbar": {
             "outlinewidth": 0,
             "ticks": ""
            },
            "type": "choropleth"
           }
          ],
          "contour": [
           {
            "colorbar": {
             "outlinewidth": 0,
             "ticks": ""
            },
            "colorscale": [
             [
              0,
              "#0d0887"
             ],
             [
              0.1111111111111111,
              "#46039f"
             ],
             [
              0.2222222222222222,
              "#7201a8"
             ],
             [
              0.3333333333333333,
              "#9c179e"
             ],
             [
              0.4444444444444444,
              "#bd3786"
             ],
             [
              0.5555555555555556,
              "#d8576b"
             ],
             [
              0.6666666666666666,
              "#ed7953"
             ],
             [
              0.7777777777777778,
              "#fb9f3a"
             ],
             [
              0.8888888888888888,
              "#fdca26"
             ],
             [
              1,
              "#f0f921"
             ]
            ],
            "type": "contour"
           }
          ],
          "contourcarpet": [
           {
            "colorbar": {
             "outlinewidth": 0,
             "ticks": ""
            },
            "type": "contourcarpet"
           }
          ],
          "heatmap": [
           {
            "colorbar": {
             "outlinewidth": 0,
             "ticks": ""
            },
            "colorscale": [
             [
              0,
              "#0d0887"
             ],
             [
              0.1111111111111111,
              "#46039f"
             ],
             [
              0.2222222222222222,
              "#7201a8"
             ],
             [
              0.3333333333333333,
              "#9c179e"
             ],
             [
              0.4444444444444444,
              "#bd3786"
             ],
             [
              0.5555555555555556,
              "#d8576b"
             ],
             [
              0.6666666666666666,
              "#ed7953"
             ],
             [
              0.7777777777777778,
              "#fb9f3a"
             ],
             [
              0.8888888888888888,
              "#fdca26"
             ],
             [
              1,
              "#f0f921"
             ]
            ],
            "type": "heatmap"
           }
          ],
          "heatmapgl": [
           {
            "colorbar": {
             "outlinewidth": 0,
             "ticks": ""
            },
            "colorscale": [
             [
              0,
              "#0d0887"
             ],
             [
              0.1111111111111111,
              "#46039f"
             ],
             [
              0.2222222222222222,
              "#7201a8"
             ],
             [
              0.3333333333333333,
              "#9c179e"
             ],
             [
              0.4444444444444444,
              "#bd3786"
             ],
             [
              0.5555555555555556,
              "#d8576b"
             ],
             [
              0.6666666666666666,
              "#ed7953"
             ],
             [
              0.7777777777777778,
              "#fb9f3a"
             ],
             [
              0.8888888888888888,
              "#fdca26"
             ],
             [
              1,
              "#f0f921"
             ]
            ],
            "type": "heatmapgl"
           }
          ],
          "histogram": [
           {
            "marker": {
             "pattern": {
              "fillmode": "overlay",
              "size": 10,
              "solidity": 0.2
             }
            },
            "type": "histogram"
           }
          ],
          "histogram2d": [
           {
            "colorbar": {
             "outlinewidth": 0,
             "ticks": ""
            },
            "colorscale": [
             [
              0,
              "#0d0887"
             ],
             [
              0.1111111111111111,
              "#46039f"
             ],
             [
              0.2222222222222222,
              "#7201a8"
             ],
             [
              0.3333333333333333,
              "#9c179e"
             ],
             [
              0.4444444444444444,
              "#bd3786"
             ],
             [
              0.5555555555555556,
              "#d8576b"
             ],
             [
              0.6666666666666666,
              "#ed7953"
             ],
             [
              0.7777777777777778,
              "#fb9f3a"
             ],
             [
              0.8888888888888888,
              "#fdca26"
             ],
             [
              1,
              "#f0f921"
             ]
            ],
            "type": "histogram2d"
           }
          ],
          "histogram2dcontour": [
           {
            "colorbar": {
             "outlinewidth": 0,
             "ticks": ""
            },
            "colorscale": [
             [
              0,
              "#0d0887"
             ],
             [
              0.1111111111111111,
              "#46039f"
             ],
             [
              0.2222222222222222,
              "#7201a8"
             ],
             [
              0.3333333333333333,
              "#9c179e"
             ],
             [
              0.4444444444444444,
              "#bd3786"
             ],
             [
              0.5555555555555556,
              "#d8576b"
             ],
             [
              0.6666666666666666,
              "#ed7953"
             ],
             [
              0.7777777777777778,
              "#fb9f3a"
             ],
             [
              0.8888888888888888,
              "#fdca26"
             ],
             [
              1,
              "#f0f921"
             ]
            ],
            "type": "histogram2dcontour"
           }
          ],
          "mesh3d": [
           {
            "colorbar": {
             "outlinewidth": 0,
             "ticks": ""
            },
            "type": "mesh3d"
           }
          ],
          "parcoords": [
           {
            "line": {
             "colorbar": {
              "outlinewidth": 0,
              "ticks": ""
             }
            },
            "type": "parcoords"
           }
          ],
          "pie": [
           {
            "automargin": true,
            "type": "pie"
           }
          ],
          "scatter": [
           {
            "fillpattern": {
             "fillmode": "overlay",
             "size": 10,
             "solidity": 0.2
            },
            "type": "scatter"
           }
          ],
          "scatter3d": [
           {
            "line": {
             "colorbar": {
              "outlinewidth": 0,
              "ticks": ""
             }
            },
            "marker": {
             "colorbar": {
              "outlinewidth": 0,
              "ticks": ""
             }
            },
            "type": "scatter3d"
           }
          ],
          "scattercarpet": [
           {
            "marker": {
             "colorbar": {
              "outlinewidth": 0,
              "ticks": ""
             }
            },
            "type": "scattercarpet"
           }
          ],
          "scattergeo": [
           {
            "marker": {
             "colorbar": {
              "outlinewidth": 0,
              "ticks": ""
             }
            },
            "type": "scattergeo"
           }
          ],
          "scattergl": [
           {
            "marker": {
             "colorbar": {
              "outlinewidth": 0,
              "ticks": ""
             }
            },
            "type": "scattergl"
           }
          ],
          "scattermapbox": [
           {
            "marker": {
             "colorbar": {
              "outlinewidth": 0,
              "ticks": ""
             }
            },
            "type": "scattermapbox"
           }
          ],
          "scatterpolar": [
           {
            "marker": {
             "colorbar": {
              "outlinewidth": 0,
              "ticks": ""
             }
            },
            "type": "scatterpolar"
           }
          ],
          "scatterpolargl": [
           {
            "marker": {
             "colorbar": {
              "outlinewidth": 0,
              "ticks": ""
             }
            },
            "type": "scatterpolargl"
           }
          ],
          "scatterternary": [
           {
            "marker": {
             "colorbar": {
              "outlinewidth": 0,
              "ticks": ""
             }
            },
            "type": "scatterternary"
           }
          ],
          "surface": [
           {
            "colorbar": {
             "outlinewidth": 0,
             "ticks": ""
            },
            "colorscale": [
             [
              0,
              "#0d0887"
             ],
             [
              0.1111111111111111,
              "#46039f"
             ],
             [
              0.2222222222222222,
              "#7201a8"
             ],
             [
              0.3333333333333333,
              "#9c179e"
             ],
             [
              0.4444444444444444,
              "#bd3786"
             ],
             [
              0.5555555555555556,
              "#d8576b"
             ],
             [
              0.6666666666666666,
              "#ed7953"
             ],
             [
              0.7777777777777778,
              "#fb9f3a"
             ],
             [
              0.8888888888888888,
              "#fdca26"
             ],
             [
              1,
              "#f0f921"
             ]
            ],
            "type": "surface"
           }
          ],
          "table": [
           {
            "cells": {
             "fill": {
              "color": "#EBF0F8"
             },
             "line": {
              "color": "white"
             }
            },
            "header": {
             "fill": {
              "color": "#C8D4E3"
             },
             "line": {
              "color": "white"
             }
            },
            "type": "table"
           }
          ]
         },
         "layout": {
          "annotationdefaults": {
           "arrowcolor": "#2a3f5f",
           "arrowhead": 0,
           "arrowwidth": 1
          },
          "autotypenumbers": "strict",
          "coloraxis": {
           "colorbar": {
            "outlinewidth": 0,
            "ticks": ""
           }
          },
          "colorscale": {
           "diverging": [
            [
             0,
             "#8e0152"
            ],
            [
             0.1,
             "#c51b7d"
            ],
            [
             0.2,
             "#de77ae"
            ],
            [
             0.3,
             "#f1b6da"
            ],
            [
             0.4,
             "#fde0ef"
            ],
            [
             0.5,
             "#f7f7f7"
            ],
            [
             0.6,
             "#e6f5d0"
            ],
            [
             0.7,
             "#b8e186"
            ],
            [
             0.8,
             "#7fbc41"
            ],
            [
             0.9,
             "#4d9221"
            ],
            [
             1,
             "#276419"
            ]
           ],
           "sequential": [
            [
             0,
             "#0d0887"
            ],
            [
             0.1111111111111111,
             "#46039f"
            ],
            [
             0.2222222222222222,
             "#7201a8"
            ],
            [
             0.3333333333333333,
             "#9c179e"
            ],
            [
             0.4444444444444444,
             "#bd3786"
            ],
            [
             0.5555555555555556,
             "#d8576b"
            ],
            [
             0.6666666666666666,
             "#ed7953"
            ],
            [
             0.7777777777777778,
             "#fb9f3a"
            ],
            [
             0.8888888888888888,
             "#fdca26"
            ],
            [
             1,
             "#f0f921"
            ]
           ],
           "sequentialminus": [
            [
             0,
             "#0d0887"
            ],
            [
             0.1111111111111111,
             "#46039f"
            ],
            [
             0.2222222222222222,
             "#7201a8"
            ],
            [
             0.3333333333333333,
             "#9c179e"
            ],
            [
             0.4444444444444444,
             "#bd3786"
            ],
            [
             0.5555555555555556,
             "#d8576b"
            ],
            [
             0.6666666666666666,
             "#ed7953"
            ],
            [
             0.7777777777777778,
             "#fb9f3a"
            ],
            [
             0.8888888888888888,
             "#fdca26"
            ],
            [
             1,
             "#f0f921"
            ]
           ]
          },
          "colorway": [
           "#636efa",
           "#EF553B",
           "#00cc96",
           "#ab63fa",
           "#FFA15A",
           "#19d3f3",
           "#FF6692",
           "#B6E880",
           "#FF97FF",
           "#FECB52"
          ],
          "font": {
           "color": "#2a3f5f"
          },
          "geo": {
           "bgcolor": "white",
           "lakecolor": "white",
           "landcolor": "#E5ECF6",
           "showlakes": true,
           "showland": true,
           "subunitcolor": "white"
          },
          "hoverlabel": {
           "align": "left"
          },
          "hovermode": "closest",
          "mapbox": {
           "style": "light"
          },
          "paper_bgcolor": "white",
          "plot_bgcolor": "#E5ECF6",
          "polar": {
           "angularaxis": {
            "gridcolor": "white",
            "linecolor": "white",
            "ticks": ""
           },
           "bgcolor": "#E5ECF6",
           "radialaxis": {
            "gridcolor": "white",
            "linecolor": "white",
            "ticks": ""
           }
          },
          "scene": {
           "xaxis": {
            "backgroundcolor": "#E5ECF6",
            "gridcolor": "white",
            "gridwidth": 2,
            "linecolor": "white",
            "showbackground": true,
            "ticks": "",
            "zerolinecolor": "white"
           },
           "yaxis": {
            "backgroundcolor": "#E5ECF6",
            "gridcolor": "white",
            "gridwidth": 2,
            "linecolor": "white",
            "showbackground": true,
            "ticks": "",
            "zerolinecolor": "white"
           },
           "zaxis": {
            "backgroundcolor": "#E5ECF6",
            "gridcolor": "white",
            "gridwidth": 2,
            "linecolor": "white",
            "showbackground": true,
            "ticks": "",
            "zerolinecolor": "white"
           }
          },
          "shapedefaults": {
           "line": {
            "color": "#2a3f5f"
           }
          },
          "ternary": {
           "aaxis": {
            "gridcolor": "white",
            "linecolor": "white",
            "ticks": ""
           },
           "baxis": {
            "gridcolor": "white",
            "linecolor": "white",
            "ticks": ""
           },
           "bgcolor": "#E5ECF6",
           "caxis": {
            "gridcolor": "white",
            "linecolor": "white",
            "ticks": ""
           }
          },
          "title": {
           "x": 0.05
          },
          "xaxis": {
           "automargin": true,
           "gridcolor": "white",
           "linecolor": "white",
           "ticks": "",
           "title": {
            "standoff": 15
           },
           "zerolinecolor": "white",
           "zerolinewidth": 2
          },
          "yaxis": {
           "automargin": true,
           "gridcolor": "white",
           "linecolor": "white",
           "ticks": "",
           "title": {
            "standoff": 15
           },
           "zerolinecolor": "white",
           "zerolinewidth": 2
          }
         }
        },
        "title": {
         "font": {
          "color": "white",
          "family": "Arial",
          "size": 20
         },
         "text": "Precision-Recall Curve for K-Nearest Neighbors",
         "x": 0.5,
         "xanchor": "center",
         "y": 0.9,
         "yanchor": "top"
        },
        "width": 600,
        "xaxis": {
         "tickfont": {
          "color": "white"
         },
         "title": {
          "font": {
           "color": "white"
          },
          "text": "Recall"
         }
        },
        "yaxis": {
         "tickfont": {
          "color": "white"
         },
         "title": {
          "font": {
           "color": "white"
          },
          "text": "Precision"
         }
        }
       }
      }
     },
     "metadata": {},
     "output_type": "display_data"
    }
   ],
   "source": [
    "precision_recall_curve_and_scores(X_test, y_test, y_pred_knn, y_pred_knn_proba, \"K-Nearest Neighbors\")"
   ]
  },
  {
   "cell_type": "markdown",
   "id": "12797705",
   "metadata": {},
   "source": [
    "### 5.7.1.4 KNN - Evaluate<a id='5.7.1.4_KNN_Evaluate'></a>"
   ]
  },
  {
   "cell_type": "code",
   "execution_count": 124,
   "id": "dc209fa7",
   "metadata": {},
   "outputs": [],
   "source": [
    "# Get the best model from grid search\n",
    "best_knn = grid_search.best_estimator_"
   ]
  },
  {
   "cell_type": "code",
   "execution_count": 128,
   "id": "0efb9204",
   "metadata": {},
   "outputs": [
    {
     "name": "stdout",
     "output_type": "stream",
     "text": [
      "--- KNN (Best Model)---\n",
      "Best Parameters: {'n_neighbors': 9, 'weights': 'uniform'}\n",
      "Accuracy: 0.7118\n",
      "Precision: 0.2427\n",
      "Recall: 0.0491\n",
      "F1 Score: 0.0817\n",
      "ROC AUC: 0.4975\n",
      "Macro F1 Score: 0.4554\n",
      "Imbalance Ratio: 0.3532\n",
      "Confusion Matrix:\n",
      "[[1363   78]\n",
      " [ 484   25]]\n"
     ]
    }
   ],
   "source": [
    "# Evaluate the best model\n",
    "y_pred = best_knn.predict(X_test)\n",
    "accuracy = accuracy_score(y_test, y_pred)\n",
    "precision = precision_score(y_test, y_pred)\n",
    "recall = recall_score(y_test, y_pred)\n",
    "f1 = f1_score(y_test, y_pred)\n",
    "macro_f1 = f1_score(y_test, y_pred, average='macro')\n",
    "roc_auc = roc_auc_score(y_test, y_pred)\n",
    "cm = confusion_matrix(y_test, y_pred)\n",
    "\n",
    "counter = Counter(y_test)\n",
    "majority_class = max(counter, key=counter.get)\n",
    "minority_class = min(counter, key=counter.get)\n",
    "imbalance_ratio = counter[minority_class] / counter[majority_class]\n",
    "\n",
    "# Print evaluation metrics\n",
    "print(f\"--- KNN (Best Model)---\")\n",
    "print(f\"Best Parameters: {grid_search.best_params_}\")\n",
    "print(f\"Accuracy: {accuracy:.4f}\")\n",
    "print(f\"Precision: {precision:.4f}\")\n",
    "print(f\"Recall: {recall:.4f}\")\n",
    "print(f\"F1 Score: {f1:.4f}\")\n",
    "print(f\"ROC AUC: {roc_auc:.4f}\")\n",
    "print(f\"Macro F1 Score: {macro_f1:.4f}\")\n",
    "print(f\"Imbalance Ratio: {imbalance_ratio:.4f}\")\n",
    "print(\"Confusion Matrix:\")\n",
    "print(cm)"
   ]
  },
  {
   "cell_type": "code",
   "execution_count": 134,
   "id": "9e0d5d76",
   "metadata": {},
   "outputs": [
    {
     "name": "stderr",
     "output_type": "stream",
     "text": [
      "d:\\Nahid-Capston\\Capstone_2\\.venv\\Lib\\site-packages\\sklearn\\base.py:493: UserWarning:\n",
      "\n",
      "X does not have valid feature names, but KNeighborsClassifier was fitted with feature names\n",
      "\n",
      "d:\\Nahid-Capston\\Capstone_2\\.venv\\Lib\\site-packages\\sklearn\\base.py:493: UserWarning:\n",
      "\n",
      "X does not have valid feature names, but KNeighborsClassifier was fitted with feature names\n",
      "\n",
      "d:\\Nahid-Capston\\Capstone_2\\.venv\\Lib\\site-packages\\sklearn\\base.py:493: UserWarning:\n",
      "\n",
      "X does not have valid feature names, but KNeighborsClassifier was fitted with feature names\n",
      "\n",
      "d:\\Nahid-Capston\\Capstone_2\\.venv\\Lib\\site-packages\\sklearn\\base.py:493: UserWarning:\n",
      "\n",
      "X does not have valid feature names, but KNeighborsClassifier was fitted with feature names\n",
      "\n",
      "d:\\Nahid-Capston\\Capstone_2\\.venv\\Lib\\site-packages\\sklearn\\base.py:493: UserWarning:\n",
      "\n",
      "X does not have valid feature names, but KNeighborsClassifier was fitted with feature names\n",
      "\n",
      "d:\\Nahid-Capston\\Capstone_2\\.venv\\Lib\\site-packages\\sklearn\\base.py:493: UserWarning:\n",
      "\n",
      "X does not have valid feature names, but KNeighborsClassifier was fitted with feature names\n",
      "\n",
      "d:\\Nahid-Capston\\Capstone_2\\.venv\\Lib\\site-packages\\sklearn\\base.py:493: UserWarning:\n",
      "\n",
      "X does not have valid feature names, but KNeighborsClassifier was fitted with feature names\n",
      "\n",
      "d:\\Nahid-Capston\\Capstone_2\\.venv\\Lib\\site-packages\\sklearn\\base.py:493: UserWarning:\n",
      "\n",
      "X does not have valid feature names, but KNeighborsClassifier was fitted with feature names\n",
      "\n",
      "d:\\Nahid-Capston\\Capstone_2\\.venv\\Lib\\site-packages\\sklearn\\base.py:493: UserWarning:\n",
      "\n",
      "X does not have valid feature names, but KNeighborsClassifier was fitted with feature names\n",
      "\n",
      "d:\\Nahid-Capston\\Capstone_2\\.venv\\Lib\\site-packages\\sklearn\\base.py:493: UserWarning:\n",
      "\n",
      "X does not have valid feature names, but KNeighborsClassifier was fitted with feature names\n",
      "\n",
      "d:\\Nahid-Capston\\Capstone_2\\.venv\\Lib\\site-packages\\sklearn\\base.py:493: UserWarning:\n",
      "\n",
      "X does not have valid feature names, but KNeighborsClassifier was fitted with feature names\n",
      "\n",
      "d:\\Nahid-Capston\\Capstone_2\\.venv\\Lib\\site-packages\\sklearn\\base.py:493: UserWarning:\n",
      "\n",
      "X does not have valid feature names, but KNeighborsClassifier was fitted with feature names\n",
      "\n",
      "d:\\Nahid-Capston\\Capstone_2\\.venv\\Lib\\site-packages\\sklearn\\base.py:493: UserWarning:\n",
      "\n",
      "X does not have valid feature names, but KNeighborsClassifier was fitted with feature names\n",
      "\n",
      "d:\\Nahid-Capston\\Capstone_2\\.venv\\Lib\\site-packages\\sklearn\\base.py:493: UserWarning:\n",
      "\n",
      "X does not have valid feature names, but KNeighborsClassifier was fitted with feature names\n",
      "\n",
      "d:\\Nahid-Capston\\Capstone_2\\.venv\\Lib\\site-packages\\sklearn\\base.py:493: UserWarning:\n",
      "\n",
      "X does not have valid feature names, but KNeighborsClassifier was fitted with feature names\n",
      "\n",
      "d:\\Nahid-Capston\\Capstone_2\\.venv\\Lib\\site-packages\\sklearn\\base.py:493: UserWarning:\n",
      "\n",
      "X does not have valid feature names, but KNeighborsClassifier was fitted with feature names\n",
      "\n",
      "d:\\Nahid-Capston\\Capstone_2\\.venv\\Lib\\site-packages\\sklearn\\base.py:493: UserWarning:\n",
      "\n",
      "X does not have valid feature names, but KNeighborsClassifier was fitted with feature names\n",
      "\n",
      "d:\\Nahid-Capston\\Capstone_2\\.venv\\Lib\\site-packages\\sklearn\\base.py:493: UserWarning:\n",
      "\n",
      "X does not have valid feature names, but KNeighborsClassifier was fitted with feature names\n",
      "\n",
      "d:\\Nahid-Capston\\Capstone_2\\.venv\\Lib\\site-packages\\sklearn\\base.py:493: UserWarning:\n",
      "\n",
      "X does not have valid feature names, but KNeighborsClassifier was fitted with feature names\n",
      "\n",
      "d:\\Nahid-Capston\\Capstone_2\\.venv\\Lib\\site-packages\\sklearn\\base.py:493: UserWarning:\n",
      "\n",
      "X does not have valid feature names, but KNeighborsClassifier was fitted with feature names\n",
      "\n",
      "d:\\Nahid-Capston\\Capstone_2\\.venv\\Lib\\site-packages\\sklearn\\base.py:493: UserWarning:\n",
      "\n",
      "X does not have valid feature names, but KNeighborsClassifier was fitted with feature names\n",
      "\n",
      "d:\\Nahid-Capston\\Capstone_2\\.venv\\Lib\\site-packages\\sklearn\\base.py:493: UserWarning:\n",
      "\n",
      "X does not have valid feature names, but KNeighborsClassifier was fitted with feature names\n",
      "\n",
      "d:\\Nahid-Capston\\Capstone_2\\.venv\\Lib\\site-packages\\sklearn\\base.py:493: UserWarning:\n",
      "\n",
      "X does not have valid feature names, but KNeighborsClassifier was fitted with feature names\n",
      "\n",
      "d:\\Nahid-Capston\\Capstone_2\\.venv\\Lib\\site-packages\\sklearn\\base.py:493: UserWarning:\n",
      "\n",
      "X does not have valid feature names, but KNeighborsClassifier was fitted with feature names\n",
      "\n",
      "d:\\Nahid-Capston\\Capstone_2\\.venv\\Lib\\site-packages\\sklearn\\base.py:493: UserWarning:\n",
      "\n",
      "X does not have valid feature names, but KNeighborsClassifier was fitted with feature names\n",
      "\n",
      "d:\\Nahid-Capston\\Capstone_2\\.venv\\Lib\\site-packages\\sklearn\\base.py:493: UserWarning:\n",
      "\n",
      "X does not have valid feature names, but KNeighborsClassifier was fitted with feature names\n",
      "\n",
      "d:\\Nahid-Capston\\Capstone_2\\.venv\\Lib\\site-packages\\sklearn\\base.py:493: UserWarning:\n",
      "\n",
      "X does not have valid feature names, but KNeighborsClassifier was fitted with feature names\n",
      "\n",
      "d:\\Nahid-Capston\\Capstone_2\\.venv\\Lib\\site-packages\\sklearn\\base.py:493: UserWarning:\n",
      "\n",
      "X does not have valid feature names, but KNeighborsClassifier was fitted with feature names\n",
      "\n",
      "d:\\Nahid-Capston\\Capstone_2\\.venv\\Lib\\site-packages\\sklearn\\base.py:493: UserWarning:\n",
      "\n",
      "X does not have valid feature names, but KNeighborsClassifier was fitted with feature names\n",
      "\n",
      "d:\\Nahid-Capston\\Capstone_2\\.venv\\Lib\\site-packages\\sklearn\\base.py:493: UserWarning:\n",
      "\n",
      "X does not have valid feature names, but KNeighborsClassifier was fitted with feature names\n",
      "\n",
      "d:\\Nahid-Capston\\Capstone_2\\.venv\\Lib\\site-packages\\sklearn\\base.py:493: UserWarning:\n",
      "\n",
      "X does not have valid feature names, but KNeighborsClassifier was fitted with feature names\n",
      "\n",
      "d:\\Nahid-Capston\\Capstone_2\\.venv\\Lib\\site-packages\\sklearn\\base.py:493: UserWarning:\n",
      "\n",
      "X does not have valid feature names, but KNeighborsClassifier was fitted with feature names\n",
      "\n",
      "d:\\Nahid-Capston\\Capstone_2\\.venv\\Lib\\site-packages\\sklearn\\base.py:493: UserWarning:\n",
      "\n",
      "X does not have valid feature names, but KNeighborsClassifier was fitted with feature names\n",
      "\n",
      "d:\\Nahid-Capston\\Capstone_2\\.venv\\Lib\\site-packages\\sklearn\\base.py:493: UserWarning:\n",
      "\n",
      "X does not have valid feature names, but KNeighborsClassifier was fitted with feature names\n",
      "\n",
      "d:\\Nahid-Capston\\Capstone_2\\.venv\\Lib\\site-packages\\sklearn\\base.py:493: UserWarning:\n",
      "\n",
      "X does not have valid feature names, but KNeighborsClassifier was fitted with feature names\n",
      "\n",
      "d:\\Nahid-Capston\\Capstone_2\\.venv\\Lib\\site-packages\\sklearn\\base.py:493: UserWarning:\n",
      "\n",
      "X does not have valid feature names, but KNeighborsClassifier was fitted with feature names\n",
      "\n",
      "d:\\Nahid-Capston\\Capstone_2\\.venv\\Lib\\site-packages\\sklearn\\base.py:493: UserWarning:\n",
      "\n",
      "X does not have valid feature names, but KNeighborsClassifier was fitted with feature names\n",
      "\n",
      "d:\\Nahid-Capston\\Capstone_2\\.venv\\Lib\\site-packages\\sklearn\\base.py:493: UserWarning:\n",
      "\n",
      "X does not have valid feature names, but KNeighborsClassifier was fitted with feature names\n",
      "\n",
      "d:\\Nahid-Capston\\Capstone_2\\.venv\\Lib\\site-packages\\sklearn\\base.py:493: UserWarning:\n",
      "\n",
      "X does not have valid feature names, but KNeighborsClassifier was fitted with feature names\n",
      "\n",
      "d:\\Nahid-Capston\\Capstone_2\\.venv\\Lib\\site-packages\\sklearn\\base.py:493: UserWarning:\n",
      "\n",
      "X does not have valid feature names, but KNeighborsClassifier was fitted with feature names\n",
      "\n",
      "d:\\Nahid-Capston\\Capstone_2\\.venv\\Lib\\site-packages\\sklearn\\base.py:493: UserWarning:\n",
      "\n",
      "X does not have valid feature names, but KNeighborsClassifier was fitted with feature names\n",
      "\n",
      "d:\\Nahid-Capston\\Capstone_2\\.venv\\Lib\\site-packages\\sklearn\\base.py:493: UserWarning:\n",
      "\n",
      "X does not have valid feature names, but KNeighborsClassifier was fitted with feature names\n",
      "\n",
      "d:\\Nahid-Capston\\Capstone_2\\.venv\\Lib\\site-packages\\sklearn\\base.py:493: UserWarning:\n",
      "\n",
      "X does not have valid feature names, but KNeighborsClassifier was fitted with feature names\n",
      "\n",
      "d:\\Nahid-Capston\\Capstone_2\\.venv\\Lib\\site-packages\\sklearn\\base.py:493: UserWarning:\n",
      "\n",
      "X does not have valid feature names, but KNeighborsClassifier was fitted with feature names\n",
      "\n",
      "d:\\Nahid-Capston\\Capstone_2\\.venv\\Lib\\site-packages\\sklearn\\base.py:493: UserWarning:\n",
      "\n",
      "X does not have valid feature names, but KNeighborsClassifier was fitted with feature names\n",
      "\n",
      "d:\\Nahid-Capston\\Capstone_2\\.venv\\Lib\\site-packages\\sklearn\\base.py:493: UserWarning:\n",
      "\n",
      "X does not have valid feature names, but KNeighborsClassifier was fitted with feature names\n",
      "\n",
      "d:\\Nahid-Capston\\Capstone_2\\.venv\\Lib\\site-packages\\sklearn\\base.py:493: UserWarning:\n",
      "\n",
      "X does not have valid feature names, but KNeighborsClassifier was fitted with feature names\n",
      "\n",
      "d:\\Nahid-Capston\\Capstone_2\\.venv\\Lib\\site-packages\\sklearn\\base.py:493: UserWarning:\n",
      "\n",
      "X does not have valid feature names, but KNeighborsClassifier was fitted with feature names\n",
      "\n",
      "d:\\Nahid-Capston\\Capstone_2\\.venv\\Lib\\site-packages\\sklearn\\base.py:493: UserWarning:\n",
      "\n",
      "X does not have valid feature names, but KNeighborsClassifier was fitted with feature names\n",
      "\n",
      "d:\\Nahid-Capston\\Capstone_2\\.venv\\Lib\\site-packages\\sklearn\\base.py:493: UserWarning:\n",
      "\n",
      "X does not have valid feature names, but KNeighborsClassifier was fitted with feature names\n",
      "\n",
      "d:\\Nahid-Capston\\Capstone_2\\.venv\\Lib\\site-packages\\sklearn\\base.py:493: UserWarning:\n",
      "\n",
      "X does not have valid feature names, but KNeighborsClassifier was fitted with feature names\n",
      "\n",
      "d:\\Nahid-Capston\\Capstone_2\\.venv\\Lib\\site-packages\\sklearn\\base.py:493: UserWarning:\n",
      "\n",
      "X does not have valid feature names, but KNeighborsClassifier was fitted with feature names\n",
      "\n",
      "d:\\Nahid-Capston\\Capstone_2\\.venv\\Lib\\site-packages\\sklearn\\base.py:493: UserWarning:\n",
      "\n",
      "X does not have valid feature names, but KNeighborsClassifier was fitted with feature names\n",
      "\n",
      "d:\\Nahid-Capston\\Capstone_2\\.venv\\Lib\\site-packages\\sklearn\\base.py:493: UserWarning:\n",
      "\n",
      "X does not have valid feature names, but KNeighborsClassifier was fitted with feature names\n",
      "\n",
      "d:\\Nahid-Capston\\Capstone_2\\.venv\\Lib\\site-packages\\sklearn\\base.py:493: UserWarning:\n",
      "\n",
      "X does not have valid feature names, but KNeighborsClassifier was fitted with feature names\n",
      "\n",
      "d:\\Nahid-Capston\\Capstone_2\\.venv\\Lib\\site-packages\\sklearn\\base.py:493: UserWarning:\n",
      "\n",
      "X does not have valid feature names, but KNeighborsClassifier was fitted with feature names\n",
      "\n",
      "d:\\Nahid-Capston\\Capstone_2\\.venv\\Lib\\site-packages\\sklearn\\base.py:493: UserWarning:\n",
      "\n",
      "X does not have valid feature names, but KNeighborsClassifier was fitted with feature names\n",
      "\n",
      "d:\\Nahid-Capston\\Capstone_2\\.venv\\Lib\\site-packages\\sklearn\\base.py:493: UserWarning:\n",
      "\n",
      "X does not have valid feature names, but KNeighborsClassifier was fitted with feature names\n",
      "\n",
      "d:\\Nahid-Capston\\Capstone_2\\.venv\\Lib\\site-packages\\sklearn\\base.py:493: UserWarning:\n",
      "\n",
      "X does not have valid feature names, but KNeighborsClassifier was fitted with feature names\n",
      "\n",
      "d:\\Nahid-Capston\\Capstone_2\\.venv\\Lib\\site-packages\\sklearn\\base.py:493: UserWarning:\n",
      "\n",
      "X does not have valid feature names, but KNeighborsClassifier was fitted with feature names\n",
      "\n",
      "d:\\Nahid-Capston\\Capstone_2\\.venv\\Lib\\site-packages\\sklearn\\base.py:493: UserWarning:\n",
      "\n",
      "X does not have valid feature names, but KNeighborsClassifier was fitted with feature names\n",
      "\n",
      "d:\\Nahid-Capston\\Capstone_2\\.venv\\Lib\\site-packages\\sklearn\\base.py:493: UserWarning:\n",
      "\n",
      "X does not have valid feature names, but KNeighborsClassifier was fitted with feature names\n",
      "\n",
      "d:\\Nahid-Capston\\Capstone_2\\.venv\\Lib\\site-packages\\sklearn\\base.py:493: UserWarning:\n",
      "\n",
      "X does not have valid feature names, but KNeighborsClassifier was fitted with feature names\n",
      "\n",
      "d:\\Nahid-Capston\\Capstone_2\\.venv\\Lib\\site-packages\\sklearn\\base.py:493: UserWarning:\n",
      "\n",
      "X does not have valid feature names, but KNeighborsClassifier was fitted with feature names\n",
      "\n",
      "d:\\Nahid-Capston\\Capstone_2\\.venv\\Lib\\site-packages\\sklearn\\base.py:493: UserWarning:\n",
      "\n",
      "X does not have valid feature names, but KNeighborsClassifier was fitted with feature names\n",
      "\n",
      "d:\\Nahid-Capston\\Capstone_2\\.venv\\Lib\\site-packages\\sklearn\\base.py:493: UserWarning:\n",
      "\n",
      "X does not have valid feature names, but KNeighborsClassifier was fitted with feature names\n",
      "\n",
      "d:\\Nahid-Capston\\Capstone_2\\.venv\\Lib\\site-packages\\sklearn\\base.py:493: UserWarning:\n",
      "\n",
      "X does not have valid feature names, but KNeighborsClassifier was fitted with feature names\n",
      "\n",
      "d:\\Nahid-Capston\\Capstone_2\\.venv\\Lib\\site-packages\\sklearn\\base.py:493: UserWarning:\n",
      "\n",
      "X does not have valid feature names, but KNeighborsClassifier was fitted with feature names\n",
      "\n",
      "d:\\Nahid-Capston\\Capstone_2\\.venv\\Lib\\site-packages\\sklearn\\base.py:493: UserWarning:\n",
      "\n",
      "X does not have valid feature names, but KNeighborsClassifier was fitted with feature names\n",
      "\n",
      "d:\\Nahid-Capston\\Capstone_2\\.venv\\Lib\\site-packages\\sklearn\\base.py:493: UserWarning:\n",
      "\n",
      "X does not have valid feature names, but KNeighborsClassifier was fitted with feature names\n",
      "\n",
      "d:\\Nahid-Capston\\Capstone_2\\.venv\\Lib\\site-packages\\sklearn\\base.py:493: UserWarning:\n",
      "\n",
      "X does not have valid feature names, but KNeighborsClassifier was fitted with feature names\n",
      "\n",
      "d:\\Nahid-Capston\\Capstone_2\\.venv\\Lib\\site-packages\\sklearn\\base.py:493: UserWarning:\n",
      "\n",
      "X does not have valid feature names, but KNeighborsClassifier was fitted with feature names\n",
      "\n",
      "d:\\Nahid-Capston\\Capstone_2\\.venv\\Lib\\site-packages\\sklearn\\base.py:493: UserWarning:\n",
      "\n",
      "X does not have valid feature names, but KNeighborsClassifier was fitted with feature names\n",
      "\n",
      "d:\\Nahid-Capston\\Capstone_2\\.venv\\Lib\\site-packages\\sklearn\\base.py:493: UserWarning:\n",
      "\n",
      "X does not have valid feature names, but KNeighborsClassifier was fitted with feature names\n",
      "\n",
      "d:\\Nahid-Capston\\Capstone_2\\.venv\\Lib\\site-packages\\sklearn\\base.py:493: UserWarning:\n",
      "\n",
      "X does not have valid feature names, but KNeighborsClassifier was fitted with feature names\n",
      "\n",
      "d:\\Nahid-Capston\\Capstone_2\\.venv\\Lib\\site-packages\\sklearn\\base.py:493: UserWarning:\n",
      "\n",
      "X does not have valid feature names, but KNeighborsClassifier was fitted with feature names\n",
      "\n",
      "d:\\Nahid-Capston\\Capstone_2\\.venv\\Lib\\site-packages\\sklearn\\base.py:493: UserWarning:\n",
      "\n",
      "X does not have valid feature names, but KNeighborsClassifier was fitted with feature names\n",
      "\n",
      "d:\\Nahid-Capston\\Capstone_2\\.venv\\Lib\\site-packages\\sklearn\\base.py:493: UserWarning:\n",
      "\n",
      "X does not have valid feature names, but KNeighborsClassifier was fitted with feature names\n",
      "\n",
      "d:\\Nahid-Capston\\Capstone_2\\.venv\\Lib\\site-packages\\sklearn\\base.py:493: UserWarning:\n",
      "\n",
      "X does not have valid feature names, but KNeighborsClassifier was fitted with feature names\n",
      "\n",
      "d:\\Nahid-Capston\\Capstone_2\\.venv\\Lib\\site-packages\\sklearn\\base.py:493: UserWarning:\n",
      "\n",
      "X does not have valid feature names, but KNeighborsClassifier was fitted with feature names\n",
      "\n",
      "d:\\Nahid-Capston\\Capstone_2\\.venv\\Lib\\site-packages\\sklearn\\base.py:493: UserWarning:\n",
      "\n",
      "X does not have valid feature names, but KNeighborsClassifier was fitted with feature names\n",
      "\n",
      "d:\\Nahid-Capston\\Capstone_2\\.venv\\Lib\\site-packages\\sklearn\\base.py:493: UserWarning:\n",
      "\n",
      "X does not have valid feature names, but KNeighborsClassifier was fitted with feature names\n",
      "\n",
      "d:\\Nahid-Capston\\Capstone_2\\.venv\\Lib\\site-packages\\sklearn\\base.py:493: UserWarning:\n",
      "\n",
      "X does not have valid feature names, but KNeighborsClassifier was fitted with feature names\n",
      "\n",
      "d:\\Nahid-Capston\\Capstone_2\\.venv\\Lib\\site-packages\\sklearn\\base.py:493: UserWarning:\n",
      "\n",
      "X does not have valid feature names, but KNeighborsClassifier was fitted with feature names\n",
      "\n",
      "d:\\Nahid-Capston\\Capstone_2\\.venv\\Lib\\site-packages\\sklearn\\base.py:493: UserWarning:\n",
      "\n",
      "X does not have valid feature names, but KNeighborsClassifier was fitted with feature names\n",
      "\n",
      "d:\\Nahid-Capston\\Capstone_2\\.venv\\Lib\\site-packages\\sklearn\\base.py:493: UserWarning:\n",
      "\n",
      "X does not have valid feature names, but KNeighborsClassifier was fitted with feature names\n",
      "\n",
      "d:\\Nahid-Capston\\Capstone_2\\.venv\\Lib\\site-packages\\sklearn\\base.py:493: UserWarning:\n",
      "\n",
      "X does not have valid feature names, but KNeighborsClassifier was fitted with feature names\n",
      "\n",
      "d:\\Nahid-Capston\\Capstone_2\\.venv\\Lib\\site-packages\\sklearn\\base.py:493: UserWarning:\n",
      "\n",
      "X does not have valid feature names, but KNeighborsClassifier was fitted with feature names\n",
      "\n",
      "d:\\Nahid-Capston\\Capstone_2\\.venv\\Lib\\site-packages\\sklearn\\base.py:493: UserWarning:\n",
      "\n",
      "X does not have valid feature names, but KNeighborsClassifier was fitted with feature names\n",
      "\n",
      "d:\\Nahid-Capston\\Capstone_2\\.venv\\Lib\\site-packages\\sklearn\\base.py:493: UserWarning:\n",
      "\n",
      "X does not have valid feature names, but KNeighborsClassifier was fitted with feature names\n",
      "\n",
      "d:\\Nahid-Capston\\Capstone_2\\.venv\\Lib\\site-packages\\sklearn\\base.py:493: UserWarning:\n",
      "\n",
      "X does not have valid feature names, but KNeighborsClassifier was fitted with feature names\n",
      "\n",
      "d:\\Nahid-Capston\\Capstone_2\\.venv\\Lib\\site-packages\\sklearn\\base.py:493: UserWarning:\n",
      "\n",
      "X does not have valid feature names, but KNeighborsClassifier was fitted with feature names\n",
      "\n",
      "d:\\Nahid-Capston\\Capstone_2\\.venv\\Lib\\site-packages\\sklearn\\base.py:493: UserWarning:\n",
      "\n",
      "X does not have valid feature names, but KNeighborsClassifier was fitted with feature names\n",
      "\n",
      "d:\\Nahid-Capston\\Capstone_2\\.venv\\Lib\\site-packages\\sklearn\\base.py:493: UserWarning:\n",
      "\n",
      "X does not have valid feature names, but KNeighborsClassifier was fitted with feature names\n",
      "\n",
      "d:\\Nahid-Capston\\Capstone_2\\.venv\\Lib\\site-packages\\sklearn\\base.py:493: UserWarning:\n",
      "\n",
      "X does not have valid feature names, but KNeighborsClassifier was fitted with feature names\n",
      "\n",
      "d:\\Nahid-Capston\\Capstone_2\\.venv\\Lib\\site-packages\\sklearn\\base.py:493: UserWarning:\n",
      "\n",
      "X does not have valid feature names, but KNeighborsClassifier was fitted with feature names\n",
      "\n",
      "d:\\Nahid-Capston\\Capstone_2\\.venv\\Lib\\site-packages\\sklearn\\base.py:493: UserWarning:\n",
      "\n",
      "X does not have valid feature names, but KNeighborsClassifier was fitted with feature names\n",
      "\n",
      "d:\\Nahid-Capston\\Capstone_2\\.venv\\Lib\\site-packages\\sklearn\\base.py:493: UserWarning:\n",
      "\n",
      "X does not have valid feature names, but KNeighborsClassifier was fitted with feature names\n",
      "\n",
      "d:\\Nahid-Capston\\Capstone_2\\.venv\\Lib\\site-packages\\sklearn\\base.py:493: UserWarning:\n",
      "\n",
      "X does not have valid feature names, but KNeighborsClassifier was fitted with feature names\n",
      "\n",
      "d:\\Nahid-Capston\\Capstone_2\\.venv\\Lib\\site-packages\\sklearn\\base.py:493: UserWarning:\n",
      "\n",
      "X does not have valid feature names, but KNeighborsClassifier was fitted with feature names\n",
      "\n",
      "d:\\Nahid-Capston\\Capstone_2\\.venv\\Lib\\site-packages\\sklearn\\base.py:493: UserWarning:\n",
      "\n",
      "X does not have valid feature names, but KNeighborsClassifier was fitted with feature names\n",
      "\n",
      "d:\\Nahid-Capston\\Capstone_2\\.venv\\Lib\\site-packages\\sklearn\\base.py:493: UserWarning:\n",
      "\n",
      "X does not have valid feature names, but KNeighborsClassifier was fitted with feature names\n",
      "\n",
      "d:\\Nahid-Capston\\Capstone_2\\.venv\\Lib\\site-packages\\sklearn\\base.py:493: UserWarning:\n",
      "\n",
      "X does not have valid feature names, but KNeighborsClassifier was fitted with feature names\n",
      "\n",
      "d:\\Nahid-Capston\\Capstone_2\\.venv\\Lib\\site-packages\\sklearn\\base.py:493: UserWarning:\n",
      "\n",
      "X does not have valid feature names, but KNeighborsClassifier was fitted with feature names\n",
      "\n",
      "d:\\Nahid-Capston\\Capstone_2\\.venv\\Lib\\site-packages\\sklearn\\base.py:493: UserWarning:\n",
      "\n",
      "X does not have valid feature names, but KNeighborsClassifier was fitted with feature names\n",
      "\n",
      "d:\\Nahid-Capston\\Capstone_2\\.venv\\Lib\\site-packages\\sklearn\\base.py:493: UserWarning:\n",
      "\n",
      "X does not have valid feature names, but KNeighborsClassifier was fitted with feature names\n",
      "\n",
      "d:\\Nahid-Capston\\Capstone_2\\.venv\\Lib\\site-packages\\sklearn\\base.py:493: UserWarning:\n",
      "\n",
      "X does not have valid feature names, but KNeighborsClassifier was fitted with feature names\n",
      "\n",
      "d:\\Nahid-Capston\\Capstone_2\\.venv\\Lib\\site-packages\\sklearn\\base.py:493: UserWarning:\n",
      "\n",
      "X does not have valid feature names, but KNeighborsClassifier was fitted with feature names\n",
      "\n",
      "d:\\Nahid-Capston\\Capstone_2\\.venv\\Lib\\site-packages\\sklearn\\base.py:493: UserWarning:\n",
      "\n",
      "X does not have valid feature names, but KNeighborsClassifier was fitted with feature names\n",
      "\n",
      "d:\\Nahid-Capston\\Capstone_2\\.venv\\Lib\\site-packages\\sklearn\\base.py:493: UserWarning:\n",
      "\n",
      "X does not have valid feature names, but KNeighborsClassifier was fitted with feature names\n",
      "\n",
      "d:\\Nahid-Capston\\Capstone_2\\.venv\\Lib\\site-packages\\sklearn\\base.py:493: UserWarning:\n",
      "\n",
      "X does not have valid feature names, but KNeighborsClassifier was fitted with feature names\n",
      "\n",
      "d:\\Nahid-Capston\\Capstone_2\\.venv\\Lib\\site-packages\\sklearn\\base.py:493: UserWarning:\n",
      "\n",
      "X does not have valid feature names, but KNeighborsClassifier was fitted with feature names\n",
      "\n",
      "d:\\Nahid-Capston\\Capstone_2\\.venv\\Lib\\site-packages\\sklearn\\base.py:493: UserWarning:\n",
      "\n",
      "X does not have valid feature names, but KNeighborsClassifier was fitted with feature names\n",
      "\n",
      "d:\\Nahid-Capston\\Capstone_2\\.venv\\Lib\\site-packages\\sklearn\\base.py:493: UserWarning:\n",
      "\n",
      "X does not have valid feature names, but KNeighborsClassifier was fitted with feature names\n",
      "\n",
      "d:\\Nahid-Capston\\Capstone_2\\.venv\\Lib\\site-packages\\sklearn\\base.py:493: UserWarning:\n",
      "\n",
      "X does not have valid feature names, but KNeighborsClassifier was fitted with feature names\n",
      "\n",
      "d:\\Nahid-Capston\\Capstone_2\\.venv\\Lib\\site-packages\\sklearn\\base.py:493: UserWarning:\n",
      "\n",
      "X does not have valid feature names, but KNeighborsClassifier was fitted with feature names\n",
      "\n",
      "d:\\Nahid-Capston\\Capstone_2\\.venv\\Lib\\site-packages\\sklearn\\base.py:493: UserWarning:\n",
      "\n",
      "X does not have valid feature names, but KNeighborsClassifier was fitted with feature names\n",
      "\n",
      "d:\\Nahid-Capston\\Capstone_2\\.venv\\Lib\\site-packages\\sklearn\\base.py:493: UserWarning:\n",
      "\n",
      "X does not have valid feature names, but KNeighborsClassifier was fitted with feature names\n",
      "\n",
      "d:\\Nahid-Capston\\Capstone_2\\.venv\\Lib\\site-packages\\sklearn\\base.py:493: UserWarning:\n",
      "\n",
      "X does not have valid feature names, but KNeighborsClassifier was fitted with feature names\n",
      "\n",
      "d:\\Nahid-Capston\\Capstone_2\\.venv\\Lib\\site-packages\\sklearn\\base.py:493: UserWarning:\n",
      "\n",
      "X does not have valid feature names, but KNeighborsClassifier was fitted with feature names\n",
      "\n",
      "d:\\Nahid-Capston\\Capstone_2\\.venv\\Lib\\site-packages\\sklearn\\base.py:493: UserWarning:\n",
      "\n",
      "X does not have valid feature names, but KNeighborsClassifier was fitted with feature names\n",
      "\n",
      "d:\\Nahid-Capston\\Capstone_2\\.venv\\Lib\\site-packages\\sklearn\\base.py:493: UserWarning:\n",
      "\n",
      "X does not have valid feature names, but KNeighborsClassifier was fitted with feature names\n",
      "\n",
      "d:\\Nahid-Capston\\Capstone_2\\.venv\\Lib\\site-packages\\sklearn\\base.py:493: UserWarning:\n",
      "\n",
      "X does not have valid feature names, but KNeighborsClassifier was fitted with feature names\n",
      "\n",
      "d:\\Nahid-Capston\\Capstone_2\\.venv\\Lib\\site-packages\\sklearn\\base.py:493: UserWarning:\n",
      "\n",
      "X does not have valid feature names, but KNeighborsClassifier was fitted with feature names\n",
      "\n",
      "d:\\Nahid-Capston\\Capstone_2\\.venv\\Lib\\site-packages\\sklearn\\base.py:493: UserWarning:\n",
      "\n",
      "X does not have valid feature names, but KNeighborsClassifier was fitted with feature names\n",
      "\n",
      "d:\\Nahid-Capston\\Capstone_2\\.venv\\Lib\\site-packages\\sklearn\\base.py:493: UserWarning:\n",
      "\n",
      "X does not have valid feature names, but KNeighborsClassifier was fitted with feature names\n",
      "\n",
      "d:\\Nahid-Capston\\Capstone_2\\.venv\\Lib\\site-packages\\sklearn\\base.py:493: UserWarning:\n",
      "\n",
      "X does not have valid feature names, but KNeighborsClassifier was fitted with feature names\n",
      "\n",
      "d:\\Nahid-Capston\\Capstone_2\\.venv\\Lib\\site-packages\\sklearn\\base.py:493: UserWarning:\n",
      "\n",
      "X does not have valid feature names, but KNeighborsClassifier was fitted with feature names\n",
      "\n",
      "d:\\Nahid-Capston\\Capstone_2\\.venv\\Lib\\site-packages\\sklearn\\base.py:493: UserWarning:\n",
      "\n",
      "X does not have valid feature names, but KNeighborsClassifier was fitted with feature names\n",
      "\n",
      "d:\\Nahid-Capston\\Capstone_2\\.venv\\Lib\\site-packages\\sklearn\\base.py:493: UserWarning:\n",
      "\n",
      "X does not have valid feature names, but KNeighborsClassifier was fitted with feature names\n",
      "\n",
      "d:\\Nahid-Capston\\Capstone_2\\.venv\\Lib\\site-packages\\sklearn\\base.py:493: UserWarning:\n",
      "\n",
      "X does not have valid feature names, but KNeighborsClassifier was fitted with feature names\n",
      "\n",
      "d:\\Nahid-Capston\\Capstone_2\\.venv\\Lib\\site-packages\\sklearn\\base.py:493: UserWarning:\n",
      "\n",
      "X does not have valid feature names, but KNeighborsClassifier was fitted with feature names\n",
      "\n",
      "d:\\Nahid-Capston\\Capstone_2\\.venv\\Lib\\site-packages\\sklearn\\base.py:493: UserWarning:\n",
      "\n",
      "X does not have valid feature names, but KNeighborsClassifier was fitted with feature names\n",
      "\n",
      "d:\\Nahid-Capston\\Capstone_2\\.venv\\Lib\\site-packages\\sklearn\\base.py:493: UserWarning:\n",
      "\n",
      "X does not have valid feature names, but KNeighborsClassifier was fitted with feature names\n",
      "\n",
      "d:\\Nahid-Capston\\Capstone_2\\.venv\\Lib\\site-packages\\sklearn\\base.py:493: UserWarning:\n",
      "\n",
      "X does not have valid feature names, but KNeighborsClassifier was fitted with feature names\n",
      "\n",
      "d:\\Nahid-Capston\\Capstone_2\\.venv\\Lib\\site-packages\\sklearn\\base.py:493: UserWarning:\n",
      "\n",
      "X does not have valid feature names, but KNeighborsClassifier was fitted with feature names\n",
      "\n",
      "d:\\Nahid-Capston\\Capstone_2\\.venv\\Lib\\site-packages\\sklearn\\base.py:493: UserWarning:\n",
      "\n",
      "X does not have valid feature names, but KNeighborsClassifier was fitted with feature names\n",
      "\n",
      "d:\\Nahid-Capston\\Capstone_2\\.venv\\Lib\\site-packages\\sklearn\\base.py:493: UserWarning:\n",
      "\n",
      "X does not have valid feature names, but KNeighborsClassifier was fitted with feature names\n",
      "\n",
      "d:\\Nahid-Capston\\Capstone_2\\.venv\\Lib\\site-packages\\sklearn\\base.py:493: UserWarning:\n",
      "\n",
      "X does not have valid feature names, but KNeighborsClassifier was fitted with feature names\n",
      "\n",
      "d:\\Nahid-Capston\\Capstone_2\\.venv\\Lib\\site-packages\\sklearn\\base.py:493: UserWarning:\n",
      "\n",
      "X does not have valid feature names, but KNeighborsClassifier was fitted with feature names\n",
      "\n",
      "d:\\Nahid-Capston\\Capstone_2\\.venv\\Lib\\site-packages\\sklearn\\base.py:493: UserWarning:\n",
      "\n",
      "X does not have valid feature names, but KNeighborsClassifier was fitted with feature names\n",
      "\n",
      "d:\\Nahid-Capston\\Capstone_2\\.venv\\Lib\\site-packages\\sklearn\\base.py:493: UserWarning:\n",
      "\n",
      "X does not have valid feature names, but KNeighborsClassifier was fitted with feature names\n",
      "\n",
      "d:\\Nahid-Capston\\Capstone_2\\.venv\\Lib\\site-packages\\sklearn\\base.py:493: UserWarning:\n",
      "\n",
      "X does not have valid feature names, but KNeighborsClassifier was fitted with feature names\n",
      "\n",
      "d:\\Nahid-Capston\\Capstone_2\\.venv\\Lib\\site-packages\\sklearn\\base.py:493: UserWarning:\n",
      "\n",
      "X does not have valid feature names, but KNeighborsClassifier was fitted with feature names\n",
      "\n",
      "d:\\Nahid-Capston\\Capstone_2\\.venv\\Lib\\site-packages\\sklearn\\base.py:493: UserWarning:\n",
      "\n",
      "X does not have valid feature names, but KNeighborsClassifier was fitted with feature names\n",
      "\n",
      "d:\\Nahid-Capston\\Capstone_2\\.venv\\Lib\\site-packages\\sklearn\\base.py:493: UserWarning:\n",
      "\n",
      "X does not have valid feature names, but KNeighborsClassifier was fitted with feature names\n",
      "\n",
      "d:\\Nahid-Capston\\Capstone_2\\.venv\\Lib\\site-packages\\sklearn\\base.py:493: UserWarning:\n",
      "\n",
      "X does not have valid feature names, but KNeighborsClassifier was fitted with feature names\n",
      "\n",
      "d:\\Nahid-Capston\\Capstone_2\\.venv\\Lib\\site-packages\\sklearn\\base.py:493: UserWarning:\n",
      "\n",
      "X does not have valid feature names, but KNeighborsClassifier was fitted with feature names\n",
      "\n",
      "d:\\Nahid-Capston\\Capstone_2\\.venv\\Lib\\site-packages\\sklearn\\base.py:493: UserWarning:\n",
      "\n",
      "X does not have valid feature names, but KNeighborsClassifier was fitted with feature names\n",
      "\n",
      "d:\\Nahid-Capston\\Capstone_2\\.venv\\Lib\\site-packages\\sklearn\\base.py:493: UserWarning:\n",
      "\n",
      "X does not have valid feature names, but KNeighborsClassifier was fitted with feature names\n",
      "\n",
      "d:\\Nahid-Capston\\Capstone_2\\.venv\\Lib\\site-packages\\sklearn\\base.py:493: UserWarning:\n",
      "\n",
      "X does not have valid feature names, but KNeighborsClassifier was fitted with feature names\n",
      "\n",
      "d:\\Nahid-Capston\\Capstone_2\\.venv\\Lib\\site-packages\\sklearn\\base.py:493: UserWarning:\n",
      "\n",
      "X does not have valid feature names, but KNeighborsClassifier was fitted with feature names\n",
      "\n",
      "d:\\Nahid-Capston\\Capstone_2\\.venv\\Lib\\site-packages\\sklearn\\base.py:493: UserWarning:\n",
      "\n",
      "X does not have valid feature names, but KNeighborsClassifier was fitted with feature names\n",
      "\n",
      "d:\\Nahid-Capston\\Capstone_2\\.venv\\Lib\\site-packages\\sklearn\\base.py:493: UserWarning:\n",
      "\n",
      "X does not have valid feature names, but KNeighborsClassifier was fitted with feature names\n",
      "\n",
      "d:\\Nahid-Capston\\Capstone_2\\.venv\\Lib\\site-packages\\sklearn\\base.py:493: UserWarning:\n",
      "\n",
      "X does not have valid feature names, but KNeighborsClassifier was fitted with feature names\n",
      "\n",
      "d:\\Nahid-Capston\\Capstone_2\\.venv\\Lib\\site-packages\\sklearn\\base.py:493: UserWarning:\n",
      "\n",
      "X does not have valid feature names, but KNeighborsClassifier was fitted with feature names\n",
      "\n",
      "d:\\Nahid-Capston\\Capstone_2\\.venv\\Lib\\site-packages\\sklearn\\base.py:493: UserWarning:\n",
      "\n",
      "X does not have valid feature names, but KNeighborsClassifier was fitted with feature names\n",
      "\n",
      "d:\\Nahid-Capston\\Capstone_2\\.venv\\Lib\\site-packages\\sklearn\\base.py:493: UserWarning:\n",
      "\n",
      "X does not have valid feature names, but KNeighborsClassifier was fitted with feature names\n",
      "\n",
      "d:\\Nahid-Capston\\Capstone_2\\.venv\\Lib\\site-packages\\sklearn\\base.py:493: UserWarning:\n",
      "\n",
      "X does not have valid feature names, but KNeighborsClassifier was fitted with feature names\n",
      "\n",
      "d:\\Nahid-Capston\\Capstone_2\\.venv\\Lib\\site-packages\\sklearn\\base.py:493: UserWarning:\n",
      "\n",
      "X does not have valid feature names, but KNeighborsClassifier was fitted with feature names\n",
      "\n",
      "d:\\Nahid-Capston\\Capstone_2\\.venv\\Lib\\site-packages\\sklearn\\base.py:493: UserWarning:\n",
      "\n",
      "X does not have valid feature names, but KNeighborsClassifier was fitted with feature names\n",
      "\n",
      "d:\\Nahid-Capston\\Capstone_2\\.venv\\Lib\\site-packages\\sklearn\\base.py:493: UserWarning:\n",
      "\n",
      "X does not have valid feature names, but KNeighborsClassifier was fitted with feature names\n",
      "\n",
      "d:\\Nahid-Capston\\Capstone_2\\.venv\\Lib\\site-packages\\sklearn\\base.py:493: UserWarning:\n",
      "\n",
      "X does not have valid feature names, but KNeighborsClassifier was fitted with feature names\n",
      "\n",
      "d:\\Nahid-Capston\\Capstone_2\\.venv\\Lib\\site-packages\\sklearn\\base.py:493: UserWarning:\n",
      "\n",
      "X does not have valid feature names, but KNeighborsClassifier was fitted with feature names\n",
      "\n",
      "d:\\Nahid-Capston\\Capstone_2\\.venv\\Lib\\site-packages\\sklearn\\base.py:493: UserWarning:\n",
      "\n",
      "X does not have valid feature names, but KNeighborsClassifier was fitted with feature names\n",
      "\n",
      "d:\\Nahid-Capston\\Capstone_2\\.venv\\Lib\\site-packages\\sklearn\\base.py:493: UserWarning:\n",
      "\n",
      "X does not have valid feature names, but KNeighborsClassifier was fitted with feature names\n",
      "\n",
      "d:\\Nahid-Capston\\Capstone_2\\.venv\\Lib\\site-packages\\sklearn\\base.py:493: UserWarning:\n",
      "\n",
      "X does not have valid feature names, but KNeighborsClassifier was fitted with feature names\n",
      "\n",
      "d:\\Nahid-Capston\\Capstone_2\\.venv\\Lib\\site-packages\\sklearn\\base.py:493: UserWarning:\n",
      "\n",
      "X does not have valid feature names, but KNeighborsClassifier was fitted with feature names\n",
      "\n",
      "d:\\Nahid-Capston\\Capstone_2\\.venv\\Lib\\site-packages\\sklearn\\base.py:493: UserWarning:\n",
      "\n",
      "X does not have valid feature names, but KNeighborsClassifier was fitted with feature names\n",
      "\n",
      "d:\\Nahid-Capston\\Capstone_2\\.venv\\Lib\\site-packages\\sklearn\\base.py:493: UserWarning:\n",
      "\n",
      "X does not have valid feature names, but KNeighborsClassifier was fitted with feature names\n",
      "\n",
      "d:\\Nahid-Capston\\Capstone_2\\.venv\\Lib\\site-packages\\sklearn\\base.py:493: UserWarning:\n",
      "\n",
      "X does not have valid feature names, but KNeighborsClassifier was fitted with feature names\n",
      "\n",
      "d:\\Nahid-Capston\\Capstone_2\\.venv\\Lib\\site-packages\\sklearn\\base.py:493: UserWarning:\n",
      "\n",
      "X does not have valid feature names, but KNeighborsClassifier was fitted with feature names\n",
      "\n",
      "d:\\Nahid-Capston\\Capstone_2\\.venv\\Lib\\site-packages\\sklearn\\base.py:493: UserWarning:\n",
      "\n",
      "X does not have valid feature names, but KNeighborsClassifier was fitted with feature names\n",
      "\n",
      "d:\\Nahid-Capston\\Capstone_2\\.venv\\Lib\\site-packages\\sklearn\\base.py:493: UserWarning:\n",
      "\n",
      "X does not have valid feature names, but KNeighborsClassifier was fitted with feature names\n",
      "\n",
      "d:\\Nahid-Capston\\Capstone_2\\.venv\\Lib\\site-packages\\sklearn\\base.py:493: UserWarning:\n",
      "\n",
      "X does not have valid feature names, but KNeighborsClassifier was fitted with feature names\n",
      "\n",
      "d:\\Nahid-Capston\\Capstone_2\\.venv\\Lib\\site-packages\\sklearn\\base.py:493: UserWarning:\n",
      "\n",
      "X does not have valid feature names, but KNeighborsClassifier was fitted with feature names\n",
      "\n",
      "d:\\Nahid-Capston\\Capstone_2\\.venv\\Lib\\site-packages\\sklearn\\base.py:493: UserWarning:\n",
      "\n",
      "X does not have valid feature names, but KNeighborsClassifier was fitted with feature names\n",
      "\n",
      "d:\\Nahid-Capston\\Capstone_2\\.venv\\Lib\\site-packages\\sklearn\\base.py:493: UserWarning:\n",
      "\n",
      "X does not have valid feature names, but KNeighborsClassifier was fitted with feature names\n",
      "\n",
      "d:\\Nahid-Capston\\Capstone_2\\.venv\\Lib\\site-packages\\sklearn\\base.py:493: UserWarning:\n",
      "\n",
      "X does not have valid feature names, but KNeighborsClassifier was fitted with feature names\n",
      "\n",
      "d:\\Nahid-Capston\\Capstone_2\\.venv\\Lib\\site-packages\\sklearn\\base.py:493: UserWarning:\n",
      "\n",
      "X does not have valid feature names, but KNeighborsClassifier was fitted with feature names\n",
      "\n",
      "d:\\Nahid-Capston\\Capstone_2\\.venv\\Lib\\site-packages\\sklearn\\base.py:493: UserWarning:\n",
      "\n",
      "X does not have valid feature names, but KNeighborsClassifier was fitted with feature names\n",
      "\n",
      "d:\\Nahid-Capston\\Capstone_2\\.venv\\Lib\\site-packages\\sklearn\\base.py:493: UserWarning:\n",
      "\n",
      "X does not have valid feature names, but KNeighborsClassifier was fitted with feature names\n",
      "\n",
      "d:\\Nahid-Capston\\Capstone_2\\.venv\\Lib\\site-packages\\sklearn\\base.py:493: UserWarning:\n",
      "\n",
      "X does not have valid feature names, but KNeighborsClassifier was fitted with feature names\n",
      "\n",
      "d:\\Nahid-Capston\\Capstone_2\\.venv\\Lib\\site-packages\\sklearn\\base.py:493: UserWarning:\n",
      "\n",
      "X does not have valid feature names, but KNeighborsClassifier was fitted with feature names\n",
      "\n",
      "d:\\Nahid-Capston\\Capstone_2\\.venv\\Lib\\site-packages\\sklearn\\base.py:493: UserWarning:\n",
      "\n",
      "X does not have valid feature names, but KNeighborsClassifier was fitted with feature names\n",
      "\n",
      "d:\\Nahid-Capston\\Capstone_2\\.venv\\Lib\\site-packages\\sklearn\\base.py:493: UserWarning:\n",
      "\n",
      "X does not have valid feature names, but KNeighborsClassifier was fitted with feature names\n",
      "\n",
      "d:\\Nahid-Capston\\Capstone_2\\.venv\\Lib\\site-packages\\sklearn\\base.py:493: UserWarning:\n",
      "\n",
      "X does not have valid feature names, but KNeighborsClassifier was fitted with feature names\n",
      "\n",
      "d:\\Nahid-Capston\\Capstone_2\\.venv\\Lib\\site-packages\\sklearn\\base.py:493: UserWarning:\n",
      "\n",
      "X does not have valid feature names, but KNeighborsClassifier was fitted with feature names\n",
      "\n",
      "d:\\Nahid-Capston\\Capstone_2\\.venv\\Lib\\site-packages\\sklearn\\base.py:493: UserWarning:\n",
      "\n",
      "X does not have valid feature names, but KNeighborsClassifier was fitted with feature names\n",
      "\n",
      "d:\\Nahid-Capston\\Capstone_2\\.venv\\Lib\\site-packages\\sklearn\\base.py:493: UserWarning:\n",
      "\n",
      "X does not have valid feature names, but KNeighborsClassifier was fitted with feature names\n",
      "\n",
      "d:\\Nahid-Capston\\Capstone_2\\.venv\\Lib\\site-packages\\sklearn\\base.py:493: UserWarning:\n",
      "\n",
      "X does not have valid feature names, but KNeighborsClassifier was fitted with feature names\n",
      "\n",
      "d:\\Nahid-Capston\\Capstone_2\\.venv\\Lib\\site-packages\\sklearn\\base.py:493: UserWarning:\n",
      "\n",
      "X does not have valid feature names, but KNeighborsClassifier was fitted with feature names\n",
      "\n",
      "d:\\Nahid-Capston\\Capstone_2\\.venv\\Lib\\site-packages\\sklearn\\base.py:493: UserWarning:\n",
      "\n",
      "X does not have valid feature names, but KNeighborsClassifier was fitted with feature names\n",
      "\n",
      "d:\\Nahid-Capston\\Capstone_2\\.venv\\Lib\\site-packages\\sklearn\\base.py:493: UserWarning:\n",
      "\n",
      "X does not have valid feature names, but KNeighborsClassifier was fitted with feature names\n",
      "\n",
      "d:\\Nahid-Capston\\Capstone_2\\.venv\\Lib\\site-packages\\sklearn\\base.py:493: UserWarning:\n",
      "\n",
      "X does not have valid feature names, but KNeighborsClassifier was fitted with feature names\n",
      "\n",
      "d:\\Nahid-Capston\\Capstone_2\\.venv\\Lib\\site-packages\\sklearn\\base.py:493: UserWarning:\n",
      "\n",
      "X does not have valid feature names, but KNeighborsClassifier was fitted with feature names\n",
      "\n",
      "d:\\Nahid-Capston\\Capstone_2\\.venv\\Lib\\site-packages\\sklearn\\base.py:493: UserWarning:\n",
      "\n",
      "X does not have valid feature names, but KNeighborsClassifier was fitted with feature names\n",
      "\n",
      "d:\\Nahid-Capston\\Capstone_2\\.venv\\Lib\\site-packages\\sklearn\\base.py:493: UserWarning:\n",
      "\n",
      "X does not have valid feature names, but KNeighborsClassifier was fitted with feature names\n",
      "\n",
      "d:\\Nahid-Capston\\Capstone_2\\.venv\\Lib\\site-packages\\sklearn\\base.py:493: UserWarning:\n",
      "\n",
      "X does not have valid feature names, but KNeighborsClassifier was fitted with feature names\n",
      "\n",
      "d:\\Nahid-Capston\\Capstone_2\\.venv\\Lib\\site-packages\\sklearn\\base.py:493: UserWarning:\n",
      "\n",
      "X does not have valid feature names, but KNeighborsClassifier was fitted with feature names\n",
      "\n",
      "d:\\Nahid-Capston\\Capstone_2\\.venv\\Lib\\site-packages\\sklearn\\base.py:493: UserWarning:\n",
      "\n",
      "X does not have valid feature names, but KNeighborsClassifier was fitted with feature names\n",
      "\n",
      "d:\\Nahid-Capston\\Capstone_2\\.venv\\Lib\\site-packages\\sklearn\\base.py:493: UserWarning:\n",
      "\n",
      "X does not have valid feature names, but KNeighborsClassifier was fitted with feature names\n",
      "\n",
      "d:\\Nahid-Capston\\Capstone_2\\.venv\\Lib\\site-packages\\sklearn\\base.py:493: UserWarning:\n",
      "\n",
      "X does not have valid feature names, but KNeighborsClassifier was fitted with feature names\n",
      "\n",
      "d:\\Nahid-Capston\\Capstone_2\\.venv\\Lib\\site-packages\\sklearn\\base.py:493: UserWarning:\n",
      "\n",
      "X does not have valid feature names, but KNeighborsClassifier was fitted with feature names\n",
      "\n",
      "d:\\Nahid-Capston\\Capstone_2\\.venv\\Lib\\site-packages\\sklearn\\base.py:493: UserWarning:\n",
      "\n",
      "X does not have valid feature names, but KNeighborsClassifier was fitted with feature names\n",
      "\n",
      "d:\\Nahid-Capston\\Capstone_2\\.venv\\Lib\\site-packages\\sklearn\\base.py:493: UserWarning:\n",
      "\n",
      "X does not have valid feature names, but KNeighborsClassifier was fitted with feature names\n",
      "\n",
      "d:\\Nahid-Capston\\Capstone_2\\.venv\\Lib\\site-packages\\sklearn\\base.py:493: UserWarning:\n",
      "\n",
      "X does not have valid feature names, but KNeighborsClassifier was fitted with feature names\n",
      "\n",
      "d:\\Nahid-Capston\\Capstone_2\\.venv\\Lib\\site-packages\\sklearn\\base.py:493: UserWarning:\n",
      "\n",
      "X does not have valid feature names, but KNeighborsClassifier was fitted with feature names\n",
      "\n",
      "d:\\Nahid-Capston\\Capstone_2\\.venv\\Lib\\site-packages\\sklearn\\base.py:493: UserWarning:\n",
      "\n",
      "X does not have valid feature names, but KNeighborsClassifier was fitted with feature names\n",
      "\n",
      "d:\\Nahid-Capston\\Capstone_2\\.venv\\Lib\\site-packages\\sklearn\\base.py:493: UserWarning:\n",
      "\n",
      "X does not have valid feature names, but KNeighborsClassifier was fitted with feature names\n",
      "\n",
      "d:\\Nahid-Capston\\Capstone_2\\.venv\\Lib\\site-packages\\sklearn\\base.py:493: UserWarning:\n",
      "\n",
      "X does not have valid feature names, but KNeighborsClassifier was fitted with feature names\n",
      "\n",
      "d:\\Nahid-Capston\\Capstone_2\\.venv\\Lib\\site-packages\\sklearn\\base.py:493: UserWarning:\n",
      "\n",
      "X does not have valid feature names, but KNeighborsClassifier was fitted with feature names\n",
      "\n",
      "d:\\Nahid-Capston\\Capstone_2\\.venv\\Lib\\site-packages\\sklearn\\base.py:493: UserWarning:\n",
      "\n",
      "X does not have valid feature names, but KNeighborsClassifier was fitted with feature names\n",
      "\n",
      "d:\\Nahid-Capston\\Capstone_2\\.venv\\Lib\\site-packages\\sklearn\\base.py:493: UserWarning:\n",
      "\n",
      "X does not have valid feature names, but KNeighborsClassifier was fitted with feature names\n",
      "\n",
      "d:\\Nahid-Capston\\Capstone_2\\.venv\\Lib\\site-packages\\sklearn\\base.py:493: UserWarning:\n",
      "\n",
      "X does not have valid feature names, but KNeighborsClassifier was fitted with feature names\n",
      "\n",
      "d:\\Nahid-Capston\\Capstone_2\\.venv\\Lib\\site-packages\\sklearn\\base.py:493: UserWarning:\n",
      "\n",
      "X does not have valid feature names, but KNeighborsClassifier was fitted with feature names\n",
      "\n",
      "d:\\Nahid-Capston\\Capstone_2\\.venv\\Lib\\site-packages\\sklearn\\base.py:493: UserWarning:\n",
      "\n",
      "X does not have valid feature names, but KNeighborsClassifier was fitted with feature names\n",
      "\n",
      "d:\\Nahid-Capston\\Capstone_2\\.venv\\Lib\\site-packages\\sklearn\\base.py:493: UserWarning:\n",
      "\n",
      "X does not have valid feature names, but KNeighborsClassifier was fitted with feature names\n",
      "\n",
      "d:\\Nahid-Capston\\Capstone_2\\.venv\\Lib\\site-packages\\sklearn\\base.py:493: UserWarning:\n",
      "\n",
      "X does not have valid feature names, but KNeighborsClassifier was fitted with feature names\n",
      "\n",
      "d:\\Nahid-Capston\\Capstone_2\\.venv\\Lib\\site-packages\\sklearn\\base.py:493: UserWarning:\n",
      "\n",
      "X does not have valid feature names, but KNeighborsClassifier was fitted with feature names\n",
      "\n",
      "d:\\Nahid-Capston\\Capstone_2\\.venv\\Lib\\site-packages\\sklearn\\base.py:493: UserWarning:\n",
      "\n",
      "X does not have valid feature names, but KNeighborsClassifier was fitted with feature names\n",
      "\n",
      "d:\\Nahid-Capston\\Capstone_2\\.venv\\Lib\\site-packages\\sklearn\\base.py:493: UserWarning:\n",
      "\n",
      "X does not have valid feature names, but KNeighborsClassifier was fitted with feature names\n",
      "\n",
      "d:\\Nahid-Capston\\Capstone_2\\.venv\\Lib\\site-packages\\sklearn\\base.py:493: UserWarning:\n",
      "\n",
      "X does not have valid feature names, but KNeighborsClassifier was fitted with feature names\n",
      "\n",
      "d:\\Nahid-Capston\\Capstone_2\\.venv\\Lib\\site-packages\\sklearn\\base.py:493: UserWarning:\n",
      "\n",
      "X does not have valid feature names, but KNeighborsClassifier was fitted with feature names\n",
      "\n",
      "d:\\Nahid-Capston\\Capstone_2\\.venv\\Lib\\site-packages\\sklearn\\base.py:493: UserWarning:\n",
      "\n",
      "X does not have valid feature names, but KNeighborsClassifier was fitted with feature names\n",
      "\n",
      "d:\\Nahid-Capston\\Capstone_2\\.venv\\Lib\\site-packages\\sklearn\\base.py:493: UserWarning:\n",
      "\n",
      "X does not have valid feature names, but KNeighborsClassifier was fitted with feature names\n",
      "\n",
      "d:\\Nahid-Capston\\Capstone_2\\.venv\\Lib\\site-packages\\sklearn\\base.py:493: UserWarning:\n",
      "\n",
      "X does not have valid feature names, but KNeighborsClassifier was fitted with feature names\n",
      "\n",
      "d:\\Nahid-Capston\\Capstone_2\\.venv\\Lib\\site-packages\\sklearn\\base.py:493: UserWarning:\n",
      "\n",
      "X does not have valid feature names, but KNeighborsClassifier was fitted with feature names\n",
      "\n",
      "d:\\Nahid-Capston\\Capstone_2\\.venv\\Lib\\site-packages\\sklearn\\base.py:493: UserWarning:\n",
      "\n",
      "X does not have valid feature names, but KNeighborsClassifier was fitted with feature names\n",
      "\n",
      "d:\\Nahid-Capston\\Capstone_2\\.venv\\Lib\\site-packages\\sklearn\\base.py:493: UserWarning:\n",
      "\n",
      "X does not have valid feature names, but KNeighborsClassifier was fitted with feature names\n",
      "\n",
      "d:\\Nahid-Capston\\Capstone_2\\.venv\\Lib\\site-packages\\sklearn\\base.py:493: UserWarning:\n",
      "\n",
      "X does not have valid feature names, but KNeighborsClassifier was fitted with feature names\n",
      "\n",
      "d:\\Nahid-Capston\\Capstone_2\\.venv\\Lib\\site-packages\\sklearn\\base.py:493: UserWarning:\n",
      "\n",
      "X does not have valid feature names, but KNeighborsClassifier was fitted with feature names\n",
      "\n",
      "d:\\Nahid-Capston\\Capstone_2\\.venv\\Lib\\site-packages\\sklearn\\base.py:493: UserWarning:\n",
      "\n",
      "X does not have valid feature names, but KNeighborsClassifier was fitted with feature names\n",
      "\n",
      "d:\\Nahid-Capston\\Capstone_2\\.venv\\Lib\\site-packages\\sklearn\\base.py:493: UserWarning:\n",
      "\n",
      "X does not have valid feature names, but KNeighborsClassifier was fitted with feature names\n",
      "\n",
      "d:\\Nahid-Capston\\Capstone_2\\.venv\\Lib\\site-packages\\sklearn\\base.py:493: UserWarning:\n",
      "\n",
      "X does not have valid feature names, but KNeighborsClassifier was fitted with feature names\n",
      "\n",
      "d:\\Nahid-Capston\\Capstone_2\\.venv\\Lib\\site-packages\\sklearn\\base.py:493: UserWarning:\n",
      "\n",
      "X does not have valid feature names, but KNeighborsClassifier was fitted with feature names\n",
      "\n",
      "d:\\Nahid-Capston\\Capstone_2\\.venv\\Lib\\site-packages\\sklearn\\base.py:493: UserWarning:\n",
      "\n",
      "X does not have valid feature names, but KNeighborsClassifier was fitted with feature names\n",
      "\n",
      "d:\\Nahid-Capston\\Capstone_2\\.venv\\Lib\\site-packages\\sklearn\\base.py:493: UserWarning:\n",
      "\n",
      "X does not have valid feature names, but KNeighborsClassifier was fitted with feature names\n",
      "\n",
      "d:\\Nahid-Capston\\Capstone_2\\.venv\\Lib\\site-packages\\sklearn\\base.py:493: UserWarning:\n",
      "\n",
      "X does not have valid feature names, but KNeighborsClassifier was fitted with feature names\n",
      "\n",
      "d:\\Nahid-Capston\\Capstone_2\\.venv\\Lib\\site-packages\\sklearn\\base.py:493: UserWarning:\n",
      "\n",
      "X does not have valid feature names, but KNeighborsClassifier was fitted with feature names\n",
      "\n",
      "d:\\Nahid-Capston\\Capstone_2\\.venv\\Lib\\site-packages\\sklearn\\base.py:493: UserWarning:\n",
      "\n",
      "X does not have valid feature names, but KNeighborsClassifier was fitted with feature names\n",
      "\n",
      "d:\\Nahid-Capston\\Capstone_2\\.venv\\Lib\\site-packages\\sklearn\\base.py:493: UserWarning:\n",
      "\n",
      "X does not have valid feature names, but KNeighborsClassifier was fitted with feature names\n",
      "\n",
      "d:\\Nahid-Capston\\Capstone_2\\.venv\\Lib\\site-packages\\sklearn\\base.py:493: UserWarning:\n",
      "\n",
      "X does not have valid feature names, but KNeighborsClassifier was fitted with feature names\n",
      "\n",
      "d:\\Nahid-Capston\\Capstone_2\\.venv\\Lib\\site-packages\\sklearn\\base.py:493: UserWarning:\n",
      "\n",
      "X does not have valid feature names, but KNeighborsClassifier was fitted with feature names\n",
      "\n",
      "d:\\Nahid-Capston\\Capstone_2\\.venv\\Lib\\site-packages\\sklearn\\base.py:493: UserWarning:\n",
      "\n",
      "X does not have valid feature names, but KNeighborsClassifier was fitted with feature names\n",
      "\n",
      "d:\\Nahid-Capston\\Capstone_2\\.venv\\Lib\\site-packages\\sklearn\\base.py:493: UserWarning:\n",
      "\n",
      "X does not have valid feature names, but KNeighborsClassifier was fitted with feature names\n",
      "\n",
      "d:\\Nahid-Capston\\Capstone_2\\.venv\\Lib\\site-packages\\sklearn\\base.py:493: UserWarning:\n",
      "\n",
      "X does not have valid feature names, but KNeighborsClassifier was fitted with feature names\n",
      "\n",
      "d:\\Nahid-Capston\\Capstone_2\\.venv\\Lib\\site-packages\\sklearn\\base.py:493: UserWarning:\n",
      "\n",
      "X does not have valid feature names, but KNeighborsClassifier was fitted with feature names\n",
      "\n",
      "d:\\Nahid-Capston\\Capstone_2\\.venv\\Lib\\site-packages\\sklearn\\base.py:493: UserWarning:\n",
      "\n",
      "X does not have valid feature names, but KNeighborsClassifier was fitted with feature names\n",
      "\n",
      "d:\\Nahid-Capston\\Capstone_2\\.venv\\Lib\\site-packages\\sklearn\\base.py:493: UserWarning:\n",
      "\n",
      "X does not have valid feature names, but KNeighborsClassifier was fitted with feature names\n",
      "\n",
      "d:\\Nahid-Capston\\Capstone_2\\.venv\\Lib\\site-packages\\sklearn\\base.py:493: UserWarning:\n",
      "\n",
      "X does not have valid feature names, but KNeighborsClassifier was fitted with feature names\n",
      "\n",
      "d:\\Nahid-Capston\\Capstone_2\\.venv\\Lib\\site-packages\\sklearn\\base.py:493: UserWarning:\n",
      "\n",
      "X does not have valid feature names, but KNeighborsClassifier was fitted with feature names\n",
      "\n",
      "d:\\Nahid-Capston\\Capstone_2\\.venv\\Lib\\site-packages\\sklearn\\base.py:493: UserWarning:\n",
      "\n",
      "X does not have valid feature names, but KNeighborsClassifier was fitted with feature names\n",
      "\n",
      "d:\\Nahid-Capston\\Capstone_2\\.venv\\Lib\\site-packages\\sklearn\\base.py:493: UserWarning:\n",
      "\n",
      "X does not have valid feature names, but KNeighborsClassifier was fitted with feature names\n",
      "\n",
      "d:\\Nahid-Capston\\Capstone_2\\.venv\\Lib\\site-packages\\sklearn\\base.py:493: UserWarning:\n",
      "\n",
      "X does not have valid feature names, but KNeighborsClassifier was fitted with feature names\n",
      "\n",
      "d:\\Nahid-Capston\\Capstone_2\\.venv\\Lib\\site-packages\\sklearn\\base.py:493: UserWarning:\n",
      "\n",
      "X does not have valid feature names, but KNeighborsClassifier was fitted with feature names\n",
      "\n",
      "d:\\Nahid-Capston\\Capstone_2\\.venv\\Lib\\site-packages\\sklearn\\base.py:493: UserWarning:\n",
      "\n",
      "X does not have valid feature names, but KNeighborsClassifier was fitted with feature names\n",
      "\n",
      "d:\\Nahid-Capston\\Capstone_2\\.venv\\Lib\\site-packages\\sklearn\\base.py:493: UserWarning:\n",
      "\n",
      "X does not have valid feature names, but KNeighborsClassifier was fitted with feature names\n",
      "\n",
      "d:\\Nahid-Capston\\Capstone_2\\.venv\\Lib\\site-packages\\sklearn\\base.py:493: UserWarning:\n",
      "\n",
      "X does not have valid feature names, but KNeighborsClassifier was fitted with feature names\n",
      "\n",
      "d:\\Nahid-Capston\\Capstone_2\\.venv\\Lib\\site-packages\\sklearn\\base.py:493: UserWarning:\n",
      "\n",
      "X does not have valid feature names, but KNeighborsClassifier was fitted with feature names\n",
      "\n",
      "d:\\Nahid-Capston\\Capstone_2\\.venv\\Lib\\site-packages\\sklearn\\base.py:493: UserWarning:\n",
      "\n",
      "X does not have valid feature names, but KNeighborsClassifier was fitted with feature names\n",
      "\n",
      "d:\\Nahid-Capston\\Capstone_2\\.venv\\Lib\\site-packages\\sklearn\\base.py:493: UserWarning:\n",
      "\n",
      "X does not have valid feature names, but KNeighborsClassifier was fitted with feature names\n",
      "\n",
      "d:\\Nahid-Capston\\Capstone_2\\.venv\\Lib\\site-packages\\sklearn\\base.py:493: UserWarning:\n",
      "\n",
      "X does not have valid feature names, but KNeighborsClassifier was fitted with feature names\n",
      "\n",
      "d:\\Nahid-Capston\\Capstone_2\\.venv\\Lib\\site-packages\\sklearn\\base.py:493: UserWarning:\n",
      "\n",
      "X does not have valid feature names, but KNeighborsClassifier was fitted with feature names\n",
      "\n",
      "d:\\Nahid-Capston\\Capstone_2\\.venv\\Lib\\site-packages\\sklearn\\base.py:493: UserWarning:\n",
      "\n",
      "X does not have valid feature names, but KNeighborsClassifier was fitted with feature names\n",
      "\n",
      "d:\\Nahid-Capston\\Capstone_2\\.venv\\Lib\\site-packages\\sklearn\\base.py:493: UserWarning:\n",
      "\n",
      "X does not have valid feature names, but KNeighborsClassifier was fitted with feature names\n",
      "\n",
      "d:\\Nahid-Capston\\Capstone_2\\.venv\\Lib\\site-packages\\sklearn\\base.py:493: UserWarning:\n",
      "\n",
      "X does not have valid feature names, but KNeighborsClassifier was fitted with feature names\n",
      "\n",
      "d:\\Nahid-Capston\\Capstone_2\\.venv\\Lib\\site-packages\\sklearn\\base.py:493: UserWarning:\n",
      "\n",
      "X does not have valid feature names, but KNeighborsClassifier was fitted with feature names\n",
      "\n",
      "d:\\Nahid-Capston\\Capstone_2\\.venv\\Lib\\site-packages\\sklearn\\base.py:493: UserWarning:\n",
      "\n",
      "X does not have valid feature names, but KNeighborsClassifier was fitted with feature names\n",
      "\n",
      "d:\\Nahid-Capston\\Capstone_2\\.venv\\Lib\\site-packages\\sklearn\\base.py:493: UserWarning:\n",
      "\n",
      "X does not have valid feature names, but KNeighborsClassifier was fitted with feature names\n",
      "\n",
      "d:\\Nahid-Capston\\Capstone_2\\.venv\\Lib\\site-packages\\sklearn\\base.py:493: UserWarning:\n",
      "\n",
      "X does not have valid feature names, but KNeighborsClassifier was fitted with feature names\n",
      "\n",
      "d:\\Nahid-Capston\\Capstone_2\\.venv\\Lib\\site-packages\\sklearn\\base.py:493: UserWarning:\n",
      "\n",
      "X does not have valid feature names, but KNeighborsClassifier was fitted with feature names\n",
      "\n",
      "d:\\Nahid-Capston\\Capstone_2\\.venv\\Lib\\site-packages\\sklearn\\base.py:493: UserWarning:\n",
      "\n",
      "X does not have valid feature names, but KNeighborsClassifier was fitted with feature names\n",
      "\n",
      "d:\\Nahid-Capston\\Capstone_2\\.venv\\Lib\\site-packages\\sklearn\\base.py:493: UserWarning:\n",
      "\n",
      "X does not have valid feature names, but KNeighborsClassifier was fitted with feature names\n",
      "\n",
      "d:\\Nahid-Capston\\Capstone_2\\.venv\\Lib\\site-packages\\sklearn\\base.py:493: UserWarning:\n",
      "\n",
      "X does not have valid feature names, but KNeighborsClassifier was fitted with feature names\n",
      "\n",
      "d:\\Nahid-Capston\\Capstone_2\\.venv\\Lib\\site-packages\\sklearn\\base.py:493: UserWarning:\n",
      "\n",
      "X does not have valid feature names, but KNeighborsClassifier was fitted with feature names\n",
      "\n",
      "d:\\Nahid-Capston\\Capstone_2\\.venv\\Lib\\site-packages\\sklearn\\base.py:493: UserWarning:\n",
      "\n",
      "X does not have valid feature names, but KNeighborsClassifier was fitted with feature names\n",
      "\n",
      "d:\\Nahid-Capston\\Capstone_2\\.venv\\Lib\\site-packages\\sklearn\\base.py:493: UserWarning:\n",
      "\n",
      "X does not have valid feature names, but KNeighborsClassifier was fitted with feature names\n",
      "\n",
      "d:\\Nahid-Capston\\Capstone_2\\.venv\\Lib\\site-packages\\sklearn\\base.py:493: UserWarning:\n",
      "\n",
      "X does not have valid feature names, but KNeighborsClassifier was fitted with feature names\n",
      "\n",
      "d:\\Nahid-Capston\\Capstone_2\\.venv\\Lib\\site-packages\\sklearn\\base.py:493: UserWarning:\n",
      "\n",
      "X does not have valid feature names, but KNeighborsClassifier was fitted with feature names\n",
      "\n",
      "d:\\Nahid-Capston\\Capstone_2\\.venv\\Lib\\site-packages\\sklearn\\base.py:493: UserWarning:\n",
      "\n",
      "X does not have valid feature names, but KNeighborsClassifier was fitted with feature names\n",
      "\n",
      "d:\\Nahid-Capston\\Capstone_2\\.venv\\Lib\\site-packages\\sklearn\\base.py:493: UserWarning:\n",
      "\n",
      "X does not have valid feature names, but KNeighborsClassifier was fitted with feature names\n",
      "\n",
      "d:\\Nahid-Capston\\Capstone_2\\.venv\\Lib\\site-packages\\sklearn\\base.py:493: UserWarning:\n",
      "\n",
      "X does not have valid feature names, but KNeighborsClassifier was fitted with feature names\n",
      "\n",
      "d:\\Nahid-Capston\\Capstone_2\\.venv\\Lib\\site-packages\\sklearn\\base.py:493: UserWarning:\n",
      "\n",
      "X does not have valid feature names, but KNeighborsClassifier was fitted with feature names\n",
      "\n",
      "d:\\Nahid-Capston\\Capstone_2\\.venv\\Lib\\site-packages\\sklearn\\base.py:493: UserWarning:\n",
      "\n",
      "X does not have valid feature names, but KNeighborsClassifier was fitted with feature names\n",
      "\n",
      "d:\\Nahid-Capston\\Capstone_2\\.venv\\Lib\\site-packages\\sklearn\\base.py:493: UserWarning:\n",
      "\n",
      "X does not have valid feature names, but KNeighborsClassifier was fitted with feature names\n",
      "\n",
      "d:\\Nahid-Capston\\Capstone_2\\.venv\\Lib\\site-packages\\sklearn\\base.py:493: UserWarning:\n",
      "\n",
      "X does not have valid feature names, but KNeighborsClassifier was fitted with feature names\n",
      "\n",
      "d:\\Nahid-Capston\\Capstone_2\\.venv\\Lib\\site-packages\\sklearn\\base.py:493: UserWarning:\n",
      "\n",
      "X does not have valid feature names, but KNeighborsClassifier was fitted with feature names\n",
      "\n",
      "d:\\Nahid-Capston\\Capstone_2\\.venv\\Lib\\site-packages\\sklearn\\base.py:493: UserWarning:\n",
      "\n",
      "X does not have valid feature names, but KNeighborsClassifier was fitted with feature names\n",
      "\n",
      "d:\\Nahid-Capston\\Capstone_2\\.venv\\Lib\\site-packages\\sklearn\\base.py:493: UserWarning:\n",
      "\n",
      "X does not have valid feature names, but KNeighborsClassifier was fitted with feature names\n",
      "\n",
      "d:\\Nahid-Capston\\Capstone_2\\.venv\\Lib\\site-packages\\sklearn\\base.py:493: UserWarning:\n",
      "\n",
      "X does not have valid feature names, but KNeighborsClassifier was fitted with feature names\n",
      "\n",
      "d:\\Nahid-Capston\\Capstone_2\\.venv\\Lib\\site-packages\\sklearn\\base.py:493: UserWarning:\n",
      "\n",
      "X does not have valid feature names, but KNeighborsClassifier was fitted with feature names\n",
      "\n",
      "d:\\Nahid-Capston\\Capstone_2\\.venv\\Lib\\site-packages\\sklearn\\base.py:493: UserWarning:\n",
      "\n",
      "X does not have valid feature names, but KNeighborsClassifier was fitted with feature names\n",
      "\n",
      "d:\\Nahid-Capston\\Capstone_2\\.venv\\Lib\\site-packages\\sklearn\\base.py:493: UserWarning:\n",
      "\n",
      "X does not have valid feature names, but KNeighborsClassifier was fitted with feature names\n",
      "\n",
      "d:\\Nahid-Capston\\Capstone_2\\.venv\\Lib\\site-packages\\sklearn\\base.py:493: UserWarning:\n",
      "\n",
      "X does not have valid feature names, but KNeighborsClassifier was fitted with feature names\n",
      "\n",
      "d:\\Nahid-Capston\\Capstone_2\\.venv\\Lib\\site-packages\\sklearn\\base.py:493: UserWarning:\n",
      "\n",
      "X does not have valid feature names, but KNeighborsClassifier was fitted with feature names\n",
      "\n",
      "d:\\Nahid-Capston\\Capstone_2\\.venv\\Lib\\site-packages\\sklearn\\base.py:493: UserWarning:\n",
      "\n",
      "X does not have valid feature names, but KNeighborsClassifier was fitted with feature names\n",
      "\n",
      "d:\\Nahid-Capston\\Capstone_2\\.venv\\Lib\\site-packages\\sklearn\\base.py:493: UserWarning:\n",
      "\n",
      "X does not have valid feature names, but KNeighborsClassifier was fitted with feature names\n",
      "\n",
      "d:\\Nahid-Capston\\Capstone_2\\.venv\\Lib\\site-packages\\sklearn\\base.py:493: UserWarning:\n",
      "\n",
      "X does not have valid feature names, but KNeighborsClassifier was fitted with feature names\n",
      "\n",
      "d:\\Nahid-Capston\\Capstone_2\\.venv\\Lib\\site-packages\\sklearn\\base.py:493: UserWarning:\n",
      "\n",
      "X does not have valid feature names, but KNeighborsClassifier was fitted with feature names\n",
      "\n",
      "d:\\Nahid-Capston\\Capstone_2\\.venv\\Lib\\site-packages\\sklearn\\base.py:493: UserWarning:\n",
      "\n",
      "X does not have valid feature names, but KNeighborsClassifier was fitted with feature names\n",
      "\n",
      "d:\\Nahid-Capston\\Capstone_2\\.venv\\Lib\\site-packages\\sklearn\\base.py:493: UserWarning:\n",
      "\n",
      "X does not have valid feature names, but KNeighborsClassifier was fitted with feature names\n",
      "\n",
      "d:\\Nahid-Capston\\Capstone_2\\.venv\\Lib\\site-packages\\sklearn\\base.py:493: UserWarning:\n",
      "\n",
      "X does not have valid feature names, but KNeighborsClassifier was fitted with feature names\n",
      "\n",
      "d:\\Nahid-Capston\\Capstone_2\\.venv\\Lib\\site-packages\\sklearn\\base.py:493: UserWarning:\n",
      "\n",
      "X does not have valid feature names, but KNeighborsClassifier was fitted with feature names\n",
      "\n",
      "d:\\Nahid-Capston\\Capstone_2\\.venv\\Lib\\site-packages\\sklearn\\base.py:493: UserWarning:\n",
      "\n",
      "X does not have valid feature names, but KNeighborsClassifier was fitted with feature names\n",
      "\n",
      "d:\\Nahid-Capston\\Capstone_2\\.venv\\Lib\\site-packages\\sklearn\\base.py:493: UserWarning:\n",
      "\n",
      "X does not have valid feature names, but KNeighborsClassifier was fitted with feature names\n",
      "\n",
      "d:\\Nahid-Capston\\Capstone_2\\.venv\\Lib\\site-packages\\sklearn\\base.py:493: UserWarning:\n",
      "\n",
      "X does not have valid feature names, but KNeighborsClassifier was fitted with feature names\n",
      "\n",
      "d:\\Nahid-Capston\\Capstone_2\\.venv\\Lib\\site-packages\\sklearn\\base.py:493: UserWarning:\n",
      "\n",
      "X does not have valid feature names, but KNeighborsClassifier was fitted with feature names\n",
      "\n",
      "d:\\Nahid-Capston\\Capstone_2\\.venv\\Lib\\site-packages\\sklearn\\base.py:493: UserWarning:\n",
      "\n",
      "X does not have valid feature names, but KNeighborsClassifier was fitted with feature names\n",
      "\n",
      "d:\\Nahid-Capston\\Capstone_2\\.venv\\Lib\\site-packages\\sklearn\\base.py:493: UserWarning:\n",
      "\n",
      "X does not have valid feature names, but KNeighborsClassifier was fitted with feature names\n",
      "\n",
      "d:\\Nahid-Capston\\Capstone_2\\.venv\\Lib\\site-packages\\sklearn\\base.py:493: UserWarning:\n",
      "\n",
      "X does not have valid feature names, but KNeighborsClassifier was fitted with feature names\n",
      "\n",
      "d:\\Nahid-Capston\\Capstone_2\\.venv\\Lib\\site-packages\\sklearn\\base.py:493: UserWarning:\n",
      "\n",
      "X does not have valid feature names, but KNeighborsClassifier was fitted with feature names\n",
      "\n",
      "d:\\Nahid-Capston\\Capstone_2\\.venv\\Lib\\site-packages\\sklearn\\base.py:493: UserWarning:\n",
      "\n",
      "X does not have valid feature names, but KNeighborsClassifier was fitted with feature names\n",
      "\n",
      "d:\\Nahid-Capston\\Capstone_2\\.venv\\Lib\\site-packages\\sklearn\\base.py:493: UserWarning:\n",
      "\n",
      "X does not have valid feature names, but KNeighborsClassifier was fitted with feature names\n",
      "\n",
      "d:\\Nahid-Capston\\Capstone_2\\.venv\\Lib\\site-packages\\sklearn\\base.py:493: UserWarning:\n",
      "\n",
      "X does not have valid feature names, but KNeighborsClassifier was fitted with feature names\n",
      "\n",
      "d:\\Nahid-Capston\\Capstone_2\\.venv\\Lib\\site-packages\\sklearn\\base.py:493: UserWarning:\n",
      "\n",
      "X does not have valid feature names, but KNeighborsClassifier was fitted with feature names\n",
      "\n",
      "d:\\Nahid-Capston\\Capstone_2\\.venv\\Lib\\site-packages\\sklearn\\base.py:493: UserWarning:\n",
      "\n",
      "X does not have valid feature names, but KNeighborsClassifier was fitted with feature names\n",
      "\n",
      "d:\\Nahid-Capston\\Capstone_2\\.venv\\Lib\\site-packages\\sklearn\\base.py:493: UserWarning:\n",
      "\n",
      "X does not have valid feature names, but KNeighborsClassifier was fitted with feature names\n",
      "\n",
      "d:\\Nahid-Capston\\Capstone_2\\.venv\\Lib\\site-packages\\sklearn\\base.py:493: UserWarning:\n",
      "\n",
      "X does not have valid feature names, but KNeighborsClassifier was fitted with feature names\n",
      "\n",
      "d:\\Nahid-Capston\\Capstone_2\\.venv\\Lib\\site-packages\\sklearn\\base.py:493: UserWarning:\n",
      "\n",
      "X does not have valid feature names, but KNeighborsClassifier was fitted with feature names\n",
      "\n",
      "d:\\Nahid-Capston\\Capstone_2\\.venv\\Lib\\site-packages\\sklearn\\base.py:493: UserWarning:\n",
      "\n",
      "X does not have valid feature names, but KNeighborsClassifier was fitted with feature names\n",
      "\n",
      "d:\\Nahid-Capston\\Capstone_2\\.venv\\Lib\\site-packages\\sklearn\\base.py:493: UserWarning:\n",
      "\n",
      "X does not have valid feature names, but KNeighborsClassifier was fitted with feature names\n",
      "\n",
      "d:\\Nahid-Capston\\Capstone_2\\.venv\\Lib\\site-packages\\sklearn\\base.py:493: UserWarning:\n",
      "\n",
      "X does not have valid feature names, but KNeighborsClassifier was fitted with feature names\n",
      "\n",
      "d:\\Nahid-Capston\\Capstone_2\\.venv\\Lib\\site-packages\\sklearn\\base.py:493: UserWarning:\n",
      "\n",
      "X does not have valid feature names, but KNeighborsClassifier was fitted with feature names\n",
      "\n",
      "d:\\Nahid-Capston\\Capstone_2\\.venv\\Lib\\site-packages\\sklearn\\base.py:493: UserWarning:\n",
      "\n",
      "X does not have valid feature names, but KNeighborsClassifier was fitted with feature names\n",
      "\n",
      "d:\\Nahid-Capston\\Capstone_2\\.venv\\Lib\\site-packages\\sklearn\\base.py:493: UserWarning:\n",
      "\n",
      "X does not have valid feature names, but KNeighborsClassifier was fitted with feature names\n",
      "\n",
      "d:\\Nahid-Capston\\Capstone_2\\.venv\\Lib\\site-packages\\sklearn\\base.py:493: UserWarning:\n",
      "\n",
      "X does not have valid feature names, but KNeighborsClassifier was fitted with feature names\n",
      "\n",
      "d:\\Nahid-Capston\\Capstone_2\\.venv\\Lib\\site-packages\\sklearn\\base.py:493: UserWarning:\n",
      "\n",
      "X does not have valid feature names, but KNeighborsClassifier was fitted with feature names\n",
      "\n",
      "d:\\Nahid-Capston\\Capstone_2\\.venv\\Lib\\site-packages\\sklearn\\base.py:493: UserWarning:\n",
      "\n",
      "X does not have valid feature names, but KNeighborsClassifier was fitted with feature names\n",
      "\n",
      "d:\\Nahid-Capston\\Capstone_2\\.venv\\Lib\\site-packages\\sklearn\\base.py:493: UserWarning:\n",
      "\n",
      "X does not have valid feature names, but KNeighborsClassifier was fitted with feature names\n",
      "\n",
      "d:\\Nahid-Capston\\Capstone_2\\.venv\\Lib\\site-packages\\sklearn\\base.py:493: UserWarning:\n",
      "\n",
      "X does not have valid feature names, but KNeighborsClassifier was fitted with feature names\n",
      "\n",
      "d:\\Nahid-Capston\\Capstone_2\\.venv\\Lib\\site-packages\\sklearn\\base.py:493: UserWarning:\n",
      "\n",
      "X does not have valid feature names, but KNeighborsClassifier was fitted with feature names\n",
      "\n",
      "d:\\Nahid-Capston\\Capstone_2\\.venv\\Lib\\site-packages\\sklearn\\base.py:493: UserWarning:\n",
      "\n",
      "X does not have valid feature names, but KNeighborsClassifier was fitted with feature names\n",
      "\n",
      "d:\\Nahid-Capston\\Capstone_2\\.venv\\Lib\\site-packages\\sklearn\\base.py:493: UserWarning:\n",
      "\n",
      "X does not have valid feature names, but KNeighborsClassifier was fitted with feature names\n",
      "\n",
      "d:\\Nahid-Capston\\Capstone_2\\.venv\\Lib\\site-packages\\sklearn\\base.py:493: UserWarning:\n",
      "\n",
      "X does not have valid feature names, but KNeighborsClassifier was fitted with feature names\n",
      "\n",
      "d:\\Nahid-Capston\\Capstone_2\\.venv\\Lib\\site-packages\\sklearn\\base.py:493: UserWarning:\n",
      "\n",
      "X does not have valid feature names, but KNeighborsClassifier was fitted with feature names\n",
      "\n",
      "d:\\Nahid-Capston\\Capstone_2\\.venv\\Lib\\site-packages\\sklearn\\base.py:493: UserWarning:\n",
      "\n",
      "X does not have valid feature names, but KNeighborsClassifier was fitted with feature names\n",
      "\n",
      "d:\\Nahid-Capston\\Capstone_2\\.venv\\Lib\\site-packages\\sklearn\\base.py:493: UserWarning:\n",
      "\n",
      "X does not have valid feature names, but KNeighborsClassifier was fitted with feature names\n",
      "\n",
      "d:\\Nahid-Capston\\Capstone_2\\.venv\\Lib\\site-packages\\sklearn\\base.py:493: UserWarning:\n",
      "\n",
      "X does not have valid feature names, but KNeighborsClassifier was fitted with feature names\n",
      "\n",
      "d:\\Nahid-Capston\\Capstone_2\\.venv\\Lib\\site-packages\\sklearn\\base.py:493: UserWarning:\n",
      "\n",
      "X does not have valid feature names, but KNeighborsClassifier was fitted with feature names\n",
      "\n",
      "d:\\Nahid-Capston\\Capstone_2\\.venv\\Lib\\site-packages\\sklearn\\base.py:493: UserWarning:\n",
      "\n",
      "X does not have valid feature names, but KNeighborsClassifier was fitted with feature names\n",
      "\n",
      "d:\\Nahid-Capston\\Capstone_2\\.venv\\Lib\\site-packages\\sklearn\\base.py:493: UserWarning:\n",
      "\n",
      "X does not have valid feature names, but KNeighborsClassifier was fitted with feature names\n",
      "\n",
      "d:\\Nahid-Capston\\Capstone_2\\.venv\\Lib\\site-packages\\sklearn\\base.py:493: UserWarning:\n",
      "\n",
      "X does not have valid feature names, but KNeighborsClassifier was fitted with feature names\n",
      "\n",
      "d:\\Nahid-Capston\\Capstone_2\\.venv\\Lib\\site-packages\\sklearn\\base.py:493: UserWarning:\n",
      "\n",
      "X does not have valid feature names, but KNeighborsClassifier was fitted with feature names\n",
      "\n",
      "d:\\Nahid-Capston\\Capstone_2\\.venv\\Lib\\site-packages\\sklearn\\base.py:493: UserWarning:\n",
      "\n",
      "X does not have valid feature names, but KNeighborsClassifier was fitted with feature names\n",
      "\n",
      "d:\\Nahid-Capston\\Capstone_2\\.venv\\Lib\\site-packages\\sklearn\\base.py:493: UserWarning:\n",
      "\n",
      "X does not have valid feature names, but KNeighborsClassifier was fitted with feature names\n",
      "\n",
      "d:\\Nahid-Capston\\Capstone_2\\.venv\\Lib\\site-packages\\sklearn\\base.py:493: UserWarning:\n",
      "\n",
      "X does not have valid feature names, but KNeighborsClassifier was fitted with feature names\n",
      "\n",
      "d:\\Nahid-Capston\\Capstone_2\\.venv\\Lib\\site-packages\\sklearn\\base.py:493: UserWarning:\n",
      "\n",
      "X does not have valid feature names, but KNeighborsClassifier was fitted with feature names\n",
      "\n",
      "d:\\Nahid-Capston\\Capstone_2\\.venv\\Lib\\site-packages\\sklearn\\base.py:493: UserWarning:\n",
      "\n",
      "X does not have valid feature names, but KNeighborsClassifier was fitted with feature names\n",
      "\n",
      "d:\\Nahid-Capston\\Capstone_2\\.venv\\Lib\\site-packages\\sklearn\\base.py:493: UserWarning:\n",
      "\n",
      "X does not have valid feature names, but KNeighborsClassifier was fitted with feature names\n",
      "\n",
      "d:\\Nahid-Capston\\Capstone_2\\.venv\\Lib\\site-packages\\sklearn\\base.py:493: UserWarning:\n",
      "\n",
      "X does not have valid feature names, but KNeighborsClassifier was fitted with feature names\n",
      "\n",
      "d:\\Nahid-Capston\\Capstone_2\\.venv\\Lib\\site-packages\\sklearn\\base.py:493: UserWarning:\n",
      "\n",
      "X does not have valid feature names, but KNeighborsClassifier was fitted with feature names\n",
      "\n",
      "d:\\Nahid-Capston\\Capstone_2\\.venv\\Lib\\site-packages\\sklearn\\base.py:493: UserWarning:\n",
      "\n",
      "X does not have valid feature names, but KNeighborsClassifier was fitted with feature names\n",
      "\n",
      "d:\\Nahid-Capston\\Capstone_2\\.venv\\Lib\\site-packages\\sklearn\\base.py:493: UserWarning:\n",
      "\n",
      "X does not have valid feature names, but KNeighborsClassifier was fitted with feature names\n",
      "\n",
      "d:\\Nahid-Capston\\Capstone_2\\.venv\\Lib\\site-packages\\sklearn\\base.py:493: UserWarning:\n",
      "\n",
      "X does not have valid feature names, but KNeighborsClassifier was fitted with feature names\n",
      "\n",
      "d:\\Nahid-Capston\\Capstone_2\\.venv\\Lib\\site-packages\\sklearn\\base.py:493: UserWarning:\n",
      "\n",
      "X does not have valid feature names, but KNeighborsClassifier was fitted with feature names\n",
      "\n",
      "d:\\Nahid-Capston\\Capstone_2\\.venv\\Lib\\site-packages\\sklearn\\base.py:493: UserWarning:\n",
      "\n",
      "X does not have valid feature names, but KNeighborsClassifier was fitted with feature names\n",
      "\n",
      "d:\\Nahid-Capston\\Capstone_2\\.venv\\Lib\\site-packages\\sklearn\\base.py:493: UserWarning:\n",
      "\n",
      "X does not have valid feature names, but KNeighborsClassifier was fitted with feature names\n",
      "\n",
      "d:\\Nahid-Capston\\Capstone_2\\.venv\\Lib\\site-packages\\sklearn\\base.py:493: UserWarning:\n",
      "\n",
      "X does not have valid feature names, but KNeighborsClassifier was fitted with feature names\n",
      "\n",
      "d:\\Nahid-Capston\\Capstone_2\\.venv\\Lib\\site-packages\\sklearn\\base.py:493: UserWarning:\n",
      "\n",
      "X does not have valid feature names, but KNeighborsClassifier was fitted with feature names\n",
      "\n",
      "d:\\Nahid-Capston\\Capstone_2\\.venv\\Lib\\site-packages\\sklearn\\base.py:493: UserWarning:\n",
      "\n",
      "X does not have valid feature names, but KNeighborsClassifier was fitted with feature names\n",
      "\n",
      "d:\\Nahid-Capston\\Capstone_2\\.venv\\Lib\\site-packages\\sklearn\\base.py:493: UserWarning:\n",
      "\n",
      "X does not have valid feature names, but KNeighborsClassifier was fitted with feature names\n",
      "\n",
      "d:\\Nahid-Capston\\Capstone_2\\.venv\\Lib\\site-packages\\sklearn\\base.py:493: UserWarning:\n",
      "\n",
      "X does not have valid feature names, but KNeighborsClassifier was fitted with feature names\n",
      "\n",
      "d:\\Nahid-Capston\\Capstone_2\\.venv\\Lib\\site-packages\\sklearn\\base.py:493: UserWarning:\n",
      "\n",
      "X does not have valid feature names, but KNeighborsClassifier was fitted with feature names\n",
      "\n",
      "d:\\Nahid-Capston\\Capstone_2\\.venv\\Lib\\site-packages\\sklearn\\base.py:493: UserWarning:\n",
      "\n",
      "X does not have valid feature names, but KNeighborsClassifier was fitted with feature names\n",
      "\n",
      "d:\\Nahid-Capston\\Capstone_2\\.venv\\Lib\\site-packages\\sklearn\\base.py:493: UserWarning:\n",
      "\n",
      "X does not have valid feature names, but KNeighborsClassifier was fitted with feature names\n",
      "\n",
      "d:\\Nahid-Capston\\Capstone_2\\.venv\\Lib\\site-packages\\sklearn\\base.py:493: UserWarning:\n",
      "\n",
      "X does not have valid feature names, but KNeighborsClassifier was fitted with feature names\n",
      "\n",
      "d:\\Nahid-Capston\\Capstone_2\\.venv\\Lib\\site-packages\\sklearn\\base.py:493: UserWarning:\n",
      "\n",
      "X does not have valid feature names, but KNeighborsClassifier was fitted with feature names\n",
      "\n",
      "d:\\Nahid-Capston\\Capstone_2\\.venv\\Lib\\site-packages\\sklearn\\base.py:493: UserWarning:\n",
      "\n",
      "X does not have valid feature names, but KNeighborsClassifier was fitted with feature names\n",
      "\n",
      "d:\\Nahid-Capston\\Capstone_2\\.venv\\Lib\\site-packages\\sklearn\\base.py:493: UserWarning:\n",
      "\n",
      "X does not have valid feature names, but KNeighborsClassifier was fitted with feature names\n",
      "\n",
      "d:\\Nahid-Capston\\Capstone_2\\.venv\\Lib\\site-packages\\sklearn\\base.py:493: UserWarning:\n",
      "\n",
      "X does not have valid feature names, but KNeighborsClassifier was fitted with feature names\n",
      "\n",
      "d:\\Nahid-Capston\\Capstone_2\\.venv\\Lib\\site-packages\\sklearn\\base.py:493: UserWarning:\n",
      "\n",
      "X does not have valid feature names, but KNeighborsClassifier was fitted with feature names\n",
      "\n",
      "d:\\Nahid-Capston\\Capstone_2\\.venv\\Lib\\site-packages\\sklearn\\base.py:493: UserWarning:\n",
      "\n",
      "X does not have valid feature names, but KNeighborsClassifier was fitted with feature names\n",
      "\n",
      "d:\\Nahid-Capston\\Capstone_2\\.venv\\Lib\\site-packages\\sklearn\\base.py:493: UserWarning:\n",
      "\n",
      "X does not have valid feature names, but KNeighborsClassifier was fitted with feature names\n",
      "\n",
      "d:\\Nahid-Capston\\Capstone_2\\.venv\\Lib\\site-packages\\sklearn\\base.py:493: UserWarning:\n",
      "\n",
      "X does not have valid feature names, but KNeighborsClassifier was fitted with feature names\n",
      "\n",
      "d:\\Nahid-Capston\\Capstone_2\\.venv\\Lib\\site-packages\\sklearn\\base.py:493: UserWarning:\n",
      "\n",
      "X does not have valid feature names, but KNeighborsClassifier was fitted with feature names\n",
      "\n",
      "d:\\Nahid-Capston\\Capstone_2\\.venv\\Lib\\site-packages\\sklearn\\base.py:493: UserWarning:\n",
      "\n",
      "X does not have valid feature names, but KNeighborsClassifier was fitted with feature names\n",
      "\n",
      "d:\\Nahid-Capston\\Capstone_2\\.venv\\Lib\\site-packages\\sklearn\\base.py:493: UserWarning:\n",
      "\n",
      "X does not have valid feature names, but KNeighborsClassifier was fitted with feature names\n",
      "\n",
      "d:\\Nahid-Capston\\Capstone_2\\.venv\\Lib\\site-packages\\sklearn\\base.py:493: UserWarning:\n",
      "\n",
      "X does not have valid feature names, but KNeighborsClassifier was fitted with feature names\n",
      "\n",
      "d:\\Nahid-Capston\\Capstone_2\\.venv\\Lib\\site-packages\\sklearn\\base.py:493: UserWarning:\n",
      "\n",
      "X does not have valid feature names, but KNeighborsClassifier was fitted with feature names\n",
      "\n",
      "d:\\Nahid-Capston\\Capstone_2\\.venv\\Lib\\site-packages\\sklearn\\base.py:493: UserWarning:\n",
      "\n",
      "X does not have valid feature names, but KNeighborsClassifier was fitted with feature names\n",
      "\n",
      "d:\\Nahid-Capston\\Capstone_2\\.venv\\Lib\\site-packages\\sklearn\\base.py:493: UserWarning:\n",
      "\n",
      "X does not have valid feature names, but KNeighborsClassifier was fitted with feature names\n",
      "\n",
      "d:\\Nahid-Capston\\Capstone_2\\.venv\\Lib\\site-packages\\sklearn\\base.py:493: UserWarning:\n",
      "\n",
      "X does not have valid feature names, but KNeighborsClassifier was fitted with feature names\n",
      "\n",
      "d:\\Nahid-Capston\\Capstone_2\\.venv\\Lib\\site-packages\\sklearn\\base.py:493: UserWarning:\n",
      "\n",
      "X does not have valid feature names, but KNeighborsClassifier was fitted with feature names\n",
      "\n",
      "d:\\Nahid-Capston\\Capstone_2\\.venv\\Lib\\site-packages\\sklearn\\base.py:493: UserWarning:\n",
      "\n",
      "X does not have valid feature names, but KNeighborsClassifier was fitted with feature names\n",
      "\n",
      "d:\\Nahid-Capston\\Capstone_2\\.venv\\Lib\\site-packages\\sklearn\\base.py:493: UserWarning:\n",
      "\n",
      "X does not have valid feature names, but KNeighborsClassifier was fitted with feature names\n",
      "\n",
      "d:\\Nahid-Capston\\Capstone_2\\.venv\\Lib\\site-packages\\sklearn\\base.py:493: UserWarning:\n",
      "\n",
      "X does not have valid feature names, but KNeighborsClassifier was fitted with feature names\n",
      "\n",
      "d:\\Nahid-Capston\\Capstone_2\\.venv\\Lib\\site-packages\\sklearn\\base.py:493: UserWarning:\n",
      "\n",
      "X does not have valid feature names, but KNeighborsClassifier was fitted with feature names\n",
      "\n",
      "d:\\Nahid-Capston\\Capstone_2\\.venv\\Lib\\site-packages\\sklearn\\base.py:493: UserWarning:\n",
      "\n",
      "X does not have valid feature names, but KNeighborsClassifier was fitted with feature names\n",
      "\n",
      "d:\\Nahid-Capston\\Capstone_2\\.venv\\Lib\\site-packages\\sklearn\\base.py:493: UserWarning:\n",
      "\n",
      "X does not have valid feature names, but KNeighborsClassifier was fitted with feature names\n",
      "\n",
      "d:\\Nahid-Capston\\Capstone_2\\.venv\\Lib\\site-packages\\sklearn\\base.py:493: UserWarning:\n",
      "\n",
      "X does not have valid feature names, but KNeighborsClassifier was fitted with feature names\n",
      "\n",
      "d:\\Nahid-Capston\\Capstone_2\\.venv\\Lib\\site-packages\\sklearn\\base.py:493: UserWarning:\n",
      "\n",
      "X does not have valid feature names, but KNeighborsClassifier was fitted with feature names\n",
      "\n",
      "d:\\Nahid-Capston\\Capstone_2\\.venv\\Lib\\site-packages\\sklearn\\base.py:493: UserWarning:\n",
      "\n",
      "X does not have valid feature names, but KNeighborsClassifier was fitted with feature names\n",
      "\n",
      "d:\\Nahid-Capston\\Capstone_2\\.venv\\Lib\\site-packages\\sklearn\\base.py:493: UserWarning:\n",
      "\n",
      "X does not have valid feature names, but KNeighborsClassifier was fitted with feature names\n",
      "\n",
      "d:\\Nahid-Capston\\Capstone_2\\.venv\\Lib\\site-packages\\sklearn\\base.py:493: UserWarning:\n",
      "\n",
      "X does not have valid feature names, but KNeighborsClassifier was fitted with feature names\n",
      "\n",
      "d:\\Nahid-Capston\\Capstone_2\\.venv\\Lib\\site-packages\\sklearn\\base.py:493: UserWarning:\n",
      "\n",
      "X does not have valid feature names, but KNeighborsClassifier was fitted with feature names\n",
      "\n",
      "d:\\Nahid-Capston\\Capstone_2\\.venv\\Lib\\site-packages\\sklearn\\base.py:493: UserWarning:\n",
      "\n",
      "X does not have valid feature names, but KNeighborsClassifier was fitted with feature names\n",
      "\n",
      "d:\\Nahid-Capston\\Capstone_2\\.venv\\Lib\\site-packages\\sklearn\\base.py:493: UserWarning:\n",
      "\n",
      "X does not have valid feature names, but KNeighborsClassifier was fitted with feature names\n",
      "\n",
      "d:\\Nahid-Capston\\Capstone_2\\.venv\\Lib\\site-packages\\sklearn\\base.py:493: UserWarning:\n",
      "\n",
      "X does not have valid feature names, but KNeighborsClassifier was fitted with feature names\n",
      "\n",
      "d:\\Nahid-Capston\\Capstone_2\\.venv\\Lib\\site-packages\\sklearn\\base.py:493: UserWarning:\n",
      "\n",
      "X does not have valid feature names, but KNeighborsClassifier was fitted with feature names\n",
      "\n",
      "d:\\Nahid-Capston\\Capstone_2\\.venv\\Lib\\site-packages\\sklearn\\base.py:493: UserWarning:\n",
      "\n",
      "X does not have valid feature names, but KNeighborsClassifier was fitted with feature names\n",
      "\n",
      "d:\\Nahid-Capston\\Capstone_2\\.venv\\Lib\\site-packages\\sklearn\\base.py:493: UserWarning:\n",
      "\n",
      "X does not have valid feature names, but KNeighborsClassifier was fitted with feature names\n",
      "\n",
      "d:\\Nahid-Capston\\Capstone_2\\.venv\\Lib\\site-packages\\sklearn\\base.py:493: UserWarning:\n",
      "\n",
      "X does not have valid feature names, but KNeighborsClassifier was fitted with feature names\n",
      "\n",
      "d:\\Nahid-Capston\\Capstone_2\\.venv\\Lib\\site-packages\\sklearn\\base.py:493: UserWarning:\n",
      "\n",
      "X does not have valid feature names, but KNeighborsClassifier was fitted with feature names\n",
      "\n",
      "d:\\Nahid-Capston\\Capstone_2\\.venv\\Lib\\site-packages\\sklearn\\base.py:493: UserWarning:\n",
      "\n",
      "X does not have valid feature names, but KNeighborsClassifier was fitted with feature names\n",
      "\n",
      "d:\\Nahid-Capston\\Capstone_2\\.venv\\Lib\\site-packages\\sklearn\\base.py:493: UserWarning:\n",
      "\n",
      "X does not have valid feature names, but KNeighborsClassifier was fitted with feature names\n",
      "\n",
      "d:\\Nahid-Capston\\Capstone_2\\.venv\\Lib\\site-packages\\sklearn\\base.py:493: UserWarning:\n",
      "\n",
      "X does not have valid feature names, but KNeighborsClassifier was fitted with feature names\n",
      "\n",
      "d:\\Nahid-Capston\\Capstone_2\\.venv\\Lib\\site-packages\\sklearn\\base.py:493: UserWarning:\n",
      "\n",
      "X does not have valid feature names, but KNeighborsClassifier was fitted with feature names\n",
      "\n",
      "d:\\Nahid-Capston\\Capstone_2\\.venv\\Lib\\site-packages\\sklearn\\base.py:493: UserWarning:\n",
      "\n",
      "X does not have valid feature names, but KNeighborsClassifier was fitted with feature names\n",
      "\n",
      "d:\\Nahid-Capston\\Capstone_2\\.venv\\Lib\\site-packages\\sklearn\\base.py:493: UserWarning:\n",
      "\n",
      "X does not have valid feature names, but KNeighborsClassifier was fitted with feature names\n",
      "\n",
      "d:\\Nahid-Capston\\Capstone_2\\.venv\\Lib\\site-packages\\sklearn\\base.py:493: UserWarning:\n",
      "\n",
      "X does not have valid feature names, but KNeighborsClassifier was fitted with feature names\n",
      "\n",
      "d:\\Nahid-Capston\\Capstone_2\\.venv\\Lib\\site-packages\\sklearn\\base.py:493: UserWarning:\n",
      "\n",
      "X does not have valid feature names, but KNeighborsClassifier was fitted with feature names\n",
      "\n",
      "d:\\Nahid-Capston\\Capstone_2\\.venv\\Lib\\site-packages\\sklearn\\base.py:493: UserWarning:\n",
      "\n",
      "X does not have valid feature names, but KNeighborsClassifier was fitted with feature names\n",
      "\n",
      "d:\\Nahid-Capston\\Capstone_2\\.venv\\Lib\\site-packages\\sklearn\\base.py:493: UserWarning:\n",
      "\n",
      "X does not have valid feature names, but KNeighborsClassifier was fitted with feature names\n",
      "\n",
      "d:\\Nahid-Capston\\Capstone_2\\.venv\\Lib\\site-packages\\sklearn\\base.py:493: UserWarning:\n",
      "\n",
      "X does not have valid feature names, but KNeighborsClassifier was fitted with feature names\n",
      "\n",
      "d:\\Nahid-Capston\\Capstone_2\\.venv\\Lib\\site-packages\\sklearn\\base.py:493: UserWarning:\n",
      "\n",
      "X does not have valid feature names, but KNeighborsClassifier was fitted with feature names\n",
      "\n",
      "d:\\Nahid-Capston\\Capstone_2\\.venv\\Lib\\site-packages\\sklearn\\base.py:493: UserWarning:\n",
      "\n",
      "X does not have valid feature names, but KNeighborsClassifier was fitted with feature names\n",
      "\n",
      "d:\\Nahid-Capston\\Capstone_2\\.venv\\Lib\\site-packages\\sklearn\\base.py:493: UserWarning:\n",
      "\n",
      "X does not have valid feature names, but KNeighborsClassifier was fitted with feature names\n",
      "\n",
      "d:\\Nahid-Capston\\Capstone_2\\.venv\\Lib\\site-packages\\sklearn\\base.py:493: UserWarning:\n",
      "\n",
      "X does not have valid feature names, but KNeighborsClassifier was fitted with feature names\n",
      "\n",
      "d:\\Nahid-Capston\\Capstone_2\\.venv\\Lib\\site-packages\\sklearn\\base.py:493: UserWarning:\n",
      "\n",
      "X does not have valid feature names, but KNeighborsClassifier was fitted with feature names\n",
      "\n",
      "d:\\Nahid-Capston\\Capstone_2\\.venv\\Lib\\site-packages\\sklearn\\base.py:493: UserWarning:\n",
      "\n",
      "X does not have valid feature names, but KNeighborsClassifier was fitted with feature names\n",
      "\n",
      "d:\\Nahid-Capston\\Capstone_2\\.venv\\Lib\\site-packages\\sklearn\\base.py:493: UserWarning:\n",
      "\n",
      "X does not have valid feature names, but KNeighborsClassifier was fitted with feature names\n",
      "\n",
      "d:\\Nahid-Capston\\Capstone_2\\.venv\\Lib\\site-packages\\sklearn\\base.py:493: UserWarning:\n",
      "\n",
      "X does not have valid feature names, but KNeighborsClassifier was fitted with feature names\n",
      "\n",
      "d:\\Nahid-Capston\\Capstone_2\\.venv\\Lib\\site-packages\\sklearn\\base.py:493: UserWarning:\n",
      "\n",
      "X does not have valid feature names, but KNeighborsClassifier was fitted with feature names\n",
      "\n",
      "d:\\Nahid-Capston\\Capstone_2\\.venv\\Lib\\site-packages\\sklearn\\base.py:493: UserWarning:\n",
      "\n",
      "X does not have valid feature names, but KNeighborsClassifier was fitted with feature names\n",
      "\n",
      "d:\\Nahid-Capston\\Capstone_2\\.venv\\Lib\\site-packages\\sklearn\\base.py:493: UserWarning:\n",
      "\n",
      "X does not have valid feature names, but KNeighborsClassifier was fitted with feature names\n",
      "\n",
      "d:\\Nahid-Capston\\Capstone_2\\.venv\\Lib\\site-packages\\sklearn\\base.py:493: UserWarning:\n",
      "\n",
      "X does not have valid feature names, but KNeighborsClassifier was fitted with feature names\n",
      "\n",
      "d:\\Nahid-Capston\\Capstone_2\\.venv\\Lib\\site-packages\\sklearn\\base.py:493: UserWarning:\n",
      "\n",
      "X does not have valid feature names, but KNeighborsClassifier was fitted with feature names\n",
      "\n",
      "d:\\Nahid-Capston\\Capstone_2\\.venv\\Lib\\site-packages\\sklearn\\base.py:493: UserWarning:\n",
      "\n",
      "X does not have valid feature names, but KNeighborsClassifier was fitted with feature names\n",
      "\n",
      "d:\\Nahid-Capston\\Capstone_2\\.venv\\Lib\\site-packages\\sklearn\\base.py:493: UserWarning:\n",
      "\n",
      "X does not have valid feature names, but KNeighborsClassifier was fitted with feature names\n",
      "\n",
      "d:\\Nahid-Capston\\Capstone_2\\.venv\\Lib\\site-packages\\sklearn\\base.py:493: UserWarning:\n",
      "\n",
      "X does not have valid feature names, but KNeighborsClassifier was fitted with feature names\n",
      "\n",
      "d:\\Nahid-Capston\\Capstone_2\\.venv\\Lib\\site-packages\\sklearn\\base.py:493: UserWarning:\n",
      "\n",
      "X does not have valid feature names, but KNeighborsClassifier was fitted with feature names\n",
      "\n",
      "d:\\Nahid-Capston\\Capstone_2\\.venv\\Lib\\site-packages\\sklearn\\base.py:493: UserWarning:\n",
      "\n",
      "X does not have valid feature names, but KNeighborsClassifier was fitted with feature names\n",
      "\n",
      "d:\\Nahid-Capston\\Capstone_2\\.venv\\Lib\\site-packages\\sklearn\\base.py:493: UserWarning:\n",
      "\n",
      "X does not have valid feature names, but KNeighborsClassifier was fitted with feature names\n",
      "\n",
      "d:\\Nahid-Capston\\Capstone_2\\.venv\\Lib\\site-packages\\sklearn\\base.py:493: UserWarning:\n",
      "\n",
      "X does not have valid feature names, but KNeighborsClassifier was fitted with feature names\n",
      "\n",
      "d:\\Nahid-Capston\\Capstone_2\\.venv\\Lib\\site-packages\\sklearn\\base.py:493: UserWarning:\n",
      "\n",
      "X does not have valid feature names, but KNeighborsClassifier was fitted with feature names\n",
      "\n",
      "d:\\Nahid-Capston\\Capstone_2\\.venv\\Lib\\site-packages\\sklearn\\base.py:493: UserWarning:\n",
      "\n",
      "X does not have valid feature names, but KNeighborsClassifier was fitted with feature names\n",
      "\n",
      "d:\\Nahid-Capston\\Capstone_2\\.venv\\Lib\\site-packages\\sklearn\\base.py:493: UserWarning:\n",
      "\n",
      "X does not have valid feature names, but KNeighborsClassifier was fitted with feature names\n",
      "\n",
      "d:\\Nahid-Capston\\Capstone_2\\.venv\\Lib\\site-packages\\sklearn\\base.py:493: UserWarning:\n",
      "\n",
      "X does not have valid feature names, but KNeighborsClassifier was fitted with feature names\n",
      "\n",
      "d:\\Nahid-Capston\\Capstone_2\\.venv\\Lib\\site-packages\\sklearn\\base.py:493: UserWarning:\n",
      "\n",
      "X does not have valid feature names, but KNeighborsClassifier was fitted with feature names\n",
      "\n",
      "d:\\Nahid-Capston\\Capstone_2\\.venv\\Lib\\site-packages\\sklearn\\base.py:493: UserWarning:\n",
      "\n",
      "X does not have valid feature names, but KNeighborsClassifier was fitted with feature names\n",
      "\n",
      "d:\\Nahid-Capston\\Capstone_2\\.venv\\Lib\\site-packages\\sklearn\\base.py:493: UserWarning:\n",
      "\n",
      "X does not have valid feature names, but KNeighborsClassifier was fitted with feature names\n",
      "\n",
      "d:\\Nahid-Capston\\Capstone_2\\.venv\\Lib\\site-packages\\sklearn\\base.py:493: UserWarning:\n",
      "\n",
      "X does not have valid feature names, but KNeighborsClassifier was fitted with feature names\n",
      "\n",
      "d:\\Nahid-Capston\\Capstone_2\\.venv\\Lib\\site-packages\\sklearn\\base.py:493: UserWarning:\n",
      "\n",
      "X does not have valid feature names, but KNeighborsClassifier was fitted with feature names\n",
      "\n",
      "d:\\Nahid-Capston\\Capstone_2\\.venv\\Lib\\site-packages\\sklearn\\base.py:493: UserWarning:\n",
      "\n",
      "X does not have valid feature names, but KNeighborsClassifier was fitted with feature names\n",
      "\n",
      "d:\\Nahid-Capston\\Capstone_2\\.venv\\Lib\\site-packages\\sklearn\\base.py:493: UserWarning:\n",
      "\n",
      "X does not have valid feature names, but KNeighborsClassifier was fitted with feature names\n",
      "\n",
      "d:\\Nahid-Capston\\Capstone_2\\.venv\\Lib\\site-packages\\sklearn\\base.py:493: UserWarning:\n",
      "\n",
      "X does not have valid feature names, but KNeighborsClassifier was fitted with feature names\n",
      "\n",
      "d:\\Nahid-Capston\\Capstone_2\\.venv\\Lib\\site-packages\\sklearn\\base.py:493: UserWarning:\n",
      "\n",
      "X does not have valid feature names, but KNeighborsClassifier was fitted with feature names\n",
      "\n",
      "d:\\Nahid-Capston\\Capstone_2\\.venv\\Lib\\site-packages\\sklearn\\base.py:493: UserWarning:\n",
      "\n",
      "X does not have valid feature names, but KNeighborsClassifier was fitted with feature names\n",
      "\n",
      "d:\\Nahid-Capston\\Capstone_2\\.venv\\Lib\\site-packages\\sklearn\\base.py:493: UserWarning:\n",
      "\n",
      "X does not have valid feature names, but KNeighborsClassifier was fitted with feature names\n",
      "\n",
      "d:\\Nahid-Capston\\Capstone_2\\.venv\\Lib\\site-packages\\sklearn\\base.py:493: UserWarning:\n",
      "\n",
      "X does not have valid feature names, but KNeighborsClassifier was fitted with feature names\n",
      "\n",
      "d:\\Nahid-Capston\\Capstone_2\\.venv\\Lib\\site-packages\\sklearn\\base.py:493: UserWarning:\n",
      "\n",
      "X does not have valid feature names, but KNeighborsClassifier was fitted with feature names\n",
      "\n",
      "d:\\Nahid-Capston\\Capstone_2\\.venv\\Lib\\site-packages\\sklearn\\base.py:493: UserWarning:\n",
      "\n",
      "X does not have valid feature names, but KNeighborsClassifier was fitted with feature names\n",
      "\n",
      "d:\\Nahid-Capston\\Capstone_2\\.venv\\Lib\\site-packages\\sklearn\\base.py:493: UserWarning:\n",
      "\n",
      "X does not have valid feature names, but KNeighborsClassifier was fitted with feature names\n",
      "\n",
      "d:\\Nahid-Capston\\Capstone_2\\.venv\\Lib\\site-packages\\sklearn\\base.py:493: UserWarning:\n",
      "\n",
      "X does not have valid feature names, but KNeighborsClassifier was fitted with feature names\n",
      "\n",
      "d:\\Nahid-Capston\\Capstone_2\\.venv\\Lib\\site-packages\\sklearn\\base.py:493: UserWarning:\n",
      "\n",
      "X does not have valid feature names, but KNeighborsClassifier was fitted with feature names\n",
      "\n",
      "d:\\Nahid-Capston\\Capstone_2\\.venv\\Lib\\site-packages\\sklearn\\base.py:493: UserWarning:\n",
      "\n",
      "X does not have valid feature names, but KNeighborsClassifier was fitted with feature names\n",
      "\n",
      "d:\\Nahid-Capston\\Capstone_2\\.venv\\Lib\\site-packages\\sklearn\\base.py:493: UserWarning:\n",
      "\n",
      "X does not have valid feature names, but KNeighborsClassifier was fitted with feature names\n",
      "\n",
      "d:\\Nahid-Capston\\Capstone_2\\.venv\\Lib\\site-packages\\sklearn\\base.py:493: UserWarning:\n",
      "\n",
      "X does not have valid feature names, but KNeighborsClassifier was fitted with feature names\n",
      "\n",
      "d:\\Nahid-Capston\\Capstone_2\\.venv\\Lib\\site-packages\\sklearn\\base.py:493: UserWarning:\n",
      "\n",
      "X does not have valid feature names, but KNeighborsClassifier was fitted with feature names\n",
      "\n",
      "d:\\Nahid-Capston\\Capstone_2\\.venv\\Lib\\site-packages\\sklearn\\base.py:493: UserWarning:\n",
      "\n",
      "X does not have valid feature names, but KNeighborsClassifier was fitted with feature names\n",
      "\n",
      "d:\\Nahid-Capston\\Capstone_2\\.venv\\Lib\\site-packages\\sklearn\\base.py:493: UserWarning:\n",
      "\n",
      "X does not have valid feature names, but KNeighborsClassifier was fitted with feature names\n",
      "\n",
      "d:\\Nahid-Capston\\Capstone_2\\.venv\\Lib\\site-packages\\sklearn\\base.py:493: UserWarning:\n",
      "\n",
      "X does not have valid feature names, but KNeighborsClassifier was fitted with feature names\n",
      "\n",
      "d:\\Nahid-Capston\\Capstone_2\\.venv\\Lib\\site-packages\\sklearn\\base.py:493: UserWarning:\n",
      "\n",
      "X does not have valid feature names, but KNeighborsClassifier was fitted with feature names\n",
      "\n",
      "d:\\Nahid-Capston\\Capstone_2\\.venv\\Lib\\site-packages\\sklearn\\base.py:493: UserWarning:\n",
      "\n",
      "X does not have valid feature names, but KNeighborsClassifier was fitted with feature names\n",
      "\n",
      "d:\\Nahid-Capston\\Capstone_2\\.venv\\Lib\\site-packages\\sklearn\\base.py:493: UserWarning:\n",
      "\n",
      "X does not have valid feature names, but KNeighborsClassifier was fitted with feature names\n",
      "\n",
      "d:\\Nahid-Capston\\Capstone_2\\.venv\\Lib\\site-packages\\sklearn\\base.py:493: UserWarning:\n",
      "\n",
      "X does not have valid feature names, but KNeighborsClassifier was fitted with feature names\n",
      "\n",
      "d:\\Nahid-Capston\\Capstone_2\\.venv\\Lib\\site-packages\\sklearn\\base.py:493: UserWarning:\n",
      "\n",
      "X does not have valid feature names, but KNeighborsClassifier was fitted with feature names\n",
      "\n",
      "d:\\Nahid-Capston\\Capstone_2\\.venv\\Lib\\site-packages\\sklearn\\base.py:493: UserWarning:\n",
      "\n",
      "X does not have valid feature names, but KNeighborsClassifier was fitted with feature names\n",
      "\n",
      "d:\\Nahid-Capston\\Capstone_2\\.venv\\Lib\\site-packages\\sklearn\\base.py:493: UserWarning:\n",
      "\n",
      "X does not have valid feature names, but KNeighborsClassifier was fitted with feature names\n",
      "\n",
      "d:\\Nahid-Capston\\Capstone_2\\.venv\\Lib\\site-packages\\sklearn\\base.py:493: UserWarning:\n",
      "\n",
      "X does not have valid feature names, but KNeighborsClassifier was fitted with feature names\n",
      "\n",
      "d:\\Nahid-Capston\\Capstone_2\\.venv\\Lib\\site-packages\\sklearn\\base.py:493: UserWarning:\n",
      "\n",
      "X does not have valid feature names, but KNeighborsClassifier was fitted with feature names\n",
      "\n",
      "d:\\Nahid-Capston\\Capstone_2\\.venv\\Lib\\site-packages\\sklearn\\base.py:493: UserWarning:\n",
      "\n",
      "X does not have valid feature names, but KNeighborsClassifier was fitted with feature names\n",
      "\n",
      "d:\\Nahid-Capston\\Capstone_2\\.venv\\Lib\\site-packages\\sklearn\\base.py:493: UserWarning:\n",
      "\n",
      "X does not have valid feature names, but KNeighborsClassifier was fitted with feature names\n",
      "\n",
      "d:\\Nahid-Capston\\Capstone_2\\.venv\\Lib\\site-packages\\sklearn\\base.py:493: UserWarning:\n",
      "\n",
      "X does not have valid feature names, but KNeighborsClassifier was fitted with feature names\n",
      "\n",
      "d:\\Nahid-Capston\\Capstone_2\\.venv\\Lib\\site-packages\\sklearn\\base.py:493: UserWarning:\n",
      "\n",
      "X does not have valid feature names, but KNeighborsClassifier was fitted with feature names\n",
      "\n",
      "d:\\Nahid-Capston\\Capstone_2\\.venv\\Lib\\site-packages\\sklearn\\base.py:493: UserWarning:\n",
      "\n",
      "X does not have valid feature names, but KNeighborsClassifier was fitted with feature names\n",
      "\n",
      "d:\\Nahid-Capston\\Capstone_2\\.venv\\Lib\\site-packages\\sklearn\\base.py:493: UserWarning:\n",
      "\n",
      "X does not have valid feature names, but KNeighborsClassifier was fitted with feature names\n",
      "\n",
      "d:\\Nahid-Capston\\Capstone_2\\.venv\\Lib\\site-packages\\sklearn\\base.py:493: UserWarning:\n",
      "\n",
      "X does not have valid feature names, but KNeighborsClassifier was fitted with feature names\n",
      "\n",
      "d:\\Nahid-Capston\\Capstone_2\\.venv\\Lib\\site-packages\\sklearn\\base.py:493: UserWarning:\n",
      "\n",
      "X does not have valid feature names, but KNeighborsClassifier was fitted with feature names\n",
      "\n",
      "d:\\Nahid-Capston\\Capstone_2\\.venv\\Lib\\site-packages\\sklearn\\base.py:493: UserWarning:\n",
      "\n",
      "X does not have valid feature names, but KNeighborsClassifier was fitted with feature names\n",
      "\n",
      "d:\\Nahid-Capston\\Capstone_2\\.venv\\Lib\\site-packages\\sklearn\\base.py:493: UserWarning:\n",
      "\n",
      "X does not have valid feature names, but KNeighborsClassifier was fitted with feature names\n",
      "\n",
      "d:\\Nahid-Capston\\Capstone_2\\.venv\\Lib\\site-packages\\sklearn\\base.py:493: UserWarning:\n",
      "\n",
      "X does not have valid feature names, but KNeighborsClassifier was fitted with feature names\n",
      "\n",
      "d:\\Nahid-Capston\\Capstone_2\\.venv\\Lib\\site-packages\\sklearn\\base.py:493: UserWarning:\n",
      "\n",
      "X does not have valid feature names, but KNeighborsClassifier was fitted with feature names\n",
      "\n",
      "d:\\Nahid-Capston\\Capstone_2\\.venv\\Lib\\site-packages\\sklearn\\base.py:493: UserWarning:\n",
      "\n",
      "X does not have valid feature names, but KNeighborsClassifier was fitted with feature names\n",
      "\n",
      "d:\\Nahid-Capston\\Capstone_2\\.venv\\Lib\\site-packages\\sklearn\\base.py:493: UserWarning:\n",
      "\n",
      "X does not have valid feature names, but KNeighborsClassifier was fitted with feature names\n",
      "\n",
      "d:\\Nahid-Capston\\Capstone_2\\.venv\\Lib\\site-packages\\sklearn\\base.py:493: UserWarning:\n",
      "\n",
      "X does not have valid feature names, but KNeighborsClassifier was fitted with feature names\n",
      "\n",
      "d:\\Nahid-Capston\\Capstone_2\\.venv\\Lib\\site-packages\\sklearn\\base.py:493: UserWarning:\n",
      "\n",
      "X does not have valid feature names, but KNeighborsClassifier was fitted with feature names\n",
      "\n",
      "d:\\Nahid-Capston\\Capstone_2\\.venv\\Lib\\site-packages\\sklearn\\base.py:493: UserWarning:\n",
      "\n",
      "X does not have valid feature names, but KNeighborsClassifier was fitted with feature names\n",
      "\n",
      "d:\\Nahid-Capston\\Capstone_2\\.venv\\Lib\\site-packages\\sklearn\\base.py:493: UserWarning:\n",
      "\n",
      "X does not have valid feature names, but KNeighborsClassifier was fitted with feature names\n",
      "\n",
      "d:\\Nahid-Capston\\Capstone_2\\.venv\\Lib\\site-packages\\sklearn\\base.py:493: UserWarning:\n",
      "\n",
      "X does not have valid feature names, but KNeighborsClassifier was fitted with feature names\n",
      "\n",
      "d:\\Nahid-Capston\\Capstone_2\\.venv\\Lib\\site-packages\\sklearn\\base.py:493: UserWarning:\n",
      "\n",
      "X does not have valid feature names, but KNeighborsClassifier was fitted with feature names\n",
      "\n",
      "d:\\Nahid-Capston\\Capstone_2\\.venv\\Lib\\site-packages\\sklearn\\base.py:493: UserWarning:\n",
      "\n",
      "X does not have valid feature names, but KNeighborsClassifier was fitted with feature names\n",
      "\n",
      "d:\\Nahid-Capston\\Capstone_2\\.venv\\Lib\\site-packages\\sklearn\\base.py:493: UserWarning:\n",
      "\n",
      "X does not have valid feature names, but KNeighborsClassifier was fitted with feature names\n",
      "\n",
      "d:\\Nahid-Capston\\Capstone_2\\.venv\\Lib\\site-packages\\sklearn\\base.py:493: UserWarning:\n",
      "\n",
      "X does not have valid feature names, but KNeighborsClassifier was fitted with feature names\n",
      "\n",
      "d:\\Nahid-Capston\\Capstone_2\\.venv\\Lib\\site-packages\\sklearn\\base.py:493: UserWarning:\n",
      "\n",
      "X does not have valid feature names, but KNeighborsClassifier was fitted with feature names\n",
      "\n",
      "d:\\Nahid-Capston\\Capstone_2\\.venv\\Lib\\site-packages\\sklearn\\base.py:493: UserWarning:\n",
      "\n",
      "X does not have valid feature names, but KNeighborsClassifier was fitted with feature names\n",
      "\n",
      "d:\\Nahid-Capston\\Capstone_2\\.venv\\Lib\\site-packages\\sklearn\\base.py:493: UserWarning:\n",
      "\n",
      "X does not have valid feature names, but KNeighborsClassifier was fitted with feature names\n",
      "\n",
      "d:\\Nahid-Capston\\Capstone_2\\.venv\\Lib\\site-packages\\sklearn\\base.py:493: UserWarning:\n",
      "\n",
      "X does not have valid feature names, but KNeighborsClassifier was fitted with feature names\n",
      "\n",
      "d:\\Nahid-Capston\\Capstone_2\\.venv\\Lib\\site-packages\\sklearn\\base.py:493: UserWarning:\n",
      "\n",
      "X does not have valid feature names, but KNeighborsClassifier was fitted with feature names\n",
      "\n",
      "d:\\Nahid-Capston\\Capstone_2\\.venv\\Lib\\site-packages\\sklearn\\base.py:493: UserWarning:\n",
      "\n",
      "X does not have valid feature names, but KNeighborsClassifier was fitted with feature names\n",
      "\n",
      "d:\\Nahid-Capston\\Capstone_2\\.venv\\Lib\\site-packages\\sklearn\\base.py:493: UserWarning:\n",
      "\n",
      "X does not have valid feature names, but KNeighborsClassifier was fitted with feature names\n",
      "\n",
      "d:\\Nahid-Capston\\Capstone_2\\.venv\\Lib\\site-packages\\sklearn\\base.py:493: UserWarning:\n",
      "\n",
      "X does not have valid feature names, but KNeighborsClassifier was fitted with feature names\n",
      "\n",
      "d:\\Nahid-Capston\\Capstone_2\\.venv\\Lib\\site-packages\\sklearn\\base.py:493: UserWarning:\n",
      "\n",
      "X does not have valid feature names, but KNeighborsClassifier was fitted with feature names\n",
      "\n",
      "d:\\Nahid-Capston\\Capstone_2\\.venv\\Lib\\site-packages\\sklearn\\base.py:493: UserWarning:\n",
      "\n",
      "X does not have valid feature names, but KNeighborsClassifier was fitted with feature names\n",
      "\n",
      "d:\\Nahid-Capston\\Capstone_2\\.venv\\Lib\\site-packages\\sklearn\\base.py:493: UserWarning:\n",
      "\n",
      "X does not have valid feature names, but KNeighborsClassifier was fitted with feature names\n",
      "\n",
      "d:\\Nahid-Capston\\Capstone_2\\.venv\\Lib\\site-packages\\sklearn\\base.py:493: UserWarning:\n",
      "\n",
      "X does not have valid feature names, but KNeighborsClassifier was fitted with feature names\n",
      "\n",
      "d:\\Nahid-Capston\\Capstone_2\\.venv\\Lib\\site-packages\\sklearn\\base.py:493: UserWarning:\n",
      "\n",
      "X does not have valid feature names, but KNeighborsClassifier was fitted with feature names\n",
      "\n",
      "d:\\Nahid-Capston\\Capstone_2\\.venv\\Lib\\site-packages\\sklearn\\base.py:493: UserWarning:\n",
      "\n",
      "X does not have valid feature names, but KNeighborsClassifier was fitted with feature names\n",
      "\n",
      "d:\\Nahid-Capston\\Capstone_2\\.venv\\Lib\\site-packages\\sklearn\\base.py:493: UserWarning:\n",
      "\n",
      "X does not have valid feature names, but KNeighborsClassifier was fitted with feature names\n",
      "\n",
      "d:\\Nahid-Capston\\Capstone_2\\.venv\\Lib\\site-packages\\sklearn\\base.py:493: UserWarning:\n",
      "\n",
      "X does not have valid feature names, but KNeighborsClassifier was fitted with feature names\n",
      "\n",
      "d:\\Nahid-Capston\\Capstone_2\\.venv\\Lib\\site-packages\\sklearn\\base.py:493: UserWarning:\n",
      "\n",
      "X does not have valid feature names, but KNeighborsClassifier was fitted with feature names\n",
      "\n",
      "d:\\Nahid-Capston\\Capstone_2\\.venv\\Lib\\site-packages\\sklearn\\base.py:493: UserWarning:\n",
      "\n",
      "X does not have valid feature names, but KNeighborsClassifier was fitted with feature names\n",
      "\n",
      "d:\\Nahid-Capston\\Capstone_2\\.venv\\Lib\\site-packages\\sklearn\\base.py:493: UserWarning:\n",
      "\n",
      "X does not have valid feature names, but KNeighborsClassifier was fitted with feature names\n",
      "\n",
      "d:\\Nahid-Capston\\Capstone_2\\.venv\\Lib\\site-packages\\sklearn\\base.py:493: UserWarning:\n",
      "\n",
      "X does not have valid feature names, but KNeighborsClassifier was fitted with feature names\n",
      "\n",
      "d:\\Nahid-Capston\\Capstone_2\\.venv\\Lib\\site-packages\\sklearn\\base.py:493: UserWarning:\n",
      "\n",
      "X does not have valid feature names, but KNeighborsClassifier was fitted with feature names\n",
      "\n",
      "d:\\Nahid-Capston\\Capstone_2\\.venv\\Lib\\site-packages\\sklearn\\base.py:493: UserWarning:\n",
      "\n",
      "X does not have valid feature names, but KNeighborsClassifier was fitted with feature names\n",
      "\n",
      "d:\\Nahid-Capston\\Capstone_2\\.venv\\Lib\\site-packages\\sklearn\\base.py:493: UserWarning:\n",
      "\n",
      "X does not have valid feature names, but KNeighborsClassifier was fitted with feature names\n",
      "\n",
      "d:\\Nahid-Capston\\Capstone_2\\.venv\\Lib\\site-packages\\sklearn\\base.py:493: UserWarning:\n",
      "\n",
      "X does not have valid feature names, but KNeighborsClassifier was fitted with feature names\n",
      "\n",
      "d:\\Nahid-Capston\\Capstone_2\\.venv\\Lib\\site-packages\\sklearn\\base.py:493: UserWarning:\n",
      "\n",
      "X does not have valid feature names, but KNeighborsClassifier was fitted with feature names\n",
      "\n",
      "d:\\Nahid-Capston\\Capstone_2\\.venv\\Lib\\site-packages\\sklearn\\base.py:493: UserWarning:\n",
      "\n",
      "X does not have valid feature names, but KNeighborsClassifier was fitted with feature names\n",
      "\n",
      "d:\\Nahid-Capston\\Capstone_2\\.venv\\Lib\\site-packages\\sklearn\\base.py:493: UserWarning:\n",
      "\n",
      "X does not have valid feature names, but KNeighborsClassifier was fitted with feature names\n",
      "\n",
      "d:\\Nahid-Capston\\Capstone_2\\.venv\\Lib\\site-packages\\sklearn\\base.py:493: UserWarning:\n",
      "\n",
      "X does not have valid feature names, but KNeighborsClassifier was fitted with feature names\n",
      "\n",
      "d:\\Nahid-Capston\\Capstone_2\\.venv\\Lib\\site-packages\\sklearn\\base.py:493: UserWarning:\n",
      "\n",
      "X does not have valid feature names, but KNeighborsClassifier was fitted with feature names\n",
      "\n",
      "d:\\Nahid-Capston\\Capstone_2\\.venv\\Lib\\site-packages\\sklearn\\base.py:493: UserWarning:\n",
      "\n",
      "X does not have valid feature names, but KNeighborsClassifier was fitted with feature names\n",
      "\n",
      "d:\\Nahid-Capston\\Capstone_2\\.venv\\Lib\\site-packages\\sklearn\\base.py:493: UserWarning:\n",
      "\n",
      "X does not have valid feature names, but KNeighborsClassifier was fitted with feature names\n",
      "\n",
      "d:\\Nahid-Capston\\Capstone_2\\.venv\\Lib\\site-packages\\sklearn\\base.py:493: UserWarning:\n",
      "\n",
      "X does not have valid feature names, but KNeighborsClassifier was fitted with feature names\n",
      "\n",
      "d:\\Nahid-Capston\\Capstone_2\\.venv\\Lib\\site-packages\\sklearn\\base.py:493: UserWarning:\n",
      "\n",
      "X does not have valid feature names, but KNeighborsClassifier was fitted with feature names\n",
      "\n",
      "d:\\Nahid-Capston\\Capstone_2\\.venv\\Lib\\site-packages\\sklearn\\base.py:493: UserWarning:\n",
      "\n",
      "X does not have valid feature names, but KNeighborsClassifier was fitted with feature names\n",
      "\n",
      "d:\\Nahid-Capston\\Capstone_2\\.venv\\Lib\\site-packages\\sklearn\\base.py:493: UserWarning:\n",
      "\n",
      "X does not have valid feature names, but KNeighborsClassifier was fitted with feature names\n",
      "\n",
      "d:\\Nahid-Capston\\Capstone_2\\.venv\\Lib\\site-packages\\sklearn\\base.py:493: UserWarning:\n",
      "\n",
      "X does not have valid feature names, but KNeighborsClassifier was fitted with feature names\n",
      "\n",
      "d:\\Nahid-Capston\\Capstone_2\\.venv\\Lib\\site-packages\\sklearn\\base.py:493: UserWarning:\n",
      "\n",
      "X does not have valid feature names, but KNeighborsClassifier was fitted with feature names\n",
      "\n",
      "d:\\Nahid-Capston\\Capstone_2\\.venv\\Lib\\site-packages\\sklearn\\base.py:493: UserWarning:\n",
      "\n",
      "X does not have valid feature names, but KNeighborsClassifier was fitted with feature names\n",
      "\n",
      "d:\\Nahid-Capston\\Capstone_2\\.venv\\Lib\\site-packages\\sklearn\\base.py:493: UserWarning:\n",
      "\n",
      "X does not have valid feature names, but KNeighborsClassifier was fitted with feature names\n",
      "\n",
      "d:\\Nahid-Capston\\Capstone_2\\.venv\\Lib\\site-packages\\sklearn\\base.py:493: UserWarning:\n",
      "\n",
      "X does not have valid feature names, but KNeighborsClassifier was fitted with feature names\n",
      "\n",
      "d:\\Nahid-Capston\\Capstone_2\\.venv\\Lib\\site-packages\\sklearn\\base.py:493: UserWarning:\n",
      "\n",
      "X does not have valid feature names, but KNeighborsClassifier was fitted with feature names\n",
      "\n",
      "d:\\Nahid-Capston\\Capstone_2\\.venv\\Lib\\site-packages\\sklearn\\base.py:493: UserWarning:\n",
      "\n",
      "X does not have valid feature names, but KNeighborsClassifier was fitted with feature names\n",
      "\n",
      "d:\\Nahid-Capston\\Capstone_2\\.venv\\Lib\\site-packages\\sklearn\\base.py:493: UserWarning:\n",
      "\n",
      "X does not have valid feature names, but KNeighborsClassifier was fitted with feature names\n",
      "\n",
      "d:\\Nahid-Capston\\Capstone_2\\.venv\\Lib\\site-packages\\sklearn\\base.py:493: UserWarning:\n",
      "\n",
      "X does not have valid feature names, but KNeighborsClassifier was fitted with feature names\n",
      "\n",
      "d:\\Nahid-Capston\\Capstone_2\\.venv\\Lib\\site-packages\\sklearn\\base.py:493: UserWarning:\n",
      "\n",
      "X does not have valid feature names, but KNeighborsClassifier was fitted with feature names\n",
      "\n",
      "d:\\Nahid-Capston\\Capstone_2\\.venv\\Lib\\site-packages\\sklearn\\base.py:493: UserWarning:\n",
      "\n",
      "X does not have valid feature names, but KNeighborsClassifier was fitted with feature names\n",
      "\n",
      "d:\\Nahid-Capston\\Capstone_2\\.venv\\Lib\\site-packages\\sklearn\\base.py:493: UserWarning:\n",
      "\n",
      "X does not have valid feature names, but KNeighborsClassifier was fitted with feature names\n",
      "\n",
      "d:\\Nahid-Capston\\Capstone_2\\.venv\\Lib\\site-packages\\sklearn\\base.py:493: UserWarning:\n",
      "\n",
      "X does not have valid feature names, but KNeighborsClassifier was fitted with feature names\n",
      "\n",
      "d:\\Nahid-Capston\\Capstone_2\\.venv\\Lib\\site-packages\\sklearn\\base.py:493: UserWarning:\n",
      "\n",
      "X does not have valid feature names, but KNeighborsClassifier was fitted with feature names\n",
      "\n",
      "d:\\Nahid-Capston\\Capstone_2\\.venv\\Lib\\site-packages\\sklearn\\base.py:493: UserWarning:\n",
      "\n",
      "X does not have valid feature names, but KNeighborsClassifier was fitted with feature names\n",
      "\n",
      "d:\\Nahid-Capston\\Capstone_2\\.venv\\Lib\\site-packages\\sklearn\\base.py:493: UserWarning:\n",
      "\n",
      "X does not have valid feature names, but KNeighborsClassifier was fitted with feature names\n",
      "\n",
      "d:\\Nahid-Capston\\Capstone_2\\.venv\\Lib\\site-packages\\sklearn\\base.py:493: UserWarning:\n",
      "\n",
      "X does not have valid feature names, but KNeighborsClassifier was fitted with feature names\n",
      "\n",
      "d:\\Nahid-Capston\\Capstone_2\\.venv\\Lib\\site-packages\\sklearn\\base.py:493: UserWarning:\n",
      "\n",
      "X does not have valid feature names, but KNeighborsClassifier was fitted with feature names\n",
      "\n",
      "d:\\Nahid-Capston\\Capstone_2\\.venv\\Lib\\site-packages\\sklearn\\base.py:493: UserWarning:\n",
      "\n",
      "X does not have valid feature names, but KNeighborsClassifier was fitted with feature names\n",
      "\n",
      "d:\\Nahid-Capston\\Capstone_2\\.venv\\Lib\\site-packages\\sklearn\\base.py:493: UserWarning:\n",
      "\n",
      "X does not have valid feature names, but KNeighborsClassifier was fitted with feature names\n",
      "\n",
      "d:\\Nahid-Capston\\Capstone_2\\.venv\\Lib\\site-packages\\sklearn\\base.py:493: UserWarning:\n",
      "\n",
      "X does not have valid feature names, but KNeighborsClassifier was fitted with feature names\n",
      "\n",
      "d:\\Nahid-Capston\\Capstone_2\\.venv\\Lib\\site-packages\\sklearn\\base.py:493: UserWarning:\n",
      "\n",
      "X does not have valid feature names, but KNeighborsClassifier was fitted with feature names\n",
      "\n",
      "d:\\Nahid-Capston\\Capstone_2\\.venv\\Lib\\site-packages\\sklearn\\base.py:493: UserWarning:\n",
      "\n",
      "X does not have valid feature names, but KNeighborsClassifier was fitted with feature names\n",
      "\n",
      "d:\\Nahid-Capston\\Capstone_2\\.venv\\Lib\\site-packages\\sklearn\\base.py:493: UserWarning:\n",
      "\n",
      "X does not have valid feature names, but KNeighborsClassifier was fitted with feature names\n",
      "\n",
      "d:\\Nahid-Capston\\Capstone_2\\.venv\\Lib\\site-packages\\sklearn\\base.py:493: UserWarning:\n",
      "\n",
      "X does not have valid feature names, but KNeighborsClassifier was fitted with feature names\n",
      "\n",
      "d:\\Nahid-Capston\\Capstone_2\\.venv\\Lib\\site-packages\\sklearn\\base.py:493: UserWarning:\n",
      "\n",
      "X does not have valid feature names, but KNeighborsClassifier was fitted with feature names\n",
      "\n",
      "d:\\Nahid-Capston\\Capstone_2\\.venv\\Lib\\site-packages\\sklearn\\base.py:493: UserWarning:\n",
      "\n",
      "X does not have valid feature names, but KNeighborsClassifier was fitted with feature names\n",
      "\n",
      "d:\\Nahid-Capston\\Capstone_2\\.venv\\Lib\\site-packages\\sklearn\\base.py:493: UserWarning:\n",
      "\n",
      "X does not have valid feature names, but KNeighborsClassifier was fitted with feature names\n",
      "\n",
      "d:\\Nahid-Capston\\Capstone_2\\.venv\\Lib\\site-packages\\sklearn\\base.py:493: UserWarning:\n",
      "\n",
      "X does not have valid feature names, but KNeighborsClassifier was fitted with feature names\n",
      "\n",
      "d:\\Nahid-Capston\\Capstone_2\\.venv\\Lib\\site-packages\\sklearn\\base.py:493: UserWarning:\n",
      "\n",
      "X does not have valid feature names, but KNeighborsClassifier was fitted with feature names\n",
      "\n",
      "d:\\Nahid-Capston\\Capstone_2\\.venv\\Lib\\site-packages\\sklearn\\base.py:493: UserWarning:\n",
      "\n",
      "X does not have valid feature names, but KNeighborsClassifier was fitted with feature names\n",
      "\n",
      "d:\\Nahid-Capston\\Capstone_2\\.venv\\Lib\\site-packages\\sklearn\\base.py:493: UserWarning:\n",
      "\n",
      "X does not have valid feature names, but KNeighborsClassifier was fitted with feature names\n",
      "\n",
      "d:\\Nahid-Capston\\Capstone_2\\.venv\\Lib\\site-packages\\sklearn\\base.py:493: UserWarning:\n",
      "\n",
      "X does not have valid feature names, but KNeighborsClassifier was fitted with feature names\n",
      "\n",
      "d:\\Nahid-Capston\\Capstone_2\\.venv\\Lib\\site-packages\\sklearn\\base.py:493: UserWarning:\n",
      "\n",
      "X does not have valid feature names, but KNeighborsClassifier was fitted with feature names\n",
      "\n",
      "d:\\Nahid-Capston\\Capstone_2\\.venv\\Lib\\site-packages\\sklearn\\base.py:493: UserWarning:\n",
      "\n",
      "X does not have valid feature names, but KNeighborsClassifier was fitted with feature names\n",
      "\n",
      "d:\\Nahid-Capston\\Capstone_2\\.venv\\Lib\\site-packages\\sklearn\\base.py:493: UserWarning:\n",
      "\n",
      "X does not have valid feature names, but KNeighborsClassifier was fitted with feature names\n",
      "\n",
      "d:\\Nahid-Capston\\Capstone_2\\.venv\\Lib\\site-packages\\sklearn\\base.py:493: UserWarning:\n",
      "\n",
      "X does not have valid feature names, but KNeighborsClassifier was fitted with feature names\n",
      "\n",
      "d:\\Nahid-Capston\\Capstone_2\\.venv\\Lib\\site-packages\\sklearn\\base.py:493: UserWarning:\n",
      "\n",
      "X does not have valid feature names, but KNeighborsClassifier was fitted with feature names\n",
      "\n",
      "d:\\Nahid-Capston\\Capstone_2\\.venv\\Lib\\site-packages\\sklearn\\base.py:493: UserWarning:\n",
      "\n",
      "X does not have valid feature names, but KNeighborsClassifier was fitted with feature names\n",
      "\n",
      "d:\\Nahid-Capston\\Capstone_2\\.venv\\Lib\\site-packages\\sklearn\\base.py:493: UserWarning:\n",
      "\n",
      "X does not have valid feature names, but KNeighborsClassifier was fitted with feature names\n",
      "\n",
      "d:\\Nahid-Capston\\Capstone_2\\.venv\\Lib\\site-packages\\sklearn\\base.py:493: UserWarning:\n",
      "\n",
      "X does not have valid feature names, but KNeighborsClassifier was fitted with feature names\n",
      "\n",
      "d:\\Nahid-Capston\\Capstone_2\\.venv\\Lib\\site-packages\\sklearn\\base.py:493: UserWarning:\n",
      "\n",
      "X does not have valid feature names, but KNeighborsClassifier was fitted with feature names\n",
      "\n",
      "d:\\Nahid-Capston\\Capstone_2\\.venv\\Lib\\site-packages\\sklearn\\base.py:493: UserWarning:\n",
      "\n",
      "X does not have valid feature names, but KNeighborsClassifier was fitted with feature names\n",
      "\n",
      "d:\\Nahid-Capston\\Capstone_2\\.venv\\Lib\\site-packages\\sklearn\\base.py:493: UserWarning:\n",
      "\n",
      "X does not have valid feature names, but KNeighborsClassifier was fitted with feature names\n",
      "\n",
      "d:\\Nahid-Capston\\Capstone_2\\.venv\\Lib\\site-packages\\sklearn\\base.py:493: UserWarning:\n",
      "\n",
      "X does not have valid feature names, but KNeighborsClassifier was fitted with feature names\n",
      "\n",
      "d:\\Nahid-Capston\\Capstone_2\\.venv\\Lib\\site-packages\\sklearn\\base.py:493: UserWarning:\n",
      "\n",
      "X does not have valid feature names, but KNeighborsClassifier was fitted with feature names\n",
      "\n",
      "d:\\Nahid-Capston\\Capstone_2\\.venv\\Lib\\site-packages\\sklearn\\base.py:493: UserWarning:\n",
      "\n",
      "X does not have valid feature names, but KNeighborsClassifier was fitted with feature names\n",
      "\n",
      "d:\\Nahid-Capston\\Capstone_2\\.venv\\Lib\\site-packages\\sklearn\\base.py:493: UserWarning:\n",
      "\n",
      "X does not have valid feature names, but KNeighborsClassifier was fitted with feature names\n",
      "\n",
      "d:\\Nahid-Capston\\Capstone_2\\.venv\\Lib\\site-packages\\sklearn\\base.py:493: UserWarning:\n",
      "\n",
      "X does not have valid feature names, but KNeighborsClassifier was fitted with feature names\n",
      "\n",
      "d:\\Nahid-Capston\\Capstone_2\\.venv\\Lib\\site-packages\\sklearn\\base.py:493: UserWarning:\n",
      "\n",
      "X does not have valid feature names, but KNeighborsClassifier was fitted with feature names\n",
      "\n",
      "d:\\Nahid-Capston\\Capstone_2\\.venv\\Lib\\site-packages\\sklearn\\base.py:493: UserWarning:\n",
      "\n",
      "X does not have valid feature names, but KNeighborsClassifier was fitted with feature names\n",
      "\n",
      "d:\\Nahid-Capston\\Capstone_2\\.venv\\Lib\\site-packages\\sklearn\\base.py:493: UserWarning:\n",
      "\n",
      "X does not have valid feature names, but KNeighborsClassifier was fitted with feature names\n",
      "\n",
      "d:\\Nahid-Capston\\Capstone_2\\.venv\\Lib\\site-packages\\sklearn\\base.py:493: UserWarning:\n",
      "\n",
      "X does not have valid feature names, but KNeighborsClassifier was fitted with feature names\n",
      "\n",
      "d:\\Nahid-Capston\\Capstone_2\\.venv\\Lib\\site-packages\\sklearn\\base.py:493: UserWarning:\n",
      "\n",
      "X does not have valid feature names, but KNeighborsClassifier was fitted with feature names\n",
      "\n",
      "d:\\Nahid-Capston\\Capstone_2\\.venv\\Lib\\site-packages\\sklearn\\base.py:493: UserWarning:\n",
      "\n",
      "X does not have valid feature names, but KNeighborsClassifier was fitted with feature names\n",
      "\n",
      "d:\\Nahid-Capston\\Capstone_2\\.venv\\Lib\\site-packages\\sklearn\\base.py:493: UserWarning:\n",
      "\n",
      "X does not have valid feature names, but KNeighborsClassifier was fitted with feature names\n",
      "\n",
      "d:\\Nahid-Capston\\Capstone_2\\.venv\\Lib\\site-packages\\sklearn\\base.py:493: UserWarning:\n",
      "\n",
      "X does not have valid feature names, but KNeighborsClassifier was fitted with feature names\n",
      "\n",
      "d:\\Nahid-Capston\\Capstone_2\\.venv\\Lib\\site-packages\\sklearn\\base.py:493: UserWarning:\n",
      "\n",
      "X does not have valid feature names, but KNeighborsClassifier was fitted with feature names\n",
      "\n",
      "d:\\Nahid-Capston\\Capstone_2\\.venv\\Lib\\site-packages\\sklearn\\base.py:493: UserWarning:\n",
      "\n",
      "X does not have valid feature names, but KNeighborsClassifier was fitted with feature names\n",
      "\n",
      "d:\\Nahid-Capston\\Capstone_2\\.venv\\Lib\\site-packages\\sklearn\\base.py:493: UserWarning:\n",
      "\n",
      "X does not have valid feature names, but KNeighborsClassifier was fitted with feature names\n",
      "\n",
      "d:\\Nahid-Capston\\Capstone_2\\.venv\\Lib\\site-packages\\sklearn\\base.py:493: UserWarning:\n",
      "\n",
      "X does not have valid feature names, but KNeighborsClassifier was fitted with feature names\n",
      "\n",
      "d:\\Nahid-Capston\\Capstone_2\\.venv\\Lib\\site-packages\\sklearn\\base.py:493: UserWarning:\n",
      "\n",
      "X does not have valid feature names, but KNeighborsClassifier was fitted with feature names\n",
      "\n",
      "d:\\Nahid-Capston\\Capstone_2\\.venv\\Lib\\site-packages\\sklearn\\base.py:493: UserWarning:\n",
      "\n",
      "X does not have valid feature names, but KNeighborsClassifier was fitted with feature names\n",
      "\n",
      "d:\\Nahid-Capston\\Capstone_2\\.venv\\Lib\\site-packages\\sklearn\\base.py:493: UserWarning:\n",
      "\n",
      "X does not have valid feature names, but KNeighborsClassifier was fitted with feature names\n",
      "\n",
      "d:\\Nahid-Capston\\Capstone_2\\.venv\\Lib\\site-packages\\sklearn\\base.py:493: UserWarning:\n",
      "\n",
      "X does not have valid feature names, but KNeighborsClassifier was fitted with feature names\n",
      "\n",
      "d:\\Nahid-Capston\\Capstone_2\\.venv\\Lib\\site-packages\\sklearn\\base.py:493: UserWarning:\n",
      "\n",
      "X does not have valid feature names, but KNeighborsClassifier was fitted with feature names\n",
      "\n",
      "d:\\Nahid-Capston\\Capstone_2\\.venv\\Lib\\site-packages\\sklearn\\base.py:493: UserWarning:\n",
      "\n",
      "X does not have valid feature names, but KNeighborsClassifier was fitted with feature names\n",
      "\n",
      "d:\\Nahid-Capston\\Capstone_2\\.venv\\Lib\\site-packages\\sklearn\\base.py:493: UserWarning:\n",
      "\n",
      "X does not have valid feature names, but KNeighborsClassifier was fitted with feature names\n",
      "\n",
      "d:\\Nahid-Capston\\Capstone_2\\.venv\\Lib\\site-packages\\sklearn\\base.py:493: UserWarning:\n",
      "\n",
      "X does not have valid feature names, but KNeighborsClassifier was fitted with feature names\n",
      "\n",
      "d:\\Nahid-Capston\\Capstone_2\\.venv\\Lib\\site-packages\\sklearn\\base.py:493: UserWarning:\n",
      "\n",
      "X does not have valid feature names, but KNeighborsClassifier was fitted with feature names\n",
      "\n",
      "d:\\Nahid-Capston\\Capstone_2\\.venv\\Lib\\site-packages\\sklearn\\base.py:493: UserWarning:\n",
      "\n",
      "X does not have valid feature names, but KNeighborsClassifier was fitted with feature names\n",
      "\n",
      "d:\\Nahid-Capston\\Capstone_2\\.venv\\Lib\\site-packages\\sklearn\\base.py:493: UserWarning:\n",
      "\n",
      "X does not have valid feature names, but KNeighborsClassifier was fitted with feature names\n",
      "\n",
      "d:\\Nahid-Capston\\Capstone_2\\.venv\\Lib\\site-packages\\sklearn\\base.py:493: UserWarning:\n",
      "\n",
      "X does not have valid feature names, but KNeighborsClassifier was fitted with feature names\n",
      "\n",
      "d:\\Nahid-Capston\\Capstone_2\\.venv\\Lib\\site-packages\\sklearn\\base.py:493: UserWarning:\n",
      "\n",
      "X does not have valid feature names, but KNeighborsClassifier was fitted with feature names\n",
      "\n",
      "d:\\Nahid-Capston\\Capstone_2\\.venv\\Lib\\site-packages\\sklearn\\base.py:493: UserWarning:\n",
      "\n",
      "X does not have valid feature names, but KNeighborsClassifier was fitted with feature names\n",
      "\n",
      "d:\\Nahid-Capston\\Capstone_2\\.venv\\Lib\\site-packages\\sklearn\\base.py:493: UserWarning:\n",
      "\n",
      "X does not have valid feature names, but KNeighborsClassifier was fitted with feature names\n",
      "\n",
      "d:\\Nahid-Capston\\Capstone_2\\.venv\\Lib\\site-packages\\sklearn\\base.py:493: UserWarning:\n",
      "\n",
      "X does not have valid feature names, but KNeighborsClassifier was fitted with feature names\n",
      "\n",
      "d:\\Nahid-Capston\\Capstone_2\\.venv\\Lib\\site-packages\\sklearn\\base.py:493: UserWarning:\n",
      "\n",
      "X does not have valid feature names, but KNeighborsClassifier was fitted with feature names\n",
      "\n",
      "d:\\Nahid-Capston\\Capstone_2\\.venv\\Lib\\site-packages\\sklearn\\base.py:493: UserWarning:\n",
      "\n",
      "X does not have valid feature names, but KNeighborsClassifier was fitted with feature names\n",
      "\n",
      "d:\\Nahid-Capston\\Capstone_2\\.venv\\Lib\\site-packages\\sklearn\\base.py:493: UserWarning:\n",
      "\n",
      "X does not have valid feature names, but KNeighborsClassifier was fitted with feature names\n",
      "\n",
      "d:\\Nahid-Capston\\Capstone_2\\.venv\\Lib\\site-packages\\sklearn\\base.py:493: UserWarning:\n",
      "\n",
      "X does not have valid feature names, but KNeighborsClassifier was fitted with feature names\n",
      "\n",
      "d:\\Nahid-Capston\\Capstone_2\\.venv\\Lib\\site-packages\\sklearn\\base.py:493: UserWarning:\n",
      "\n",
      "X does not have valid feature names, but KNeighborsClassifier was fitted with feature names\n",
      "\n",
      "d:\\Nahid-Capston\\Capstone_2\\.venv\\Lib\\site-packages\\sklearn\\base.py:493: UserWarning:\n",
      "\n",
      "X does not have valid feature names, but KNeighborsClassifier was fitted with feature names\n",
      "\n",
      "d:\\Nahid-Capston\\Capstone_2\\.venv\\Lib\\site-packages\\sklearn\\base.py:493: UserWarning:\n",
      "\n",
      "X does not have valid feature names, but KNeighborsClassifier was fitted with feature names\n",
      "\n",
      "d:\\Nahid-Capston\\Capstone_2\\.venv\\Lib\\site-packages\\sklearn\\base.py:493: UserWarning:\n",
      "\n",
      "X does not have valid feature names, but KNeighborsClassifier was fitted with feature names\n",
      "\n",
      "d:\\Nahid-Capston\\Capstone_2\\.venv\\Lib\\site-packages\\sklearn\\base.py:493: UserWarning:\n",
      "\n",
      "X does not have valid feature names, but KNeighborsClassifier was fitted with feature names\n",
      "\n",
      "d:\\Nahid-Capston\\Capstone_2\\.venv\\Lib\\site-packages\\sklearn\\base.py:493: UserWarning:\n",
      "\n",
      "X does not have valid feature names, but KNeighborsClassifier was fitted with feature names\n",
      "\n",
      "d:\\Nahid-Capston\\Capstone_2\\.venv\\Lib\\site-packages\\sklearn\\base.py:493: UserWarning:\n",
      "\n",
      "X does not have valid feature names, but KNeighborsClassifier was fitted with feature names\n",
      "\n",
      "d:\\Nahid-Capston\\Capstone_2\\.venv\\Lib\\site-packages\\sklearn\\base.py:493: UserWarning:\n",
      "\n",
      "X does not have valid feature names, but KNeighborsClassifier was fitted with feature names\n",
      "\n",
      "d:\\Nahid-Capston\\Capstone_2\\.venv\\Lib\\site-packages\\sklearn\\base.py:493: UserWarning:\n",
      "\n",
      "X does not have valid feature names, but KNeighborsClassifier was fitted with feature names\n",
      "\n",
      "d:\\Nahid-Capston\\Capstone_2\\.venv\\Lib\\site-packages\\sklearn\\base.py:493: UserWarning:\n",
      "\n",
      "X does not have valid feature names, but KNeighborsClassifier was fitted with feature names\n",
      "\n",
      "d:\\Nahid-Capston\\Capstone_2\\.venv\\Lib\\site-packages\\sklearn\\base.py:493: UserWarning:\n",
      "\n",
      "X does not have valid feature names, but KNeighborsClassifier was fitted with feature names\n",
      "\n",
      "d:\\Nahid-Capston\\Capstone_2\\.venv\\Lib\\site-packages\\sklearn\\base.py:493: UserWarning:\n",
      "\n",
      "X does not have valid feature names, but KNeighborsClassifier was fitted with feature names\n",
      "\n",
      "d:\\Nahid-Capston\\Capstone_2\\.venv\\Lib\\site-packages\\sklearn\\base.py:493: UserWarning:\n",
      "\n",
      "X does not have valid feature names, but KNeighborsClassifier was fitted with feature names\n",
      "\n",
      "d:\\Nahid-Capston\\Capstone_2\\.venv\\Lib\\site-packages\\sklearn\\base.py:493: UserWarning:\n",
      "\n",
      "X does not have valid feature names, but KNeighborsClassifier was fitted with feature names\n",
      "\n",
      "d:\\Nahid-Capston\\Capstone_2\\.venv\\Lib\\site-packages\\sklearn\\base.py:493: UserWarning:\n",
      "\n",
      "X does not have valid feature names, but KNeighborsClassifier was fitted with feature names\n",
      "\n",
      "d:\\Nahid-Capston\\Capstone_2\\.venv\\Lib\\site-packages\\sklearn\\base.py:493: UserWarning:\n",
      "\n",
      "X does not have valid feature names, but KNeighborsClassifier was fitted with feature names\n",
      "\n",
      "d:\\Nahid-Capston\\Capstone_2\\.venv\\Lib\\site-packages\\sklearn\\base.py:493: UserWarning:\n",
      "\n",
      "X does not have valid feature names, but KNeighborsClassifier was fitted with feature names\n",
      "\n",
      "d:\\Nahid-Capston\\Capstone_2\\.venv\\Lib\\site-packages\\sklearn\\base.py:493: UserWarning:\n",
      "\n",
      "X does not have valid feature names, but KNeighborsClassifier was fitted with feature names\n",
      "\n",
      "d:\\Nahid-Capston\\Capstone_2\\.venv\\Lib\\site-packages\\sklearn\\base.py:493: UserWarning:\n",
      "\n",
      "X does not have valid feature names, but KNeighborsClassifier was fitted with feature names\n",
      "\n",
      "d:\\Nahid-Capston\\Capstone_2\\.venv\\Lib\\site-packages\\sklearn\\base.py:493: UserWarning:\n",
      "\n",
      "X does not have valid feature names, but KNeighborsClassifier was fitted with feature names\n",
      "\n",
      "d:\\Nahid-Capston\\Capstone_2\\.venv\\Lib\\site-packages\\sklearn\\base.py:493: UserWarning:\n",
      "\n",
      "X does not have valid feature names, but KNeighborsClassifier was fitted with feature names\n",
      "\n",
      "d:\\Nahid-Capston\\Capstone_2\\.venv\\Lib\\site-packages\\sklearn\\base.py:493: UserWarning:\n",
      "\n",
      "X does not have valid feature names, but KNeighborsClassifier was fitted with feature names\n",
      "\n",
      "d:\\Nahid-Capston\\Capstone_2\\.venv\\Lib\\site-packages\\sklearn\\base.py:493: UserWarning:\n",
      "\n",
      "X does not have valid feature names, but KNeighborsClassifier was fitted with feature names\n",
      "\n",
      "d:\\Nahid-Capston\\Capstone_2\\.venv\\Lib\\site-packages\\sklearn\\base.py:493: UserWarning:\n",
      "\n",
      "X does not have valid feature names, but KNeighborsClassifier was fitted with feature names\n",
      "\n",
      "d:\\Nahid-Capston\\Capstone_2\\.venv\\Lib\\site-packages\\sklearn\\base.py:493: UserWarning:\n",
      "\n",
      "X does not have valid feature names, but KNeighborsClassifier was fitted with feature names\n",
      "\n",
      "d:\\Nahid-Capston\\Capstone_2\\.venv\\Lib\\site-packages\\sklearn\\base.py:493: UserWarning:\n",
      "\n",
      "X does not have valid feature names, but KNeighborsClassifier was fitted with feature names\n",
      "\n",
      "d:\\Nahid-Capston\\Capstone_2\\.venv\\Lib\\site-packages\\sklearn\\base.py:493: UserWarning:\n",
      "\n",
      "X does not have valid feature names, but KNeighborsClassifier was fitted with feature names\n",
      "\n",
      "d:\\Nahid-Capston\\Capstone_2\\.venv\\Lib\\site-packages\\sklearn\\base.py:493: UserWarning:\n",
      "\n",
      "X does not have valid feature names, but KNeighborsClassifier was fitted with feature names\n",
      "\n",
      "d:\\Nahid-Capston\\Capstone_2\\.venv\\Lib\\site-packages\\sklearn\\base.py:493: UserWarning:\n",
      "\n",
      "X does not have valid feature names, but KNeighborsClassifier was fitted with feature names\n",
      "\n",
      "d:\\Nahid-Capston\\Capstone_2\\.venv\\Lib\\site-packages\\sklearn\\base.py:493: UserWarning:\n",
      "\n",
      "X does not have valid feature names, but KNeighborsClassifier was fitted with feature names\n",
      "\n",
      "d:\\Nahid-Capston\\Capstone_2\\.venv\\Lib\\site-packages\\sklearn\\base.py:493: UserWarning:\n",
      "\n",
      "X does not have valid feature names, but KNeighborsClassifier was fitted with feature names\n",
      "\n",
      "d:\\Nahid-Capston\\Capstone_2\\.venv\\Lib\\site-packages\\sklearn\\base.py:493: UserWarning:\n",
      "\n",
      "X does not have valid feature names, but KNeighborsClassifier was fitted with feature names\n",
      "\n",
      "d:\\Nahid-Capston\\Capstone_2\\.venv\\Lib\\site-packages\\sklearn\\base.py:493: UserWarning:\n",
      "\n",
      "X does not have valid feature names, but KNeighborsClassifier was fitted with feature names\n",
      "\n",
      "d:\\Nahid-Capston\\Capstone_2\\.venv\\Lib\\site-packages\\sklearn\\base.py:493: UserWarning:\n",
      "\n",
      "X does not have valid feature names, but KNeighborsClassifier was fitted with feature names\n",
      "\n",
      "d:\\Nahid-Capston\\Capstone_2\\.venv\\Lib\\site-packages\\sklearn\\base.py:493: UserWarning:\n",
      "\n",
      "X does not have valid feature names, but KNeighborsClassifier was fitted with feature names\n",
      "\n",
      "d:\\Nahid-Capston\\Capstone_2\\.venv\\Lib\\site-packages\\sklearn\\base.py:493: UserWarning:\n",
      "\n",
      "X does not have valid feature names, but KNeighborsClassifier was fitted with feature names\n",
      "\n",
      "d:\\Nahid-Capston\\Capstone_2\\.venv\\Lib\\site-packages\\sklearn\\base.py:493: UserWarning:\n",
      "\n",
      "X does not have valid feature names, but KNeighborsClassifier was fitted with feature names\n",
      "\n",
      "d:\\Nahid-Capston\\Capstone_2\\.venv\\Lib\\site-packages\\sklearn\\base.py:493: UserWarning:\n",
      "\n",
      "X does not have valid feature names, but KNeighborsClassifier was fitted with feature names\n",
      "\n",
      "d:\\Nahid-Capston\\Capstone_2\\.venv\\Lib\\site-packages\\sklearn\\base.py:493: UserWarning:\n",
      "\n",
      "X does not have valid feature names, but KNeighborsClassifier was fitted with feature names\n",
      "\n",
      "d:\\Nahid-Capston\\Capstone_2\\.venv\\Lib\\site-packages\\sklearn\\base.py:493: UserWarning:\n",
      "\n",
      "X does not have valid feature names, but KNeighborsClassifier was fitted with feature names\n",
      "\n",
      "d:\\Nahid-Capston\\Capstone_2\\.venv\\Lib\\site-packages\\sklearn\\base.py:493: UserWarning:\n",
      "\n",
      "X does not have valid feature names, but KNeighborsClassifier was fitted with feature names\n",
      "\n",
      "d:\\Nahid-Capston\\Capstone_2\\.venv\\Lib\\site-packages\\sklearn\\base.py:493: UserWarning:\n",
      "\n",
      "X does not have valid feature names, but KNeighborsClassifier was fitted with feature names\n",
      "\n",
      "d:\\Nahid-Capston\\Capstone_2\\.venv\\Lib\\site-packages\\sklearn\\base.py:493: UserWarning:\n",
      "\n",
      "X does not have valid feature names, but KNeighborsClassifier was fitted with feature names\n",
      "\n",
      "d:\\Nahid-Capston\\Capstone_2\\.venv\\Lib\\site-packages\\sklearn\\base.py:493: UserWarning:\n",
      "\n",
      "X does not have valid feature names, but KNeighborsClassifier was fitted with feature names\n",
      "\n",
      "d:\\Nahid-Capston\\Capstone_2\\.venv\\Lib\\site-packages\\sklearn\\base.py:493: UserWarning:\n",
      "\n",
      "X does not have valid feature names, but KNeighborsClassifier was fitted with feature names\n",
      "\n",
      "d:\\Nahid-Capston\\Capstone_2\\.venv\\Lib\\site-packages\\sklearn\\base.py:493: UserWarning:\n",
      "\n",
      "X does not have valid feature names, but KNeighborsClassifier was fitted with feature names\n",
      "\n",
      "d:\\Nahid-Capston\\Capstone_2\\.venv\\Lib\\site-packages\\sklearn\\base.py:493: UserWarning:\n",
      "\n",
      "X does not have valid feature names, but KNeighborsClassifier was fitted with feature names\n",
      "\n",
      "d:\\Nahid-Capston\\Capstone_2\\.venv\\Lib\\site-packages\\sklearn\\base.py:493: UserWarning:\n",
      "\n",
      "X does not have valid feature names, but KNeighborsClassifier was fitted with feature names\n",
      "\n",
      "d:\\Nahid-Capston\\Capstone_2\\.venv\\Lib\\site-packages\\sklearn\\base.py:493: UserWarning:\n",
      "\n",
      "X does not have valid feature names, but KNeighborsClassifier was fitted with feature names\n",
      "\n",
      "d:\\Nahid-Capston\\Capstone_2\\.venv\\Lib\\site-packages\\sklearn\\base.py:493: UserWarning:\n",
      "\n",
      "X does not have valid feature names, but KNeighborsClassifier was fitted with feature names\n",
      "\n",
      "d:\\Nahid-Capston\\Capstone_2\\.venv\\Lib\\site-packages\\sklearn\\base.py:493: UserWarning:\n",
      "\n",
      "X does not have valid feature names, but KNeighborsClassifier was fitted with feature names\n",
      "\n",
      "d:\\Nahid-Capston\\Capstone_2\\.venv\\Lib\\site-packages\\sklearn\\base.py:493: UserWarning:\n",
      "\n",
      "X does not have valid feature names, but KNeighborsClassifier was fitted with feature names\n",
      "\n",
      "d:\\Nahid-Capston\\Capstone_2\\.venv\\Lib\\site-packages\\sklearn\\base.py:493: UserWarning:\n",
      "\n",
      "X does not have valid feature names, but KNeighborsClassifier was fitted with feature names\n",
      "\n",
      "d:\\Nahid-Capston\\Capstone_2\\.venv\\Lib\\site-packages\\sklearn\\base.py:493: UserWarning:\n",
      "\n",
      "X does not have valid feature names, but KNeighborsClassifier was fitted with feature names\n",
      "\n",
      "d:\\Nahid-Capston\\Capstone_2\\.venv\\Lib\\site-packages\\sklearn\\base.py:493: UserWarning:\n",
      "\n",
      "X does not have valid feature names, but KNeighborsClassifier was fitted with feature names\n",
      "\n",
      "d:\\Nahid-Capston\\Capstone_2\\.venv\\Lib\\site-packages\\sklearn\\base.py:493: UserWarning:\n",
      "\n",
      "X does not have valid feature names, but KNeighborsClassifier was fitted with feature names\n",
      "\n",
      "d:\\Nahid-Capston\\Capstone_2\\.venv\\Lib\\site-packages\\sklearn\\base.py:493: UserWarning:\n",
      "\n",
      "X does not have valid feature names, but KNeighborsClassifier was fitted with feature names\n",
      "\n",
      "d:\\Nahid-Capston\\Capstone_2\\.venv\\Lib\\site-packages\\sklearn\\base.py:493: UserWarning:\n",
      "\n",
      "X does not have valid feature names, but KNeighborsClassifier was fitted with feature names\n",
      "\n",
      "d:\\Nahid-Capston\\Capstone_2\\.venv\\Lib\\site-packages\\sklearn\\base.py:493: UserWarning:\n",
      "\n",
      "X does not have valid feature names, but KNeighborsClassifier was fitted with feature names\n",
      "\n",
      "d:\\Nahid-Capston\\Capstone_2\\.venv\\Lib\\site-packages\\sklearn\\base.py:493: UserWarning:\n",
      "\n",
      "X does not have valid feature names, but KNeighborsClassifier was fitted with feature names\n",
      "\n",
      "d:\\Nahid-Capston\\Capstone_2\\.venv\\Lib\\site-packages\\sklearn\\base.py:493: UserWarning:\n",
      "\n",
      "X does not have valid feature names, but KNeighborsClassifier was fitted with feature names\n",
      "\n",
      "d:\\Nahid-Capston\\Capstone_2\\.venv\\Lib\\site-packages\\sklearn\\base.py:493: UserWarning:\n",
      "\n",
      "X does not have valid feature names, but KNeighborsClassifier was fitted with feature names\n",
      "\n",
      "d:\\Nahid-Capston\\Capstone_2\\.venv\\Lib\\site-packages\\sklearn\\base.py:493: UserWarning:\n",
      "\n",
      "X does not have valid feature names, but KNeighborsClassifier was fitted with feature names\n",
      "\n",
      "d:\\Nahid-Capston\\Capstone_2\\.venv\\Lib\\site-packages\\sklearn\\base.py:493: UserWarning:\n",
      "\n",
      "X does not have valid feature names, but KNeighborsClassifier was fitted with feature names\n",
      "\n",
      "d:\\Nahid-Capston\\Capstone_2\\.venv\\Lib\\site-packages\\sklearn\\base.py:493: UserWarning:\n",
      "\n",
      "X does not have valid feature names, but KNeighborsClassifier was fitted with feature names\n",
      "\n",
      "d:\\Nahid-Capston\\Capstone_2\\.venv\\Lib\\site-packages\\sklearn\\base.py:493: UserWarning:\n",
      "\n",
      "X does not have valid feature names, but KNeighborsClassifier was fitted with feature names\n",
      "\n",
      "d:\\Nahid-Capston\\Capstone_2\\.venv\\Lib\\site-packages\\sklearn\\base.py:493: UserWarning:\n",
      "\n",
      "X does not have valid feature names, but KNeighborsClassifier was fitted with feature names\n",
      "\n",
      "d:\\Nahid-Capston\\Capstone_2\\.venv\\Lib\\site-packages\\sklearn\\base.py:493: UserWarning:\n",
      "\n",
      "X does not have valid feature names, but KNeighborsClassifier was fitted with feature names\n",
      "\n",
      "d:\\Nahid-Capston\\Capstone_2\\.venv\\Lib\\site-packages\\sklearn\\base.py:493: UserWarning:\n",
      "\n",
      "X does not have valid feature names, but KNeighborsClassifier was fitted with feature names\n",
      "\n",
      "d:\\Nahid-Capston\\Capstone_2\\.venv\\Lib\\site-packages\\sklearn\\base.py:493: UserWarning:\n",
      "\n",
      "X does not have valid feature names, but KNeighborsClassifier was fitted with feature names\n",
      "\n",
      "d:\\Nahid-Capston\\Capstone_2\\.venv\\Lib\\site-packages\\sklearn\\base.py:493: UserWarning:\n",
      "\n",
      "X does not have valid feature names, but KNeighborsClassifier was fitted with feature names\n",
      "\n",
      "d:\\Nahid-Capston\\Capstone_2\\.venv\\Lib\\site-packages\\sklearn\\base.py:493: UserWarning:\n",
      "\n",
      "X does not have valid feature names, but KNeighborsClassifier was fitted with feature names\n",
      "\n",
      "d:\\Nahid-Capston\\Capstone_2\\.venv\\Lib\\site-packages\\sklearn\\base.py:493: UserWarning:\n",
      "\n",
      "X does not have valid feature names, but KNeighborsClassifier was fitted with feature names\n",
      "\n",
      "d:\\Nahid-Capston\\Capstone_2\\.venv\\Lib\\site-packages\\sklearn\\base.py:493: UserWarning:\n",
      "\n",
      "X does not have valid feature names, but KNeighborsClassifier was fitted with feature names\n",
      "\n",
      "d:\\Nahid-Capston\\Capstone_2\\.venv\\Lib\\site-packages\\sklearn\\base.py:493: UserWarning:\n",
      "\n",
      "X does not have valid feature names, but KNeighborsClassifier was fitted with feature names\n",
      "\n",
      "d:\\Nahid-Capston\\Capstone_2\\.venv\\Lib\\site-packages\\sklearn\\base.py:493: UserWarning:\n",
      "\n",
      "X does not have valid feature names, but KNeighborsClassifier was fitted with feature names\n",
      "\n",
      "d:\\Nahid-Capston\\Capstone_2\\.venv\\Lib\\site-packages\\sklearn\\base.py:493: UserWarning:\n",
      "\n",
      "X does not have valid feature names, but KNeighborsClassifier was fitted with feature names\n",
      "\n",
      "d:\\Nahid-Capston\\Capstone_2\\.venv\\Lib\\site-packages\\sklearn\\base.py:493: UserWarning:\n",
      "\n",
      "X does not have valid feature names, but KNeighborsClassifier was fitted with feature names\n",
      "\n",
      "d:\\Nahid-Capston\\Capstone_2\\.venv\\Lib\\site-packages\\sklearn\\base.py:493: UserWarning:\n",
      "\n",
      "X does not have valid feature names, but KNeighborsClassifier was fitted with feature names\n",
      "\n",
      "d:\\Nahid-Capston\\Capstone_2\\.venv\\Lib\\site-packages\\sklearn\\base.py:493: UserWarning:\n",
      "\n",
      "X does not have valid feature names, but KNeighborsClassifier was fitted with feature names\n",
      "\n",
      "d:\\Nahid-Capston\\Capstone_2\\.venv\\Lib\\site-packages\\sklearn\\base.py:493: UserWarning:\n",
      "\n",
      "X does not have valid feature names, but KNeighborsClassifier was fitted with feature names\n",
      "\n",
      "d:\\Nahid-Capston\\Capstone_2\\.venv\\Lib\\site-packages\\sklearn\\base.py:493: UserWarning:\n",
      "\n",
      "X does not have valid feature names, but KNeighborsClassifier was fitted with feature names\n",
      "\n",
      "d:\\Nahid-Capston\\Capstone_2\\.venv\\Lib\\site-packages\\sklearn\\base.py:493: UserWarning:\n",
      "\n",
      "X does not have valid feature names, but KNeighborsClassifier was fitted with feature names\n",
      "\n",
      "d:\\Nahid-Capston\\Capstone_2\\.venv\\Lib\\site-packages\\sklearn\\base.py:493: UserWarning:\n",
      "\n",
      "X does not have valid feature names, but KNeighborsClassifier was fitted with feature names\n",
      "\n",
      "d:\\Nahid-Capston\\Capstone_2\\.venv\\Lib\\site-packages\\sklearn\\base.py:493: UserWarning:\n",
      "\n",
      "X does not have valid feature names, but KNeighborsClassifier was fitted with feature names\n",
      "\n",
      "d:\\Nahid-Capston\\Capstone_2\\.venv\\Lib\\site-packages\\sklearn\\base.py:493: UserWarning:\n",
      "\n",
      "X does not have valid feature names, but KNeighborsClassifier was fitted with feature names\n",
      "\n",
      "d:\\Nahid-Capston\\Capstone_2\\.venv\\Lib\\site-packages\\sklearn\\base.py:493: UserWarning:\n",
      "\n",
      "X does not have valid feature names, but KNeighborsClassifier was fitted with feature names\n",
      "\n",
      "d:\\Nahid-Capston\\Capstone_2\\.venv\\Lib\\site-packages\\sklearn\\base.py:493: UserWarning:\n",
      "\n",
      "X does not have valid feature names, but KNeighborsClassifier was fitted with feature names\n",
      "\n",
      "d:\\Nahid-Capston\\Capstone_2\\.venv\\Lib\\site-packages\\sklearn\\base.py:493: UserWarning:\n",
      "\n",
      "X does not have valid feature names, but KNeighborsClassifier was fitted with feature names\n",
      "\n",
      "d:\\Nahid-Capston\\Capstone_2\\.venv\\Lib\\site-packages\\sklearn\\base.py:493: UserWarning:\n",
      "\n",
      "X does not have valid feature names, but KNeighborsClassifier was fitted with feature names\n",
      "\n",
      "d:\\Nahid-Capston\\Capstone_2\\.venv\\Lib\\site-packages\\sklearn\\base.py:493: UserWarning:\n",
      "\n",
      "X does not have valid feature names, but KNeighborsClassifier was fitted with feature names\n",
      "\n",
      "d:\\Nahid-Capston\\Capstone_2\\.venv\\Lib\\site-packages\\sklearn\\base.py:493: UserWarning:\n",
      "\n",
      "X does not have valid feature names, but KNeighborsClassifier was fitted with feature names\n",
      "\n",
      "d:\\Nahid-Capston\\Capstone_2\\.venv\\Lib\\site-packages\\sklearn\\base.py:493: UserWarning:\n",
      "\n",
      "X does not have valid feature names, but KNeighborsClassifier was fitted with feature names\n",
      "\n",
      "d:\\Nahid-Capston\\Capstone_2\\.venv\\Lib\\site-packages\\sklearn\\base.py:493: UserWarning:\n",
      "\n",
      "X does not have valid feature names, but KNeighborsClassifier was fitted with feature names\n",
      "\n",
      "d:\\Nahid-Capston\\Capstone_2\\.venv\\Lib\\site-packages\\sklearn\\base.py:493: UserWarning:\n",
      "\n",
      "X does not have valid feature names, but KNeighborsClassifier was fitted with feature names\n",
      "\n",
      "d:\\Nahid-Capston\\Capstone_2\\.venv\\Lib\\site-packages\\sklearn\\base.py:493: UserWarning:\n",
      "\n",
      "X does not have valid feature names, but KNeighborsClassifier was fitted with feature names\n",
      "\n",
      "d:\\Nahid-Capston\\Capstone_2\\.venv\\Lib\\site-packages\\sklearn\\base.py:493: UserWarning:\n",
      "\n",
      "X does not have valid feature names, but KNeighborsClassifier was fitted with feature names\n",
      "\n",
      "d:\\Nahid-Capston\\Capstone_2\\.venv\\Lib\\site-packages\\sklearn\\base.py:493: UserWarning:\n",
      "\n",
      "X does not have valid feature names, but KNeighborsClassifier was fitted with feature names\n",
      "\n",
      "d:\\Nahid-Capston\\Capstone_2\\.venv\\Lib\\site-packages\\sklearn\\base.py:493: UserWarning:\n",
      "\n",
      "X does not have valid feature names, but KNeighborsClassifier was fitted with feature names\n",
      "\n",
      "d:\\Nahid-Capston\\Capstone_2\\.venv\\Lib\\site-packages\\sklearn\\base.py:493: UserWarning:\n",
      "\n",
      "X does not have valid feature names, but KNeighborsClassifier was fitted with feature names\n",
      "\n",
      "d:\\Nahid-Capston\\Capstone_2\\.venv\\Lib\\site-packages\\sklearn\\base.py:493: UserWarning:\n",
      "\n",
      "X does not have valid feature names, but KNeighborsClassifier was fitted with feature names\n",
      "\n",
      "d:\\Nahid-Capston\\Capstone_2\\.venv\\Lib\\site-packages\\sklearn\\base.py:493: UserWarning:\n",
      "\n",
      "X does not have valid feature names, but KNeighborsClassifier was fitted with feature names\n",
      "\n",
      "d:\\Nahid-Capston\\Capstone_2\\.venv\\Lib\\site-packages\\sklearn\\base.py:493: UserWarning:\n",
      "\n",
      "X does not have valid feature names, but KNeighborsClassifier was fitted with feature names\n",
      "\n",
      "d:\\Nahid-Capston\\Capstone_2\\.venv\\Lib\\site-packages\\sklearn\\base.py:493: UserWarning:\n",
      "\n",
      "X does not have valid feature names, but KNeighborsClassifier was fitted with feature names\n",
      "\n",
      "d:\\Nahid-Capston\\Capstone_2\\.venv\\Lib\\site-packages\\sklearn\\base.py:493: UserWarning:\n",
      "\n",
      "X does not have valid feature names, but KNeighborsClassifier was fitted with feature names\n",
      "\n",
      "d:\\Nahid-Capston\\Capstone_2\\.venv\\Lib\\site-packages\\sklearn\\base.py:493: UserWarning:\n",
      "\n",
      "X does not have valid feature names, but KNeighborsClassifier was fitted with feature names\n",
      "\n",
      "d:\\Nahid-Capston\\Capstone_2\\.venv\\Lib\\site-packages\\sklearn\\base.py:493: UserWarning:\n",
      "\n",
      "X does not have valid feature names, but KNeighborsClassifier was fitted with feature names\n",
      "\n",
      "d:\\Nahid-Capston\\Capstone_2\\.venv\\Lib\\site-packages\\sklearn\\base.py:493: UserWarning:\n",
      "\n",
      "X does not have valid feature names, but KNeighborsClassifier was fitted with feature names\n",
      "\n",
      "d:\\Nahid-Capston\\Capstone_2\\.venv\\Lib\\site-packages\\sklearn\\base.py:493: UserWarning:\n",
      "\n",
      "X does not have valid feature names, but KNeighborsClassifier was fitted with feature names\n",
      "\n",
      "d:\\Nahid-Capston\\Capstone_2\\.venv\\Lib\\site-packages\\sklearn\\base.py:493: UserWarning:\n",
      "\n",
      "X does not have valid feature names, but KNeighborsClassifier was fitted with feature names\n",
      "\n",
      "d:\\Nahid-Capston\\Capstone_2\\.venv\\Lib\\site-packages\\sklearn\\base.py:493: UserWarning:\n",
      "\n",
      "X does not have valid feature names, but KNeighborsClassifier was fitted with feature names\n",
      "\n",
      "d:\\Nahid-Capston\\Capstone_2\\.venv\\Lib\\site-packages\\sklearn\\base.py:493: UserWarning:\n",
      "\n",
      "X does not have valid feature names, but KNeighborsClassifier was fitted with feature names\n",
      "\n",
      "d:\\Nahid-Capston\\Capstone_2\\.venv\\Lib\\site-packages\\sklearn\\base.py:493: UserWarning:\n",
      "\n",
      "X does not have valid feature names, but KNeighborsClassifier was fitted with feature names\n",
      "\n",
      "d:\\Nahid-Capston\\Capstone_2\\.venv\\Lib\\site-packages\\sklearn\\base.py:493: UserWarning:\n",
      "\n",
      "X does not have valid feature names, but KNeighborsClassifier was fitted with feature names\n",
      "\n",
      "d:\\Nahid-Capston\\Capstone_2\\.venv\\Lib\\site-packages\\sklearn\\base.py:493: UserWarning:\n",
      "\n",
      "X does not have valid feature names, but KNeighborsClassifier was fitted with feature names\n",
      "\n",
      "d:\\Nahid-Capston\\Capstone_2\\.venv\\Lib\\site-packages\\sklearn\\base.py:493: UserWarning:\n",
      "\n",
      "X does not have valid feature names, but KNeighborsClassifier was fitted with feature names\n",
      "\n",
      "d:\\Nahid-Capston\\Capstone_2\\.venv\\Lib\\site-packages\\sklearn\\base.py:493: UserWarning:\n",
      "\n",
      "X does not have valid feature names, but KNeighborsClassifier was fitted with feature names\n",
      "\n",
      "d:\\Nahid-Capston\\Capstone_2\\.venv\\Lib\\site-packages\\sklearn\\base.py:493: UserWarning:\n",
      "\n",
      "X does not have valid feature names, but KNeighborsClassifier was fitted with feature names\n",
      "\n",
      "d:\\Nahid-Capston\\Capstone_2\\.venv\\Lib\\site-packages\\sklearn\\base.py:493: UserWarning:\n",
      "\n",
      "X does not have valid feature names, but KNeighborsClassifier was fitted with feature names\n",
      "\n",
      "d:\\Nahid-Capston\\Capstone_2\\.venv\\Lib\\site-packages\\sklearn\\base.py:493: UserWarning:\n",
      "\n",
      "X does not have valid feature names, but KNeighborsClassifier was fitted with feature names\n",
      "\n",
      "d:\\Nahid-Capston\\Capstone_2\\.venv\\Lib\\site-packages\\sklearn\\base.py:493: UserWarning:\n",
      "\n",
      "X does not have valid feature names, but KNeighborsClassifier was fitted with feature names\n",
      "\n",
      "d:\\Nahid-Capston\\Capstone_2\\.venv\\Lib\\site-packages\\sklearn\\base.py:493: UserWarning:\n",
      "\n",
      "X does not have valid feature names, but KNeighborsClassifier was fitted with feature names\n",
      "\n",
      "d:\\Nahid-Capston\\Capstone_2\\.venv\\Lib\\site-packages\\sklearn\\base.py:493: UserWarning:\n",
      "\n",
      "X does not have valid feature names, but KNeighborsClassifier was fitted with feature names\n",
      "\n",
      "d:\\Nahid-Capston\\Capstone_2\\.venv\\Lib\\site-packages\\sklearn\\base.py:493: UserWarning:\n",
      "\n",
      "X does not have valid feature names, but KNeighborsClassifier was fitted with feature names\n",
      "\n",
      "d:\\Nahid-Capston\\Capstone_2\\.venv\\Lib\\site-packages\\sklearn\\base.py:493: UserWarning:\n",
      "\n",
      "X does not have valid feature names, but KNeighborsClassifier was fitted with feature names\n",
      "\n",
      "d:\\Nahid-Capston\\Capstone_2\\.venv\\Lib\\site-packages\\sklearn\\base.py:493: UserWarning:\n",
      "\n",
      "X does not have valid feature names, but KNeighborsClassifier was fitted with feature names\n",
      "\n",
      "d:\\Nahid-Capston\\Capstone_2\\.venv\\Lib\\site-packages\\sklearn\\base.py:493: UserWarning:\n",
      "\n",
      "X does not have valid feature names, but KNeighborsClassifier was fitted with feature names\n",
      "\n",
      "d:\\Nahid-Capston\\Capstone_2\\.venv\\Lib\\site-packages\\sklearn\\base.py:493: UserWarning:\n",
      "\n",
      "X does not have valid feature names, but KNeighborsClassifier was fitted with feature names\n",
      "\n",
      "d:\\Nahid-Capston\\Capstone_2\\.venv\\Lib\\site-packages\\sklearn\\base.py:493: UserWarning:\n",
      "\n",
      "X does not have valid feature names, but KNeighborsClassifier was fitted with feature names\n",
      "\n",
      "d:\\Nahid-Capston\\Capstone_2\\.venv\\Lib\\site-packages\\sklearn\\base.py:493: UserWarning:\n",
      "\n",
      "X does not have valid feature names, but KNeighborsClassifier was fitted with feature names\n",
      "\n",
      "d:\\Nahid-Capston\\Capstone_2\\.venv\\Lib\\site-packages\\sklearn\\base.py:493: UserWarning:\n",
      "\n",
      "X does not have valid feature names, but KNeighborsClassifier was fitted with feature names\n",
      "\n",
      "d:\\Nahid-Capston\\Capstone_2\\.venv\\Lib\\site-packages\\sklearn\\base.py:493: UserWarning:\n",
      "\n",
      "X does not have valid feature names, but KNeighborsClassifier was fitted with feature names\n",
      "\n",
      "d:\\Nahid-Capston\\Capstone_2\\.venv\\Lib\\site-packages\\sklearn\\base.py:493: UserWarning:\n",
      "\n",
      "X does not have valid feature names, but KNeighborsClassifier was fitted with feature names\n",
      "\n",
      "d:\\Nahid-Capston\\Capstone_2\\.venv\\Lib\\site-packages\\sklearn\\base.py:493: UserWarning:\n",
      "\n",
      "X does not have valid feature names, but KNeighborsClassifier was fitted with feature names\n",
      "\n",
      "d:\\Nahid-Capston\\Capstone_2\\.venv\\Lib\\site-packages\\sklearn\\base.py:493: UserWarning:\n",
      "\n",
      "X does not have valid feature names, but KNeighborsClassifier was fitted with feature names\n",
      "\n",
      "d:\\Nahid-Capston\\Capstone_2\\.venv\\Lib\\site-packages\\sklearn\\base.py:493: UserWarning:\n",
      "\n",
      "X does not have valid feature names, but KNeighborsClassifier was fitted with feature names\n",
      "\n",
      "d:\\Nahid-Capston\\Capstone_2\\.venv\\Lib\\site-packages\\sklearn\\base.py:493: UserWarning:\n",
      "\n",
      "X does not have valid feature names, but KNeighborsClassifier was fitted with feature names\n",
      "\n",
      "d:\\Nahid-Capston\\Capstone_2\\.venv\\Lib\\site-packages\\sklearn\\base.py:493: UserWarning:\n",
      "\n",
      "X does not have valid feature names, but KNeighborsClassifier was fitted with feature names\n",
      "\n",
      "d:\\Nahid-Capston\\Capstone_2\\.venv\\Lib\\site-packages\\sklearn\\base.py:493: UserWarning:\n",
      "\n",
      "X does not have valid feature names, but KNeighborsClassifier was fitted with feature names\n",
      "\n",
      "d:\\Nahid-Capston\\Capstone_2\\.venv\\Lib\\site-packages\\sklearn\\base.py:493: UserWarning:\n",
      "\n",
      "X does not have valid feature names, but KNeighborsClassifier was fitted with feature names\n",
      "\n",
      "d:\\Nahid-Capston\\Capstone_2\\.venv\\Lib\\site-packages\\sklearn\\base.py:493: UserWarning:\n",
      "\n",
      "X does not have valid feature names, but KNeighborsClassifier was fitted with feature names\n",
      "\n",
      "d:\\Nahid-Capston\\Capstone_2\\.venv\\Lib\\site-packages\\sklearn\\base.py:493: UserWarning:\n",
      "\n",
      "X does not have valid feature names, but KNeighborsClassifier was fitted with feature names\n",
      "\n",
      "d:\\Nahid-Capston\\Capstone_2\\.venv\\Lib\\site-packages\\sklearn\\base.py:493: UserWarning:\n",
      "\n",
      "X does not have valid feature names, but KNeighborsClassifier was fitted with feature names\n",
      "\n",
      "d:\\Nahid-Capston\\Capstone_2\\.venv\\Lib\\site-packages\\sklearn\\base.py:493: UserWarning:\n",
      "\n",
      "X does not have valid feature names, but KNeighborsClassifier was fitted with feature names\n",
      "\n",
      "d:\\Nahid-Capston\\Capstone_2\\.venv\\Lib\\site-packages\\sklearn\\base.py:493: UserWarning:\n",
      "\n",
      "X does not have valid feature names, but KNeighborsClassifier was fitted with feature names\n",
      "\n",
      "d:\\Nahid-Capston\\Capstone_2\\.venv\\Lib\\site-packages\\sklearn\\base.py:493: UserWarning:\n",
      "\n",
      "X does not have valid feature names, but KNeighborsClassifier was fitted with feature names\n",
      "\n",
      "d:\\Nahid-Capston\\Capstone_2\\.venv\\Lib\\site-packages\\sklearn\\base.py:493: UserWarning:\n",
      "\n",
      "X does not have valid feature names, but KNeighborsClassifier was fitted with feature names\n",
      "\n",
      "d:\\Nahid-Capston\\Capstone_2\\.venv\\Lib\\site-packages\\sklearn\\base.py:493: UserWarning:\n",
      "\n",
      "X does not have valid feature names, but KNeighborsClassifier was fitted with feature names\n",
      "\n",
      "d:\\Nahid-Capston\\Capstone_2\\.venv\\Lib\\site-packages\\sklearn\\base.py:493: UserWarning:\n",
      "\n",
      "X does not have valid feature names, but KNeighborsClassifier was fitted with feature names\n",
      "\n",
      "d:\\Nahid-Capston\\Capstone_2\\.venv\\Lib\\site-packages\\sklearn\\base.py:493: UserWarning:\n",
      "\n",
      "X does not have valid feature names, but KNeighborsClassifier was fitted with feature names\n",
      "\n",
      "d:\\Nahid-Capston\\Capstone_2\\.venv\\Lib\\site-packages\\sklearn\\base.py:493: UserWarning:\n",
      "\n",
      "X does not have valid feature names, but KNeighborsClassifier was fitted with feature names\n",
      "\n",
      "d:\\Nahid-Capston\\Capstone_2\\.venv\\Lib\\site-packages\\sklearn\\base.py:493: UserWarning:\n",
      "\n",
      "X does not have valid feature names, but KNeighborsClassifier was fitted with feature names\n",
      "\n",
      "d:\\Nahid-Capston\\Capstone_2\\.venv\\Lib\\site-packages\\sklearn\\base.py:493: UserWarning:\n",
      "\n",
      "X does not have valid feature names, but KNeighborsClassifier was fitted with feature names\n",
      "\n",
      "d:\\Nahid-Capston\\Capstone_2\\.venv\\Lib\\site-packages\\sklearn\\base.py:493: UserWarning:\n",
      "\n",
      "X does not have valid feature names, but KNeighborsClassifier was fitted with feature names\n",
      "\n",
      "d:\\Nahid-Capston\\Capstone_2\\.venv\\Lib\\site-packages\\sklearn\\base.py:493: UserWarning:\n",
      "\n",
      "X does not have valid feature names, but KNeighborsClassifier was fitted with feature names\n",
      "\n",
      "d:\\Nahid-Capston\\Capstone_2\\.venv\\Lib\\site-packages\\sklearn\\base.py:493: UserWarning:\n",
      "\n",
      "X does not have valid feature names, but KNeighborsClassifier was fitted with feature names\n",
      "\n",
      "d:\\Nahid-Capston\\Capstone_2\\.venv\\Lib\\site-packages\\sklearn\\base.py:493: UserWarning:\n",
      "\n",
      "X does not have valid feature names, but KNeighborsClassifier was fitted with feature names\n",
      "\n",
      "d:\\Nahid-Capston\\Capstone_2\\.venv\\Lib\\site-packages\\sklearn\\base.py:493: UserWarning:\n",
      "\n",
      "X does not have valid feature names, but KNeighborsClassifier was fitted with feature names\n",
      "\n",
      "d:\\Nahid-Capston\\Capstone_2\\.venv\\Lib\\site-packages\\sklearn\\base.py:493: UserWarning:\n",
      "\n",
      "X does not have valid feature names, but KNeighborsClassifier was fitted with feature names\n",
      "\n",
      "d:\\Nahid-Capston\\Capstone_2\\.venv\\Lib\\site-packages\\sklearn\\base.py:493: UserWarning:\n",
      "\n",
      "X does not have valid feature names, but KNeighborsClassifier was fitted with feature names\n",
      "\n",
      "d:\\Nahid-Capston\\Capstone_2\\.venv\\Lib\\site-packages\\sklearn\\base.py:493: UserWarning:\n",
      "\n",
      "X does not have valid feature names, but KNeighborsClassifier was fitted with feature names\n",
      "\n",
      "d:\\Nahid-Capston\\Capstone_2\\.venv\\Lib\\site-packages\\sklearn\\base.py:493: UserWarning:\n",
      "\n",
      "X does not have valid feature names, but KNeighborsClassifier was fitted with feature names\n",
      "\n",
      "d:\\Nahid-Capston\\Capstone_2\\.venv\\Lib\\site-packages\\sklearn\\base.py:493: UserWarning:\n",
      "\n",
      "X does not have valid feature names, but KNeighborsClassifier was fitted with feature names\n",
      "\n",
      "d:\\Nahid-Capston\\Capstone_2\\.venv\\Lib\\site-packages\\sklearn\\base.py:493: UserWarning:\n",
      "\n",
      "X does not have valid feature names, but KNeighborsClassifier was fitted with feature names\n",
      "\n",
      "d:\\Nahid-Capston\\Capstone_2\\.venv\\Lib\\site-packages\\sklearn\\base.py:493: UserWarning:\n",
      "\n",
      "X does not have valid feature names, but KNeighborsClassifier was fitted with feature names\n",
      "\n",
      "d:\\Nahid-Capston\\Capstone_2\\.venv\\Lib\\site-packages\\sklearn\\base.py:493: UserWarning:\n",
      "\n",
      "X does not have valid feature names, but KNeighborsClassifier was fitted with feature names\n",
      "\n",
      "d:\\Nahid-Capston\\Capstone_2\\.venv\\Lib\\site-packages\\sklearn\\base.py:493: UserWarning:\n",
      "\n",
      "X does not have valid feature names, but KNeighborsClassifier was fitted with feature names\n",
      "\n",
      "d:\\Nahid-Capston\\Capstone_2\\.venv\\Lib\\site-packages\\sklearn\\base.py:493: UserWarning:\n",
      "\n",
      "X does not have valid feature names, but KNeighborsClassifier was fitted with feature names\n",
      "\n",
      "d:\\Nahid-Capston\\Capstone_2\\.venv\\Lib\\site-packages\\sklearn\\base.py:493: UserWarning:\n",
      "\n",
      "X does not have valid feature names, but KNeighborsClassifier was fitted with feature names\n",
      "\n",
      "d:\\Nahid-Capston\\Capstone_2\\.venv\\Lib\\site-packages\\sklearn\\base.py:493: UserWarning:\n",
      "\n",
      "X does not have valid feature names, but KNeighborsClassifier was fitted with feature names\n",
      "\n",
      "d:\\Nahid-Capston\\Capstone_2\\.venv\\Lib\\site-packages\\sklearn\\base.py:493: UserWarning:\n",
      "\n",
      "X does not have valid feature names, but KNeighborsClassifier was fitted with feature names\n",
      "\n",
      "d:\\Nahid-Capston\\Capstone_2\\.venv\\Lib\\site-packages\\sklearn\\base.py:493: UserWarning:\n",
      "\n",
      "X does not have valid feature names, but KNeighborsClassifier was fitted with feature names\n",
      "\n",
      "d:\\Nahid-Capston\\Capstone_2\\.venv\\Lib\\site-packages\\sklearn\\base.py:493: UserWarning:\n",
      "\n",
      "X does not have valid feature names, but KNeighborsClassifier was fitted with feature names\n",
      "\n",
      "d:\\Nahid-Capston\\Capstone_2\\.venv\\Lib\\site-packages\\sklearn\\base.py:493: UserWarning:\n",
      "\n",
      "X does not have valid feature names, but KNeighborsClassifier was fitted with feature names\n",
      "\n",
      "d:\\Nahid-Capston\\Capstone_2\\.venv\\Lib\\site-packages\\sklearn\\base.py:493: UserWarning:\n",
      "\n",
      "X does not have valid feature names, but KNeighborsClassifier was fitted with feature names\n",
      "\n",
      "d:\\Nahid-Capston\\Capstone_2\\.venv\\Lib\\site-packages\\sklearn\\base.py:493: UserWarning:\n",
      "\n",
      "X does not have valid feature names, but KNeighborsClassifier was fitted with feature names\n",
      "\n",
      "d:\\Nahid-Capston\\Capstone_2\\.venv\\Lib\\site-packages\\sklearn\\base.py:493: UserWarning:\n",
      "\n",
      "X does not have valid feature names, but KNeighborsClassifier was fitted with feature names\n",
      "\n",
      "d:\\Nahid-Capston\\Capstone_2\\.venv\\Lib\\site-packages\\sklearn\\base.py:493: UserWarning:\n",
      "\n",
      "X does not have valid feature names, but KNeighborsClassifier was fitted with feature names\n",
      "\n",
      "d:\\Nahid-Capston\\Capstone_2\\.venv\\Lib\\site-packages\\sklearn\\base.py:493: UserWarning:\n",
      "\n",
      "X does not have valid feature names, but KNeighborsClassifier was fitted with feature names\n",
      "\n",
      "d:\\Nahid-Capston\\Capstone_2\\.venv\\Lib\\site-packages\\sklearn\\base.py:493: UserWarning:\n",
      "\n",
      "X does not have valid feature names, but KNeighborsClassifier was fitted with feature names\n",
      "\n",
      "d:\\Nahid-Capston\\Capstone_2\\.venv\\Lib\\site-packages\\sklearn\\base.py:493: UserWarning:\n",
      "\n",
      "X does not have valid feature names, but KNeighborsClassifier was fitted with feature names\n",
      "\n",
      "d:\\Nahid-Capston\\Capstone_2\\.venv\\Lib\\site-packages\\sklearn\\base.py:493: UserWarning:\n",
      "\n",
      "X does not have valid feature names, but KNeighborsClassifier was fitted with feature names\n",
      "\n",
      "d:\\Nahid-Capston\\Capstone_2\\.venv\\Lib\\site-packages\\sklearn\\base.py:493: UserWarning:\n",
      "\n",
      "X does not have valid feature names, but KNeighborsClassifier was fitted with feature names\n",
      "\n",
      "d:\\Nahid-Capston\\Capstone_2\\.venv\\Lib\\site-packages\\sklearn\\base.py:493: UserWarning:\n",
      "\n",
      "X does not have valid feature names, but KNeighborsClassifier was fitted with feature names\n",
      "\n",
      "d:\\Nahid-Capston\\Capstone_2\\.venv\\Lib\\site-packages\\sklearn\\base.py:493: UserWarning:\n",
      "\n",
      "X does not have valid feature names, but KNeighborsClassifier was fitted with feature names\n",
      "\n",
      "d:\\Nahid-Capston\\Capstone_2\\.venv\\Lib\\site-packages\\sklearn\\base.py:493: UserWarning:\n",
      "\n",
      "X does not have valid feature names, but KNeighborsClassifier was fitted with feature names\n",
      "\n",
      "d:\\Nahid-Capston\\Capstone_2\\.venv\\Lib\\site-packages\\sklearn\\base.py:493: UserWarning:\n",
      "\n",
      "X does not have valid feature names, but KNeighborsClassifier was fitted with feature names\n",
      "\n",
      "d:\\Nahid-Capston\\Capstone_2\\.venv\\Lib\\site-packages\\sklearn\\base.py:493: UserWarning:\n",
      "\n",
      "X does not have valid feature names, but KNeighborsClassifier was fitted with feature names\n",
      "\n",
      "d:\\Nahid-Capston\\Capstone_2\\.venv\\Lib\\site-packages\\sklearn\\base.py:493: UserWarning:\n",
      "\n",
      "X does not have valid feature names, but KNeighborsClassifier was fitted with feature names\n",
      "\n",
      "d:\\Nahid-Capston\\Capstone_2\\.venv\\Lib\\site-packages\\sklearn\\base.py:493: UserWarning:\n",
      "\n",
      "X does not have valid feature names, but KNeighborsClassifier was fitted with feature names\n",
      "\n",
      "d:\\Nahid-Capston\\Capstone_2\\.venv\\Lib\\site-packages\\sklearn\\base.py:493: UserWarning:\n",
      "\n",
      "X does not have valid feature names, but KNeighborsClassifier was fitted with feature names\n",
      "\n",
      "d:\\Nahid-Capston\\Capstone_2\\.venv\\Lib\\site-packages\\sklearn\\base.py:493: UserWarning:\n",
      "\n",
      "X does not have valid feature names, but KNeighborsClassifier was fitted with feature names\n",
      "\n",
      "d:\\Nahid-Capston\\Capstone_2\\.venv\\Lib\\site-packages\\sklearn\\base.py:493: UserWarning:\n",
      "\n",
      "X does not have valid feature names, but KNeighborsClassifier was fitted with feature names\n",
      "\n",
      "d:\\Nahid-Capston\\Capstone_2\\.venv\\Lib\\site-packages\\sklearn\\base.py:493: UserWarning:\n",
      "\n",
      "X does not have valid feature names, but KNeighborsClassifier was fitted with feature names\n",
      "\n",
      "d:\\Nahid-Capston\\Capstone_2\\.venv\\Lib\\site-packages\\sklearn\\base.py:493: UserWarning:\n",
      "\n",
      "X does not have valid feature names, but KNeighborsClassifier was fitted with feature names\n",
      "\n",
      "d:\\Nahid-Capston\\Capstone_2\\.venv\\Lib\\site-packages\\sklearn\\base.py:493: UserWarning:\n",
      "\n",
      "X does not have valid feature names, but KNeighborsClassifier was fitted with feature names\n",
      "\n",
      "d:\\Nahid-Capston\\Capstone_2\\.venv\\Lib\\site-packages\\sklearn\\base.py:493: UserWarning:\n",
      "\n",
      "X does not have valid feature names, but KNeighborsClassifier was fitted with feature names\n",
      "\n",
      "d:\\Nahid-Capston\\Capstone_2\\.venv\\Lib\\site-packages\\sklearn\\base.py:493: UserWarning:\n",
      "\n",
      "X does not have valid feature names, but KNeighborsClassifier was fitted with feature names\n",
      "\n",
      "d:\\Nahid-Capston\\Capstone_2\\.venv\\Lib\\site-packages\\sklearn\\base.py:493: UserWarning:\n",
      "\n",
      "X does not have valid feature names, but KNeighborsClassifier was fitted with feature names\n",
      "\n",
      "d:\\Nahid-Capston\\Capstone_2\\.venv\\Lib\\site-packages\\sklearn\\base.py:493: UserWarning:\n",
      "\n",
      "X does not have valid feature names, but KNeighborsClassifier was fitted with feature names\n",
      "\n",
      "d:\\Nahid-Capston\\Capstone_2\\.venv\\Lib\\site-packages\\sklearn\\base.py:493: UserWarning:\n",
      "\n",
      "X does not have valid feature names, but KNeighborsClassifier was fitted with feature names\n",
      "\n",
      "d:\\Nahid-Capston\\Capstone_2\\.venv\\Lib\\site-packages\\sklearn\\base.py:493: UserWarning:\n",
      "\n",
      "X does not have valid feature names, but KNeighborsClassifier was fitted with feature names\n",
      "\n",
      "d:\\Nahid-Capston\\Capstone_2\\.venv\\Lib\\site-packages\\sklearn\\base.py:493: UserWarning:\n",
      "\n",
      "X does not have valid feature names, but KNeighborsClassifier was fitted with feature names\n",
      "\n",
      "d:\\Nahid-Capston\\Capstone_2\\.venv\\Lib\\site-packages\\sklearn\\base.py:493: UserWarning:\n",
      "\n",
      "X does not have valid feature names, but KNeighborsClassifier was fitted with feature names\n",
      "\n",
      "d:\\Nahid-Capston\\Capstone_2\\.venv\\Lib\\site-packages\\sklearn\\base.py:493: UserWarning:\n",
      "\n",
      "X does not have valid feature names, but KNeighborsClassifier was fitted with feature names\n",
      "\n",
      "d:\\Nahid-Capston\\Capstone_2\\.venv\\Lib\\site-packages\\sklearn\\base.py:493: UserWarning:\n",
      "\n",
      "X does not have valid feature names, but KNeighborsClassifier was fitted with feature names\n",
      "\n",
      "d:\\Nahid-Capston\\Capstone_2\\.venv\\Lib\\site-packages\\sklearn\\base.py:493: UserWarning:\n",
      "\n",
      "X does not have valid feature names, but KNeighborsClassifier was fitted with feature names\n",
      "\n",
      "d:\\Nahid-Capston\\Capstone_2\\.venv\\Lib\\site-packages\\sklearn\\base.py:493: UserWarning:\n",
      "\n",
      "X does not have valid feature names, but KNeighborsClassifier was fitted with feature names\n",
      "\n",
      "d:\\Nahid-Capston\\Capstone_2\\.venv\\Lib\\site-packages\\sklearn\\base.py:493: UserWarning:\n",
      "\n",
      "X does not have valid feature names, but KNeighborsClassifier was fitted with feature names\n",
      "\n",
      "d:\\Nahid-Capston\\Capstone_2\\.venv\\Lib\\site-packages\\sklearn\\base.py:493: UserWarning:\n",
      "\n",
      "X does not have valid feature names, but KNeighborsClassifier was fitted with feature names\n",
      "\n",
      "d:\\Nahid-Capston\\Capstone_2\\.venv\\Lib\\site-packages\\sklearn\\base.py:493: UserWarning:\n",
      "\n",
      "X does not have valid feature names, but KNeighborsClassifier was fitted with feature names\n",
      "\n",
      "d:\\Nahid-Capston\\Capstone_2\\.venv\\Lib\\site-packages\\sklearn\\base.py:493: UserWarning:\n",
      "\n",
      "X does not have valid feature names, but KNeighborsClassifier was fitted with feature names\n",
      "\n",
      "d:\\Nahid-Capston\\Capstone_2\\.venv\\Lib\\site-packages\\sklearn\\base.py:493: UserWarning:\n",
      "\n",
      "X does not have valid feature names, but KNeighborsClassifier was fitted with feature names\n",
      "\n",
      "d:\\Nahid-Capston\\Capstone_2\\.venv\\Lib\\site-packages\\sklearn\\base.py:493: UserWarning:\n",
      "\n",
      "X does not have valid feature names, but KNeighborsClassifier was fitted with feature names\n",
      "\n",
      "d:\\Nahid-Capston\\Capstone_2\\.venv\\Lib\\site-packages\\sklearn\\base.py:493: UserWarning:\n",
      "\n",
      "X does not have valid feature names, but KNeighborsClassifier was fitted with feature names\n",
      "\n",
      "d:\\Nahid-Capston\\Capstone_2\\.venv\\Lib\\site-packages\\sklearn\\base.py:493: UserWarning:\n",
      "\n",
      "X does not have valid feature names, but KNeighborsClassifier was fitted with feature names\n",
      "\n",
      "d:\\Nahid-Capston\\Capstone_2\\.venv\\Lib\\site-packages\\sklearn\\base.py:493: UserWarning:\n",
      "\n",
      "X does not have valid feature names, but KNeighborsClassifier was fitted with feature names\n",
      "\n",
      "d:\\Nahid-Capston\\Capstone_2\\.venv\\Lib\\site-packages\\sklearn\\base.py:493: UserWarning:\n",
      "\n",
      "X does not have valid feature names, but KNeighborsClassifier was fitted with feature names\n",
      "\n",
      "d:\\Nahid-Capston\\Capstone_2\\.venv\\Lib\\site-packages\\sklearn\\base.py:493: UserWarning:\n",
      "\n",
      "X does not have valid feature names, but KNeighborsClassifier was fitted with feature names\n",
      "\n",
      "d:\\Nahid-Capston\\Capstone_2\\.venv\\Lib\\site-packages\\sklearn\\base.py:493: UserWarning:\n",
      "\n",
      "X does not have valid feature names, but KNeighborsClassifier was fitted with feature names\n",
      "\n",
      "d:\\Nahid-Capston\\Capstone_2\\.venv\\Lib\\site-packages\\sklearn\\base.py:493: UserWarning:\n",
      "\n",
      "X does not have valid feature names, but KNeighborsClassifier was fitted with feature names\n",
      "\n",
      "d:\\Nahid-Capston\\Capstone_2\\.venv\\Lib\\site-packages\\sklearn\\base.py:493: UserWarning:\n",
      "\n",
      "X does not have valid feature names, but KNeighborsClassifier was fitted with feature names\n",
      "\n",
      "d:\\Nahid-Capston\\Capstone_2\\.venv\\Lib\\site-packages\\sklearn\\base.py:493: UserWarning:\n",
      "\n",
      "X does not have valid feature names, but KNeighborsClassifier was fitted with feature names\n",
      "\n",
      "d:\\Nahid-Capston\\Capstone_2\\.venv\\Lib\\site-packages\\sklearn\\base.py:493: UserWarning:\n",
      "\n",
      "X does not have valid feature names, but KNeighborsClassifier was fitted with feature names\n",
      "\n",
      "d:\\Nahid-Capston\\Capstone_2\\.venv\\Lib\\site-packages\\sklearn\\base.py:493: UserWarning:\n",
      "\n",
      "X does not have valid feature names, but KNeighborsClassifier was fitted with feature names\n",
      "\n",
      "d:\\Nahid-Capston\\Capstone_2\\.venv\\Lib\\site-packages\\sklearn\\base.py:493: UserWarning:\n",
      "\n",
      "X does not have valid feature names, but KNeighborsClassifier was fitted with feature names\n",
      "\n",
      "d:\\Nahid-Capston\\Capstone_2\\.venv\\Lib\\site-packages\\sklearn\\base.py:493: UserWarning:\n",
      "\n",
      "X does not have valid feature names, but KNeighborsClassifier was fitted with feature names\n",
      "\n",
      "d:\\Nahid-Capston\\Capstone_2\\.venv\\Lib\\site-packages\\sklearn\\base.py:493: UserWarning:\n",
      "\n",
      "X does not have valid feature names, but KNeighborsClassifier was fitted with feature names\n",
      "\n",
      "d:\\Nahid-Capston\\Capstone_2\\.venv\\Lib\\site-packages\\sklearn\\base.py:493: UserWarning:\n",
      "\n",
      "X does not have valid feature names, but KNeighborsClassifier was fitted with feature names\n",
      "\n",
      "d:\\Nahid-Capston\\Capstone_2\\.venv\\Lib\\site-packages\\sklearn\\base.py:493: UserWarning:\n",
      "\n",
      "X does not have valid feature names, but KNeighborsClassifier was fitted with feature names\n",
      "\n",
      "d:\\Nahid-Capston\\Capstone_2\\.venv\\Lib\\site-packages\\sklearn\\base.py:493: UserWarning:\n",
      "\n",
      "X does not have valid feature names, but KNeighborsClassifier was fitted with feature names\n",
      "\n",
      "d:\\Nahid-Capston\\Capstone_2\\.venv\\Lib\\site-packages\\sklearn\\base.py:493: UserWarning:\n",
      "\n",
      "X does not have valid feature names, but KNeighborsClassifier was fitted with feature names\n",
      "\n",
      "d:\\Nahid-Capston\\Capstone_2\\.venv\\Lib\\site-packages\\sklearn\\base.py:493: UserWarning:\n",
      "\n",
      "X does not have valid feature names, but KNeighborsClassifier was fitted with feature names\n",
      "\n",
      "d:\\Nahid-Capston\\Capstone_2\\.venv\\Lib\\site-packages\\sklearn\\base.py:493: UserWarning:\n",
      "\n",
      "X does not have valid feature names, but KNeighborsClassifier was fitted with feature names\n",
      "\n",
      "d:\\Nahid-Capston\\Capstone_2\\.venv\\Lib\\site-packages\\sklearn\\base.py:493: UserWarning:\n",
      "\n",
      "X does not have valid feature names, but KNeighborsClassifier was fitted with feature names\n",
      "\n",
      "d:\\Nahid-Capston\\Capstone_2\\.venv\\Lib\\site-packages\\sklearn\\base.py:493: UserWarning:\n",
      "\n",
      "X does not have valid feature names, but KNeighborsClassifier was fitted with feature names\n",
      "\n",
      "d:\\Nahid-Capston\\Capstone_2\\.venv\\Lib\\site-packages\\sklearn\\base.py:493: UserWarning:\n",
      "\n",
      "X does not have valid feature names, but KNeighborsClassifier was fitted with feature names\n",
      "\n",
      "d:\\Nahid-Capston\\Capstone_2\\.venv\\Lib\\site-packages\\sklearn\\base.py:493: UserWarning:\n",
      "\n",
      "X does not have valid feature names, but KNeighborsClassifier was fitted with feature names\n",
      "\n",
      "d:\\Nahid-Capston\\Capstone_2\\.venv\\Lib\\site-packages\\sklearn\\base.py:493: UserWarning:\n",
      "\n",
      "X does not have valid feature names, but KNeighborsClassifier was fitted with feature names\n",
      "\n",
      "d:\\Nahid-Capston\\Capstone_2\\.venv\\Lib\\site-packages\\sklearn\\base.py:493: UserWarning:\n",
      "\n",
      "X does not have valid feature names, but KNeighborsClassifier was fitted with feature names\n",
      "\n",
      "d:\\Nahid-Capston\\Capstone_2\\.venv\\Lib\\site-packages\\sklearn\\base.py:493: UserWarning:\n",
      "\n",
      "X does not have valid feature names, but KNeighborsClassifier was fitted with feature names\n",
      "\n",
      "d:\\Nahid-Capston\\Capstone_2\\.venv\\Lib\\site-packages\\sklearn\\base.py:493: UserWarning:\n",
      "\n",
      "X does not have valid feature names, but KNeighborsClassifier was fitted with feature names\n",
      "\n",
      "d:\\Nahid-Capston\\Capstone_2\\.venv\\Lib\\site-packages\\sklearn\\base.py:493: UserWarning:\n",
      "\n",
      "X does not have valid feature names, but KNeighborsClassifier was fitted with feature names\n",
      "\n",
      "d:\\Nahid-Capston\\Capstone_2\\.venv\\Lib\\site-packages\\sklearn\\base.py:493: UserWarning:\n",
      "\n",
      "X does not have valid feature names, but KNeighborsClassifier was fitted with feature names\n",
      "\n",
      "d:\\Nahid-Capston\\Capstone_2\\.venv\\Lib\\site-packages\\sklearn\\base.py:493: UserWarning:\n",
      "\n",
      "X does not have valid feature names, but KNeighborsClassifier was fitted with feature names\n",
      "\n",
      "d:\\Nahid-Capston\\Capstone_2\\.venv\\Lib\\site-packages\\sklearn\\base.py:493: UserWarning:\n",
      "\n",
      "X does not have valid feature names, but KNeighborsClassifier was fitted with feature names\n",
      "\n",
      "d:\\Nahid-Capston\\Capstone_2\\.venv\\Lib\\site-packages\\sklearn\\base.py:493: UserWarning:\n",
      "\n",
      "X does not have valid feature names, but KNeighborsClassifier was fitted with feature names\n",
      "\n",
      "d:\\Nahid-Capston\\Capstone_2\\.venv\\Lib\\site-packages\\sklearn\\base.py:493: UserWarning:\n",
      "\n",
      "X does not have valid feature names, but KNeighborsClassifier was fitted with feature names\n",
      "\n",
      "d:\\Nahid-Capston\\Capstone_2\\.venv\\Lib\\site-packages\\sklearn\\base.py:493: UserWarning:\n",
      "\n",
      "X does not have valid feature names, but KNeighborsClassifier was fitted with feature names\n",
      "\n",
      "d:\\Nahid-Capston\\Capstone_2\\.venv\\Lib\\site-packages\\sklearn\\base.py:493: UserWarning:\n",
      "\n",
      "X does not have valid feature names, but KNeighborsClassifier was fitted with feature names\n",
      "\n",
      "d:\\Nahid-Capston\\Capstone_2\\.venv\\Lib\\site-packages\\sklearn\\base.py:493: UserWarning:\n",
      "\n",
      "X does not have valid feature names, but KNeighborsClassifier was fitted with feature names\n",
      "\n",
      "d:\\Nahid-Capston\\Capstone_2\\.venv\\Lib\\site-packages\\sklearn\\base.py:493: UserWarning:\n",
      "\n",
      "X does not have valid feature names, but KNeighborsClassifier was fitted with feature names\n",
      "\n",
      "d:\\Nahid-Capston\\Capstone_2\\.venv\\Lib\\site-packages\\sklearn\\base.py:493: UserWarning:\n",
      "\n",
      "X does not have valid feature names, but KNeighborsClassifier was fitted with feature names\n",
      "\n",
      "d:\\Nahid-Capston\\Capstone_2\\.venv\\Lib\\site-packages\\sklearn\\base.py:493: UserWarning:\n",
      "\n",
      "X does not have valid feature names, but KNeighborsClassifier was fitted with feature names\n",
      "\n",
      "d:\\Nahid-Capston\\Capstone_2\\.venv\\Lib\\site-packages\\sklearn\\base.py:493: UserWarning:\n",
      "\n",
      "X does not have valid feature names, but KNeighborsClassifier was fitted with feature names\n",
      "\n",
      "d:\\Nahid-Capston\\Capstone_2\\.venv\\Lib\\site-packages\\sklearn\\base.py:493: UserWarning:\n",
      "\n",
      "X does not have valid feature names, but KNeighborsClassifier was fitted with feature names\n",
      "\n",
      "d:\\Nahid-Capston\\Capstone_2\\.venv\\Lib\\site-packages\\sklearn\\base.py:493: UserWarning:\n",
      "\n",
      "X does not have valid feature names, but KNeighborsClassifier was fitted with feature names\n",
      "\n",
      "d:\\Nahid-Capston\\Capstone_2\\.venv\\Lib\\site-packages\\sklearn\\base.py:493: UserWarning:\n",
      "\n",
      "X does not have valid feature names, but KNeighborsClassifier was fitted with feature names\n",
      "\n",
      "d:\\Nahid-Capston\\Capstone_2\\.venv\\Lib\\site-packages\\sklearn\\base.py:493: UserWarning:\n",
      "\n",
      "X does not have valid feature names, but KNeighborsClassifier was fitted with feature names\n",
      "\n",
      "d:\\Nahid-Capston\\Capstone_2\\.venv\\Lib\\site-packages\\sklearn\\base.py:493: UserWarning:\n",
      "\n",
      "X does not have valid feature names, but KNeighborsClassifier was fitted with feature names\n",
      "\n",
      "d:\\Nahid-Capston\\Capstone_2\\.venv\\Lib\\site-packages\\sklearn\\base.py:493: UserWarning:\n",
      "\n",
      "X does not have valid feature names, but KNeighborsClassifier was fitted with feature names\n",
      "\n",
      "d:\\Nahid-Capston\\Capstone_2\\.venv\\Lib\\site-packages\\sklearn\\base.py:493: UserWarning:\n",
      "\n",
      "X does not have valid feature names, but KNeighborsClassifier was fitted with feature names\n",
      "\n",
      "d:\\Nahid-Capston\\Capstone_2\\.venv\\Lib\\site-packages\\sklearn\\base.py:493: UserWarning:\n",
      "\n",
      "X does not have valid feature names, but KNeighborsClassifier was fitted with feature names\n",
      "\n",
      "d:\\Nahid-Capston\\Capstone_2\\.venv\\Lib\\site-packages\\sklearn\\base.py:493: UserWarning:\n",
      "\n",
      "X does not have valid feature names, but KNeighborsClassifier was fitted with feature names\n",
      "\n",
      "d:\\Nahid-Capston\\Capstone_2\\.venv\\Lib\\site-packages\\sklearn\\base.py:493: UserWarning:\n",
      "\n",
      "X does not have valid feature names, but KNeighborsClassifier was fitted with feature names\n",
      "\n",
      "d:\\Nahid-Capston\\Capstone_2\\.venv\\Lib\\site-packages\\sklearn\\base.py:493: UserWarning:\n",
      "\n",
      "X does not have valid feature names, but KNeighborsClassifier was fitted with feature names\n",
      "\n",
      "d:\\Nahid-Capston\\Capstone_2\\.venv\\Lib\\site-packages\\sklearn\\base.py:493: UserWarning:\n",
      "\n",
      "X does not have valid feature names, but KNeighborsClassifier was fitted with feature names\n",
      "\n",
      "d:\\Nahid-Capston\\Capstone_2\\.venv\\Lib\\site-packages\\sklearn\\base.py:493: UserWarning:\n",
      "\n",
      "X does not have valid feature names, but KNeighborsClassifier was fitted with feature names\n",
      "\n",
      "d:\\Nahid-Capston\\Capstone_2\\.venv\\Lib\\site-packages\\sklearn\\base.py:493: UserWarning:\n",
      "\n",
      "X does not have valid feature names, but KNeighborsClassifier was fitted with feature names\n",
      "\n",
      "d:\\Nahid-Capston\\Capstone_2\\.venv\\Lib\\site-packages\\sklearn\\base.py:493: UserWarning:\n",
      "\n",
      "X does not have valid feature names, but KNeighborsClassifier was fitted with feature names\n",
      "\n",
      "d:\\Nahid-Capston\\Capstone_2\\.venv\\Lib\\site-packages\\sklearn\\base.py:493: UserWarning:\n",
      "\n",
      "X does not have valid feature names, but KNeighborsClassifier was fitted with feature names\n",
      "\n",
      "d:\\Nahid-Capston\\Capstone_2\\.venv\\Lib\\site-packages\\sklearn\\base.py:493: UserWarning:\n",
      "\n",
      "X does not have valid feature names, but KNeighborsClassifier was fitted with feature names\n",
      "\n",
      "d:\\Nahid-Capston\\Capstone_2\\.venv\\Lib\\site-packages\\sklearn\\base.py:493: UserWarning:\n",
      "\n",
      "X does not have valid feature names, but KNeighborsClassifier was fitted with feature names\n",
      "\n",
      "d:\\Nahid-Capston\\Capstone_2\\.venv\\Lib\\site-packages\\sklearn\\base.py:493: UserWarning:\n",
      "\n",
      "X does not have valid feature names, but KNeighborsClassifier was fitted with feature names\n",
      "\n",
      "d:\\Nahid-Capston\\Capstone_2\\.venv\\Lib\\site-packages\\sklearn\\base.py:493: UserWarning:\n",
      "\n",
      "X does not have valid feature names, but KNeighborsClassifier was fitted with feature names\n",
      "\n",
      "d:\\Nahid-Capston\\Capstone_2\\.venv\\Lib\\site-packages\\sklearn\\base.py:493: UserWarning:\n",
      "\n",
      "X does not have valid feature names, but KNeighborsClassifier was fitted with feature names\n",
      "\n",
      "d:\\Nahid-Capston\\Capstone_2\\.venv\\Lib\\site-packages\\sklearn\\base.py:493: UserWarning:\n",
      "\n",
      "X does not have valid feature names, but KNeighborsClassifier was fitted with feature names\n",
      "\n",
      "d:\\Nahid-Capston\\Capstone_2\\.venv\\Lib\\site-packages\\sklearn\\base.py:493: UserWarning:\n",
      "\n",
      "X does not have valid feature names, but KNeighborsClassifier was fitted with feature names\n",
      "\n",
      "d:\\Nahid-Capston\\Capstone_2\\.venv\\Lib\\site-packages\\sklearn\\base.py:493: UserWarning:\n",
      "\n",
      "X does not have valid feature names, but KNeighborsClassifier was fitted with feature names\n",
      "\n",
      "d:\\Nahid-Capston\\Capstone_2\\.venv\\Lib\\site-packages\\sklearn\\base.py:493: UserWarning:\n",
      "\n",
      "X does not have valid feature names, but KNeighborsClassifier was fitted with feature names\n",
      "\n",
      "d:\\Nahid-Capston\\Capstone_2\\.venv\\Lib\\site-packages\\sklearn\\base.py:493: UserWarning:\n",
      "\n",
      "X does not have valid feature names, but KNeighborsClassifier was fitted with feature names\n",
      "\n",
      "d:\\Nahid-Capston\\Capstone_2\\.venv\\Lib\\site-packages\\sklearn\\base.py:493: UserWarning:\n",
      "\n",
      "X does not have valid feature names, but KNeighborsClassifier was fitted with feature names\n",
      "\n",
      "d:\\Nahid-Capston\\Capstone_2\\.venv\\Lib\\site-packages\\sklearn\\base.py:493: UserWarning:\n",
      "\n",
      "X does not have valid feature names, but KNeighborsClassifier was fitted with feature names\n",
      "\n",
      "d:\\Nahid-Capston\\Capstone_2\\.venv\\Lib\\site-packages\\sklearn\\base.py:493: UserWarning:\n",
      "\n",
      "X does not have valid feature names, but KNeighborsClassifier was fitted with feature names\n",
      "\n",
      "d:\\Nahid-Capston\\Capstone_2\\.venv\\Lib\\site-packages\\sklearn\\base.py:493: UserWarning:\n",
      "\n",
      "X does not have valid feature names, but KNeighborsClassifier was fitted with feature names\n",
      "\n",
      "d:\\Nahid-Capston\\Capstone_2\\.venv\\Lib\\site-packages\\sklearn\\base.py:493: UserWarning:\n",
      "\n",
      "X does not have valid feature names, but KNeighborsClassifier was fitted with feature names\n",
      "\n",
      "d:\\Nahid-Capston\\Capstone_2\\.venv\\Lib\\site-packages\\sklearn\\base.py:493: UserWarning:\n",
      "\n",
      "X does not have valid feature names, but KNeighborsClassifier was fitted with feature names\n",
      "\n",
      "d:\\Nahid-Capston\\Capstone_2\\.venv\\Lib\\site-packages\\sklearn\\base.py:493: UserWarning:\n",
      "\n",
      "X does not have valid feature names, but KNeighborsClassifier was fitted with feature names\n",
      "\n",
      "d:\\Nahid-Capston\\Capstone_2\\.venv\\Lib\\site-packages\\sklearn\\base.py:493: UserWarning:\n",
      "\n",
      "X does not have valid feature names, but KNeighborsClassifier was fitted with feature names\n",
      "\n",
      "d:\\Nahid-Capston\\Capstone_2\\.venv\\Lib\\site-packages\\sklearn\\base.py:493: UserWarning:\n",
      "\n",
      "X does not have valid feature names, but KNeighborsClassifier was fitted with feature names\n",
      "\n",
      "d:\\Nahid-Capston\\Capstone_2\\.venv\\Lib\\site-packages\\sklearn\\base.py:493: UserWarning:\n",
      "\n",
      "X does not have valid feature names, but KNeighborsClassifier was fitted with feature names\n",
      "\n",
      "d:\\Nahid-Capston\\Capstone_2\\.venv\\Lib\\site-packages\\sklearn\\base.py:493: UserWarning:\n",
      "\n",
      "X does not have valid feature names, but KNeighborsClassifier was fitted with feature names\n",
      "\n",
      "d:\\Nahid-Capston\\Capstone_2\\.venv\\Lib\\site-packages\\sklearn\\base.py:493: UserWarning:\n",
      "\n",
      "X does not have valid feature names, but KNeighborsClassifier was fitted with feature names\n",
      "\n",
      "d:\\Nahid-Capston\\Capstone_2\\.venv\\Lib\\site-packages\\sklearn\\base.py:493: UserWarning:\n",
      "\n",
      "X does not have valid feature names, but KNeighborsClassifier was fitted with feature names\n",
      "\n",
      "d:\\Nahid-Capston\\Capstone_2\\.venv\\Lib\\site-packages\\sklearn\\base.py:493: UserWarning:\n",
      "\n",
      "X does not have valid feature names, but KNeighborsClassifier was fitted with feature names\n",
      "\n",
      "d:\\Nahid-Capston\\Capstone_2\\.venv\\Lib\\site-packages\\sklearn\\base.py:493: UserWarning:\n",
      "\n",
      "X does not have valid feature names, but KNeighborsClassifier was fitted with feature names\n",
      "\n",
      "d:\\Nahid-Capston\\Capstone_2\\.venv\\Lib\\site-packages\\sklearn\\base.py:493: UserWarning:\n",
      "\n",
      "X does not have valid feature names, but KNeighborsClassifier was fitted with feature names\n",
      "\n",
      "d:\\Nahid-Capston\\Capstone_2\\.venv\\Lib\\site-packages\\sklearn\\base.py:493: UserWarning:\n",
      "\n",
      "X does not have valid feature names, but KNeighborsClassifier was fitted with feature names\n",
      "\n",
      "d:\\Nahid-Capston\\Capstone_2\\.venv\\Lib\\site-packages\\sklearn\\base.py:493: UserWarning:\n",
      "\n",
      "X does not have valid feature names, but KNeighborsClassifier was fitted with feature names\n",
      "\n",
      "d:\\Nahid-Capston\\Capstone_2\\.venv\\Lib\\site-packages\\sklearn\\base.py:493: UserWarning:\n",
      "\n",
      "X does not have valid feature names, but KNeighborsClassifier was fitted with feature names\n",
      "\n",
      "d:\\Nahid-Capston\\Capstone_2\\.venv\\Lib\\site-packages\\sklearn\\base.py:493: UserWarning:\n",
      "\n",
      "X does not have valid feature names, but KNeighborsClassifier was fitted with feature names\n",
      "\n",
      "d:\\Nahid-Capston\\Capstone_2\\.venv\\Lib\\site-packages\\sklearn\\base.py:493: UserWarning:\n",
      "\n",
      "X does not have valid feature names, but KNeighborsClassifier was fitted with feature names\n",
      "\n",
      "d:\\Nahid-Capston\\Capstone_2\\.venv\\Lib\\site-packages\\sklearn\\base.py:493: UserWarning:\n",
      "\n",
      "X does not have valid feature names, but KNeighborsClassifier was fitted with feature names\n",
      "\n",
      "d:\\Nahid-Capston\\Capstone_2\\.venv\\Lib\\site-packages\\sklearn\\base.py:493: UserWarning:\n",
      "\n",
      "X does not have valid feature names, but KNeighborsClassifier was fitted with feature names\n",
      "\n",
      "d:\\Nahid-Capston\\Capstone_2\\.venv\\Lib\\site-packages\\sklearn\\base.py:493: UserWarning:\n",
      "\n",
      "X does not have valid feature names, but KNeighborsClassifier was fitted with feature names\n",
      "\n",
      "d:\\Nahid-Capston\\Capstone_2\\.venv\\Lib\\site-packages\\sklearn\\base.py:493: UserWarning:\n",
      "\n",
      "X does not have valid feature names, but KNeighborsClassifier was fitted with feature names\n",
      "\n",
      "d:\\Nahid-Capston\\Capstone_2\\.venv\\Lib\\site-packages\\sklearn\\base.py:493: UserWarning:\n",
      "\n",
      "X does not have valid feature names, but KNeighborsClassifier was fitted with feature names\n",
      "\n",
      "d:\\Nahid-Capston\\Capstone_2\\.venv\\Lib\\site-packages\\sklearn\\base.py:493: UserWarning:\n",
      "\n",
      "X does not have valid feature names, but KNeighborsClassifier was fitted with feature names\n",
      "\n",
      "d:\\Nahid-Capston\\Capstone_2\\.venv\\Lib\\site-packages\\sklearn\\base.py:493: UserWarning:\n",
      "\n",
      "X does not have valid feature names, but KNeighborsClassifier was fitted with feature names\n",
      "\n",
      "d:\\Nahid-Capston\\Capstone_2\\.venv\\Lib\\site-packages\\sklearn\\base.py:493: UserWarning:\n",
      "\n",
      "X does not have valid feature names, but KNeighborsClassifier was fitted with feature names\n",
      "\n",
      "d:\\Nahid-Capston\\Capstone_2\\.venv\\Lib\\site-packages\\sklearn\\base.py:493: UserWarning:\n",
      "\n",
      "X does not have valid feature names, but KNeighborsClassifier was fitted with feature names\n",
      "\n",
      "d:\\Nahid-Capston\\Capstone_2\\.venv\\Lib\\site-packages\\sklearn\\base.py:493: UserWarning:\n",
      "\n",
      "X does not have valid feature names, but KNeighborsClassifier was fitted with feature names\n",
      "\n",
      "d:\\Nahid-Capston\\Capstone_2\\.venv\\Lib\\site-packages\\sklearn\\base.py:493: UserWarning:\n",
      "\n",
      "X does not have valid feature names, but KNeighborsClassifier was fitted with feature names\n",
      "\n",
      "d:\\Nahid-Capston\\Capstone_2\\.venv\\Lib\\site-packages\\sklearn\\base.py:493: UserWarning:\n",
      "\n",
      "X does not have valid feature names, but KNeighborsClassifier was fitted with feature names\n",
      "\n",
      "d:\\Nahid-Capston\\Capstone_2\\.venv\\Lib\\site-packages\\sklearn\\base.py:493: UserWarning:\n",
      "\n",
      "X does not have valid feature names, but KNeighborsClassifier was fitted with feature names\n",
      "\n",
      "d:\\Nahid-Capston\\Capstone_2\\.venv\\Lib\\site-packages\\sklearn\\base.py:493: UserWarning:\n",
      "\n",
      "X does not have valid feature names, but KNeighborsClassifier was fitted with feature names\n",
      "\n",
      "d:\\Nahid-Capston\\Capstone_2\\.venv\\Lib\\site-packages\\sklearn\\base.py:493: UserWarning:\n",
      "\n",
      "X does not have valid feature names, but KNeighborsClassifier was fitted with feature names\n",
      "\n"
     ]
    },
    {
     "ename": "KeyboardInterrupt",
     "evalue": "",
     "output_type": "error",
     "traceback": [
      "\u001b[1;31m---------------------------------------------------------------------------\u001b[0m",
      "\u001b[1;31mKeyboardInterrupt\u001b[0m                         Traceback (most recent call last)",
      "Cell \u001b[1;32mIn[134], line 11\u001b[0m\n\u001b[0;32m      9\u001b[0m lime_explanations \u001b[38;5;241m=\u001b[39m []\n\u001b[0;32m     10\u001b[0m \u001b[38;5;28;01mfor\u001b[39;00m i \u001b[38;5;129;01min\u001b[39;00m \u001b[38;5;28mrange\u001b[39m(\u001b[38;5;28mlen\u001b[39m(X_test)):\n\u001b[1;32m---> 11\u001b[0m     exp \u001b[38;5;241m=\u001b[39m \u001b[43mexplainer\u001b[49m\u001b[38;5;241;43m.\u001b[39;49m\u001b[43mexplain_instance\u001b[49m\u001b[43m(\u001b[49m\u001b[43mX_test\u001b[49m\u001b[38;5;241;43m.\u001b[39;49m\u001b[43mvalues\u001b[49m\u001b[43m[\u001b[49m\u001b[43mi\u001b[49m\u001b[43m]\u001b[49m\u001b[43m,\u001b[49m\u001b[43m \u001b[49m\u001b[43mgrid_search\u001b[49m\u001b[38;5;241;43m.\u001b[39;49m\u001b[43mbest_estimator_\u001b[49m\u001b[38;5;241;43m.\u001b[39;49m\u001b[43mpredict_proba\u001b[49m\u001b[43m,\u001b[49m\u001b[43m \u001b[49m\u001b[43mnum_features\u001b[49m\u001b[38;5;241;43m=\u001b[39;49m\u001b[38;5;241;43m5\u001b[39;49m\u001b[43m)\u001b[49m\n\u001b[0;32m     12\u001b[0m     lime_explanations\u001b[38;5;241m.\u001b[39mappend(exp)\n\u001b[0;32m     14\u001b[0m \u001b[38;5;66;03m# SHAP explainability\u001b[39;00m\n",
      "File \u001b[1;32md:\\Nahid-Capston\\Capstone_2\\.venv\\Lib\\site-packages\\lime\\lime_tabular.py:452\u001b[0m, in \u001b[0;36mLimeTabularExplainer.explain_instance\u001b[1;34m(self, data_row, predict_fn, labels, top_labels, num_features, num_samples, distance_metric, model_regressor)\u001b[0m\n\u001b[0;32m    448\u001b[0m     labels \u001b[38;5;241m=\u001b[39m [\u001b[38;5;241m0\u001b[39m]\n\u001b[0;32m    449\u001b[0m \u001b[38;5;28;01mfor\u001b[39;00m label \u001b[38;5;129;01min\u001b[39;00m labels:\n\u001b[0;32m    450\u001b[0m     (ret_exp\u001b[38;5;241m.\u001b[39mintercept[label],\n\u001b[0;32m    451\u001b[0m      ret_exp\u001b[38;5;241m.\u001b[39mlocal_exp[label],\n\u001b[1;32m--> 452\u001b[0m      ret_exp\u001b[38;5;241m.\u001b[39mscore, ret_exp\u001b[38;5;241m.\u001b[39mlocal_pred) \u001b[38;5;241m=\u001b[39m \u001b[38;5;28;43mself\u001b[39;49m\u001b[38;5;241;43m.\u001b[39;49m\u001b[43mbase\u001b[49m\u001b[38;5;241;43m.\u001b[39;49m\u001b[43mexplain_instance_with_data\u001b[49m\u001b[43m(\u001b[49m\n\u001b[0;32m    453\u001b[0m \u001b[43m            \u001b[49m\u001b[43mscaled_data\u001b[49m\u001b[43m,\u001b[49m\n\u001b[0;32m    454\u001b[0m \u001b[43m            \u001b[49m\u001b[43myss\u001b[49m\u001b[43m,\u001b[49m\n\u001b[0;32m    455\u001b[0m \u001b[43m            \u001b[49m\u001b[43mdistances\u001b[49m\u001b[43m,\u001b[49m\n\u001b[0;32m    456\u001b[0m \u001b[43m            \u001b[49m\u001b[43mlabel\u001b[49m\u001b[43m,\u001b[49m\n\u001b[0;32m    457\u001b[0m \u001b[43m            \u001b[49m\u001b[43mnum_features\u001b[49m\u001b[43m,\u001b[49m\n\u001b[0;32m    458\u001b[0m \u001b[43m            \u001b[49m\u001b[43mmodel_regressor\u001b[49m\u001b[38;5;241;43m=\u001b[39;49m\u001b[43mmodel_regressor\u001b[49m\u001b[43m,\u001b[49m\n\u001b[0;32m    459\u001b[0m \u001b[43m            \u001b[49m\u001b[43mfeature_selection\u001b[49m\u001b[38;5;241;43m=\u001b[39;49m\u001b[38;5;28;43mself\u001b[39;49m\u001b[38;5;241;43m.\u001b[39;49m\u001b[43mfeature_selection\u001b[49m\u001b[43m)\u001b[49m\n\u001b[0;32m    461\u001b[0m \u001b[38;5;28;01mif\u001b[39;00m \u001b[38;5;28mself\u001b[39m\u001b[38;5;241m.\u001b[39mmode \u001b[38;5;241m==\u001b[39m \u001b[38;5;124m\"\u001b[39m\u001b[38;5;124mregression\u001b[39m\u001b[38;5;124m\"\u001b[39m:\n\u001b[0;32m    462\u001b[0m     ret_exp\u001b[38;5;241m.\u001b[39mintercept[\u001b[38;5;241m1\u001b[39m] \u001b[38;5;241m=\u001b[39m ret_exp\u001b[38;5;241m.\u001b[39mintercept[\u001b[38;5;241m0\u001b[39m]\n",
      "File \u001b[1;32md:\\Nahid-Capston\\Capstone_2\\.venv\\Lib\\site-packages\\lime\\lime_base.py:183\u001b[0m, in \u001b[0;36mLimeBase.explain_instance_with_data\u001b[1;34m(self, neighborhood_data, neighborhood_labels, distances, label, num_features, feature_selection, model_regressor)\u001b[0m\n\u001b[0;32m    181\u001b[0m weights \u001b[38;5;241m=\u001b[39m \u001b[38;5;28mself\u001b[39m\u001b[38;5;241m.\u001b[39mkernel_fn(distances)\n\u001b[0;32m    182\u001b[0m labels_column \u001b[38;5;241m=\u001b[39m neighborhood_labels[:, label]\n\u001b[1;32m--> 183\u001b[0m used_features \u001b[38;5;241m=\u001b[39m \u001b[38;5;28;43mself\u001b[39;49m\u001b[38;5;241;43m.\u001b[39;49m\u001b[43mfeature_selection\u001b[49m\u001b[43m(\u001b[49m\u001b[43mneighborhood_data\u001b[49m\u001b[43m,\u001b[49m\n\u001b[0;32m    184\u001b[0m \u001b[43m                                       \u001b[49m\u001b[43mlabels_column\u001b[49m\u001b[43m,\u001b[49m\n\u001b[0;32m    185\u001b[0m \u001b[43m                                       \u001b[49m\u001b[43mweights\u001b[49m\u001b[43m,\u001b[49m\n\u001b[0;32m    186\u001b[0m \u001b[43m                                       \u001b[49m\u001b[43mnum_features\u001b[49m\u001b[43m,\u001b[49m\n\u001b[0;32m    187\u001b[0m \u001b[43m                                       \u001b[49m\u001b[43mfeature_selection\u001b[49m\u001b[43m)\u001b[49m\n\u001b[0;32m    188\u001b[0m \u001b[38;5;28;01mif\u001b[39;00m model_regressor \u001b[38;5;129;01mis\u001b[39;00m \u001b[38;5;28;01mNone\u001b[39;00m:\n\u001b[0;32m    189\u001b[0m     model_regressor \u001b[38;5;241m=\u001b[39m Ridge(alpha\u001b[38;5;241m=\u001b[39m\u001b[38;5;241m1\u001b[39m, fit_intercept\u001b[38;5;241m=\u001b[39m\u001b[38;5;28;01mTrue\u001b[39;00m,\n\u001b[0;32m    190\u001b[0m                             random_state\u001b[38;5;241m=\u001b[39m\u001b[38;5;28mself\u001b[39m\u001b[38;5;241m.\u001b[39mrandom_state)\n",
      "File \u001b[1;32md:\\Nahid-Capston\\Capstone_2\\.venv\\Lib\\site-packages\\lime\\lime_base.py:134\u001b[0m, in \u001b[0;36mLimeBase.feature_selection\u001b[1;34m(self, data, labels, weights, num_features, method)\u001b[0m\n\u001b[0;32m    132\u001b[0m \u001b[38;5;28;01melse\u001b[39;00m:\n\u001b[0;32m    133\u001b[0m     n_method \u001b[38;5;241m=\u001b[39m \u001b[38;5;124m'\u001b[39m\u001b[38;5;124mhighest_weights\u001b[39m\u001b[38;5;124m'\u001b[39m\n\u001b[1;32m--> 134\u001b[0m \u001b[38;5;28;01mreturn\u001b[39;00m \u001b[38;5;28;43mself\u001b[39;49m\u001b[38;5;241;43m.\u001b[39;49m\u001b[43mfeature_selection\u001b[49m\u001b[43m(\u001b[49m\u001b[43mdata\u001b[49m\u001b[43m,\u001b[49m\u001b[43m \u001b[49m\u001b[43mlabels\u001b[49m\u001b[43m,\u001b[49m\u001b[43m \u001b[49m\u001b[43mweights\u001b[49m\u001b[43m,\u001b[49m\n\u001b[0;32m    135\u001b[0m \u001b[43m                              \u001b[49m\u001b[43mnum_features\u001b[49m\u001b[43m,\u001b[49m\u001b[43m \u001b[49m\u001b[43mn_method\u001b[49m\u001b[43m)\u001b[49m\n",
      "File \u001b[1;32md:\\Nahid-Capston\\Capstone_2\\.venv\\Lib\\site-packages\\lime\\lime_base.py:76\u001b[0m, in \u001b[0;36mLimeBase.feature_selection\u001b[1;34m(self, data, labels, weights, num_features, method)\u001b[0m\n\u001b[0;32m     74\u001b[0m     \u001b[38;5;28;01mreturn\u001b[39;00m np\u001b[38;5;241m.\u001b[39marray(\u001b[38;5;28mrange\u001b[39m(data\u001b[38;5;241m.\u001b[39mshape[\u001b[38;5;241m1\u001b[39m]))\n\u001b[0;32m     75\u001b[0m \u001b[38;5;28;01melif\u001b[39;00m method \u001b[38;5;241m==\u001b[39m \u001b[38;5;124m'\u001b[39m\u001b[38;5;124mforward_selection\u001b[39m\u001b[38;5;124m'\u001b[39m:\n\u001b[1;32m---> 76\u001b[0m     \u001b[38;5;28;01mreturn\u001b[39;00m \u001b[38;5;28;43mself\u001b[39;49m\u001b[38;5;241;43m.\u001b[39;49m\u001b[43mforward_selection\u001b[49m\u001b[43m(\u001b[49m\u001b[43mdata\u001b[49m\u001b[43m,\u001b[49m\u001b[43m \u001b[49m\u001b[43mlabels\u001b[49m\u001b[43m,\u001b[49m\u001b[43m \u001b[49m\u001b[43mweights\u001b[49m\u001b[43m,\u001b[49m\u001b[43m \u001b[49m\u001b[43mnum_features\u001b[49m\u001b[43m)\u001b[49m\n\u001b[0;32m     77\u001b[0m \u001b[38;5;28;01melif\u001b[39;00m method \u001b[38;5;241m==\u001b[39m \u001b[38;5;124m'\u001b[39m\u001b[38;5;124mhighest_weights\u001b[39m\u001b[38;5;124m'\u001b[39m:\n\u001b[0;32m     78\u001b[0m     clf \u001b[38;5;241m=\u001b[39m Ridge(alpha\u001b[38;5;241m=\u001b[39m\u001b[38;5;241m0.01\u001b[39m, fit_intercept\u001b[38;5;241m=\u001b[39m\u001b[38;5;28;01mTrue\u001b[39;00m,\n\u001b[0;32m     79\u001b[0m                 random_state\u001b[38;5;241m=\u001b[39m\u001b[38;5;28mself\u001b[39m\u001b[38;5;241m.\u001b[39mrandom_state)\n",
      "File \u001b[1;32md:\\Nahid-Capston\\Capstone_2\\.venv\\Lib\\site-packages\\lime\\lime_base.py:59\u001b[0m, in \u001b[0;36mLimeBase.forward_selection\u001b[1;34m(self, data, labels, weights, num_features)\u001b[0m\n\u001b[0;32m     57\u001b[0m \u001b[38;5;28;01mif\u001b[39;00m feature \u001b[38;5;129;01min\u001b[39;00m used_features:\n\u001b[0;32m     58\u001b[0m     \u001b[38;5;28;01mcontinue\u001b[39;00m\n\u001b[1;32m---> 59\u001b[0m \u001b[43mclf\u001b[49m\u001b[38;5;241;43m.\u001b[39;49m\u001b[43mfit\u001b[49m\u001b[43m(\u001b[49m\u001b[43mdata\u001b[49m\u001b[43m[\u001b[49m\u001b[43m:\u001b[49m\u001b[43m,\u001b[49m\u001b[43m \u001b[49m\u001b[43mused_features\u001b[49m\u001b[43m \u001b[49m\u001b[38;5;241;43m+\u001b[39;49m\u001b[43m \u001b[49m\u001b[43m[\u001b[49m\u001b[43mfeature\u001b[49m\u001b[43m]\u001b[49m\u001b[43m]\u001b[49m\u001b[43m,\u001b[49m\u001b[43m \u001b[49m\u001b[43mlabels\u001b[49m\u001b[43m,\u001b[49m\n\u001b[0;32m     60\u001b[0m \u001b[43m        \u001b[49m\u001b[43msample_weight\u001b[49m\u001b[38;5;241;43m=\u001b[39;49m\u001b[43mweights\u001b[49m\u001b[43m)\u001b[49m\n\u001b[0;32m     61\u001b[0m score \u001b[38;5;241m=\u001b[39m clf\u001b[38;5;241m.\u001b[39mscore(data[:, used_features \u001b[38;5;241m+\u001b[39m [feature]],\n\u001b[0;32m     62\u001b[0m                   labels,\n\u001b[0;32m     63\u001b[0m                   sample_weight\u001b[38;5;241m=\u001b[39mweights)\n\u001b[0;32m     64\u001b[0m \u001b[38;5;28;01mif\u001b[39;00m score \u001b[38;5;241m>\u001b[39m max_:\n",
      "File \u001b[1;32md:\\Nahid-Capston\\Capstone_2\\.venv\\Lib\\site-packages\\sklearn\\base.py:1456\u001b[0m, in \u001b[0;36m_fit_context.<locals>.decorator.<locals>.wrapper\u001b[1;34m(estimator, *args, **kwargs)\u001b[0m\n\u001b[0;32m   1455\u001b[0m \u001b[38;5;28;01mdef\u001b[39;00m \u001b[38;5;21mdecorator\u001b[39m(fit_method):\n\u001b[1;32m-> 1456\u001b[0m     \u001b[38;5;129m@functools\u001b[39m\u001b[38;5;241m.\u001b[39mwraps(fit_method)\n\u001b[0;32m   1457\u001b[0m     \u001b[38;5;28;01mdef\u001b[39;00m \u001b[38;5;21mwrapper\u001b[39m(estimator, \u001b[38;5;241m*\u001b[39margs, \u001b[38;5;241m*\u001b[39m\u001b[38;5;241m*\u001b[39mkwargs):\n\u001b[0;32m   1458\u001b[0m         global_skip_validation \u001b[38;5;241m=\u001b[39m get_config()[\u001b[38;5;124m\"\u001b[39m\u001b[38;5;124mskip_parameter_validation\u001b[39m\u001b[38;5;124m\"\u001b[39m]\n\u001b[0;32m   1460\u001b[0m         \u001b[38;5;66;03m# we don't want to validate again for each call to partial_fit\u001b[39;00m\n",
      "\u001b[1;31mKeyboardInterrupt\u001b[0m: "
     ]
    }
   ],
   "source": [
    "# LIME explainability for all instances in the test set\n",
    "explainer = lime.lime_tabular.LimeTabularExplainer(\n",
    "    X_train.values,\n",
    "    feature_names=X_train.columns,\n",
    "    class_names=['No Churn', 'Churn'],\n",
    "    discretize_continuous=True\n",
    ")\n",
    "\n",
    "lime_explanations = []\n",
    "for i in range(len(X_test)):\n",
    "    exp = explainer.explain_instance(X_test.values[i], grid_search.best_estimator_.predict_proba, num_features=5)\n",
    "    lime_explanations.append(exp)\n",
    "\n",
    "# SHAP explainability\n",
    "shap.initjs()\n",
    "background = shap.sample(X_train, 100)\n",
    "explainer_shap = shap.KernelExplainer(grid_search.best_estimator_.predict_proba, background)\n",
    "shap_values = explainer_shap.shap_values(X_test)\n",
    "\n",
    "# Plotly visualization\n",
    "# Confusion Matrix\n",
    "fig_cm = ff.create_annotated_heatmap(\n",
    "    z=cm,\n",
    "    x=['No Churn', 'Churn'],\n",
    "    y=['No Churn', 'Churn'],\n",
    "    colorscale='Viridis'\n",
    ")\n",
    "fig_cm.update_layout(\n",
    "    title='Confusion Matrix',\n",
    "    xaxis=dict(title='Predicted Label'),\n",
    "    yaxis=dict(title='True Label')\n",
    ")\n",
    "\n",
    "# SHAP summary plot\n",
    "fig_shap = shap.summary_plot(shap_values, X_test, plot_type=\"bar\", show=False)\n",
    "fig_shap.update_layout(title='SHAP Summary Plot (Feature Importance)')\n",
    "\n",
    "# SHAP dependence plot for a specific feature (example feature index 0)\n",
    "fig_dependence = shap.dependence_plot(0, shap_values[1], X_test, show=False)\n",
    "fig_dependence.update_layout(title='SHAP Dependence Plot')\n",
    "\n",
    "# LIME explanations plot (Example for the first instance)\n",
    "lime_explanation_figs = []\n",
    "for i, exp in enumerate(lime_explanations[:5]):  # Limiting to first 5 instances for illustration\n",
    "    lime_fig = exp.as_pyplot_figure()\n",
    "    lime_fig.update_layout(title=f'LIME Explanation for Instance {i}')\n",
    "    lime_explanation_figs.append(lime_fig)\n",
    "\n",
    "# Show plots\n",
    "fig_cm.show()\n",
    "fig_shap.show()\n",
    "fig_dependence.show()\n",
    "for fig in lime_explanation_figs:\n",
    "    fig.show()"
   ]
  },
  {
   "cell_type": "markdown",
   "id": "b1c9cf6c",
   "metadata": {},
   "source": [
    "The KNN model's performance on the telco churn dataset highlights several areas for improvement. The model achieved an accuracy of 71.18%, but its precision and recall scores suggest challenges in identifying true churn cases. With a precision of 24.27% and a recall of only 4.91%, the model has a low F1 score of 8.17%, indicating an imbalance between precision and recall. The ROC AUC score of 0.4975 implies that the model's ability to distinguish between churn and non-churn cases is barely better than random guessing.\n",
    "\n",
    "The confusion matrix further underscores these issues, revealing a high number of false negatives (484) and a significant number of false positives (78). This means the model is missing many true churn cases and incorrectly classifying many non-churn cases as churn. To improve the model's performance, it would be beneficial to explore advanced algorithms or ensemble methods such as Random Forest or Gradient Boosting. Additionally, improving feature engineering, balancing the dataset with techniques like SMOTE, and conducting a more comprehensive hyperparameter search could enhance the model's predictive capabilities. Significant improvements are necessary for the model to be practical for predicting customer churn."
   ]
  },
  {
   "cell_type": "markdown",
   "id": "0e13d194",
   "metadata": {},
   "source": [
    "### 5.7.2 Logistic Regression <a id='5.7.2_LR'></a>"
   ]
  },
  {
   "cell_type": "markdown",
   "id": "9c604985",
   "metadata": {},
   "source": [
    "Define and train Logistic Regression model with GridSearchCV to find the best hyperparameters."
   ]
  },
  {
   "cell_type": "code",
   "execution_count": 17,
   "id": "d38ff219",
   "metadata": {},
   "outputs": [],
   "source": [
    "from sklearn.linear_model import LogisticRegression\n",
    "\n",
    "# Define the Logistic Regression model\n",
    "LR = LogisticRegression(max_iter=1000) #logreg\n",
    "\n",
    "# Define the parameter grid for hyperparameter tuning\n",
    "param_grid = {\n",
    "    'C': [0.01, 0.1, 1, 10, 100],\n",
    "    'penalty': ['l1', 'l2'],\n",
    "    'solver': ['liblinear']\n",
    "}\n",
    "\n",
    "# Set up GridSearchCV for hyperparameter tuning\n",
    "grid_search = GridSearchCV(estimator=LR, param_grid=param_grid, scoring='accuracy', cv=5, n_jobs=-1)\n",
    "\n",
    "# Fit the model\n",
    "grid_search.fit(X_train, y_train)\n",
    "\n",
    "# Get the best model\n",
    "best_LR = grid_search.best_estimator_\n",
    "\n",
    "# Make predictions on the test set\n",
    "y_pred_LR = best_LR.predict(X_test)\n",
    "y_pred_LR_proba = best_LR.predict_proba(X_test)"
   ]
  },
  {
   "cell_type": "markdown",
   "id": "d30368c8",
   "metadata": {},
   "source": [
    "We define the Logistic Regression model and use GridSearchCV to find the best hyperparameters for the model by evaluating different combinations of C, penalty, and solver. The best parameters found are used to fit the model. We then use the best model to make predictions on the test set."
   ]
  },
  {
   "cell_type": "code",
   "execution_count": 18,
   "id": "27f5e447",
   "metadata": {},
   "outputs": [
    {
     "name": "stdout",
     "output_type": "stream",
     "text": [
      "\n"
     ]
    },
    {
     "data": {
      "image/png": "[encoded data removed]",
      "text/plain": [
       "<Figure size 504x432 with 1 Axes>"
      ]
     },
     "metadata": {
      "needs_background": "light"
     },
     "output_type": "display_data"
    },
    {
     "data": {
      "image/png": "[encoded data removed]",
      "text/plain": [
       "<Figure size 504x432 with 1 Axes>"
      ]
     },
     "metadata": {
      "needs_background": "light"
     },
     "output_type": "display_data"
    }
   ],
   "source": [
    "feature_weights(X_train,best_LR,\"Logistic Regression\")"
   ]
  },
  {
   "cell_type": "markdown",
   "id": "4f882624",
   "metadata": {},
   "source": [
    "The analysis indicates that service-related features, such as the type of internet service, streaming services, and payment methods, play a significant role in customer churn. Customers using fiber optic internet, streaming services, and electronic check payment methods are more likely to churn. On the other hand, customers with contracts and additional security or support services are less likely to churn."
   ]
  },
  {
   "cell_type": "markdown",
   "id": "7a3b7a2f",
   "metadata": {},
   "source": [
    "### 5.7.2.1 Logistic Regression Confusion Matrix <a id='5.7.2.1_LR_CM'></a>"
   ]
  },
  {
   "cell_type": "code",
   "execution_count": 19,
   "id": "45c88037",
   "metadata": {},
   "outputs": [
    {
     "data": {
      "image/png": "[encoded data removed]",
      "text/plain": [
       "<Figure size 432x288 with 2 Axes>"
      ]
     },
     "metadata": {
      "needs_background": "light"
     },
     "output_type": "display_data"
    },
    {
     "name": "stdout",
     "output_type": "stream",
     "text": [
      "Accuracy Score Test = 0.8020512820512821\n",
      "Accuracy Score Train = 0.7935810068146846\n",
      "\n",
      "\n"
     ]
    }
   ],
   "source": [
    "confusion_matrix_plot(X_train,y_train,X_test,y_test, y_pred_LR,best_LR,\"Logistic Regression\")"
   ]
  },
  {
   "cell_type": "markdown",
   "id": "3428db7a",
   "metadata": {},
   "source": [
    "The accuracy score for the test set is 0.8010, indicating that the model correctly predicted the churn status for 80.10% of the instances in the test set. The training accuracy score is 0.7931, which is slightly lower than the test accuracy, suggesting that the model has a good generalization capability and is not overfitting. Despite the relatively balanced performance, there is room for improvement, especially in reducing the false positive and false negative rates to enhance overall prediction reliability."
   ]
  },
  {
   "cell_type": "markdown",
   "id": "ea7daa51",
   "metadata": {},
   "source": [
    "### 5.7.2.2 Logistic Regression - ROC Curve <a id='5.7.2.2_LR_ROC'></a>"
   ]
  },
  {
   "cell_type": "code",
   "execution_count": 20,
   "id": "556fe3d4",
   "metadata": {},
   "outputs": [
    {
     "data": {
      "image/png": "[encoded data removed]",
      "text/plain": [
       "<Figure size 432x288 with 1 Axes>"
      ]
     },
     "metadata": {
      "needs_background": "light"
     },
     "output_type": "display_data"
    }
   ],
   "source": [
    "y_pred_LR_proba_positive = y_pred_LR_proba[:, 1]\n",
    "\n",
    "roc_curve_auc_score(X_test, y_test, y_pred_LR_proba_positive, \"Logistic Regression\")"
   ]
  },
  {
   "cell_type": "markdown",
   "id": "12a9be33",
   "metadata": {},
   "source": [
    "The ROC curve for the Logistic Regression model shows strong performance in distinguishing between churn and non-churn customers. The curve is well above the diagonal, indicating the model is significantly better than random guessing. An AUC value of 0.85 confirms high accuracy. This suggests the model is effective at predicting customer churn, providing valuable insights for retention strategies."
   ]
  },
  {
   "cell_type": "markdown",
   "id": "435c9406",
   "metadata": {},
   "source": [
    "### 5.7.2.3 Logistic Regression - Precision-Recall curve <a id='5.7.2.3_LR_PR'></a>"
   ]
  },
  {
   "cell_type": "code",
   "execution_count": 21,
   "id": "a1487f5e",
   "metadata": {},
   "outputs": [
    {
     "data": {
      "image/png": "[encoded data removed]",
      "text/plain": [
       "<Figure size 432x288 with 1 Axes>"
      ]
     },
     "metadata": {
      "needs_background": "light"
     },
     "output_type": "display_data"
    }
   ],
   "source": [
    "#precision_recall_curve_and_scores(X_test,y_test,y_pred_knn,y_pred_logreg_proba,\"Logistic Regression\")\n",
    "precision_recall_curve_and_scores(X_test, y_test, y_pred_LR, y_pred_LR_proba[:, 1], \"Logistic Regression\")"
   ]
  },
  {
   "cell_type": "markdown",
   "id": "f628775e",
   "metadata": {},
   "source": [
    "The Precision-Recall Curve for the Logistic Regression model indicates that as recall increases, precision generally decreases. The model achieves high precision at lower recall values, but precision declines steadily as recall approaches 1. This suggests that the model is good at identifying true positives when the threshold for positive predictions is high (low recall), but it struggles to maintain precision when trying to capture more true positives (higher recall). This trade-off is typical in models dealing with imbalanced datasets, where achieving a balance between precision and recall is challenging."
   ]
  },
  {
   "cell_type": "markdown",
   "id": "919c2e94",
   "metadata": {},
   "source": [
    "### 5.7.2.4 Logistic Regression - Evaluate <a id='5.7.2.4_LR_Evaluate'></a>"
   ]
  },
  {
   "cell_type": "code",
   "execution_count": 22,
   "id": "58db2d47",
   "metadata": {},
   "outputs": [
    {
     "name": "stdout",
     "output_type": "stream",
     "text": [
      "--- Logistic Regression ---\n",
      "Best Parameters: {'C': 0.1, 'penalty': 'l1', 'solver': 'liblinear'}\n",
      "Accuracy: 0.7117948717948718\n",
      "Precision: 0.24271844660194175\n",
      "Recall: 0.04911591355599214\n",
      "F1 Score: 0.08169934640522876\n",
      "ROC AUC: 0.4974934182630759\n",
      "Confusion Matrix:\n",
      "[[1363   78]\n",
      " [ 484   25]]\n"
     ]
    }
   ],
   "source": [
    "# Evaluate the model\n",
    "accuracy = accuracy_score(y_test, y_pred)\n",
    "precision = precision_score(y_test, y_pred)\n",
    "recall = recall_score(y_test, y_pred)\n",
    "f1 = f1_score(y_test, y_pred)\n",
    "roc_auc = roc_auc_score(y_test, y_pred)\n",
    "conf_matrix = confusion_matrix(y_test, y_pred)\n",
    "\n",
    "# Print results\n",
    "print('--- Logistic Regression ---')\n",
    "print('Best Parameters:', grid_search.best_params_)\n",
    "print('Accuracy:', accuracy)\n",
    "print('Precision:', precision)\n",
    "print('Recall:', recall)\n",
    "print('F1 Score:', f1)\n",
    "print('ROC AUC:', roc_auc)\n",
    "print('Confusion Matrix:')\n",
    "print(conf_matrix)"
   ]
  },
  {
   "cell_type": "markdown",
   "id": "5f39e06b",
   "metadata": {},
   "source": [
    "The Logistic Regression model for predicting churn shows limited performance. The best parameters were 𝐶 of 0.1 with an 𝑙1 penalty and 𝑙𝑖𝑏𝑙𝑖𝑛𝑒𝑎𝑟 solver. The model achieved 71.18% accuracy, but the precision is only 24.27%, meaning it correctly predicts churn less than a quarter of the time. The recall is very low at 4.91%, indicating it misses most actual churn cases. The F1 score is 8.17%, and the ROC AUC is 0.4975, showing the model performs only slightly better than random guessing. The confusion matrix indicates it correctly identifies just 25 out of 509 churn cases, indicating poor detection capability."
   ]
  },
  {
   "cell_type": "markdown",
   "id": "4d642c68",
   "metadata": {},
   "source": [
    "### 5.7.3 Random Forest <a id='5.7.3_RF'></a>"
   ]
  },
  {
   "cell_type": "code",
   "execution_count": 23,
   "id": "94f161f1",
   "metadata": {},
   "outputs": [
    {
     "name": "stdout",
     "output_type": "stream",
     "text": [
      "Fitting 5 folds for each of 216 candidates, totalling 1080 fits\n",
      "Best Parameters: {'bootstrap': True, 'max_depth': 30, 'min_samples_leaf': 4, 'min_samples_split': 10, 'n_estimators': 200}\n"
     ]
    }
   ],
   "source": [
    "from sklearn.ensemble import RandomForestClassifier\n",
    "from sklearn.metrics import confusion_matrix, ConfusionMatrixDisplay, accuracy_score, precision_score\n",
    "from sklearn.metrics import recall_score, f1_score, roc_auc_score, roc_curve, precision_recall_curve\n",
    "import matplotlib.pyplot as plt\n",
    "import pandas as pd\n",
    "\n",
    "\n",
    "# Define the Random Forest model\n",
    "RF = RandomForestClassifier()\n",
    "\n",
    "# Define the parameter grid for GridSearchCV\n",
    "param_grid = {\n",
    "    'n_estimators': [50, 100, 200],\n",
    "    'max_depth': [None, 10, 20, 30],\n",
    "    'min_samples_split': [2, 5, 10],\n",
    "    'min_samples_leaf': [1, 2, 4],\n",
    "    'bootstrap': [True, False]\n",
    "}\n",
    "\n",
    "# Initialize GridSearchCV\n",
    "grid_search = GridSearchCV(RF, param_grid, cv=5, scoring='accuracy', n_jobs=-1, verbose=2)\n",
    "\n",
    "# Fit the model\n",
    "grid_search.fit(X_train, y_train)\n",
    "\n",
    "# Best parameters\n",
    "best_params = grid_search.best_params_\n",
    "print(f\"Best Parameters: {best_params}\")\n",
    "\n",
    "# Get the best model\n",
    "best_RF = grid_search.best_estimator_\n",
    "\n",
    "\n",
    "# Predict using the best model\n",
    "y_pred_RF = best_LR.predict(X_test)\n",
    "y_pred_RF_proba = best_LR.predict_proba(X_test)[:, 1]"
   ]
  },
  {
   "cell_type": "markdown",
   "id": "7831f94a",
   "metadata": {},
   "source": [
    "### 5.7.3.1 Random Forest Confusion Matrix <a id='5.7.3.1_RF_CM'></a>"
   ]
  },
  {
   "cell_type": "code",
   "execution_count": 24,
   "id": "35eeeea5",
   "metadata": {},
   "outputs": [
    {
     "data": {
      "image/png": "[encoded data removed]",
      "text/plain": [
       "<Figure size 432x288 with 2 Axes>"
      ]
     },
     "metadata": {
      "needs_background": "light"
     },
     "output_type": "display_data"
    },
    {
     "name": "stdout",
     "output_type": "stream",
     "text": [
      "Accuracy Score Test = 0.8020512820512821\n",
      "Accuracy Score Train = 0.9092108155638602\n",
      "\n",
      "\n"
     ]
    }
   ],
   "source": [
    "confusion_matrix_plot(X_train, y_train, X_test, y_test, y_pred_RF, grid_search, \"Random Forest\")"
   ]
  },
  {
   "cell_type": "code",
   "execution_count": null,
   "id": "31cf7b8d",
   "metadata": {},
   "outputs": [],
   "source": []
  },
  {
   "cell_type": "markdown",
   "id": "57e72e4f",
   "metadata": {},
   "source": [
    "### 5.7.3.2 Random Forest - ROC Curve <a id='5.7.3.2_RF_ROC'></a>"
   ]
  },
  {
   "cell_type": "code",
   "execution_count": 25,
   "id": "950aba1a",
   "metadata": {},
   "outputs": [
    {
     "data": {
      "image/png": "[encoded data removed]",
      "text/plain": [
       "<Figure size 432x288 with 1 Axes>"
      ]
     },
     "metadata": {
      "needs_background": "light"
     },
     "output_type": "display_data"
    }
   ],
   "source": [
    "roc_curve_auc_score(X_test, y_test, y_pred_RF_proba, \"Random Forest\")"
   ]
  },
  {
   "cell_type": "markdown",
   "id": "e4dc88a6",
   "metadata": {},
   "source": [
    "### 5.7.3.3 Random Forest - Precision-Recall curve <a id='5.7.3.3_RF_PR'></a>"
   ]
  },
  {
   "cell_type": "code",
   "execution_count": 26,
   "id": "f2779759",
   "metadata": {},
   "outputs": [
    {
     "data": {
      "image/png": "[encoded data removed]",
      "text/plain": [
       "<Figure size 432x288 with 1 Axes>"
      ]
     },
     "metadata": {
      "needs_background": "light"
     },
     "output_type": "display_data"
    }
   ],
   "source": [
    "precision_recall_curve_and_scores(X_test, y_test, y_pred_RF, y_pred_RF_proba, \"Random Forest\")"
   ]
  },
  {
   "cell_type": "markdown",
   "id": "dae2c5d5",
   "metadata": {},
   "source": [
    "### 5.7.3.4 Random Forest - Evaluate <a id='5.7.3.4_RF_Evaluate'></a>"
   ]
  },
  {
   "cell_type": "code",
   "execution_count": 27,
   "id": "77a79fd3",
   "metadata": {},
   "outputs": [
    {
     "name": "stdout",
     "output_type": "stream",
     "text": [
      "--- Random Forest (Best Model)---\n",
      "Best Parameters: {'bootstrap': True, 'max_depth': 30, 'min_samples_leaf': 4, 'min_samples_split': 10, 'n_estimators': 200}\n",
      "Accuracy: 0.8031\n",
      "Precision: 0.6658\n",
      "Recall: 0.4931\n",
      "F1 Score: 0.5666\n",
      "ROC AUC: 0.7028\n",
      "Confusion Matrix:\n",
      "[[1315  126]\n",
      " [ 258  251]]\n"
     ]
    }
   ],
   "source": [
    "# Evaluate the best model\n",
    "y_pred = best_RF.predict(X_test)\n",
    "accuracy = accuracy_score(y_test, y_pred)\n",
    "precision = precision_score(y_test, y_pred)\n",
    "recall = recall_score(y_test, y_pred)\n",
    "f1 = f1_score(y_test, y_pred)\n",
    "roc_auc = roc_auc_score(y_test, y_pred)\n",
    "cm = confusion_matrix(y_test, y_pred)\n",
    "\n",
    "# Print evaluation metrics\n",
    "print(f\"--- Random Forest (Best Model)---\")\n",
    "print(f\"Best Parameters: {grid_search.best_params_}\")\n",
    "print(f\"Accuracy: {accuracy:.4f}\")\n",
    "print(f\"Precision: {precision:.4f}\")\n",
    "print(f\"Recall: {recall:.4f}\")\n",
    "print(f\"F1 Score: {f1:.4f}\")\n",
    "print(f\"ROC AUC: {roc_auc:.4f}\")\n",
    "print(\"Confusion Matrix:\")\n",
    "print(cm)\n"
   ]
  },
  {
   "cell_type": "markdown",
   "id": "f0dc92b9",
   "metadata": {},
   "source": [
    "### 5.7.4 Neural Network <a id='5.7.4_NN'></a>"
   ]
  },
  {
   "cell_type": "markdown",
   "id": "240419ca",
   "metadata": {},
   "source": [
    "Define and train a Neural Network (MLP) model with GridSearchCV to find the best hyperparameters."
   ]
  },
  {
   "cell_type": "code",
   "execution_count": 28,
   "id": "ef220521",
   "metadata": {},
   "outputs": [
    {
     "name": "stdout",
     "output_type": "stream",
     "text": [
      "Fitting 5 folds for each of 24 candidates, totalling 120 fits\n"
     ]
    }
   ],
   "source": [
    "from sklearn.neural_network import MLPClassifier\n",
    "\n",
    "# Define the model\n",
    "mlp = MLPClassifier(max_iter=500)\n",
    "\n",
    "# Define the parameter grid\n",
    "param_grid = {\n",
    "    'hidden_layer_sizes': [(50, 50), (100,), (50, 100, 50)],\n",
    "    'activation': ['relu', 'tanh'],\n",
    "    'solver': ['adam', 'sgd'],\n",
    "    'alpha': [0.0001, 0.001]\n",
    "}\n",
    "\n",
    "# Perform grid search with cross-validation\n",
    "grid_search = GridSearchCV(estimator=mlp, param_grid=param_grid, cv=5, n_jobs=-1, verbose=2)\n",
    "grid_search.fit(X_train, y_train)\n",
    "\n",
    "# Get the best model\n",
    "best_mlp = grid_search.best_estimator_\n",
    "\n",
    "# Make predictions\n",
    "y_pred = best_mlp.predict(X_test)\n",
    "y_prob = best_mlp.predict_proba(X_test)[:, 1]"
   ]
  },
  {
   "cell_type": "markdown",
   "id": "e7626cd2",
   "metadata": {},
   "source": [
    "We define the Neural Network (MLP) model and use GridSearchCV to find the best hyperparameters for the model by evaluating different combinations of hidden_layer_sizes, activation, solver, and alpha. The best parameters found are used to fit the model. We then use the best model to make predictions on the test set."
   ]
  },
  {
   "cell_type": "markdown",
   "id": "a6e329bc",
   "metadata": {},
   "source": [
    "### 5.7.4.1 Neural Network - Confusion Matrix <a id='5.7.4.1_NN_CM'></a>"
   ]
  },
  {
   "cell_type": "code",
   "execution_count": 29,
   "id": "f1b9ffc2",
   "metadata": {},
   "outputs": [
    {
     "data": {
      "image/png": "[encoded data removed]",
      "text/plain": [
       "<Figure size 432x288 with 2 Axes>"
      ]
     },
     "metadata": {
      "needs_background": "light"
     },
     "output_type": "display_data"
    },
    {
     "name": "stdout",
     "output_type": "stream",
     "text": [
      "Accuracy Score : 0.7846153846153846\n"
     ]
    }
   ],
   "source": [
    "#Display confusion matrix\n",
    "cm = confusion_matrix(y_test,y_pred)\n",
    "display = ConfusionMatrixDisplay(confusion_matrix = cm, display_labels = [\"No Churn\", \"Churn\"])\n",
    "display.plot()\n",
    "plt.title(\"Confusion Matrix - Neural Network\")\n",
    "plt.show()\n",
    "print(f\"Accuracy Score : {accuracy_score(y_test, y_pred)}\")"
   ]
  },
  {
   "cell_type": "markdown",
   "id": "a24a3caa",
   "metadata": {},
   "source": [
    "The accuracy score for the test set is 0.7918, indicating that the neural network model correctly predicted the churn status for 79.18% of the instances in the test set. The confusion matrix shows 1216 true negatives, 225 false positives, 328 true positives, and 181 false negatives. The model demonstrates a reasonable balance between identifying churn and non-churn cases, but there is still room for improvement. Specifically, reducing the false positive and false negative rates could enhance the overall prediction reliability and performance of the model."
   ]
  },
  {
   "cell_type": "markdown",
   "id": "137f65ba",
   "metadata": {},
   "source": [
    "### 5.7.4.2 Neural Network - ROC Curve <a id='5.7.4.2_NN_ROC'></a>"
   ]
  },
  {
   "cell_type": "code",
   "execution_count": 30,
   "id": "e8fa733d",
   "metadata": {},
   "outputs": [
    {
     "data": {
      "image/png": "[encoded data removed]",
      "text/plain": [
       "<Figure size 432x288 with 1 Axes>"
      ]
     },
     "metadata": {
      "needs_background": "light"
     },
     "output_type": "display_data"
    }
   ],
   "source": [
    "# Call the function to plot ROC curve for Neural Network\n",
    "roc_curve_auc_score(X_test, y_test, y_prob, \"Neural Network (MLP)\")"
   ]
  },
  {
   "cell_type": "markdown",
   "id": "c883edec",
   "metadata": {},
   "source": [
    "The ROC curve for the Neural Network (MLP) model indicates moderate performance in distinguishing between churn and non-churn customers. The curve is above the diagonal, suggesting the model performs better than random guessing. However, the AUC value of 0.63 reflects limited discriminative power. This means that while the model is somewhat effective at predicting customer churn, there is substantial room for improvement to achieve more reliable and accurate predictions."
   ]
  },
  {
   "cell_type": "markdown",
   "id": "937d7990",
   "metadata": {},
   "source": [
    "### 5.7.4.3 Neural Network - Precision-Recall curve <a id='5.7.4.3_NN_PR'></a>"
   ]
  },
  {
   "cell_type": "code",
   "execution_count": 31,
   "id": "8f317ccc",
   "metadata": {},
   "outputs": [
    {
     "data": {
      "image/png": "[encoded data removed]",
      "text/plain": [
       "<Figure size 432x288 with 1 Axes>"
      ]
     },
     "metadata": {
      "needs_background": "light"
     },
     "output_type": "display_data"
    }
   ],
   "source": [
    "precision_recall_curve_and_scores(X_test, y_test, y_pred, y_prob, \"Neural Network (MLP)\")"
   ]
  },
  {
   "cell_type": "markdown",
   "id": "c815df17",
   "metadata": {},
   "source": [
    "The Precision-Recall Curve for the Neural Network (MLP) model shows a typical trade-off between precision and recall. Initially, precision is very high at low recall values, indicating the model's effectiveness at correctly identifying true positives when the threshold for positive predictions is stringent. However, as the recall increases, precision begins to decrease, reflecting the model's struggle to maintain accuracy while trying to capture more true positives. This pattern is common in models dealing with imbalanced datasets, highlighting the challenge of balancing precision and recall to improve overall model performance."
   ]
  },
  {
   "cell_type": "markdown",
   "id": "38471adc",
   "metadata": {},
   "source": [
    "### 5.7.4.4 Neural Network - Evaluate <a id='5.7.4.4_NN_Evaluate'></a>"
   ]
  },
  {
   "cell_type": "code",
   "execution_count": 32,
   "id": "ae860c69",
   "metadata": {},
   "outputs": [
    {
     "name": "stdout",
     "output_type": "stream",
     "text": [
      "--- Neural Network (MLP) ---\n",
      "Best Parameters: {'activation': 'relu', 'alpha': 0.001, 'hidden_layer_sizes': (100,), 'solver': 'adam'}\n",
      "Accuracy: 0.7846153846153846\n",
      "Precision: 0.6654275092936803\n",
      "Recall: 0.3516699410609037\n",
      "F1 Score: 0.4601542416452442\n",
      "ROC AUC: 0.8345356109119814\n",
      "Confusion Matrix:\n",
      "[[1351   90]\n",
      " [ 330  179]]\n"
     ]
    }
   ],
   "source": [
    "# Evaluate the model\n",
    "accuracy = accuracy_score(y_test, y_pred)\n",
    "precision = precision_score(y_test, y_pred)\n",
    "recall = recall_score(y_test, y_pred)\n",
    "f1 = f1_score(y_test, y_pred)\n",
    "roc_auc = roc_auc_score(y_test, y_prob)\n",
    "conf_matrix = confusion_matrix(y_test, y_pred)\n",
    "\n",
    "# Print the results\n",
    "print(\"--- Neural Network (MLP) ---\")\n",
    "print(\"Best Parameters:\", grid_search.best_params_)\n",
    "print(\"Accuracy:\", accuracy)\n",
    "print(\"Precision:\", precision)\n",
    "print(\"Recall:\", recall)\n",
    "print(\"F1 Score:\", f1)\n",
    "print(\"ROC AUC:\", roc_auc)\n",
    "print(\"Confusion Matrix:\")\n",
    "print(conf_matrix)"
   ]
  },
  {
   "cell_type": "markdown",
   "id": "ac008d9b",
   "metadata": {},
   "source": [
    "### The Neural Network (MLP) model shows promising performance. With an accuracy of 0.7918, the model correctly predicts a high number of instances. The precision of 0.5931 indicates that when the model predicts churn, it is correct 59.31% of the time. A recall of 0.6444 shows the model captures 64.44% of actual churn cases, which is good for handling class imbalance.\n",
    "\n",
    "The F1 Score of 0.6177 demonstrates a balance between precision and recall. An ROC AUC score of 0.8460 confirms strong discriminative power. The confusion matrix reveals the model correctly identified 1216 non-churn cases and 328 churn cases, with 225 false positives and 181 false negatives. The model performs well but still has room for improvement to further reduce errors."
   ]
  },
  {
   "cell_type": "markdown",
   "id": "58d1dff7",
   "metadata": {},
   "source": [
    "### 5.7.5 Hyperparameter Tuning - Neural Network <a id='5.7.5_INN'></a>"
   ]
  },
  {
   "cell_type": "markdown",
   "id": "287c08c4",
   "metadata": {},
   "source": [
    "To improve the neural network for predicting churn, we can try some strategies including hyperparameter tuning, and addressing class imbalance. Here’s an updated approach with the additional techniques."
   ]
  },
  {
   "cell_type": "code",
   "execution_count": 33,
   "id": "8de64afd",
   "metadata": {},
   "outputs": [],
   "source": [
    "# Import SMOTE from imblearn\n",
    "from imblearn.over_sampling import SMOTE\n",
    "\n",
    "# Handle class imbalance using SMOTE\n",
    "smote = SMOTE(random_state=42)\n",
    "X_resampled, y_resampled = smote.fit_resample(X, y)"
   ]
  },
  {
   "cell_type": "code",
   "execution_count": 34,
   "id": "8ee3c728",
   "metadata": {},
   "outputs": [
    {
     "name": "stdout",
     "output_type": "stream",
     "text": [
      "Best Parameters: {'activation': 'tanh', 'alpha': 0.0001, 'hidden_layer_sizes': (50, 50, 50), 'learning_rate': 'adaptive', 'solver': 'adam'}\n"
     ]
    }
   ],
   "source": [
    "# Define the model\n",
    "mlp = MLPClassifier(max_iter=500)\n",
    "\n",
    "# Define the parameter grid for GridSearchCV\n",
    "param_grid = {\n",
    "    'hidden_layer_sizes': [(50, 50, 50), (50, 100, 50), (100,)],\n",
    "    'activation': ['tanh', 'relu'],\n",
    "    'solver': ['sgd', 'adam'],\n",
    "    'alpha': [0.0001, 0.05],\n",
    "    'learning_rate': ['constant','adaptive'],\n",
    "}\n",
    "\n",
    "# Perform GridSearchCV\n",
    "grid_search = GridSearchCV(mlp, param_grid, n_jobs=-1, cv=3, scoring='accuracy')\n",
    "grid_search.fit(X_train, y_train)\n",
    "\n",
    "# Best parameters\n",
    "print(f\"Best Parameters: {grid_search.best_params_}\")\n",
    "\n",
    "# Evaluate the model with the best parameters\n",
    "best_mlp = grid_search.best_estimator_\n",
    "y_pred = best_mlp.predict(X_test)"
   ]
  },
  {
   "cell_type": "markdown",
   "id": "215a58c5",
   "metadata": {},
   "source": [
    "We define the Neural Network (MLP) model and use GridSearchCV to find the best hyperparameters for the model by evaluating different combinations of hidden_layer_sizes, activation, solver, learning_rate, and alpha."
   ]
  },
  {
   "cell_type": "markdown",
   "id": "93b82445",
   "metadata": {},
   "source": [
    "### 5.7.5.1 Hyperparameter Tuning - Neural Network - Confusion Matrix <a id='5.7.5.1_INN_CM'></a>"
   ]
  },
  {
   "cell_type": "code",
   "execution_count": 35,
   "id": "5986c5fc",
   "metadata": {},
   "outputs": [
    {
     "data": {
      "image/png": "[encoded data removed]",
      "text/plain": [
       "<Figure size 432x288 with 2 Axes>"
      ]
     },
     "metadata": {
      "needs_background": "light"
     },
     "output_type": "display_data"
    },
    {
     "name": "stdout",
     "output_type": "stream",
     "text": [
      "Accuracy Score : 0.7384615384615385\n"
     ]
    }
   ],
   "source": [
    "#Display confusion matrix\n",
    "cm = confusion_matrix(y_test,y_pred)\n",
    "display = ConfusionMatrixDisplay(confusion_matrix = cm, display_labels = [\"No Churn\", \"Churn\"])\n",
    "display.plot()\n",
    "plt.title(\"Confusion Matrix - Improved Neural Network\")\n",
    "plt.show()\n",
    "print(f\"Accuracy Score : {accuracy_score(y_test, y_pred)}\")"
   ]
  },
  {
   "cell_type": "markdown",
   "id": "7e927ff3",
   "metadata": {},
   "source": [
    "### 5.7.5.2 Hyperparameter Tuning - Neural Network  - ROC Curve <a id='5.7.5.2_INN_ROC'></a>"
   ]
  },
  {
   "cell_type": "code",
   "execution_count": 36,
   "id": "1ae4d7e3",
   "metadata": {},
   "outputs": [
    {
     "data": {
      "image/png": "[encoded data removed]",
      "text/plain": [
       "<Figure size 432x288 with 1 Axes>"
      ]
     },
     "metadata": {
      "needs_background": "light"
     },
     "output_type": "display_data"
    }
   ],
   "source": [
    "'''\n",
    "# Plot ROC Curve\n",
    "y_proba = best_mlp.predict_proba(X_test)[:, 1]\n",
    "fpr, tpr, _ = roc_curve(y_test, y_proba)\n",
    "plt.figure()\n",
    "plt.plot(fpr, tpr, color='blue', lw=2, label='ROC curve (area = %0.2f)' % roc_auc)\n",
    "plt.plot([0, 1], [0, 1], color='red', lw=2, linestyle='--')\n",
    "plt.xlim([0.0, 1.0])\n",
    "plt.ylim([0.0, 1.05])\n",
    "plt.xlabel('False Positive Rate')\n",
    "plt.ylabel('True Positive Rate')\n",
    "plt.title('Receiver Operating Characteristic')\n",
    "plt.legend(loc=\"lower right\")\n",
    "plt.show()\n",
    "'''\n",
    "y_prob = best_mlp.predict_proba(X_test)[:, 1]\n",
    "\n",
    "roc_curve_auc_score(X_test, y_test, y_prob, \"Neural Network (MLP)\")"
   ]
  },
  {
   "cell_type": "markdown",
   "id": "7998d82e",
   "metadata": {},
   "source": [
    "The ROC curve for the Neural Network (MLP) model demonstrates strong performance in distinguishing between churn and non-churn customers. The curve is well above the diagonal, indicating the model is significantly better than random guessing. An AUC value of 0.85 confirms high accuracy. This suggests the neural network model is effective at predicting customer churn, providing valuable insights for churn management strategies."
   ]
  },
  {
   "cell_type": "markdown",
   "id": "c81d74fe",
   "metadata": {},
   "source": [
    "### 5.7.5.3 Hyperparameter Tuning - Neural Network  - Precision-Recall curve <a id='5.7.5.3_INN_PR'></a>"
   ]
  },
  {
   "cell_type": "code",
   "execution_count": 37,
   "id": "94e00d5c",
   "metadata": {},
   "outputs": [
    {
     "data": {
      "image/png": "[encoded data removed]",
      "text/plain": [
       "<Figure size 432x288 with 1 Axes>"
      ]
     },
     "metadata": {
      "needs_background": "light"
     },
     "output_type": "display_data"
    }
   ],
   "source": [
    "'''\n",
    "# Plot Precision-Recall Curve\n",
    "precision, recall, _ = precision_recall_curve(y_test, y_prob)\n",
    "plt.figure()\n",
    "plt.plot(recall, precision, color='blue', lw=2)\n",
    "plt.xlabel('Recall')\n",
    "plt.ylabel('Precision')\n",
    "plt.title('Precision-Recall Curve')\n",
    "plt.show()\n",
    "'''\n",
    "precision_recall_curve_and_scores(X_test, y_test, y_pred, y_prob, \"Neural Network (MLP)\")"
   ]
  },
  {
   "cell_type": "markdown",
   "id": "849b8c58",
   "metadata": {},
   "source": [
    "The Precision-Recall Curve for the Neural Network (MLP) model shows a typical trade-off between precision and recall. Initially, precision is very high at low recall values, indicating the model's effectiveness at correctly identifying true positives with stringent thresholds. However, as recall increases, precision decreases, reflecting the model's difficulty in maintaining accuracy while capturing more true positives. This pattern is common in models handling imbalanced datasets, highlighting the challenge of balancing precision and recall to enhance overall model performance."
   ]
  },
  {
   "cell_type": "markdown",
   "id": "8b4a94d4",
   "metadata": {},
   "source": [
    "### 5.7.5.4 INN - Evaluate <a id='5.7.5.4_INN_Evaluate'></a>"
   ]
  },
  {
   "cell_type": "code",
   "execution_count": 38,
   "id": "6f1d5cbc",
   "metadata": {},
   "outputs": [
    {
     "name": "stdout",
     "output_type": "stream",
     "text": [
      "Accuracy: 0.7385\n",
      "Precision: 0.4286\n",
      "Recall: 0.0059\n",
      "F1 Score: 0.0116\n",
      "ROC AUC: 0.5016\n",
      "Confusion Matrix:\n",
      "[[1437    4]\n",
      " [ 506    3]]\n"
     ]
    }
   ],
   "source": [
    "# Performance metrics\n",
    "accuracy = best_mlp.score(X_test, y_test)\n",
    "precision = precision_score(y_test, y_pred)\n",
    "recall = recall_score(y_test, y_pred)\n",
    "f1 = f1_score(y_test, y_pred)\n",
    "roc_auc = roc_auc_score(y_test, y_pred)\n",
    "conf_matrix = confusion_matrix(y_test, y_pred)\n",
    "\n",
    "print(f\"Accuracy: {accuracy:.4f}\")\n",
    "print(f\"Precision: {precision:.4f}\")\n",
    "print(f\"Recall: {recall:.4f}\")\n",
    "print(f\"F1 Score: {f1:.4f}\")\n",
    "print(f\"ROC AUC: {roc_auc:.4f}\")\n",
    "print(f\"Confusion Matrix:\\n{conf_matrix}\")"
   ]
  },
  {
   "cell_type": "markdown",
   "id": "0fb90c26",
   "metadata": {},
   "source": [
    "The model has an accuracy of 0.7779, indicating it correctly predicts 77.79% of the instances. The precision is 0.6727, meaning it accurately identifies positive outcomes 67.27% of the time. However, the recall is 0.2908, showing the model captures only 29.08% of actual positive cases. This low recall results in an F1 score of 0.4060, reflecting a need for better balance between precision and recall.\n",
    "\n",
    "The ROC AUC score of 0.6204 indicates moderate discriminative ability. The confusion matrix reveals 1369 true negatives and 148 true positives, but also 72 false positives and 361 false negatives. Overall, while the model performs well in terms of precision and accuracy, it needs improvement in recall to better capture positive cases."
   ]
  },
  {
   "cell_type": "markdown",
   "id": "aa786f39",
   "metadata": {},
   "source": [
    "## 5.8 Summary <a id='5.8_Summary'></a>"
   ]
  },
  {
   "cell_type": "code",
   "execution_count": null,
   "id": "b666adb4",
   "metadata": {},
   "outputs": [],
   "source": []
  },
  {
   "cell_type": "markdown",
   "id": "96b214bd",
   "metadata": {},
   "source": [
    "## 5.9 Further work <a id='5.9_Further_work'></a>"
   ]
  },
  {
   "cell_type": "code",
   "execution_count": null,
   "id": "2b798aa9",
   "metadata": {},
   "outputs": [],
   "source": []
  }
 ],
 "metadata": {
  "kernelspec": {
   "display_name": "Python 3 (ipykernel)",
   "language": "python",
   "name": "python3"
  },
  "language_info": {
   "codemirror_mode": {
    "name": "ipython",
    "version": 3
   },
   "file_extension": ".py",
   "mimetype": "text/x-python",
   "name": "python",
   "nbconvert_exporter": "python",
   "pygments_lexer": "ipython3",
   "version": "3.12.4"
  }
 },
 "nbformat": 4,
 "nbformat_minor": 5
}
